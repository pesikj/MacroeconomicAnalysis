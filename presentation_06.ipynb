{
 "cells": [
  {
   "cell_type": "code",
   "execution_count": 3,
   "metadata": {
    "collapsed": true
   },
   "outputs": [],
   "source": [
    "\n",
    "import pandas as pd\n",
    "import numpy\n",
    "from scipy.stats.mstats import gmean\n",
    "import statsmodels.formula.api as smf\n",
    "import statsmodels.api as sm\n",
    "import matplotlib.pyplot as plt\n",
    "import seaborn\n",
    "\n",
    "state_list = [\n",
    "  \"Alabama\",\n",
    "  \"Alaska\",\n",
    "  \"Arizona\",\n",
    "  \"Arkansas\",\n",
    "  \"California\",\n",
    "  \"Colorado\",\n",
    "  \"Connecticut\",\n",
    "  \"Delaware\",\n",
    "  \"District of Columbia\",\n",
    "  \"Florida\",\n",
    "  \"Georgia\",\n",
    "  \"Hawaii\",\n",
    "  \"Idaho\",\n",
    "  \"Illinois\",\n",
    "  \"Indiana\",\n",
    "  \"Iowa\",\n",
    "  \"Kansas\",\n",
    "  \"Kentucky\",\n",
    "  \"Louisiana\",\n",
    "  \"Maine\",\n",
    "  \"Maryland\",\n",
    "  \"Massachusetts\",\n",
    "  \"Michigan\",\n",
    "  \"Minnesota\",\n",
    "  \"Mississippi\",\n",
    "  \"Missouri\",\n",
    "  \"Montana\",\n",
    "  \"Nebraska\",\n",
    "  \"Nevada\",\n",
    "  \"New Hampshire\",\n",
    "  \"New Jersey\",\n",
    "  \"New Mexico\",\n",
    "  \"New York\",\n",
    "  \"North Carolina\",\n",
    "  \"North Dakota\",\n",
    "  \"Ohio\",\n",
    "  \"Oklahoma\",\n",
    "  \"Oregon\",\n",
    "  \"Pennsylvania\",\n",
    "  \"Rhode Island\",\n",
    "  \"South Carolina\",\n",
    "  \"South Dakota\",\n",
    "  \"Tennessee\",\n",
    "  \"Texas\",\n",
    "  \"Utah\",\n",
    "  \"Vermont\",\n",
    "  \"Virginia\",\n",
    "  \"Washington\",\n",
    "  \"West Virginia\",\n",
    "  \"Wisconsin\",\n",
    "  \"Wyoming\",\n",
    "]"
   ]
  },
  {
   "cell_type": "code",
   "execution_count": 11,
   "outputs": [
    {
     "ename": "FileNotFoundError",
     "evalue": "[Errno 2] No such file or directory: 'CAGDP1__ALL_AREAS_2001_2020.csv'",
     "output_type": "error",
     "traceback": [
      "\u001B[1;31m---------------------------------------------------------------------------\u001B[0m",
      "\u001B[1;31mFileNotFoundError\u001B[0m                         Traceback (most recent call last)",
      "\u001B[1;32mC:\\Users\\JIRIPE~1.HUL\\AppData\\Local\\Temp/ipykernel_18564/3627203421.py\u001B[0m in \u001B[0;36m<module>\u001B[1;34m\u001B[0m\n\u001B[1;32m----> 1\u001B[1;33m \u001B[0mdata_1\u001B[0m \u001B[1;33m=\u001B[0m \u001B[0mpd\u001B[0m\u001B[1;33m.\u001B[0m\u001B[0mread_csv\u001B[0m\u001B[1;33m(\u001B[0m\u001B[1;34m\"CAGDP1__ALL_AREAS_2001_2020.csv\"\u001B[0m\u001B[1;33m,\u001B[0m \u001B[0mencoding\u001B[0m\u001B[1;33m=\u001B[0m\u001B[1;34m\"ISO-8859-1\"\u001B[0m\u001B[1;33m)\u001B[0m\u001B[1;33m\u001B[0m\u001B[1;33m\u001B[0m\u001B[0m\n\u001B[0m\u001B[0;32m      2\u001B[0m \u001B[0mdata_1\u001B[0m \u001B[1;33m=\u001B[0m \u001B[0mdata_1\u001B[0m\u001B[1;33m[\u001B[0m\u001B[0mdata_1\u001B[0m\u001B[1;33m[\u001B[0m\u001B[1;34m\"Description\"\u001B[0m\u001B[1;33m]\u001B[0m \u001B[1;33m==\u001B[0m \u001B[1;34m\"Current-dollar GDP (thousands of current dollars)\"\u001B[0m\u001B[1;33m]\u001B[0m\u001B[1;33m\u001B[0m\u001B[1;33m\u001B[0m\u001B[0m\n\u001B[0;32m      3\u001B[0m \u001B[0mdata_1\u001B[0m \u001B[1;33m=\u001B[0m \u001B[0mdata_1\u001B[0m\u001B[1;33m[\u001B[0m\u001B[0mdata_1\u001B[0m\u001B[1;33m[\u001B[0m\u001B[1;34m\"GeoName\"\u001B[0m\u001B[1;33m]\u001B[0m\u001B[1;33m.\u001B[0m\u001B[0misin\u001B[0m\u001B[1;33m(\u001B[0m\u001B[0mstate_list\u001B[0m\u001B[1;33m)\u001B[0m\u001B[1;33m]\u001B[0m\u001B[1;33m\u001B[0m\u001B[1;33m\u001B[0m\u001B[0m\n\u001B[0;32m      4\u001B[0m data_1 = data_1.melt(id_vars=[\"GeoName\"], value_vars=[str(i) for i in range(2001, 2020)], var_name=\"year\",\n\u001B[0;32m      5\u001B[0m                      value_name=\"gdp\")\n",
      "\u001B[1;32m~\\PycharmProjects\\MacroeconomicAnalysis\\venv\\lib\\site-packages\\pandas\\util\\_decorators.py\u001B[0m in \u001B[0;36mwrapper\u001B[1;34m(*args, **kwargs)\u001B[0m\n\u001B[0;32m    309\u001B[0m                     \u001B[0mstacklevel\u001B[0m\u001B[1;33m=\u001B[0m\u001B[0mstacklevel\u001B[0m\u001B[1;33m,\u001B[0m\u001B[1;33m\u001B[0m\u001B[1;33m\u001B[0m\u001B[0m\n\u001B[0;32m    310\u001B[0m                 )\n\u001B[1;32m--> 311\u001B[1;33m             \u001B[1;32mreturn\u001B[0m \u001B[0mfunc\u001B[0m\u001B[1;33m(\u001B[0m\u001B[1;33m*\u001B[0m\u001B[0margs\u001B[0m\u001B[1;33m,\u001B[0m \u001B[1;33m**\u001B[0m\u001B[0mkwargs\u001B[0m\u001B[1;33m)\u001B[0m\u001B[1;33m\u001B[0m\u001B[1;33m\u001B[0m\u001B[0m\n\u001B[0m\u001B[0;32m    312\u001B[0m \u001B[1;33m\u001B[0m\u001B[0m\n\u001B[0;32m    313\u001B[0m         \u001B[1;32mreturn\u001B[0m \u001B[0mwrapper\u001B[0m\u001B[1;33m\u001B[0m\u001B[1;33m\u001B[0m\u001B[0m\n",
      "\u001B[1;32m~\\PycharmProjects\\MacroeconomicAnalysis\\venv\\lib\\site-packages\\pandas\\io\\parsers\\readers.py\u001B[0m in \u001B[0;36mread_csv\u001B[1;34m(filepath_or_buffer, sep, delimiter, header, names, index_col, usecols, squeeze, prefix, mangle_dupe_cols, dtype, engine, converters, true_values, false_values, skipinitialspace, skiprows, skipfooter, nrows, na_values, keep_default_na, na_filter, verbose, skip_blank_lines, parse_dates, infer_datetime_format, keep_date_col, date_parser, dayfirst, cache_dates, iterator, chunksize, compression, thousands, decimal, lineterminator, quotechar, quoting, doublequote, escapechar, comment, encoding, encoding_errors, dialect, error_bad_lines, warn_bad_lines, on_bad_lines, delim_whitespace, low_memory, memory_map, float_precision, storage_options)\u001B[0m\n\u001B[0;32m    584\u001B[0m     \u001B[0mkwds\u001B[0m\u001B[1;33m.\u001B[0m\u001B[0mupdate\u001B[0m\u001B[1;33m(\u001B[0m\u001B[0mkwds_defaults\u001B[0m\u001B[1;33m)\u001B[0m\u001B[1;33m\u001B[0m\u001B[1;33m\u001B[0m\u001B[0m\n\u001B[0;32m    585\u001B[0m \u001B[1;33m\u001B[0m\u001B[0m\n\u001B[1;32m--> 586\u001B[1;33m     \u001B[1;32mreturn\u001B[0m \u001B[0m_read\u001B[0m\u001B[1;33m(\u001B[0m\u001B[0mfilepath_or_buffer\u001B[0m\u001B[1;33m,\u001B[0m \u001B[0mkwds\u001B[0m\u001B[1;33m)\u001B[0m\u001B[1;33m\u001B[0m\u001B[1;33m\u001B[0m\u001B[0m\n\u001B[0m\u001B[0;32m    587\u001B[0m \u001B[1;33m\u001B[0m\u001B[0m\n\u001B[0;32m    588\u001B[0m \u001B[1;33m\u001B[0m\u001B[0m\n",
      "\u001B[1;32m~\\PycharmProjects\\MacroeconomicAnalysis\\venv\\lib\\site-packages\\pandas\\io\\parsers\\readers.py\u001B[0m in \u001B[0;36m_read\u001B[1;34m(filepath_or_buffer, kwds)\u001B[0m\n\u001B[0;32m    480\u001B[0m \u001B[1;33m\u001B[0m\u001B[0m\n\u001B[0;32m    481\u001B[0m     \u001B[1;31m# Create the parser.\u001B[0m\u001B[1;33m\u001B[0m\u001B[1;33m\u001B[0m\u001B[1;33m\u001B[0m\u001B[0m\n\u001B[1;32m--> 482\u001B[1;33m     \u001B[0mparser\u001B[0m \u001B[1;33m=\u001B[0m \u001B[0mTextFileReader\u001B[0m\u001B[1;33m(\u001B[0m\u001B[0mfilepath_or_buffer\u001B[0m\u001B[1;33m,\u001B[0m \u001B[1;33m**\u001B[0m\u001B[0mkwds\u001B[0m\u001B[1;33m)\u001B[0m\u001B[1;33m\u001B[0m\u001B[1;33m\u001B[0m\u001B[0m\n\u001B[0m\u001B[0;32m    483\u001B[0m \u001B[1;33m\u001B[0m\u001B[0m\n\u001B[0;32m    484\u001B[0m     \u001B[1;32mif\u001B[0m \u001B[0mchunksize\u001B[0m \u001B[1;32mor\u001B[0m \u001B[0miterator\u001B[0m\u001B[1;33m:\u001B[0m\u001B[1;33m\u001B[0m\u001B[1;33m\u001B[0m\u001B[0m\n",
      "\u001B[1;32m~\\PycharmProjects\\MacroeconomicAnalysis\\venv\\lib\\site-packages\\pandas\\io\\parsers\\readers.py\u001B[0m in \u001B[0;36m__init__\u001B[1;34m(self, f, engine, **kwds)\u001B[0m\n\u001B[0;32m    809\u001B[0m             \u001B[0mself\u001B[0m\u001B[1;33m.\u001B[0m\u001B[0moptions\u001B[0m\u001B[1;33m[\u001B[0m\u001B[1;34m\"has_index_names\"\u001B[0m\u001B[1;33m]\u001B[0m \u001B[1;33m=\u001B[0m \u001B[0mkwds\u001B[0m\u001B[1;33m[\u001B[0m\u001B[1;34m\"has_index_names\"\u001B[0m\u001B[1;33m]\u001B[0m\u001B[1;33m\u001B[0m\u001B[1;33m\u001B[0m\u001B[0m\n\u001B[0;32m    810\u001B[0m \u001B[1;33m\u001B[0m\u001B[0m\n\u001B[1;32m--> 811\u001B[1;33m         \u001B[0mself\u001B[0m\u001B[1;33m.\u001B[0m\u001B[0m_engine\u001B[0m \u001B[1;33m=\u001B[0m \u001B[0mself\u001B[0m\u001B[1;33m.\u001B[0m\u001B[0m_make_engine\u001B[0m\u001B[1;33m(\u001B[0m\u001B[0mself\u001B[0m\u001B[1;33m.\u001B[0m\u001B[0mengine\u001B[0m\u001B[1;33m)\u001B[0m\u001B[1;33m\u001B[0m\u001B[1;33m\u001B[0m\u001B[0m\n\u001B[0m\u001B[0;32m    812\u001B[0m \u001B[1;33m\u001B[0m\u001B[0m\n\u001B[0;32m    813\u001B[0m     \u001B[1;32mdef\u001B[0m \u001B[0mclose\u001B[0m\u001B[1;33m(\u001B[0m\u001B[0mself\u001B[0m\u001B[1;33m)\u001B[0m\u001B[1;33m:\u001B[0m\u001B[1;33m\u001B[0m\u001B[1;33m\u001B[0m\u001B[0m\n",
      "\u001B[1;32m~\\PycharmProjects\\MacroeconomicAnalysis\\venv\\lib\\site-packages\\pandas\\io\\parsers\\readers.py\u001B[0m in \u001B[0;36m_make_engine\u001B[1;34m(self, engine)\u001B[0m\n\u001B[0;32m   1038\u001B[0m             )\n\u001B[0;32m   1039\u001B[0m         \u001B[1;31m# error: Too many arguments for \"ParserBase\"\u001B[0m\u001B[1;33m\u001B[0m\u001B[1;33m\u001B[0m\u001B[1;33m\u001B[0m\u001B[0m\n\u001B[1;32m-> 1040\u001B[1;33m         \u001B[1;32mreturn\u001B[0m \u001B[0mmapping\u001B[0m\u001B[1;33m[\u001B[0m\u001B[0mengine\u001B[0m\u001B[1;33m]\u001B[0m\u001B[1;33m(\u001B[0m\u001B[0mself\u001B[0m\u001B[1;33m.\u001B[0m\u001B[0mf\u001B[0m\u001B[1;33m,\u001B[0m \u001B[1;33m**\u001B[0m\u001B[0mself\u001B[0m\u001B[1;33m.\u001B[0m\u001B[0moptions\u001B[0m\u001B[1;33m)\u001B[0m  \u001B[1;31m# type: ignore[call-arg]\u001B[0m\u001B[1;33m\u001B[0m\u001B[1;33m\u001B[0m\u001B[0m\n\u001B[0m\u001B[0;32m   1041\u001B[0m \u001B[1;33m\u001B[0m\u001B[0m\n\u001B[0;32m   1042\u001B[0m     \u001B[1;32mdef\u001B[0m \u001B[0m_failover_to_python\u001B[0m\u001B[1;33m(\u001B[0m\u001B[0mself\u001B[0m\u001B[1;33m)\u001B[0m\u001B[1;33m:\u001B[0m\u001B[1;33m\u001B[0m\u001B[1;33m\u001B[0m\u001B[0m\n",
      "\u001B[1;32m~\\PycharmProjects\\MacroeconomicAnalysis\\venv\\lib\\site-packages\\pandas\\io\\parsers\\c_parser_wrapper.py\u001B[0m in \u001B[0;36m__init__\u001B[1;34m(self, src, **kwds)\u001B[0m\n\u001B[0;32m     49\u001B[0m \u001B[1;33m\u001B[0m\u001B[0m\n\u001B[0;32m     50\u001B[0m         \u001B[1;31m# open handles\u001B[0m\u001B[1;33m\u001B[0m\u001B[1;33m\u001B[0m\u001B[1;33m\u001B[0m\u001B[0m\n\u001B[1;32m---> 51\u001B[1;33m         \u001B[0mself\u001B[0m\u001B[1;33m.\u001B[0m\u001B[0m_open_handles\u001B[0m\u001B[1;33m(\u001B[0m\u001B[0msrc\u001B[0m\u001B[1;33m,\u001B[0m \u001B[0mkwds\u001B[0m\u001B[1;33m)\u001B[0m\u001B[1;33m\u001B[0m\u001B[1;33m\u001B[0m\u001B[0m\n\u001B[0m\u001B[0;32m     52\u001B[0m         \u001B[1;32massert\u001B[0m \u001B[0mself\u001B[0m\u001B[1;33m.\u001B[0m\u001B[0mhandles\u001B[0m \u001B[1;32mis\u001B[0m \u001B[1;32mnot\u001B[0m \u001B[1;32mNone\u001B[0m\u001B[1;33m\u001B[0m\u001B[1;33m\u001B[0m\u001B[0m\n\u001B[0;32m     53\u001B[0m \u001B[1;33m\u001B[0m\u001B[0m\n",
      "\u001B[1;32m~\\PycharmProjects\\MacroeconomicAnalysis\\venv\\lib\\site-packages\\pandas\\io\\parsers\\base_parser.py\u001B[0m in \u001B[0;36m_open_handles\u001B[1;34m(self, src, kwds)\u001B[0m\n\u001B[0;32m    220\u001B[0m         \u001B[0mLet\u001B[0m \u001B[0mthe\u001B[0m \u001B[0mreaders\u001B[0m \u001B[0mopen\u001B[0m \u001B[0mIOHandles\u001B[0m \u001B[0mafter\u001B[0m \u001B[0mthey\u001B[0m \u001B[0mare\u001B[0m \u001B[0mdone\u001B[0m \u001B[1;32mwith\u001B[0m \u001B[0mtheir\u001B[0m \u001B[0mpotential\u001B[0m \u001B[0mraises\u001B[0m\u001B[1;33m.\u001B[0m\u001B[1;33m\u001B[0m\u001B[1;33m\u001B[0m\u001B[0m\n\u001B[0;32m    221\u001B[0m         \"\"\"\n\u001B[1;32m--> 222\u001B[1;33m         self.handles = get_handle(\n\u001B[0m\u001B[0;32m    223\u001B[0m             \u001B[0msrc\u001B[0m\u001B[1;33m,\u001B[0m\u001B[1;33m\u001B[0m\u001B[1;33m\u001B[0m\u001B[0m\n\u001B[0;32m    224\u001B[0m             \u001B[1;34m\"r\"\u001B[0m\u001B[1;33m,\u001B[0m\u001B[1;33m\u001B[0m\u001B[1;33m\u001B[0m\u001B[0m\n",
      "\u001B[1;32m~\\PycharmProjects\\MacroeconomicAnalysis\\venv\\lib\\site-packages\\pandas\\io\\common.py\u001B[0m in \u001B[0;36mget_handle\u001B[1;34m(path_or_buf, mode, encoding, compression, memory_map, is_text, errors, storage_options)\u001B[0m\n\u001B[0;32m    700\u001B[0m         \u001B[1;32mif\u001B[0m \u001B[0mioargs\u001B[0m\u001B[1;33m.\u001B[0m\u001B[0mencoding\u001B[0m \u001B[1;32mand\u001B[0m \u001B[1;34m\"b\"\u001B[0m \u001B[1;32mnot\u001B[0m \u001B[1;32min\u001B[0m \u001B[0mioargs\u001B[0m\u001B[1;33m.\u001B[0m\u001B[0mmode\u001B[0m\u001B[1;33m:\u001B[0m\u001B[1;33m\u001B[0m\u001B[1;33m\u001B[0m\u001B[0m\n\u001B[0;32m    701\u001B[0m             \u001B[1;31m# Encoding\u001B[0m\u001B[1;33m\u001B[0m\u001B[1;33m\u001B[0m\u001B[1;33m\u001B[0m\u001B[0m\n\u001B[1;32m--> 702\u001B[1;33m             handle = open(\n\u001B[0m\u001B[0;32m    703\u001B[0m                 \u001B[0mhandle\u001B[0m\u001B[1;33m,\u001B[0m\u001B[1;33m\u001B[0m\u001B[1;33m\u001B[0m\u001B[0m\n\u001B[0;32m    704\u001B[0m                 \u001B[0mioargs\u001B[0m\u001B[1;33m.\u001B[0m\u001B[0mmode\u001B[0m\u001B[1;33m,\u001B[0m\u001B[1;33m\u001B[0m\u001B[1;33m\u001B[0m\u001B[0m\n",
      "\u001B[1;31mFileNotFoundError\u001B[0m: [Errno 2] No such file or directory: 'CAGDP1__ALL_AREAS_2001_2020.csv'"
     ]
    }
   ],
   "source": [
    "data_1 = pd.read_csv(\"CAGDP1__ALL_AREAS_2001_2020.csv\", encoding=\"ISO-8859-1\")\n",
    "data_1 = data_1[data_1[\"Description\"] == \"Current-dollar GDP (thousands of current dollars)\"]\n",
    "data_1 = data_1[data_1[\"GeoName\"].isin(state_list)]\n",
    "data_1 = data_1.melt(id_vars=[\"GeoName\"], value_vars=[str(i) for i in range(2001, 2020)], var_name=\"year\",\n",
    "                     value_name=\"gdp\")\n",
    "data_1 = data_1.dropna()\n",
    "data_1 = data_1[data_1[\"gdp\"] != \"(NA)\"]\n",
    "data_1[\"gdp\"] = data_1[\"gdp\"].astype(\"int64\")\n",
    "data_1[\"year\"] = data_1[\"year\"].astype(\"int\")\n",
    "data_1.head()\n",
    "\n",
    "data_2 = pd.read_excel(\"download.xls\", skiprows=range(0, 5), nrows=59)\n",
    "data_2[\"GeoName\"] = data_2[\"GeoName\"].replace(\"Alaska *\", \"Alaska\")\n",
    "data_2 = data_2.melt(id_vars=[\"GeoName\"], value_vars=[str(i) for i in range(2008, 2020)], var_name=\"year\",\n",
    "                     value_name=\"population\")\n",
    "data_2[\"year\"] = data_2[\"year\"].astype(\"int\")\n",
    "data_2.head()\n",
    "\n",
    "data_3 = pd.read_csv(\"SAIRPDImplicitRegionalPriceDeflatorsbystate.csv\")\n",
    "data_3 = data_3.melt(id_vars=[\"GeoName\"], value_vars=[str(i) for i in range(2008, 2020)], var_name=\"year\",\n",
    "                     value_name=\"regional_deflator\")\n",
    "data_3[\"year\"] = data_3[\"year\"].astype(\"int\")\n",
    "data_3.head()\n",
    "\n",
    "data = pd.merge(data_1, data_2, on=[\"GeoName\", \"year\"])\n",
    "data = pd.merge(data, data_3, on=[\"GeoName\", \"year\"])\n",
    "data = data.rename({\"GeoName\": \"state\"}, axis=1)\n",
    "data[\"gdp_per_capita\"] = data[\"gdp\"] / data[\"population\"]\n",
    "data[\"gdp_per_capita\"] = data[\"gdp_per_capita\"] / (data[\"regional_deflator\"] / 100)\n",
    "# data[\"gdp_per_capita\"] = numpy.log(data[\"gdp_per_capita\"])\n",
    "data_Y0 = data[data[\"year\"] == 2008][[\"state\", \"gdp_per_capita\"]]\n",
    "data_Y0 = data_Y0.rename(columns={\"gdp_per_capita\": \"Y0\"})\n",
    "data = data.sort_values([\"state\", \"year\"])\n",
    "data[\"gdp_per_capita_t-1\"] = data.groupby(\"state\")[\"gdp_per_capita\"].shift(1)\n",
    "data[\"gdp_per_capita_growth\"] = data[\"gdp_per_capita\"] / data[\"gdp_per_capita_t-1\"]\n",
    "# data[\"gdp_per_capita_diff\"] = data[\"gdp_per_capita\"] - data[\"gdp_per_capita_t-1\"]\n",
    "data = data.dropna()\n",
    "data.head()\n",
    "\n",
    "data = data.merge(data_Y0, on=[\"state\"])\n",
    "\n",
    "data_agg = data.groupby(by=\"state\").agg({\"gdp_per_capita_growth\": [gmean]}) - 1\n",
    "data_agg.columns = data_agg.columns.droplevel()\n",
    "data_agg.head()\n",
    "\n",
    "data_agg = data_agg.merge(data_Y0, on=[\"state\"])\n",
    "data_Y0[\"Y0\"] = numpy.log(data_Y0[\"Y0\"])"
   ],
   "metadata": {
    "collapsed": false,
    "pycharm": {
     "name": "#%%\n"
    }
   }
  },
  {
   "cell_type": "code",
   "execution_count": 12,
   "outputs": [
    {
     "name": "stderr",
     "output_type": "stream",
     "text": [
      "C:\\Users\\jiri.pesik.HULD\\PycharmProjects\\MacroeconomicAnalysis\\venv\\lib\\site-packages\\openpyxl\\styles\\stylesheet.py:226: UserWarning: Workbook contains no default style, apply openpyxl's default\n",
      "  warn(\"Workbook contains no default style, apply openpyxl's default\")\n"
     ]
    },
    {
     "data": {
      "text/plain": "            State  year research_spending\n0  United Statesa  2006      1059104585.0\n1         Alabama  2006         7269319.0\n2          Alaska  2006        10019060.0\n3         Arizona  2006        37151471.0\n4        Arkansas  2006         4869648.0",
      "text/html": "<div>\n<style scoped>\n    .dataframe tbody tr th:only-of-type {\n        vertical-align: middle;\n    }\n\n    .dataframe tbody tr th {\n        vertical-align: top;\n    }\n\n    .dataframe thead th {\n        text-align: right;\n    }\n</style>\n<table border=\"1\" class=\"dataframe\">\n  <thead>\n    <tr style=\"text-align: right;\">\n      <th></th>\n      <th>State</th>\n      <th>year</th>\n      <th>research_spending</th>\n    </tr>\n  </thead>\n  <tbody>\n    <tr>\n      <th>0</th>\n      <td>United Statesa</td>\n      <td>2006</td>\n      <td>1059104585.0</td>\n    </tr>\n    <tr>\n      <th>1</th>\n      <td>Alabama</td>\n      <td>2006</td>\n      <td>7269319.0</td>\n    </tr>\n    <tr>\n      <th>2</th>\n      <td>Alaska</td>\n      <td>2006</td>\n      <td>10019060.0</td>\n    </tr>\n    <tr>\n      <th>3</th>\n      <td>Arizona</td>\n      <td>2006</td>\n      <td>37151471.0</td>\n    </tr>\n    <tr>\n      <th>4</th>\n      <td>Arkansas</td>\n      <td>2006</td>\n      <td>4869648.0</td>\n    </tr>\n  </tbody>\n</table>\n</div>"
     },
     "execution_count": 12,
     "metadata": {},
     "output_type": "execute_result"
    }
   ],
   "source": [
    "data_research = pd.read_excel(\"nsf22307-tab003.xlsx\", skiprows=[0, 1, 2])\n",
    "data_research[\"State\"] = data_research[\"State\"].str.strip()\n",
    "data_research = data_research.melt(id_vars=[\"State\"], value_vars=[float(i) for i in range(2006, 2020)], var_name=\"year\",\n",
    "                     value_name=\"research_spending\")\n",
    "data_research[\"year\"] = data_research[\"year\"].astype(int)\n",
    "data_research.head()"
   ],
   "metadata": {
    "collapsed": false,
    "pycharm": {
     "name": "#%%\n"
    }
   }
  },
  {
   "cell_type": "code",
   "execution_count": 14,
   "outputs": [
    {
     "data": {
      "text/plain": "  Area Name Area Type           Sector          Measure     Units  Year  \\\n0   Alabama     State  Private Nonfarm  Number of hours  millions  2007   \n1   Alabama     State  Private Nonfarm  Number of hours  millions  2008   \n2   Alabama     State  Private Nonfarm  Number of hours  millions  2009   \n3   Alabama     State  Private Nonfarm  Number of hours  millions  2010   \n4   Alabama     State  Private Nonfarm  Number of hours  millions  2011   \n\n      Value  \n0  3149.999  \n1  2999.167  \n2  2715.492  \n3  2727.896  \n4      2738  ",
      "text/html": "<div>\n<style scoped>\n    .dataframe tbody tr th:only-of-type {\n        vertical-align: middle;\n    }\n\n    .dataframe tbody tr th {\n        vertical-align: top;\n    }\n\n    .dataframe thead th {\n        text-align: right;\n    }\n</style>\n<table border=\"1\" class=\"dataframe\">\n  <thead>\n    <tr style=\"text-align: right;\">\n      <th></th>\n      <th>Area Name</th>\n      <th>Area Type</th>\n      <th>Sector</th>\n      <th>Measure</th>\n      <th>Units</th>\n      <th>Year</th>\n      <th>Value</th>\n    </tr>\n  </thead>\n  <tbody>\n    <tr>\n      <th>0</th>\n      <td>Alabama</td>\n      <td>State</td>\n      <td>Private Nonfarm</td>\n      <td>Number of hours</td>\n      <td>millions</td>\n      <td>2007</td>\n      <td>3149.999</td>\n    </tr>\n    <tr>\n      <th>1</th>\n      <td>Alabama</td>\n      <td>State</td>\n      <td>Private Nonfarm</td>\n      <td>Number of hours</td>\n      <td>millions</td>\n      <td>2008</td>\n      <td>2999.167</td>\n    </tr>\n    <tr>\n      <th>2</th>\n      <td>Alabama</td>\n      <td>State</td>\n      <td>Private Nonfarm</td>\n      <td>Number of hours</td>\n      <td>millions</td>\n      <td>2009</td>\n      <td>2715.492</td>\n    </tr>\n    <tr>\n      <th>3</th>\n      <td>Alabama</td>\n      <td>State</td>\n      <td>Private Nonfarm</td>\n      <td>Number of hours</td>\n      <td>millions</td>\n      <td>2010</td>\n      <td>2727.896</td>\n    </tr>\n    <tr>\n      <th>4</th>\n      <td>Alabama</td>\n      <td>State</td>\n      <td>Private Nonfarm</td>\n      <td>Number of hours</td>\n      <td>millions</td>\n      <td>2011</td>\n      <td>2738</td>\n    </tr>\n  </tbody>\n</table>\n</div>"
     },
     "execution_count": 14,
     "metadata": {},
     "output_type": "execute_result"
    }
   ],
   "source": [
    "data_labour = pd.read_excel(\"lpc-by-state-and-region.xlsx\", sheet_name=\"Data (Flat)\")\n",
    "data_labour_hours = data_labour[(data_labour[\"Measure\"] == \"Number of hours\") & (data_labour[\"Units\"] == \"millions\")]\n",
    "data_labour_costs = data_labour[(data_labour[\"Measure\"] == \"Labor compensation cost\") & (data_labour[\"Units\"] == \"million$\")]\n",
    "data_labour_hours.head()\n"
   ],
   "metadata": {
    "collapsed": false,
    "pycharm": {
     "name": "#%%\n"
    }
   }
  }
 ],
 "metadata": {
  "kernelspec": {
   "display_name": "Python 3",
   "language": "python",
   "name": "python3"
  },
  "language_info": {
   "codemirror_mode": {
    "name": "ipython",
    "version": 2
   },
   "file_extension": ".py",
   "mimetype": "text/x-python",
   "name": "python",
   "nbconvert_exporter": "python",
   "pygments_lexer": "ipython2",
   "version": "2.7.6"
  }
 },
 "nbformat": 4,
 "nbformat_minor": 0
}
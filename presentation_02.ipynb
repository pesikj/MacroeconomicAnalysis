{
 "cells": [
  {
   "cell_type": "markdown",
   "metadata": {
    "pycharm": {
     "name": "#%% md\n"
    }
   },
   "source": [
    "# Odhad CDPF\n",
    "\n",
    "## Cíl analýzy\n",
    "\n",
    "Cílem analýzy je odhad neoklasické agregátní CDPF.\n",
    "\n",
    "## Data a metoda\n",
    "\n",
    "Pro odhad byly použity následující hodnoty:\n",
    "\n",
    "- hrubá přidaná hodnota (Gross Value Added) (převedená na stálé ceny roku 2010 pomocí deflátoru HDP),\n",
    "- čistý fixní nefinanční kapitál (převedený na stálé ceny roku 2010 pomocí deflátoru kapitálových zásob),\n",
    "- celkový počet odpracovaných hodin."
   ]
  },
  {
   "cell_type": "code",
   "execution_count": 36,
   "metadata": {
    "pycharm": {
     "name": "#%%\n"
    }
   },
   "outputs": [],
   "source": [
    "import eurostat\n",
    "import pandas\n",
    "import statsmodels.formula.api as smf\n",
    "import numpy\n",
    "import seaborn\n",
    "\n",
    "LOCATIONS = [\"CZ\", \"DE\", \"AT\", \"EU27_2020\", \"ES\"]\n",
    "BASE_LOCATION = \"CZ\"\n",
    "START_YEAR = 1980\n",
    "END_YEAR = 2020"
   ]
  },
  {
   "cell_type": "markdown",
   "metadata": {
    "pycharm": {
     "name": "#%% md\n"
    }
   },
   "source": [
    "### Hrubá přidaná hodnota (Gross Value Added)\n",
    "\n",
    "Hrubá přidaná hodnota je načtena na základě kódu `nama_10_a10`."
   ]
  },
  {
   "cell_type": "code",
   "execution_count": 37,
   "metadata": {
    "pycharm": {
     "name": "#%%\n"
    }
   },
   "outputs": [
    {
     "data": {
      "text/html": [
       "<div>\n",
       "<style scoped>\n",
       "    .dataframe tbody tr th:only-of-type {\n",
       "        vertical-align: middle;\n",
       "    }\n",
       "\n",
       "    .dataframe tbody tr th {\n",
       "        vertical-align: top;\n",
       "    }\n",
       "\n",
       "    .dataframe thead th {\n",
       "        text-align: right;\n",
       "    }\n",
       "</style>\n",
       "<table border=\"1\" class=\"dataframe\">\n",
       "  <thead>\n",
       "    <tr style=\"text-align: right;\">\n",
       "      <th>unit</th>\n",
       "      <th>na_item</th>\n",
       "      <th>geo\\time</th>\n",
       "      <th>year</th>\n",
       "      <th>gross_value_added</th>\n",
       "      <th>gross_value_added_deflator</th>\n",
       "    </tr>\n",
       "  </thead>\n",
       "  <tbody>\n",
       "    <tr>\n",
       "      <th>1840</th>\n",
       "      <td>B1G</td>\n",
       "      <td>XK</td>\n",
       "      <td>2016</td>\n",
       "      <td>547200.4080</td>\n",
       "      <td>112.890</td>\n",
       "    </tr>\n",
       "    <tr>\n",
       "      <th>1841</th>\n",
       "      <td>B1G</td>\n",
       "      <td>XK</td>\n",
       "      <td>2017</td>\n",
       "      <td>577304.7840</td>\n",
       "      <td>113.064</td>\n",
       "    </tr>\n",
       "    <tr>\n",
       "      <th>1842</th>\n",
       "      <td>B1G</td>\n",
       "      <td>XK</td>\n",
       "      <td>2018</td>\n",
       "      <td>617278.2520</td>\n",
       "      <td>114.740</td>\n",
       "    </tr>\n",
       "    <tr>\n",
       "      <th>1843</th>\n",
       "      <td>B1G</td>\n",
       "      <td>XK</td>\n",
       "      <td>2019</td>\n",
       "      <td>661185.7636</td>\n",
       "      <td>116.026</td>\n",
       "    </tr>\n",
       "    <tr>\n",
       "      <th>1844</th>\n",
       "      <td>B1G</td>\n",
       "      <td>XK</td>\n",
       "      <td>2020</td>\n",
       "      <td>660210.0975</td>\n",
       "      <td>118.095</td>\n",
       "    </tr>\n",
       "  </tbody>\n",
       "</table>\n",
       "</div>"
      ],
      "text/plain": [
       "unit na_item geo\\time  year  gross_value_added  gross_value_added_deflator\n",
       "1840     B1G       XK  2016        547200.4080                     112.890\n",
       "1841     B1G       XK  2017        577304.7840                     113.064\n",
       "1842     B1G       XK  2018        617278.2520                     114.740\n",
       "1843     B1G       XK  2019        661185.7636                     116.026\n",
       "1844     B1G       XK  2020        660210.0975                     118.095"
      ]
     },
     "execution_count": 37,
     "metadata": {},
     "output_type": "execute_result"
    }
   ],
   "source": [
    "data_1_es = eurostat.get_data_df('nama_10_a10')\n",
    "data_1 = data_1_es\n",
    "# Value added, gross\n",
    "data_1 = data_1[data_1[\"na_item\"] == \"B1G\"]\n",
    "# Total, all NACE activities\n",
    "data_1 = data_1[data_1[\"nace_r2\"] == \"TOTAL\"]\n",
    "# Current prices, million euro\n",
    "data_1 = data_1[data_1[\"unit\"].isin([\"CP_MNAC\", \"PD10_NAC\"])]\n",
    "data_1 = pandas.melt(data_1, id_vars=[\"unit\", \"na_item\", \"geo\\\\time\"], value_vars=list(range(START_YEAR, END_YEAR + 1)),\n",
    "                     value_name=\"value\", var_name=\"year\")\n",
    "data_1 = data_1.pivot(index=[\"na_item\", \"geo\\\\time\", \"year\"], columns=\"unit\", values=\"value\")\n",
    "data_1 = data_1.reset_index()\n",
    "data_1 = data_1.rename({\"CP_MNAC\": \"gross_value_added\", \"PD10_NAC\": \"gross_value_added_deflator\"}, axis=1)\n",
    "data_1[\"gross_value_added\"] = data_1[\"gross_value_added\"] * data_1[\"gross_value_added_deflator\"]\n",
    "data_1 = data_1.dropna()\n",
    "data_1.tail()"
   ]
  },
  {
   "cell_type": "markdown",
   "metadata": {},
   "source": [
    "Pro data provedeme logaritmizaci a určíme hodnoty diferencí."
   ]
  },
  {
   "cell_type": "code",
   "execution_count": 38,
   "metadata": {},
   "outputs": [
    {
     "data": {
      "text/html": [
       "<div>\n",
       "<style scoped>\n",
       "    .dataframe tbody tr th:only-of-type {\n",
       "        vertical-align: middle;\n",
       "    }\n",
       "\n",
       "    .dataframe tbody tr th {\n",
       "        vertical-align: top;\n",
       "    }\n",
       "\n",
       "    .dataframe thead th {\n",
       "        text-align: right;\n",
       "    }\n",
       "</style>\n",
       "<table border=\"1\" class=\"dataframe\">\n",
       "  <thead>\n",
       "    <tr style=\"text-align: right;\">\n",
       "      <th>unit</th>\n",
       "      <th>geo\\time</th>\n",
       "      <th>year</th>\n",
       "      <th>ln_gross_value_added</th>\n",
       "      <th>ln_gross_value_added_diff</th>\n",
       "    </tr>\n",
       "  </thead>\n",
       "  <tbody>\n",
       "    <tr>\n",
       "      <th>1840</th>\n",
       "      <td>XK</td>\n",
       "      <td>2016</td>\n",
       "      <td>13.212570</td>\n",
       "      <td>0.004012</td>\n",
       "    </tr>\n",
       "    <tr>\n",
       "      <th>1841</th>\n",
       "      <td>XK</td>\n",
       "      <td>2017</td>\n",
       "      <td>13.266126</td>\n",
       "      <td>0.004037</td>\n",
       "    </tr>\n",
       "    <tr>\n",
       "      <th>1842</th>\n",
       "      <td>XK</td>\n",
       "      <td>2018</td>\n",
       "      <td>13.333075</td>\n",
       "      <td>0.005021</td>\n",
       "    </tr>\n",
       "    <tr>\n",
       "      <th>1843</th>\n",
       "      <td>XK</td>\n",
       "      <td>2019</td>\n",
       "      <td>13.401790</td>\n",
       "      <td>0.005127</td>\n",
       "    </tr>\n",
       "    <tr>\n",
       "      <th>1844</th>\n",
       "      <td>XK</td>\n",
       "      <td>2020</td>\n",
       "      <td>13.400313</td>\n",
       "      <td>-0.000110</td>\n",
       "    </tr>\n",
       "  </tbody>\n",
       "</table>\n",
       "</div>"
      ],
      "text/plain": [
       "unit geo\\time  year  ln_gross_value_added  ln_gross_value_added_diff\n",
       "1840       XK  2016             13.212570                   0.004012\n",
       "1841       XK  2017             13.266126                   0.004037\n",
       "1842       XK  2018             13.333075                   0.005021\n",
       "1843       XK  2019             13.401790                   0.005127\n",
       "1844       XK  2020             13.400313                  -0.000110"
      ]
     },
     "execution_count": 38,
     "metadata": {},
     "output_type": "execute_result"
    }
   ],
   "source": [
    "data_1 = data_1.sort_values([\"geo\\\\time\", \"year\"])\n",
    "data_1[\"ln_gross_value_added\"] = numpy.log(data_1[\"gross_value_added\"])\n",
    "data_1[\"ln_gross_value_added_t_minus_1\"] = data_1.groupby(\"geo\\\\time\")[\"ln_gross_value_added\"].shift(1)\n",
    "data_1[\"ln_gross_value_added_diff\"] = (data_1[\"ln_gross_value_added\"] - data_1[\"ln_gross_value_added_t_minus_1\"]) / data_1[\"ln_gross_value_added\"]\n",
    "data_1 = data_1[[\"geo\\\\time\", \"year\", \"ln_gross_value_added\", \"ln_gross_value_added_diff\"]]\n",
    "data_1.tail()"
   ]
  },
  {
   "cell_type": "markdown",
   "metadata": {},
   "source": [
    "Dále načteme informace o odpracovaných hodinách, které mají kód `nama_10_a10_e`."
   ]
  },
  {
   "cell_type": "code",
   "execution_count": 39,
   "metadata": {},
   "outputs": [
    {
     "data": {
      "text/html": [
       "<div>\n",
       "<style scoped>\n",
       "    .dataframe tbody tr th:only-of-type {\n",
       "        vertical-align: middle;\n",
       "    }\n",
       "\n",
       "    .dataframe tbody tr th {\n",
       "        vertical-align: top;\n",
       "    }\n",
       "\n",
       "    .dataframe thead th {\n",
       "        text-align: right;\n",
       "    }\n",
       "</style>\n",
       "<table border=\"1\" class=\"dataframe\">\n",
       "  <thead>\n",
       "    <tr style=\"text-align: right;\">\n",
       "      <th></th>\n",
       "      <th>geo\\time</th>\n",
       "      <th>year</th>\n",
       "      <th>ln_thousands_hours_worked</th>\n",
       "      <th>ln_thousands_hours_worked_diff</th>\n",
       "    </tr>\n",
       "  </thead>\n",
       "  <tbody>\n",
       "    <tr>\n",
       "      <th>585</th>\n",
       "      <td>AT</td>\n",
       "      <td>1995</td>\n",
       "      <td>15.666346</td>\n",
       "      <td>NaN</td>\n",
       "    </tr>\n",
       "    <tr>\n",
       "      <th>624</th>\n",
       "      <td>AT</td>\n",
       "      <td>1996</td>\n",
       "      <td>15.688559</td>\n",
       "      <td>0.001416</td>\n",
       "    </tr>\n",
       "    <tr>\n",
       "      <th>663</th>\n",
       "      <td>AT</td>\n",
       "      <td>1997</td>\n",
       "      <td>15.700493</td>\n",
       "      <td>0.000760</td>\n",
       "    </tr>\n",
       "    <tr>\n",
       "      <th>702</th>\n",
       "      <td>AT</td>\n",
       "      <td>1998</td>\n",
       "      <td>15.698566</td>\n",
       "      <td>-0.000123</td>\n",
       "    </tr>\n",
       "    <tr>\n",
       "      <th>741</th>\n",
       "      <td>AT</td>\n",
       "      <td>1999</td>\n",
       "      <td>15.715818</td>\n",
       "      <td>0.001098</td>\n",
       "    </tr>\n",
       "  </tbody>\n",
       "</table>\n",
       "</div>"
      ],
      "text/plain": [
       "    geo\\time  year  ln_thousands_hours_worked  ln_thousands_hours_worked_diff\n",
       "585       AT  1995                  15.666346                             NaN\n",
       "624       AT  1996                  15.688559                        0.001416\n",
       "663       AT  1997                  15.700493                        0.000760\n",
       "702       AT  1998                  15.698566                       -0.000123\n",
       "741       AT  1999                  15.715818                        0.001098"
      ]
     },
     "execution_count": 39,
     "metadata": {},
     "output_type": "execute_result"
    }
   ],
   "source": [
    "data_2_es = eurostat.get_data_df('nama_10_a10_e')\n",
    "data_2 = data_2_es\n",
    "# Total employment domestic concept\n",
    "data_2 = data_2[data_2[\"na_item\"] == \"EMP_DC\"]\n",
    "# Total, all NACE activities\n",
    "data_2 = data_2[data_2[\"nace_r2\"] == \"TOTAL\"]\n",
    "# Thousands hours worked\n",
    "data_2 = data_2[data_2[\"unit\"] == \"THS_HW\"]\n",
    "data_2 = pandas.melt(data_2, id_vars=[\"unit\", \"na_item\", \"geo\\\\time\"], value_vars=list(range(START_YEAR, END_YEAR + 1)),\n",
    "                    value_name=\"thousands_hours_worked\", var_name=\"year\")\n",
    "data_2 = data_2.sort_values([\"geo\\\\time\", \"year\"])\n",
    "data_2 = data_2.dropna()\n",
    "data_2[\"ln_thousands_hours_worked\"] = numpy.log(data_2[\"thousands_hours_worked\"])\n",
    "data_2[\"ln_thousands_hours_worked_t_minus_1\"] = data_2.groupby(\"geo\\\\time\")[\"ln_thousands_hours_worked\"].shift(1)\n",
    "data_2[\"ln_thousands_hours_worked_diff\"] = (data_2[\"ln_thousands_hours_worked\"] - data_2[\"ln_thousands_hours_worked_t_minus_1\"]) / data_2[\"ln_thousands_hours_worked\"]\n",
    "data_2 = data_2[[\"geo\\\\time\", \"year\", \"ln_thousands_hours_worked\", \"ln_thousands_hours_worked_diff\"]]\n",
    "data_2.head()"
   ]
  },
  {
   "cell_type": "markdown",
   "metadata": {},
   "source": [
    "Jako předposlední krok je načten čistý fixní nefinanční kapitál, který má kód `nama_10_nfa_bs`."
   ]
  },
  {
   "cell_type": "code",
   "execution_count": 40,
   "metadata": {
    "pycharm": {
     "name": "#%%\n"
    }
   },
   "outputs": [],
   "source": [
    "data_3_es = eurostat.get_data_df('nama_10_nfa_bs')\n",
    "\n",
    "data_3 = data_3_es\n",
    "data_3 = eurostat.get_data_df('nama_10_nfa_bs')\n",
    "# Total fixed assets (net)\n",
    "data_3 = data_3[data_3[\"asset10\"] == \"N11N\"]\n",
    "# Total, all activities\n",
    "data_3 = data_3[data_3[\"sector\"] == \"S1\"]\n",
    "# Current fixed prices, millions of national currency\n",
    "data_3 = data_3[data_3[\"unit\"] == \"CP_MNAC\"]\n",
    "data_3 = pandas.melt(data_3, id_vars=[\"unit\", \"asset10\", \"geo\\\\time\"], value_vars=list(range(START_YEAR, END_YEAR + 1)),\n",
    "                    value_name=\"total_fixed_assets\", var_name=\"year\")\n",
    "data_3 = data_3.sort_values([\"geo\\\\time\", \"year\"])\n",
    "data_3 = data_3.dropna()"
   ]
  },
  {
   "cell_type": "markdown",
   "metadata": {},
   "source": [
    "V posledním kroku je načten deflátor kapitálových zásob, který má kód `nama_10_nfa_fl`."
   ]
  },
  {
   "cell_type": "code",
   "execution_count": 41,
   "metadata": {
    "pycharm": {
     "name": "#%%\n"
    }
   },
   "outputs": [],
   "source": [
    "data_4_es = eurostat.get_data_df('nama_10_nfa_fl')\n",
    "\n",
    "data_4 = data_4_es\n",
    "data_4 = data_4[data_4[\"asset10\"] == \"N11G\"]\n",
    "data_4 = data_4[data_4[\"nace_r2\"] == \"TOTAL\"]\n",
    "data_4 = data_4[data_4[\"unit\"] == \"PD10_NAC\"]\n",
    "data_4 = pandas.melt(data_4, id_vars=[\"unit\", \"asset10\", \"geo\\\\time\"], value_vars=list(range(START_YEAR, END_YEAR + 1)),\n",
    "                    value_name=\"capital_stock_deflator\", var_name=\"year\")\n",
    "data_4 = data_4.sort_values([\"geo\\\\time\", \"year\"])\n",
    "data_4 = data_4.dropna()"
   ]
  },
  {
   "cell_type": "markdown",
   "metadata": {},
   "source": [
    "Hodnota kapitálu je nyní převedena na stálé ceny roku 2010."
   ]
  },
  {
   "cell_type": "code",
   "execution_count": 42,
   "metadata": {
    "pycharm": {
     "name": "#%%\n"
    }
   },
   "outputs": [],
   "source": [
    "data_3 = data_3.merge(data_4, on=[\"geo\\\\time\", \"year\"])\n",
    "data_3[\"total_fixed_assets\"] = data_3[\"total_fixed_assets\"] * data_3[\"capital_stock_deflator\"]\n",
    "data_3[\"ln_total_fixed_assets\"] = numpy.log(data_3[\"total_fixed_assets\"])\n",
    "data_3[\"ln_total_fixed_assets_t_minus_1\"] = data_3.groupby(\"geo\\\\time\")[\"ln_total_fixed_assets\"].shift(1)\n",
    "data_3[\"ln_total_fixed_assets_diff\"] = (data_3[\"ln_total_fixed_assets\"] - data_3[\"ln_total_fixed_assets_t_minus_1\"]) / data_3[\"ln_total_fixed_assets\"]\n",
    "data_3 = data_3[[\"geo\\\\time\", \"year\", \"ln_total_fixed_assets\", \"ln_total_fixed_assets_diff\"]]"
   ]
  },
  {
   "cell_type": "markdown",
   "metadata": {},
   "source": [
    "Jako poslední krok provedeme spojní všech tabulek do jedné."
   ]
  },
  {
   "cell_type": "code",
   "execution_count": 43,
   "metadata": {
    "pycharm": {
     "name": "#%%\n"
    }
   },
   "outputs": [
    {
     "data": {
      "text/html": [
       "<div>\n",
       "<style scoped>\n",
       "    .dataframe tbody tr th:only-of-type {\n",
       "        vertical-align: middle;\n",
       "    }\n",
       "\n",
       "    .dataframe tbody tr th {\n",
       "        vertical-align: top;\n",
       "    }\n",
       "\n",
       "    .dataframe thead th {\n",
       "        text-align: right;\n",
       "    }\n",
       "</style>\n",
       "<table border=\"1\" class=\"dataframe\">\n",
       "  <thead>\n",
       "    <tr style=\"text-align: right;\">\n",
       "      <th></th>\n",
       "      <th>geo\\time</th>\n",
       "      <th>year</th>\n",
       "      <th>ln_gross_value_added</th>\n",
       "      <th>ln_gross_value_added_diff</th>\n",
       "      <th>ln_thousands_hours_worked</th>\n",
       "      <th>ln_thousands_hours_worked_diff</th>\n",
       "      <th>ln_total_fixed_assets</th>\n",
       "      <th>ln_total_fixed_assets_diff</th>\n",
       "    </tr>\n",
       "  </thead>\n",
       "  <tbody>\n",
       "    <tr>\n",
       "      <th>0</th>\n",
       "      <td>AT</td>\n",
       "      <td>1995</td>\n",
       "      <td>16.381579</td>\n",
       "      <td>NaN</td>\n",
       "      <td>15.666346</td>\n",
       "      <td>NaN</td>\n",
       "      <td>17.736362</td>\n",
       "      <td>NaN</td>\n",
       "    </tr>\n",
       "    <tr>\n",
       "      <th>1</th>\n",
       "      <td>AT</td>\n",
       "      <td>1996</td>\n",
       "      <td>16.417358</td>\n",
       "      <td>0.002179</td>\n",
       "      <td>15.688559</td>\n",
       "      <td>0.001416</td>\n",
       "      <td>17.789630</td>\n",
       "      <td>0.002994</td>\n",
       "    </tr>\n",
       "    <tr>\n",
       "      <th>2</th>\n",
       "      <td>AT</td>\n",
       "      <td>1997</td>\n",
       "      <td>16.455536</td>\n",
       "      <td>0.002320</td>\n",
       "      <td>15.700493</td>\n",
       "      <td>0.000760</td>\n",
       "      <td>17.841370</td>\n",
       "      <td>0.002900</td>\n",
       "    </tr>\n",
       "    <tr>\n",
       "      <th>3</th>\n",
       "      <td>AT</td>\n",
       "      <td>1998</td>\n",
       "      <td>16.498469</td>\n",
       "      <td>0.002602</td>\n",
       "      <td>15.698566</td>\n",
       "      <td>-0.000123</td>\n",
       "      <td>17.884289</td>\n",
       "      <td>0.002400</td>\n",
       "    </tr>\n",
       "    <tr>\n",
       "      <th>4</th>\n",
       "      <td>AT</td>\n",
       "      <td>1999</td>\n",
       "      <td>16.535190</td>\n",
       "      <td>0.002221</td>\n",
       "      <td>15.715818</td>\n",
       "      <td>0.001098</td>\n",
       "      <td>17.926085</td>\n",
       "      <td>0.002332</td>\n",
       "    </tr>\n",
       "  </tbody>\n",
       "</table>\n",
       "</div>"
      ],
      "text/plain": [
       "  geo\\time  year  ln_gross_value_added  ln_gross_value_added_diff  \\\n",
       "0       AT  1995             16.381579                        NaN   \n",
       "1       AT  1996             16.417358                   0.002179   \n",
       "2       AT  1997             16.455536                   0.002320   \n",
       "3       AT  1998             16.498469                   0.002602   \n",
       "4       AT  1999             16.535190                   0.002221   \n",
       "\n",
       "   ln_thousands_hours_worked  ln_thousands_hours_worked_diff  \\\n",
       "0                  15.666346                             NaN   \n",
       "1                  15.688559                        0.001416   \n",
       "2                  15.700493                        0.000760   \n",
       "3                  15.698566                       -0.000123   \n",
       "4                  15.715818                        0.001098   \n",
       "\n",
       "   ln_total_fixed_assets  ln_total_fixed_assets_diff  \n",
       "0              17.736362                         NaN  \n",
       "1              17.789630                    0.002994  \n",
       "2              17.841370                    0.002900  \n",
       "3              17.884289                    0.002400  \n",
       "4              17.926085                    0.002332  "
      ]
     },
     "execution_count": 43,
     "metadata": {},
     "output_type": "execute_result"
    }
   ],
   "source": [
    "data = pandas.merge(data_1, data_2, on=[\"geo\\\\time\", \"year\"])\n",
    "data = pandas.merge(data, data_3, on=[\"geo\\\\time\", \"year\"])\n",
    "data.head()"
   ]
  },
  {
   "cell_type": "markdown",
   "metadata": {},
   "source": [
    "Níže je graf vztahu mezi diferencí logaritmovaného čistého fixního finančního kapitálu a diferencí logaritmované\n",
    "hrubé přidané hodnoty.\n",
    "Z grafu je patrná jistá korelace mezi proměnnými."
   ]
  },
  {
   "cell_type": "code",
   "execution_count": 55,
   "metadata": {
    "pycharm": {
     "name": "#%%\n"
    }
   },
   "outputs": [
    {
     "name": "stderr",
     "output_type": "stream",
     "text": [
      "C:\\Users\\jirip\\repos\\deotn\\venv\\lib\\site-packages\\seaborn\\_decorators.py:36: FutureWarning: Pass the following variables as keyword args: x, y, data. From version 0.12, the only valid positional argument will be `data`, and passing other arguments without an explicit keyword will result in an error or misinterpretation.\n",
      "  warnings.warn(\n"
     ]
    },
    {
     "data": {
      "text/plain": [
       "<seaborn.axisgrid.JointGrid at 0x119afbbe640>"
      ]
     },
     "execution_count": 55,
     "metadata": {},
     "output_type": "execute_result"
    },
    {
     "data": {
      "image/png": "[encoded data removed]",
      "text/plain": [
       "<Figure size 432x432 with 3 Axes>"
      ]
     },
     "metadata": {
      "needs_background": "light"
     },
     "output_type": "display_data"
    }
   ],
   "source": [
    "data_plot = data[data[\"geo\\\\time\"] == \"AT\"]\n",
    "seaborn.jointplot(\"ln_total_fixed_assets_diff\", \"ln_gross_value_added_diff\", data_plot, kind='scatter', color='seagreen')"
   ]
  },
  {
   "cell_type": "markdown",
   "metadata": {},
   "source": [
    "Níže je graf vztahu mezi diferencí logaritmovaných odpracovaných hodin a diferencí logaritmované\n",
    "hrubé přidané hodnoty.\n",
    "Zde je korelace očividně výrazně slabší."
   ]
  },
  {
   "cell_type": "code",
   "execution_count": 56,
   "metadata": {
    "pycharm": {
     "name": "#%%\n"
    }
   },
   "outputs": [
    {
     "name": "stderr",
     "output_type": "stream",
     "text": [
      "C:\\Users\\jirip\\repos\\deotn\\venv\\lib\\site-packages\\seaborn\\_decorators.py:36: FutureWarning: Pass the following variables as keyword args: x, y, data. From version 0.12, the only valid positional argument will be `data`, and passing other arguments without an explicit keyword will result in an error or misinterpretation.\n",
      "  warnings.warn(\n"
     ]
    },
    {
     "data": {
      "text/plain": [
       "<seaborn.axisgrid.JointGrid at 0x1198270b0d0>"
      ]
     },
     "execution_count": 56,
     "metadata": {},
     "output_type": "execute_result"
    },
    {
     "data": {
      "image/png": "[encoded data removed]",
      "text/plain": [
       "<Figure size 432x432 with 3 Axes>"
      ]
     },
     "metadata": {
      "needs_background": "light"
     },
     "output_type": "display_data"
    }
   ],
   "source": [
    "data_plot = data[data[\"geo\\\\time\"] == \"AT\"]\n",
    "seaborn.jointplot(\"ln_thousands_hours_worked_diff\", \"ln_gross_value_added_diff\", data_plot, kind='scatter', color='seagreen')"
   ]
  },
  {
   "cell_type": "markdown",
   "metadata": {},
   "source": [
    "Hodnoty korelace jsou v korelační matici"
   ]
  },
  {
   "cell_type": "code",
   "execution_count": 46,
   "metadata": {
    "pycharm": {
     "name": "#%%\n"
    }
   },
   "outputs": [
    {
     "data": {
      "text/html": [
       "<div>\n",
       "<style scoped>\n",
       "    .dataframe tbody tr th:only-of-type {\n",
       "        vertical-align: middle;\n",
       "    }\n",
       "\n",
       "    .dataframe tbody tr th {\n",
       "        vertical-align: top;\n",
       "    }\n",
       "\n",
       "    .dataframe thead th {\n",
       "        text-align: right;\n",
       "    }\n",
       "</style>\n",
       "<table border=\"1\" class=\"dataframe\">\n",
       "  <thead>\n",
       "    <tr style=\"text-align: right;\">\n",
       "      <th></th>\n",
       "      <th>ln_total_fixed_assets_diff</th>\n",
       "      <th>ln_gross_value_added_diff</th>\n",
       "      <th>ln_thousands_hours_worked_diff</th>\n",
       "    </tr>\n",
       "  </thead>\n",
       "  <tbody>\n",
       "    <tr>\n",
       "      <th>ln_total_fixed_assets_diff</th>\n",
       "      <td>1.000000</td>\n",
       "      <td>0.902269</td>\n",
       "      <td>-0.025181</td>\n",
       "    </tr>\n",
       "    <tr>\n",
       "      <th>ln_gross_value_added_diff</th>\n",
       "      <td>0.902269</td>\n",
       "      <td>1.000000</td>\n",
       "      <td>0.077221</td>\n",
       "    </tr>\n",
       "    <tr>\n",
       "      <th>ln_thousands_hours_worked_diff</th>\n",
       "      <td>-0.025181</td>\n",
       "      <td>0.077221</td>\n",
       "      <td>1.000000</td>\n",
       "    </tr>\n",
       "  </tbody>\n",
       "</table>\n",
       "</div>"
      ],
      "text/plain": [
       "                                ln_total_fixed_assets_diff  \\\n",
       "ln_total_fixed_assets_diff                        1.000000   \n",
       "ln_gross_value_added_diff                         0.902269   \n",
       "ln_thousands_hours_worked_diff                   -0.025181   \n",
       "\n",
       "                                ln_gross_value_added_diff  \\\n",
       "ln_total_fixed_assets_diff                       0.902269   \n",
       "ln_gross_value_added_diff                        1.000000   \n",
       "ln_thousands_hours_worked_diff                   0.077221   \n",
       "\n",
       "                                ln_thousands_hours_worked_diff  \n",
       "ln_total_fixed_assets_diff                           -0.025181  \n",
       "ln_gross_value_added_diff                             0.077221  \n",
       "ln_thousands_hours_worked_diff                        1.000000  "
      ]
     },
     "execution_count": 46,
     "metadata": {},
     "output_type": "execute_result"
    }
   ],
   "source": [
    "data_plot[[\"ln_total_fixed_assets_diff\", \"ln_gross_value_added_diff\", \"ln_thousands_hours_worked_diff\"]].corr()"
   ]
  },
  {
   "cell_type": "markdown",
   "metadata": {},
   "source": [
    "Na základě korelační matice je zřejmé, že výsledky regresního modelu nebudou dobré."
   ]
  },
  {
   "cell_type": "code",
   "execution_count": 57,
   "metadata": {
    "pycharm": {
     "name": "#%%\n"
    }
   },
   "outputs": [
    {
     "data": {
      "text/html": [
       "<table class=\"simpletable\">\n",
       "<caption>OLS Regression Results</caption>\n",
       "<tr>\n",
       "  <th>Dep. Variable:</th>    <td>ln_gross_value_added_diff</td> <th>  R-squared:         </th> <td>   0.475</td>\n",
       "</tr>\n",
       "<tr>\n",
       "  <th>Model:</th>                       <td>OLS</td>            <th>  Adj. R-squared:    </th> <td>   0.422</td>\n",
       "</tr>\n",
       "<tr>\n",
       "  <th>Method:</th>                 <td>Least Squares</td>       <th>  F-statistic:       </th> <td>   9.041</td>\n",
       "</tr>\n",
       "<tr>\n",
       "  <th>Date:</th>                 <td>Fri, 10 Dec 2021</td>      <th>  Prob (F-statistic):</th>  <td>0.00160</td>\n",
       "</tr>\n",
       "<tr>\n",
       "  <th>Time:</th>                     <td>10:10:20</td>          <th>  Log-Likelihood:    </th> <td>  134.17</td>\n",
       "</tr>\n",
       "<tr>\n",
       "  <th>No. Observations:</th>          <td>    23</td>           <th>  AIC:               </th> <td>  -262.3</td>\n",
       "</tr>\n",
       "<tr>\n",
       "  <th>Df Residuals:</th>              <td>    20</td>           <th>  BIC:               </th> <td>  -258.9</td>\n",
       "</tr>\n",
       "<tr>\n",
       "  <th>Df Model:</th>                  <td>     2</td>           <th>                     </th>     <td> </td>   \n",
       "</tr>\n",
       "<tr>\n",
       "  <th>Covariance Type:</th>          <td>nonrobust</td>         <th>                     </th>     <td> </td>   \n",
       "</tr>\n",
       "</table>\n",
       "<table class=\"simpletable\">\n",
       "<tr>\n",
       "                 <td></td>                   <th>coef</th>     <th>std err</th>      <th>t</th>      <th>P>|t|</th>  <th>[0.025</th>    <th>0.975]</th>  \n",
       "</tr>\n",
       "<tr>\n",
       "  <th>Intercept</th>                      <td>    0.0008</td> <td>    0.001</td> <td>    1.217</td> <td> 0.238</td> <td>   -0.001</td> <td>    0.002</td>\n",
       "</tr>\n",
       "<tr>\n",
       "  <th>ln_thousands_hours_worked_diff</th> <td>    0.6020</td> <td>    0.202</td> <td>    2.976</td> <td> 0.007</td> <td>    0.180</td> <td>    1.024</td>\n",
       "</tr>\n",
       "<tr>\n",
       "  <th>ln_total_fixed_assets_diff</th>     <td>    0.1172</td> <td>    0.294</td> <td>    0.399</td> <td> 0.694</td> <td>   -0.496</td> <td>    0.731</td>\n",
       "</tr>\n",
       "</table>\n",
       "<table class=\"simpletable\">\n",
       "<tr>\n",
       "  <th>Omnibus:</th>       <td> 1.567</td> <th>  Durbin-Watson:     </th> <td>   1.278</td>\n",
       "</tr>\n",
       "<tr>\n",
       "  <th>Prob(Omnibus):</th> <td> 0.457</td> <th>  Jarque-Bera (JB):  </th> <td>   1.391</td>\n",
       "</tr>\n",
       "<tr>\n",
       "  <th>Skew:</th>          <td>-0.500</td> <th>  Prob(JB):          </th> <td>   0.499</td>\n",
       "</tr>\n",
       "<tr>\n",
       "  <th>Kurtosis:</th>      <td> 2.328</td> <th>  Cond. No.          </th> <td>2.08e+03</td>\n",
       "</tr>\n",
       "</table><br/><br/>Notes:<br/>[1] Standard Errors assume that the covariance matrix of the errors is correctly specified.<br/>[2] The condition number is large, 2.08e+03. This might indicate that there are<br/>strong multicollinearity or other numerical problems."
      ],
      "text/plain": [
       "<class 'statsmodels.iolib.summary.Summary'>\n",
       "\"\"\"\n",
       "                                OLS Regression Results                               \n",
       "=====================================================================================\n",
       "Dep. Variable:     ln_gross_value_added_diff   R-squared:                       0.475\n",
       "Model:                                   OLS   Adj. R-squared:                  0.422\n",
       "Method:                        Least Squares   F-statistic:                     9.041\n",
       "Date:                       Fri, 10 Dec 2021   Prob (F-statistic):            0.00160\n",
       "Time:                               10:10:20   Log-Likelihood:                 134.17\n",
       "No. Observations:                         23   AIC:                            -262.3\n",
       "Df Residuals:                             20   BIC:                            -258.9\n",
       "Df Model:                                  2                                         \n",
       "Covariance Type:                   nonrobust                                         \n",
       "==================================================================================================\n",
       "                                     coef    std err          t      P>|t|      [0.025      0.975]\n",
       "--------------------------------------------------------------------------------------------------\n",
       "Intercept                          0.0008      0.001      1.217      0.238      -0.001       0.002\n",
       "ln_thousands_hours_worked_diff     0.6020      0.202      2.976      0.007       0.180       1.024\n",
       "ln_total_fixed_assets_diff         0.1172      0.294      0.399      0.694      -0.496       0.731\n",
       "==============================================================================\n",
       "Omnibus:                        1.567   Durbin-Watson:                   1.278\n",
       "Prob(Omnibus):                  0.457   Jarque-Bera (JB):                1.391\n",
       "Skew:                          -0.500   Prob(JB):                        0.499\n",
       "Kurtosis:                       2.328   Cond. No.                     2.08e+03\n",
       "==============================================================================\n",
       "\n",
       "Notes:\n",
       "[1] Standard Errors assume that the covariance matrix of the errors is correctly specified.\n",
       "[2] The condition number is large, 2.08e+03. This might indicate that there are\n",
       "strong multicollinearity or other numerical problems.\n",
       "\"\"\""
      ]
     },
     "execution_count": 57,
     "metadata": {},
     "output_type": "execute_result"
    }
   ],
   "source": [
    "data_plot = data[data[\"geo\\\\time\"] == \"AT\"]\n",
    "\n",
    "data_plot = data_plot[data_plot[\"year\"] > 1996]\n",
    "\n",
    "mod = smf.ols(formula=\"ln_gross_value_added_diff ~ ln_thousands_hours_worked_diff + ln_total_fixed_assets_diff\", data=data_plot)\n",
    "res = mod.fit()\n",
    "res.summary()"
   ]
  },
  {
   "cell_type": "markdown",
   "metadata": {},
   "source": [
    "Alternativně bylo vyzkoušen celkový objem mezd. Zde je korelace podstatně vyšší, bohužel do sebe ale výše mezd\n",
    "\"natahuje\" růst produktivity práce, čímž tento model nevyhovuje našemu zadání."
   ]
  },
  {
   "cell_type": "code",
   "execution_count": 59,
   "metadata": {
    "pycharm": {
     "name": "#%%\n"
    }
   },
   "outputs": [
    {
     "name": "stderr",
     "output_type": "stream",
     "text": [
      "C:\\Users\\jirip\\repos\\deotn\\venv\\lib\\site-packages\\seaborn\\_decorators.py:36: FutureWarning: Pass the following variables as keyword args: x, y, data. From version 0.12, the only valid positional argument will be `data`, and passing other arguments without an explicit keyword will result in an error or misinterpretation.\n",
      "  warnings.warn(\n"
     ]
    },
    {
     "data": {
      "text/plain": [
       "<seaborn.axisgrid.JointGrid at 0x11982a22850>"
      ]
     },
     "execution_count": 59,
     "metadata": {},
     "output_type": "execute_result"
    },
    {
     "data": {
      "image/png": "[encoded data removed]",
      "text/plain": [
       "<Figure size 432x432 with 3 Axes>"
      ]
     },
     "metadata": {
      "needs_background": "light"
     },
     "output_type": "display_data"
    }
   ],
   "source": [
    "data_2_es = eurostat.get_data_df('nama_10_a10')\n",
    "data_2 = data_2_es\n",
    "\n",
    "data_2 = data_2[data_2[\"na_item\"] == \"D11\"]\n",
    "\n",
    "data_2 = data_2[data_2[\"nace_r2\"] == \"TOTAL\"]\n",
    "\n",
    "data_2 = data_2[data_2[\"unit\"] == \"CP_MNAC\"]\n",
    "data_2 = pandas.melt(data_2, id_vars=[\"unit\", \"na_item\", \"geo\\\\time\"], value_vars=list(range(START_YEAR, END_YEAR + 1)),\n",
    "                    value_name=\"thousands_hours_worked\", var_name=\"year\")\n",
    "data_2 = data_2.sort_values([\"geo\\\\time\", \"year\"])\n",
    "data_2 = data_2.dropna()\n",
    "data_2[\"ln_thousands_hours_worked\"] = numpy.log(data_2[\"thousands_hours_worked\"])\n",
    "data_2[\"ln_thousands_hours_worked_t_minus_1\"] = data_2.groupby(\"geo\\\\time\")[\"ln_thousands_hours_worked\"].shift(1)\n",
    "data_2[\"ln_thousands_hours_worked_diff\"] = (data_2[\"ln_thousands_hours_worked\"] - data_2[\"ln_thousands_hours_worked_t_minus_1\"]) / data_2[\"ln_thousands_hours_worked\"]\n",
    "data_2 = data_2[[\"geo\\\\time\", \"year\", \"ln_thousands_hours_worked\", \"ln_thousands_hours_worked_diff\"]]\n",
    "\n",
    "data = pandas.merge(data_1, data_2, on=[\"geo\\\\time\", \"year\"])\n",
    "data = pandas.merge(data, data_3, on=[\"geo\\\\time\", \"year\"])\n",
    "\n",
    "data_plot = data[data[\"geo\\\\time\"] == \"AT\"]\n",
    "data_plot = data_plot[data_plot[\"year\"] > 1996]\n",
    "seaborn.jointplot(\"ln_thousands_hours_worked_diff\", \"ln_gross_value_added_diff\", data_plot, kind='scatter', color='seagreen')"
   ]
  },
  {
   "cell_type": "markdown",
   "metadata": {
    "pycharm": {
     "name": "#%% md\n"
    }
   },
   "source": [
    "Níže je test stacionarity"
   ]
  },
  {
   "cell_type": "code",
   "execution_count": 60,
   "metadata": {
    "pycharm": {
     "name": "#%%\n"
    }
   },
   "outputs": [
    {
     "data": {
      "text/plain": [
       "'p-hodnota testu stacionarity je 0.11747181078733021'"
      ]
     },
     "execution_count": 60,
     "metadata": {},
     "output_type": "execute_result"
    }
   ],
   "source": [
    "from statsmodels.tsa.stattools import adfuller\n",
    "result = adfuller(data_plot[\"ln_thousands_hours_worked_diff\"])\n",
    "f\"p-hodnota testu stacionarity je {result[1]}\""
   ]
  },
  {
   "cell_type": "code",
   "execution_count": 61,
   "metadata": {
    "pycharm": {
     "name": "#%%\n"
    }
   },
   "outputs": [
    {
     "data": {
      "text/plain": [
       "'p-hodnota testu stacionarity je 0.0005063271799016991'"
      ]
     },
     "execution_count": 61,
     "metadata": {},
     "output_type": "execute_result"
    }
   ],
   "source": [
    "result = adfuller(data_plot[\"ln_gross_value_added_diff\"])\n",
    "f\"p-hodnota testu stacionarity je {result[1]}\""
   ]
  },
  {
   "cell_type": "markdown",
   "metadata": {
    "pycharm": {
     "name": "#%% md\n"
    }
   },
   "source": [
    "Časová řada u čistých aktiv bohužel vychází jako nestacionární"
   ]
  },
  {
   "cell_type": "code",
   "execution_count": 62,
   "metadata": {
    "pycharm": {
     "name": "#%%\n"
    }
   },
   "outputs": [
    {
     "data": {
      "text/plain": [
       "'p-hodnota testu stacionarity je 0.05851587455007578'"
      ]
     },
     "execution_count": 62,
     "metadata": {},
     "output_type": "execute_result"
    }
   ],
   "source": [
    "result = adfuller(data_plot[\"ln_total_fixed_assets_diff\"])\n",
    "f\"p-hodnota testu stacionarity je {result[1]}\""
   ]
  },
  {
   "cell_type": "markdown",
   "metadata": {},
   "source": [
    "Následně provedeme test kointegrace."
   ]
  },
  {
   "cell_type": "code",
   "execution_count": 52,
   "metadata": {
    "pycharm": {
     "name": "#%%\n"
    }
   },
   "outputs": [
    {
     "data": {
      "text/plain": [
       "'p-hodnota testu kointegrace je 0.9859002580259643'"
      ]
     },
     "execution_count": 52,
     "metadata": {},
     "output_type": "execute_result"
    }
   ],
   "source": [
    "import statsmodels.tsa.stattools as ts\n",
    "\n",
    "result=ts.coint(data_plot[\"ln_gross_value_added_diff\"], data_plot[\"ln_thousands_hours_worked_diff\"])\n",
    "f\"p-hodnota testu kointegrace je {result[1]}\""
   ]
  },
  {
   "cell_type": "code",
   "execution_count": 53,
   "metadata": {
    "pycharm": {
     "name": "#%%\n"
    }
   },
   "outputs": [
    {
     "data": {
      "text/plain": [
       "'p-hodnota testu kointegrace je 0.9859002580259643'"
      ]
     },
     "execution_count": 53,
     "metadata": {},
     "output_type": "execute_result"
    }
   ],
   "source": [
    "result = ts.coint(data_plot[\"ln_gross_value_added_diff\"], data_plot[\"ln_total_fixed_assets_diff\"])\n",
    "f\"p-hodnota testu kointegrace je {result[1]}\""
   ]
  },
  {
   "cell_type": "markdown",
   "metadata": {},
   "source": [
    "Součet koeficientů regresního modelu je mírně vyšší než 1."
   ]
  },
  {
   "cell_type": "code",
   "execution_count": 65,
   "metadata": {
    "pycharm": {
     "name": "#%%\n"
    }
   },
   "outputs": [
    {
     "data": {
      "text/html": [
       "<table class=\"simpletable\">\n",
       "<caption>OLS Regression Results</caption>\n",
       "<tr>\n",
       "  <th>Dep. Variable:</th>    <td>ln_gross_value_added_diff</td> <th>  R-squared:         </th> <td>   0.475</td>\n",
       "</tr>\n",
       "<tr>\n",
       "  <th>Model:</th>                       <td>OLS</td>            <th>  Adj. R-squared:    </th> <td>   0.422</td>\n",
       "</tr>\n",
       "<tr>\n",
       "  <th>Method:</th>                 <td>Least Squares</td>       <th>  F-statistic:       </th> <td>   9.041</td>\n",
       "</tr>\n",
       "<tr>\n",
       "  <th>Date:</th>                 <td>Fri, 10 Dec 2021</td>      <th>  Prob (F-statistic):</th>  <td>0.00160</td>\n",
       "</tr>\n",
       "<tr>\n",
       "  <th>Time:</th>                     <td>10:17:32</td>          <th>  Log-Likelihood:    </th> <td>  134.17</td>\n",
       "</tr>\n",
       "<tr>\n",
       "  <th>No. Observations:</th>          <td>    23</td>           <th>  AIC:               </th> <td>  -262.3</td>\n",
       "</tr>\n",
       "<tr>\n",
       "  <th>Df Residuals:</th>              <td>    20</td>           <th>  BIC:               </th> <td>  -258.9</td>\n",
       "</tr>\n",
       "<tr>\n",
       "  <th>Df Model:</th>                  <td>     2</td>           <th>                     </th>     <td> </td>   \n",
       "</tr>\n",
       "<tr>\n",
       "  <th>Covariance Type:</th>          <td>nonrobust</td>         <th>                     </th>     <td> </td>   \n",
       "</tr>\n",
       "</table>\n",
       "<table class=\"simpletable\">\n",
       "<tr>\n",
       "                 <td></td>                   <th>coef</th>     <th>std err</th>      <th>t</th>      <th>P>|t|</th>  <th>[0.025</th>    <th>0.975]</th>  \n",
       "</tr>\n",
       "<tr>\n",
       "  <th>Intercept</th>                      <td>    0.0008</td> <td>    0.001</td> <td>    1.217</td> <td> 0.238</td> <td>   -0.001</td> <td>    0.002</td>\n",
       "</tr>\n",
       "<tr>\n",
       "  <th>ln_thousands_hours_worked_diff</th> <td>    0.6020</td> <td>    0.202</td> <td>    2.976</td> <td> 0.007</td> <td>    0.180</td> <td>    1.024</td>\n",
       "</tr>\n",
       "<tr>\n",
       "  <th>ln_total_fixed_assets_diff</th>     <td>    0.1172</td> <td>    0.294</td> <td>    0.399</td> <td> 0.694</td> <td>   -0.496</td> <td>    0.731</td>\n",
       "</tr>\n",
       "</table>\n",
       "<table class=\"simpletable\">\n",
       "<tr>\n",
       "  <th>Omnibus:</th>       <td> 1.567</td> <th>  Durbin-Watson:     </th> <td>   1.278</td>\n",
       "</tr>\n",
       "<tr>\n",
       "  <th>Prob(Omnibus):</th> <td> 0.457</td> <th>  Jarque-Bera (JB):  </th> <td>   1.391</td>\n",
       "</tr>\n",
       "<tr>\n",
       "  <th>Skew:</th>          <td>-0.500</td> <th>  Prob(JB):          </th> <td>   0.499</td>\n",
       "</tr>\n",
       "<tr>\n",
       "  <th>Kurtosis:</th>      <td> 2.328</td> <th>  Cond. No.          </th> <td>2.08e+03</td>\n",
       "</tr>\n",
       "</table><br/><br/>Notes:<br/>[1] Standard Errors assume that the covariance matrix of the errors is correctly specified.<br/>[2] The condition number is large, 2.08e+03. This might indicate that there are<br/>strong multicollinearity or other numerical problems."
      ],
      "text/plain": [
       "<class 'statsmodels.iolib.summary.Summary'>\n",
       "\"\"\"\n",
       "                                OLS Regression Results                               \n",
       "=====================================================================================\n",
       "Dep. Variable:     ln_gross_value_added_diff   R-squared:                       0.475\n",
       "Model:                                   OLS   Adj. R-squared:                  0.422\n",
       "Method:                        Least Squares   F-statistic:                     9.041\n",
       "Date:                       Fri, 10 Dec 2021   Prob (F-statistic):            0.00160\n",
       "Time:                               10:17:32   Log-Likelihood:                 134.17\n",
       "No. Observations:                         23   AIC:                            -262.3\n",
       "Df Residuals:                             20   BIC:                            -258.9\n",
       "Df Model:                                  2                                         \n",
       "Covariance Type:                   nonrobust                                         \n",
       "==================================================================================================\n",
       "                                     coef    std err          t      P>|t|      [0.025      0.975]\n",
       "--------------------------------------------------------------------------------------------------\n",
       "Intercept                          0.0008      0.001      1.217      0.238      -0.001       0.002\n",
       "ln_thousands_hours_worked_diff     0.6020      0.202      2.976      0.007       0.180       1.024\n",
       "ln_total_fixed_assets_diff         0.1172      0.294      0.399      0.694      -0.496       0.731\n",
       "==============================================================================\n",
       "Omnibus:                        1.567   Durbin-Watson:                   1.278\n",
       "Prob(Omnibus):                  0.457   Jarque-Bera (JB):                1.391\n",
       "Skew:                          -0.500   Prob(JB):                        0.499\n",
       "Kurtosis:                       2.328   Cond. No.                     2.08e+03\n",
       "==============================================================================\n",
       "\n",
       "Notes:\n",
       "[1] Standard Errors assume that the covariance matrix of the errors is correctly specified.\n",
       "[2] The condition number is large, 2.08e+03. This might indicate that there are\n",
       "strong multicollinearity or other numerical problems.\n",
       "\"\"\""
      ]
     },
     "execution_count": 65,
     "metadata": {},
     "output_type": "execute_result"
    }
   ],
   "source": [
    "mod = smf.ols(formula=\"ln_gross_value_added_diff ~ ln_thousands_hours_worked_diff + ln_total_fixed_assets_diff\", data=data_plot)\n",
    "res = mod.fit()\n",
    "res.summary()"
   ]
  },
  {
   "cell_type": "code",
   "execution_count": null,
   "metadata": {},
   "outputs": [],
   "source": []
  }
 ],
 "metadata": {
  "kernelspec": {
   "display_name": "Python 3 (ipykernel)",
   "language": "python",
   "name": "python3"
  },
  "language_info": {
   "codemirror_mode": {
    "name": "ipython",
    "version": 3
   },
   "file_extension": ".py",
   "mimetype": "text/x-python",
   "name": "python",
   "nbconvert_exporter": "python",
   "pygments_lexer": "ipython3",
   "version": "3.8.7"
  }
 },
 "nbformat": 4,
 "nbformat_minor": 1
}
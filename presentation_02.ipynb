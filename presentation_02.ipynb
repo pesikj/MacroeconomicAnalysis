{
 "cells": [
  {
   "cell_type": "markdown",
   "metadata": {
    "pycharm": {
     "name": "#%% md\n"
    }
   },
   "source": [
    "# Odhad CDPF\n",
    "\n",
    "## Cíl analýzy\n",
    "\n",
    "## Data a metoda\n",
    "\n",
    "NAMA_10_A10"
   ]
  },
  {
   "cell_type": "code",
   "execution_count": 201,
   "metadata": {
    "pycharm": {
     "name": "#%%\n"
    }
   },
   "outputs": [],
   "source": [
    "import eurostat\n",
    "import pandas\n",
    "import statsmodels.formula.api as smf\n",
    "import numpy\n",
    "\n",
    "LOCATIONS = [\"CZ\", \"DE\", \"AT\", \"EU27_2020\", \"ES\"]\n",
    "BASE_LOCATION = \"CZ\"\n",
    "START_YEAR = 1980\n",
    "END_YEAR = 2020"
   ]
  },
  {
   "cell_type": "markdown",
   "metadata": {
    "pycharm": {
     "name": "#%% md\n"
    }
   },
   "source": [
    "### Hrubá přidaná hodnota (Gross Value Added)"
   ]
  },
  {
   "cell_type": "code",
   "execution_count": 202,
   "metadata": {
    "pycharm": {
     "name": "#%%\n"
    }
   },
   "outputs": [],
   "source": [
    "data_1_es = eurostat.get_data_df('nama_10_a10')"
   ]
  },
  {
   "cell_type": "code",
   "execution_count": 230,
   "metadata": {
    "pycharm": {
     "name": "#%%\n"
    }
   },
   "outputs": [
    {
     "data": {
      "text/plain": "unit na_item geo\\time  year  gross_value_added  gross_value_added_deflator\n1840     B1G       XK  2016        547200.4080                     112.890\n1841     B1G       XK  2017        577304.7840                     113.064\n1842     B1G       XK  2018        617278.2520                     114.740\n1843     B1G       XK  2019        661185.7636                     116.026\n1844     B1G       XK  2020        660210.0975                     118.095",
      "text/html": "<div>\n<style scoped>\n    .dataframe tbody tr th:only-of-type {\n        vertical-align: middle;\n    }\n\n    .dataframe tbody tr th {\n        vertical-align: top;\n    }\n\n    .dataframe thead th {\n        text-align: right;\n    }\n</style>\n<table border=\"1\" class=\"dataframe\">\n  <thead>\n    <tr style=\"text-align: right;\">\n      <th>unit</th>\n      <th>na_item</th>\n      <th>geo\\time</th>\n      <th>year</th>\n      <th>gross_value_added</th>\n      <th>gross_value_added_deflator</th>\n    </tr>\n  </thead>\n  <tbody>\n    <tr>\n      <th>1840</th>\n      <td>B1G</td>\n      <td>XK</td>\n      <td>2016</td>\n      <td>547200.4080</td>\n      <td>112.890</td>\n    </tr>\n    <tr>\n      <th>1841</th>\n      <td>B1G</td>\n      <td>XK</td>\n      <td>2017</td>\n      <td>577304.7840</td>\n      <td>113.064</td>\n    </tr>\n    <tr>\n      <th>1842</th>\n      <td>B1G</td>\n      <td>XK</td>\n      <td>2018</td>\n      <td>617278.2520</td>\n      <td>114.740</td>\n    </tr>\n    <tr>\n      <th>1843</th>\n      <td>B1G</td>\n      <td>XK</td>\n      <td>2019</td>\n      <td>661185.7636</td>\n      <td>116.026</td>\n    </tr>\n    <tr>\n      <th>1844</th>\n      <td>B1G</td>\n      <td>XK</td>\n      <td>2020</td>\n      <td>660210.0975</td>\n      <td>118.095</td>\n    </tr>\n  </tbody>\n</table>\n</div>"
     },
     "execution_count": 230,
     "metadata": {},
     "output_type": "execute_result"
    }
   ],
   "source": [
    "data_1 = data_1_es\n",
    "# Value added, gross\n",
    "data_1 = data_1[data_1[\"na_item\"] == \"B1G\"]\n",
    "# Total, all NACE activities\n",
    "data_1 = data_1[data_1[\"nace_r2\"] == \"TOTAL\"]\n",
    "# Current prices, million euro\n",
    "data_1 = data_1[data_1[\"unit\"].isin([\"CP_MNAC\", \"PD10_NAC\"])]\n",
    "data_1 = pandas.melt(data_1, id_vars=[\"unit\", \"na_item\", \"geo\\\\time\"], value_vars=list(range(START_YEAR, END_YEAR + 1)),\n",
    "                     value_name=\"value\", var_name=\"year\")\n",
    "data_1 = data_1.pivot(index=[\"na_item\", \"geo\\\\time\", \"year\"], columns=\"unit\", values=\"value\")\n",
    "data_1 = data_1.reset_index()\n",
    "data_1 = data_1.rename({\"CP_MNAC\": \"gross_value_added\", \"PD10_NAC\": \"gross_value_added_deflator\"}, axis=1)\n",
    "data_1[\"gross_value_added\"] = data_1[\"gross_value_added\"] * data_1[\"gross_value_added_deflator\"]\n",
    "data_1 = data_1.dropna()\n",
    "data_1.tail()"
   ]
  },
  {
   "cell_type": "code",
   "execution_count": 231,
   "metadata": {},
   "outputs": [
    {
     "data": {
      "text/plain": "unit geo\\time  year  ln_gross_value_added  ln_gross_value_added_diff\n1840       XK  2016             13.212570                   0.004012\n1841       XK  2017             13.266126                   0.004037\n1842       XK  2018             13.333075                   0.005021\n1843       XK  2019             13.401790                   0.005127\n1844       XK  2020             13.400313                  -0.000110",
      "text/html": "<div>\n<style scoped>\n    .dataframe tbody tr th:only-of-type {\n        vertical-align: middle;\n    }\n\n    .dataframe tbody tr th {\n        vertical-align: top;\n    }\n\n    .dataframe thead th {\n        text-align: right;\n    }\n</style>\n<table border=\"1\" class=\"dataframe\">\n  <thead>\n    <tr style=\"text-align: right;\">\n      <th>unit</th>\n      <th>geo\\time</th>\n      <th>year</th>\n      <th>ln_gross_value_added</th>\n      <th>ln_gross_value_added_diff</th>\n    </tr>\n  </thead>\n  <tbody>\n    <tr>\n      <th>1840</th>\n      <td>XK</td>\n      <td>2016</td>\n      <td>13.212570</td>\n      <td>0.004012</td>\n    </tr>\n    <tr>\n      <th>1841</th>\n      <td>XK</td>\n      <td>2017</td>\n      <td>13.266126</td>\n      <td>0.004037</td>\n    </tr>\n    <tr>\n      <th>1842</th>\n      <td>XK</td>\n      <td>2018</td>\n      <td>13.333075</td>\n      <td>0.005021</td>\n    </tr>\n    <tr>\n      <th>1843</th>\n      <td>XK</td>\n      <td>2019</td>\n      <td>13.401790</td>\n      <td>0.005127</td>\n    </tr>\n    <tr>\n      <th>1844</th>\n      <td>XK</td>\n      <td>2020</td>\n      <td>13.400313</td>\n      <td>-0.000110</td>\n    </tr>\n  </tbody>\n</table>\n</div>"
     },
     "execution_count": 231,
     "metadata": {},
     "output_type": "execute_result"
    }
   ],
   "source": [
    "data_1 = data_1.sort_values([\"geo\\\\time\", \"year\"])\n",
    "data_1[\"ln_gross_value_added\"] = numpy.log(data_1[\"gross_value_added\"])\n",
    "data_1[\"ln_gross_value_added_t_minus_1\"] = data_1.groupby(\"geo\\\\time\")[\"ln_gross_value_added\"].shift(1)\n",
    "data_1[\"ln_gross_value_added_diff\"] = (data_1[\"ln_gross_value_added\"] - data_1[\"ln_gross_value_added_t_minus_1\"]) / data_1[\"ln_gross_value_added\"]\n",
    "data_1 = data_1[[\"geo\\\\time\", \"year\", \"ln_gross_value_added\", \"ln_gross_value_added_diff\"]]\n",
    "data_1.tail()"
   ]
  },
  {
   "cell_type": "code",
   "execution_count": 205,
   "metadata": {},
   "outputs": [],
   "source": [
    "data_2_es = eurostat.get_data_df('nama_10_a10_e')"
   ]
  },
  {
   "cell_type": "code",
   "execution_count": 222,
   "metadata": {
    "pycharm": {
     "name": "#%%\n"
    }
   },
   "outputs": [
    {
     "data": {
      "text/plain": "    geo\\time  year  ln_thousands_hours_worked  ln_thousands_hours_worked_diff\n630       AT  1995                  11.213549                             NaN\n672       AT  1996                  11.220449                        0.000615\n714       AT  1997                  11.236202                        0.001402\n756       AT  1998                  11.276471                        0.003571\n798       AT  1999                  11.313000                        0.003229",
      "text/html": "<div>\n<style scoped>\n    .dataframe tbody tr th:only-of-type {\n        vertical-align: middle;\n    }\n\n    .dataframe tbody tr th {\n        vertical-align: top;\n    }\n\n    .dataframe thead th {\n        text-align: right;\n    }\n</style>\n<table border=\"1\" class=\"dataframe\">\n  <thead>\n    <tr style=\"text-align: right;\">\n      <th></th>\n      <th>geo\\time</th>\n      <th>year</th>\n      <th>ln_thousands_hours_worked</th>\n      <th>ln_thousands_hours_worked_diff</th>\n    </tr>\n  </thead>\n  <tbody>\n    <tr>\n      <th>630</th>\n      <td>AT</td>\n      <td>1995</td>\n      <td>11.213549</td>\n      <td>NaN</td>\n    </tr>\n    <tr>\n      <th>672</th>\n      <td>AT</td>\n      <td>1996</td>\n      <td>11.220449</td>\n      <td>0.000615</td>\n    </tr>\n    <tr>\n      <th>714</th>\n      <td>AT</td>\n      <td>1997</td>\n      <td>11.236202</td>\n      <td>0.001402</td>\n    </tr>\n    <tr>\n      <th>756</th>\n      <td>AT</td>\n      <td>1998</td>\n      <td>11.276471</td>\n      <td>0.003571</td>\n    </tr>\n    <tr>\n      <th>798</th>\n      <td>AT</td>\n      <td>1999</td>\n      <td>11.313000</td>\n      <td>0.003229</td>\n    </tr>\n  </tbody>\n</table>\n</div>"
     },
     "execution_count": 222,
     "metadata": {},
     "output_type": "execute_result"
    }
   ],
   "source": [
    "# data_2 = data_2_es\n",
    "# # Total employment domestic concept\n",
    "# data_2 = data_2[data_2[\"na_item\"] == \"EMP_DC\"]\n",
    "# # Total, all NACE activities\n",
    "# data_2 = data_2[data_2[\"nace_r2\"] == \"TOTAL\"]\n",
    "# # Thousands hours worked\n",
    "# data_2 = data_2[data_2[\"unit\"] == \"THS_HW\"]\n",
    "# data_2 = pandas.melt(data_2, id_vars=[\"unit\", \"na_item\", \"geo\\\\time\"], value_vars=list(range(START_YEAR, END_YEAR + 1)),\n",
    "#                     value_name=\"thousands_hours_worked\", var_name=\"year\")\n",
    "# data_2 = data_2.sort_values([\"geo\\\\time\", \"year\"])\n",
    "# data_2 = data_2.dropna()\n",
    "# data_2[\"ln_thousands_hours_worked\"] = numpy.log(data_2[\"thousands_hours_worked\"])\n",
    "# data_2[\"ln_thousands_hours_worked_t_minus_1\"] = data_2.groupby(\"geo\\\\time\")[\"ln_thousands_hours_worked\"].shift(1)\n",
    "# data_2[\"ln_thousands_hours_worked_diff\"] = (data_2[\"ln_thousands_hours_worked\"] - data_2[\"ln_thousands_hours_worked_t_minus_1\"]) / data_2[\"ln_thousands_hours_worked\"]\n",
    "# data_2 = data_2[[\"geo\\\\time\", \"year\", \"ln_thousands_hours_worked\", \"ln_thousands_hours_worked_diff\"]]\n",
    "# data_2.head()\n",
    "\n",
    "data_2_es = eurostat.get_data_df('nama_10_a10')\n",
    "data_2 = data_2_es\n",
    "# Total employment domestic concept\n",
    "data_2 = data_2[data_2[\"na_item\"] == \"D11\"]\n",
    "# Total, all NACE activities\n",
    "data_2 = data_2[data_2[\"nace_r2\"] == \"TOTAL\"]\n",
    "# Thousands hours worked\n",
    "data_2 = data_2[data_2[\"unit\"] == \"CP_MNAC\"]\n",
    "data_2 = pandas.melt(data_2, id_vars=[\"unit\", \"na_item\", \"geo\\\\time\"], value_vars=list(range(START_YEAR, END_YEAR + 1)),\n",
    "                    value_name=\"thousands_hours_worked\", var_name=\"year\")\n",
    "data_2 = data_2.sort_values([\"geo\\\\time\", \"year\"])\n",
    "data_2 = data_2.dropna()\n",
    "data_2[\"ln_thousands_hours_worked\"] = numpy.log(data_2[\"thousands_hours_worked\"])\n",
    "data_2[\"ln_thousands_hours_worked_t_minus_1\"] = data_2.groupby(\"geo\\\\time\")[\"ln_thousands_hours_worked\"].shift(1)\n",
    "data_2[\"ln_thousands_hours_worked_diff\"] = (data_2[\"ln_thousands_hours_worked\"] - data_2[\"ln_thousands_hours_worked_t_minus_1\"]) / data_2[\"ln_thousands_hours_worked\"]\n",
    "data_2 = data_2[[\"geo\\\\time\", \"year\", \"ln_thousands_hours_worked\", \"ln_thousands_hours_worked_diff\"]]\n",
    "data_2.head()"
   ]
  },
  {
   "cell_type": "code",
   "execution_count": 207,
   "metadata": {
    "pycharm": {
     "name": "#%%\n"
    }
   },
   "outputs": [],
   "source": [
    "data_3_es = eurostat.get_data_df('nama_10_nfa_bs')"
   ]
  },
  {
   "cell_type": "code",
   "execution_count": 223,
   "outputs": [],
   "source": [
    "data_3 = data_3_es\n",
    "data_3 = eurostat.get_data_df('nama_10_nfa_bs')\n",
    "# Total fixed assets (net)\n",
    "data_3 = data_3[data_3[\"asset10\"] == \"N11N\"]\n",
    "# Total, all activities\n",
    "data_3 = data_3[data_3[\"sector\"] == \"S1\"]\n",
    "# Current fixed prices, millions of national currency\n",
    "data_3 = data_3[data_3[\"unit\"] == \"CP_MNAC\"]\n",
    "data_3 = pandas.melt(data_3, id_vars=[\"unit\", \"asset10\", \"geo\\\\time\"], value_vars=list(range(START_YEAR, END_YEAR + 1)),\n",
    "                    value_name=\"total_fixed_assets\", var_name=\"year\")\n",
    "data_3 = data_3.sort_values([\"geo\\\\time\", \"year\"])\n",
    "data_3 = data_3.dropna()"
   ],
   "metadata": {
    "collapsed": false,
    "pycharm": {
     "name": "#%%\n"
    }
   }
  },
  {
   "cell_type": "code",
   "execution_count": 209,
   "outputs": [],
   "source": [
    "data_4_es = eurostat.get_data_df('nama_10_nfa_fl')"
   ],
   "metadata": {
    "collapsed": false,
    "pycharm": {
     "name": "#%%\n"
    }
   }
  },
  {
   "cell_type": "code",
   "execution_count": 224,
   "outputs": [],
   "source": [
    "data_4 = data_4_es\n",
    "#\n",
    "data_4 = data_4[data_4[\"asset10\"] == \"N11G\"]\n",
    "#\n",
    "data_4 = data_4[data_4[\"nace_r2\"] == \"TOTAL\"]\n",
    "#\n",
    "data_4 = data_4[data_4[\"unit\"] == \"PD10_NAC\"]\n",
    "data_4 = pandas.melt(data_4, id_vars=[\"unit\", \"asset10\", \"geo\\\\time\"], value_vars=list(range(START_YEAR, END_YEAR + 1)),\n",
    "                    value_name=\"capital_stock_deflator\", var_name=\"year\")\n",
    "data_4 = data_4.sort_values([\"geo\\\\time\", \"year\"])\n",
    "data_4 = data_4.dropna()"
   ],
   "metadata": {
    "collapsed": false,
    "pycharm": {
     "name": "#%%\n"
    }
   }
  },
  {
   "cell_type": "code",
   "execution_count": 225,
   "outputs": [
    {
     "data": {
      "text/plain": "    unit_x asset10_x geo\\time  year  total_fixed_assets    unit_y asset10_y  \\\n0  CP_MNAC      N11N       AT  1995        5.044339e+07  PD10_NAC      N11G   \n1  CP_MNAC      N11N       AT  1996        5.320327e+07  PD10_NAC      N11G   \n2  CP_MNAC      N11N       AT  1997        5.602843e+07  PD10_NAC      N11G   \n3  CP_MNAC      N11N       AT  1998        5.848546e+07  PD10_NAC      N11G   \n4  CP_MNAC      N11N       AT  1999        6.098174e+07  PD10_NAC      N11G   \n\n   capital_stock_deflator  \n0                  79.960  \n1                  80.723  \n2                  81.648  \n3                  82.293  \n4                  82.710  ",
      "text/html": "<div>\n<style scoped>\n    .dataframe tbody tr th:only-of-type {\n        vertical-align: middle;\n    }\n\n    .dataframe tbody tr th {\n        vertical-align: top;\n    }\n\n    .dataframe thead th {\n        text-align: right;\n    }\n</style>\n<table border=\"1\" class=\"dataframe\">\n  <thead>\n    <tr style=\"text-align: right;\">\n      <th></th>\n      <th>unit_x</th>\n      <th>asset10_x</th>\n      <th>geo\\time</th>\n      <th>year</th>\n      <th>total_fixed_assets</th>\n      <th>unit_y</th>\n      <th>asset10_y</th>\n      <th>capital_stock_deflator</th>\n    </tr>\n  </thead>\n  <tbody>\n    <tr>\n      <th>0</th>\n      <td>CP_MNAC</td>\n      <td>N11N</td>\n      <td>AT</td>\n      <td>1995</td>\n      <td>5.044339e+07</td>\n      <td>PD10_NAC</td>\n      <td>N11G</td>\n      <td>79.960</td>\n    </tr>\n    <tr>\n      <th>1</th>\n      <td>CP_MNAC</td>\n      <td>N11N</td>\n      <td>AT</td>\n      <td>1996</td>\n      <td>5.320327e+07</td>\n      <td>PD10_NAC</td>\n      <td>N11G</td>\n      <td>80.723</td>\n    </tr>\n    <tr>\n      <th>2</th>\n      <td>CP_MNAC</td>\n      <td>N11N</td>\n      <td>AT</td>\n      <td>1997</td>\n      <td>5.602843e+07</td>\n      <td>PD10_NAC</td>\n      <td>N11G</td>\n      <td>81.648</td>\n    </tr>\n    <tr>\n      <th>3</th>\n      <td>CP_MNAC</td>\n      <td>N11N</td>\n      <td>AT</td>\n      <td>1998</td>\n      <td>5.848546e+07</td>\n      <td>PD10_NAC</td>\n      <td>N11G</td>\n      <td>82.293</td>\n    </tr>\n    <tr>\n      <th>4</th>\n      <td>CP_MNAC</td>\n      <td>N11N</td>\n      <td>AT</td>\n      <td>1999</td>\n      <td>6.098174e+07</td>\n      <td>PD10_NAC</td>\n      <td>N11G</td>\n      <td>82.710</td>\n    </tr>\n  </tbody>\n</table>\n</div>"
     },
     "execution_count": 225,
     "metadata": {},
     "output_type": "execute_result"
    }
   ],
   "source": [
    "data_3 = data_3.merge(data_4, on=[\"geo\\\\time\", \"year\"])\n",
    "data_3[\"total_fixed_assets\"] = data_3[\"total_fixed_assets\"] * data_3[\"capital_stock_deflator\"]\n",
    "data_3.head()"
   ],
   "metadata": {
    "collapsed": false,
    "pycharm": {
     "name": "#%%\n"
    }
   }
  },
  {
   "cell_type": "code",
   "execution_count": 226,
   "outputs": [],
   "source": [
    "data_3[\"ln_total_fixed_assets\"] = numpy.log(data_3[\"total_fixed_assets\"])\n",
    "data_3[\"ln_total_fixed_assets_t_minus_1\"] = data_3.groupby(\"geo\\\\time\")[\"ln_total_fixed_assets\"].shift(1)\n",
    "data_3[\"ln_total_fixed_assets_diff\"] = (data_3[\"ln_total_fixed_assets\"] - data_3[\"ln_total_fixed_assets_t_minus_1\"]) / data_3[\"ln_total_fixed_assets\"]\n",
    "data_3 = data_3[[\"geo\\\\time\", \"year\", \"ln_total_fixed_assets\", \"ln_total_fixed_assets_diff\"]]"
   ],
   "metadata": {
    "collapsed": false,
    "pycharm": {
     "name": "#%%\n"
    }
   }
  },
  {
   "cell_type": "code",
   "execution_count": 233,
   "outputs": [
    {
     "data": {
      "text/plain": "  geo\\time  year  ln_gross_value_added  ln_gross_value_added_diff  \\\n0       AT  1995             16.381579                        NaN   \n1       AT  1996             16.417358                   0.002179   \n2       AT  1997             16.455536                   0.002320   \n3       AT  1998             16.498469                   0.002602   \n4       AT  1999             16.535190                   0.002221   \n\n   ln_thousands_hours_worked  ln_thousands_hours_worked_diff  \\\n0                  11.213549                             NaN   \n1                  11.220449                        0.000615   \n2                  11.236202                        0.001402   \n3                  11.276471                        0.003571   \n4                  11.313000                        0.003229   \n\n   ln_total_fixed_assets  ln_total_fixed_assets_diff  \n0              17.736362                         NaN  \n1              17.789630                    0.002994  \n2              17.841370                    0.002900  \n3              17.884289                    0.002400  \n4              17.926085                    0.002332  ",
      "text/html": "<div>\n<style scoped>\n    .dataframe tbody tr th:only-of-type {\n        vertical-align: middle;\n    }\n\n    .dataframe tbody tr th {\n        vertical-align: top;\n    }\n\n    .dataframe thead th {\n        text-align: right;\n    }\n</style>\n<table border=\"1\" class=\"dataframe\">\n  <thead>\n    <tr style=\"text-align: right;\">\n      <th></th>\n      <th>geo\\time</th>\n      <th>year</th>\n      <th>ln_gross_value_added</th>\n      <th>ln_gross_value_added_diff</th>\n      <th>ln_thousands_hours_worked</th>\n      <th>ln_thousands_hours_worked_diff</th>\n      <th>ln_total_fixed_assets</th>\n      <th>ln_total_fixed_assets_diff</th>\n    </tr>\n  </thead>\n  <tbody>\n    <tr>\n      <th>0</th>\n      <td>AT</td>\n      <td>1995</td>\n      <td>16.381579</td>\n      <td>NaN</td>\n      <td>11.213549</td>\n      <td>NaN</td>\n      <td>17.736362</td>\n      <td>NaN</td>\n    </tr>\n    <tr>\n      <th>1</th>\n      <td>AT</td>\n      <td>1996</td>\n      <td>16.417358</td>\n      <td>0.002179</td>\n      <td>11.220449</td>\n      <td>0.000615</td>\n      <td>17.789630</td>\n      <td>0.002994</td>\n    </tr>\n    <tr>\n      <th>2</th>\n      <td>AT</td>\n      <td>1997</td>\n      <td>16.455536</td>\n      <td>0.002320</td>\n      <td>11.236202</td>\n      <td>0.001402</td>\n      <td>17.841370</td>\n      <td>0.002900</td>\n    </tr>\n    <tr>\n      <th>3</th>\n      <td>AT</td>\n      <td>1998</td>\n      <td>16.498469</td>\n      <td>0.002602</td>\n      <td>11.276471</td>\n      <td>0.003571</td>\n      <td>17.884289</td>\n      <td>0.002400</td>\n    </tr>\n    <tr>\n      <th>4</th>\n      <td>AT</td>\n      <td>1999</td>\n      <td>16.535190</td>\n      <td>0.002221</td>\n      <td>11.313000</td>\n      <td>0.003229</td>\n      <td>17.926085</td>\n      <td>0.002332</td>\n    </tr>\n  </tbody>\n</table>\n</div>"
     },
     "execution_count": 233,
     "metadata": {},
     "output_type": "execute_result"
    }
   ],
   "source": [
    "data = pandas.merge(data_1, data_2, on=[\"geo\\\\time\", \"year\"])\n",
    "data = pandas.merge(data, data_3, on=[\"geo\\\\time\", \"year\"])\n",
    "data.head()"
   ],
   "metadata": {
    "collapsed": false,
    "pycharm": {
     "name": "#%%\n"
    }
   }
  },
  {
   "cell_type": "code",
   "execution_count": 234,
   "outputs": [
    {
     "data": {
      "text/plain": "<AxesSubplot:xlabel='ln_total_fixed_assets_diff', ylabel='ln_gross_value_added_diff'>"
     },
     "execution_count": 234,
     "metadata": {},
     "output_type": "execute_result"
    },
    {
     "data": {
      "text/plain": "<Figure size 432x288 with 1 Axes>",
      "image/png": "[encoded data removed]"
     },
     "metadata": {
      "needs_background": "light"
     },
     "output_type": "display_data"
    }
   ],
   "source": [
    "data_plot = data[data[\"geo\\\\time\"] == \"CZ\"]\n",
    "data_plot.plot(x=\"ln_total_fixed_assets_diff\", y=\"ln_gross_value_added_diff\", kind=\"scatter\")"
   ],
   "metadata": {
    "collapsed": false,
    "pycharm": {
     "name": "#%%\n"
    }
   }
  },
  {
   "cell_type": "code",
   "execution_count": 235,
   "outputs": [
    {
     "data": {
      "text/plain": "<AxesSubplot:xlabel='ln_thousands_hours_worked_diff', ylabel='ln_gross_value_added_diff'>"
     },
     "execution_count": 235,
     "metadata": {},
     "output_type": "execute_result"
    },
    {
     "data": {
      "text/plain": "<Figure size 432x288 with 1 Axes>",
      "image/png": "[encoded data removed]"
     },
     "metadata": {
      "needs_background": "light"
     },
     "output_type": "display_data"
    }
   ],
   "source": [
    "data_plot = data[data[\"geo\\\\time\"] == \"CZ\"]\n",
    "data_plot.plot(x=\"ln_thousands_hours_worked_diff\", y=\"ln_gross_value_added_diff\", kind=\"scatter\")"
   ],
   "metadata": {
    "collapsed": false,
    "pycharm": {
     "name": "#%%\n"
    }
   }
  },
  {
   "cell_type": "code",
   "execution_count": 215,
   "outputs": [],
   "source": [],
   "metadata": {
    "collapsed": false,
    "pycharm": {
     "name": "#%%\n"
    }
   }
  },
  {
   "cell_type": "code",
   "execution_count": 236,
   "outputs": [
    {
     "data": {
      "text/plain": "<class 'statsmodels.iolib.summary.Summary'>\n\"\"\"\n                                OLS Regression Results                               \n=====================================================================================\nDep. Variable:     ln_gross_value_added_diff   R-squared:                       0.831\nModel:                                   OLS   Adj. R-squared:                  0.811\nMethod:                        Least Squares   F-statistic:                     41.80\nDate:                       Thu, 09 Dec 2021   Prob (F-statistic):           2.73e-07\nTime:                               22:15:08   Log-Likelihood:                 113.90\nNo. Observations:                         20   AIC:                            -221.8\nDf Residuals:                             17   BIC:                            -218.8\nDf Model:                                  2                                         \nCovariance Type:                   nonrobust                                         \n==================================================================================================\n                                     coef    std err          t      P>|t|      [0.025      0.975]\n--------------------------------------------------------------------------------------------------\nIntercept                       3.021e-05      0.000      0.076      0.940      -0.001       0.001\nln_thousands_hours_worked_diff     0.4561      0.107      4.258      0.001       0.230       0.682\nln_total_fixed_assets_diff         0.6736      0.170      3.951      0.001       0.314       1.033\n==============================================================================\nOmnibus:                        1.464   Durbin-Watson:                   1.393\nProb(Omnibus):                  0.481   Jarque-Bera (JB):                0.458\nSkew:                           0.336   Prob(JB):                        0.795\nKurtosis:                       3.312   Cond. No.                         938.\n==============================================================================\n\nNotes:\n[1] Standard Errors assume that the covariance matrix of the errors is correctly specified.\n\"\"\"",
      "text/html": "<table class=\"simpletable\">\n<caption>OLS Regression Results</caption>\n<tr>\n  <th>Dep. Variable:</th>    <td>ln_gross_value_added_diff</td> <th>  R-squared:         </th> <td>   0.831</td>\n</tr>\n<tr>\n  <th>Model:</th>                       <td>OLS</td>            <th>  Adj. R-squared:    </th> <td>   0.811</td>\n</tr>\n<tr>\n  <th>Method:</th>                 <td>Least Squares</td>       <th>  F-statistic:       </th> <td>   41.80</td>\n</tr>\n<tr>\n  <th>Date:</th>                 <td>Thu, 09 Dec 2021</td>      <th>  Prob (F-statistic):</th> <td>2.73e-07</td>\n</tr>\n<tr>\n  <th>Time:</th>                     <td>22:15:08</td>          <th>  Log-Likelihood:    </th> <td>  113.90</td>\n</tr>\n<tr>\n  <th>No. Observations:</th>          <td>    20</td>           <th>  AIC:               </th> <td>  -221.8</td>\n</tr>\n<tr>\n  <th>Df Residuals:</th>              <td>    17</td>           <th>  BIC:               </th> <td>  -218.8</td>\n</tr>\n<tr>\n  <th>Df Model:</th>                  <td>     2</td>           <th>                     </th>     <td> </td>   \n</tr>\n<tr>\n  <th>Covariance Type:</th>          <td>nonrobust</td>         <th>                     </th>     <td> </td>   \n</tr>\n</table>\n<table class=\"simpletable\">\n<tr>\n                 <td></td>                   <th>coef</th>     <th>std err</th>      <th>t</th>      <th>P>|t|</th>  <th>[0.025</th>    <th>0.975]</th>  \n</tr>\n<tr>\n  <th>Intercept</th>                      <td> 3.021e-05</td> <td>    0.000</td> <td>    0.076</td> <td> 0.940</td> <td>   -0.001</td> <td>    0.001</td>\n</tr>\n<tr>\n  <th>ln_thousands_hours_worked_diff</th> <td>    0.4561</td> <td>    0.107</td> <td>    4.258</td> <td> 0.001</td> <td>    0.230</td> <td>    0.682</td>\n</tr>\n<tr>\n  <th>ln_total_fixed_assets_diff</th>     <td>    0.6736</td> <td>    0.170</td> <td>    3.951</td> <td> 0.001</td> <td>    0.314</td> <td>    1.033</td>\n</tr>\n</table>\n<table class=\"simpletable\">\n<tr>\n  <th>Omnibus:</th>       <td> 1.464</td> <th>  Durbin-Watson:     </th> <td>   1.393</td>\n</tr>\n<tr>\n  <th>Prob(Omnibus):</th> <td> 0.481</td> <th>  Jarque-Bera (JB):  </th> <td>   0.458</td>\n</tr>\n<tr>\n  <th>Skew:</th>          <td> 0.336</td> <th>  Prob(JB):          </th> <td>   0.795</td>\n</tr>\n<tr>\n  <th>Kurtosis:</th>      <td> 3.312</td> <th>  Cond. No.          </th> <td>    938.</td>\n</tr>\n</table><br/><br/>Notes:<br/>[1] Standard Errors assume that the covariance matrix of the errors is correctly specified."
     },
     "execution_count": 236,
     "metadata": {},
     "output_type": "execute_result"
    }
   ],
   "source": [
    "data_plot = data[data[\"geo\\\\time\"] == \"CZ\"]\n",
    "\n",
    "data_plot = data_plot[data_plot[\"year\"] > 2000]\n",
    "\n",
    "mod = smf.ols(formula=\"ln_gross_value_added_diff ~ ln_thousands_hours_worked_diff + ln_total_fixed_assets_diff\", data=data_plot)\n",
    "res = mod.fit()\n",
    "res.summary()\n"
   ],
   "metadata": {
    "collapsed": false,
    "pycharm": {
     "name": "#%%\n"
    }
   }
  }
 ],
 "metadata": {
  "kernelspec": {
   "display_name": "Python 3 (ipykernel)",
   "language": "python",
   "name": "python3"
  },
  "language_info": {
   "codemirror_mode": {
    "name": "ipython",
    "version": 3
   },
   "file_extension": ".py",
   "mimetype": "text/x-python",
   "name": "python",
   "nbconvert_exporter": "python",
   "pygments_lexer": "ipython3",
   "version": "3.8.7"
  }
 },
 "nbformat": 4,
 "nbformat_minor": 1
}
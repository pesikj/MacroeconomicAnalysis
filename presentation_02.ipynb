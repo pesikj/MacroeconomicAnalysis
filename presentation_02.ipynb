{
 "cells": [
  {
   "cell_type": "markdown",
   "metadata": {
    "pycharm": {
     "name": "#%% md\n"
    }
   },
   "source": [
    "# Odhad CDPF\n",
    "\n",
    "## Cíl analýzy\n",
    "\n",
    "Cílem analýzy je odhad neoklasické agregátní CDPF.\n",
    "\n",
    "## Data a metoda\n",
    "\n",
    "Pro odhad byly použity následující hodnoty:\n",
    "\n",
    "- hrubá přidaná hodnota (Gross Value Added) (převedená na stálé ceny roku 2010 pomocí deflátoru HDP),\n",
    "- čistý fixní nefinanční kapitál (převedený na stálé ceny roku 2010 pomocí deflátoru kapitálových zásob),\n",
    "- celkový počet odpracovaných hodin."
   ]
  },
  {
   "cell_type": "code",
   "execution_count": 587,
   "metadata": {
    "pycharm": {
     "name": "#%%\n"
    }
   },
   "outputs": [],
   "source": [
    "import eurostat\n",
    "import pandas\n",
    "import statsmodels.formula.api as smf\n",
    "import statsmodels.tsa.stattools as ts\n",
    "import numpy\n",
    "import seaborn\n",
    "from statsmodels.tsa.stattools import adfuller\n",
    "import statsmodels.api as sm\n",
    "\n",
    "LOCATIONS = [\"AT\", \"BE\", \"CZ\", \"DE\", \"DK\", \"ES\", \"FR\", \"HU\", \"IT\", \"NL\", \"PL\", \"PT\", \"SK\", \"SI\"]\n",
    "BASE_LOCATION = \"FR\"\n",
    "START_YEAR = 1995\n",
    "END_YEAR = 2019"
   ]
  },
  {
   "cell_type": "markdown",
   "metadata": {
    "pycharm": {
     "name": "#%% md\n"
    }
   },
   "source": [
    "### Hrubá přidaná hodnota (Gross Value Added)\n",
    "\n",
    "Hrubá přidaná hodnota je načtena na základě kódu `nama_10_a10`."
   ]
  },
  {
   "cell_type": "code",
   "execution_count": 588,
   "metadata": {
    "pycharm": {
     "name": "#%%\n"
    }
   },
   "outputs": [],
   "source": [
    "data_1_es = eurostat.get_data_df('nama_10_a10')"
   ]
  },
  {
   "cell_type": "code",
   "execution_count": 589,
   "outputs": [
    {
     "data": {
      "text/plain": "     geo\\time  year  gross_value_added  employees_compensations  \\\n25         AT  1995       1.938137e+05            109894.441394   \n26         AT  1996       1.975044e+05            110344.986145   \n27         AT  1997       2.016516e+05            111310.653407   \n28         AT  1998       2.095363e+05            115226.919118   \n29         AT  1999       2.163266e+05            119202.922776   \n...       ...   ...                ...                      ...   \n1095       UK  2015       1.601774e+06            869804.277454   \n1096       UK  2016       1.628161e+06            885659.191675   \n1097       UK  2017       1.656569e+06            904613.035081   \n1098       UK  2018       1.678851e+06            921265.918459   \n1099       UK  2019       1.705599e+06            945865.943433   \n\n      gross_value_added_deflator  \n25                        81.945  \n26                        82.641  \n27                        83.363  \n28                        83.554  \n29                        83.756  \n...                          ...  \n1095                     106.886  \n1096                     109.164  \n1097                     111.315  \n1098                     113.783  \n1099                     116.145  \n\n[972 rows x 5 columns]",
      "text/html": "<div>\n<style scoped>\n    .dataframe tbody tr th:only-of-type {\n        vertical-align: middle;\n    }\n\n    .dataframe tbody tr th {\n        vertical-align: top;\n    }\n\n    .dataframe thead th {\n        text-align: right;\n    }\n</style>\n<table border=\"1\" class=\"dataframe\">\n  <thead>\n    <tr style=\"text-align: right;\">\n      <th></th>\n      <th>geo\\time</th>\n      <th>year</th>\n      <th>gross_value_added</th>\n      <th>employees_compensations</th>\n      <th>gross_value_added_deflator</th>\n    </tr>\n  </thead>\n  <tbody>\n    <tr>\n      <th>25</th>\n      <td>AT</td>\n      <td>1995</td>\n      <td>1.938137e+05</td>\n      <td>109894.441394</td>\n      <td>81.945</td>\n    </tr>\n    <tr>\n      <th>26</th>\n      <td>AT</td>\n      <td>1996</td>\n      <td>1.975044e+05</td>\n      <td>110344.986145</td>\n      <td>82.641</td>\n    </tr>\n    <tr>\n      <th>27</th>\n      <td>AT</td>\n      <td>1997</td>\n      <td>2.016516e+05</td>\n      <td>111310.653407</td>\n      <td>83.363</td>\n    </tr>\n    <tr>\n      <th>28</th>\n      <td>AT</td>\n      <td>1998</td>\n      <td>2.095363e+05</td>\n      <td>115226.919118</td>\n      <td>83.554</td>\n    </tr>\n    <tr>\n      <th>29</th>\n      <td>AT</td>\n      <td>1999</td>\n      <td>2.163266e+05</td>\n      <td>119202.922776</td>\n      <td>83.756</td>\n    </tr>\n    <tr>\n      <th>...</th>\n      <td>...</td>\n      <td>...</td>\n      <td>...</td>\n      <td>...</td>\n      <td>...</td>\n    </tr>\n    <tr>\n      <th>1095</th>\n      <td>UK</td>\n      <td>2015</td>\n      <td>1.601774e+06</td>\n      <td>869804.277454</td>\n      <td>106.886</td>\n    </tr>\n    <tr>\n      <th>1096</th>\n      <td>UK</td>\n      <td>2016</td>\n      <td>1.628161e+06</td>\n      <td>885659.191675</td>\n      <td>109.164</td>\n    </tr>\n    <tr>\n      <th>1097</th>\n      <td>UK</td>\n      <td>2017</td>\n      <td>1.656569e+06</td>\n      <td>904613.035081</td>\n      <td>111.315</td>\n    </tr>\n    <tr>\n      <th>1098</th>\n      <td>UK</td>\n      <td>2018</td>\n      <td>1.678851e+06</td>\n      <td>921265.918459</td>\n      <td>113.783</td>\n    </tr>\n    <tr>\n      <th>1099</th>\n      <td>UK</td>\n      <td>2019</td>\n      <td>1.705599e+06</td>\n      <td>945865.943433</td>\n      <td>116.145</td>\n    </tr>\n  </tbody>\n</table>\n<p>972 rows × 5 columns</p>\n</div>"
     },
     "execution_count": 589,
     "metadata": {},
     "output_type": "execute_result"
    }
   ],
   "source": [
    "data_1 = data_1_es\n",
    "# Value added, gross\n",
    "data_1 = data_1[data_1[\"na_item\"].isin([\"B1G\", \"D1\"])]\n",
    "# Total, all NACE activities\n",
    "data_1 = data_1[data_1[\"nace_r2\"] == \"TOTAL\"]\n",
    "# Current prices, million euro\n",
    "data_1 = data_1[data_1[\"unit\"].isin([\"CP_MNAC\", \"PD10_NAC\"])]\n",
    "data_1 = pandas.melt(data_1, id_vars=[\"unit\", \"na_item\", \"geo\\\\time\"], value_vars=list(range(START_YEAR, END_YEAR + 1)),\n",
    "                     value_name=\"value\", var_name=\"year\")\n",
    "data_1 = data_1.pivot(index=[\"geo\\\\time\", \"year\"], columns=[\"unit\", \"na_item\"], values=\"value\")\n",
    "data_1.columns = ['_'.join(col) for col in data_1.columns.values]\n",
    "data_1 = data_1.reset_index()\n",
    "data_1 = data_1.rename({\"CP_MNAC_B1G\": \"gross_value_added\", \"CP_MNAC_D1\": \"employees_compensations\",\n",
    "                        \"PD10_NAC_B1G\": \"gross_value_added_deflator\"}, axis=1)\n",
    "data_1[\"gross_value_added\"] = data_1[\"gross_value_added\"] / (data_1[\"gross_value_added_deflator\"] / 100)\n",
    "data_1[\"employees_compensations\"] = data_1[\"employees_compensations\"] / (data_1[\"gross_value_added_deflator\"] / 100)\n",
    "data_1 = data_1.dropna()\n",
    "data_1"
   ],
   "metadata": {
    "collapsed": false,
    "pycharm": {
     "name": "#%%\n"
    }
   }
  },
  {
   "cell_type": "markdown",
   "metadata": {},
   "source": [
    "Pro data provedeme logaritmizaci a určíme hodnoty diferencí."
   ]
  },
  {
   "cell_type": "code",
   "execution_count": 590,
   "metadata": {},
   "outputs": [
    {
     "data": {
      "text/plain": "     geo\\time  year  gross_value_added  employees_compensations  \\\n25         AT  1995       1.938137e+05            109894.441394   \n26         AT  1996       1.975044e+05            110344.986145   \n27         AT  1997       2.016516e+05            111310.653407   \n28         AT  1998       2.095363e+05            115226.919118   \n29         AT  1999       2.163266e+05            119202.922776   \n...       ...   ...                ...                      ...   \n1095       UK  2015       1.601774e+06            869804.277454   \n1096       UK  2016       1.628161e+06            885659.191675   \n1097       UK  2017       1.656569e+06            904613.035081   \n1098       UK  2018       1.678851e+06            921265.918459   \n1099       UK  2019       1.705599e+06            945865.943433   \n\n      gross_value_added_deflator  ln_gross_value_added  \\\n25                        81.945             12.174652   \n26                        82.641             12.193516   \n27                        83.363             12.214297   \n28                        83.554             12.252653   \n29                        83.756             12.284545   \n...                          ...                   ...   \n1095                     106.886             14.286622   \n1096                     109.164             14.302962   \n1097                     111.315             14.320259   \n1098                     113.783             14.333620   \n1099                     116.145             14.349427   \n\n      ln_employees_compensations  ln_gross_value_added_t_minus_1  \\\n25                     11.607276                             NaN   \n26                     11.611367                       12.174652   \n27                     11.620080                       12.193516   \n28                     11.654659                       12.214297   \n29                     11.688583                       12.252653   \n...                          ...                             ...   \n1095                   13.676023                       14.264811   \n1096                   13.694087                       14.286622   \n1097                   13.715263                       14.302962   \n1098                   13.733504                       14.320259   \n1099                   13.759856                       14.333620   \n\n      ln_employees_compensations_t_minus_1  ln_gross_value_added_diff  \\\n25                                     NaN                        NaN   \n26                               11.607276                   0.018864   \n27                               11.611367                   0.020781   \n28                               11.620080                   0.038356   \n29                               11.654659                   0.031892   \n...                                    ...                        ...   \n1095                             13.655964                   0.021811   \n1096                             13.676023                   0.016340   \n1097                             13.694087                   0.017297   \n1098                             13.715263                   0.013361   \n1099                             13.733504                   0.015807   \n\n      ln_employees_compensations_diff  ln_gross_value_added_diff_perc  \n25                                NaN                             NaN  \n26                           0.004091                        0.001547  \n27                           0.008713                        0.001701  \n28                           0.034578                        0.003130  \n29                           0.033924                        0.002596  \n...                               ...                             ...  \n1095                         0.020059                        0.001527  \n1096                         0.018064                        0.001142  \n1097                         0.021175                        0.001208  \n1098                         0.018241                        0.000932  \n1099                         0.026352                        0.001102  \n\n[972 rows x 12 columns]",
      "text/html": "<div>\n<style scoped>\n    .dataframe tbody tr th:only-of-type {\n        vertical-align: middle;\n    }\n\n    .dataframe tbody tr th {\n        vertical-align: top;\n    }\n\n    .dataframe thead th {\n        text-align: right;\n    }\n</style>\n<table border=\"1\" class=\"dataframe\">\n  <thead>\n    <tr style=\"text-align: right;\">\n      <th></th>\n      <th>geo\\time</th>\n      <th>year</th>\n      <th>gross_value_added</th>\n      <th>employees_compensations</th>\n      <th>gross_value_added_deflator</th>\n      <th>ln_gross_value_added</th>\n      <th>ln_employees_compensations</th>\n      <th>ln_gross_value_added_t_minus_1</th>\n      <th>ln_employees_compensations_t_minus_1</th>\n      <th>ln_gross_value_added_diff</th>\n      <th>ln_employees_compensations_diff</th>\n      <th>ln_gross_value_added_diff_perc</th>\n    </tr>\n  </thead>\n  <tbody>\n    <tr>\n      <th>25</th>\n      <td>AT</td>\n      <td>1995</td>\n      <td>1.938137e+05</td>\n      <td>109894.441394</td>\n      <td>81.945</td>\n      <td>12.174652</td>\n      <td>11.607276</td>\n      <td>NaN</td>\n      <td>NaN</td>\n      <td>NaN</td>\n      <td>NaN</td>\n      <td>NaN</td>\n    </tr>\n    <tr>\n      <th>26</th>\n      <td>AT</td>\n      <td>1996</td>\n      <td>1.975044e+05</td>\n      <td>110344.986145</td>\n      <td>82.641</td>\n      <td>12.193516</td>\n      <td>11.611367</td>\n      <td>12.174652</td>\n      <td>11.607276</td>\n      <td>0.018864</td>\n      <td>0.004091</td>\n      <td>0.001547</td>\n    </tr>\n    <tr>\n      <th>27</th>\n      <td>AT</td>\n      <td>1997</td>\n      <td>2.016516e+05</td>\n      <td>111310.653407</td>\n      <td>83.363</td>\n      <td>12.214297</td>\n      <td>11.620080</td>\n      <td>12.193516</td>\n      <td>11.611367</td>\n      <td>0.020781</td>\n      <td>0.008713</td>\n      <td>0.001701</td>\n    </tr>\n    <tr>\n      <th>28</th>\n      <td>AT</td>\n      <td>1998</td>\n      <td>2.095363e+05</td>\n      <td>115226.919118</td>\n      <td>83.554</td>\n      <td>12.252653</td>\n      <td>11.654659</td>\n      <td>12.214297</td>\n      <td>11.620080</td>\n      <td>0.038356</td>\n      <td>0.034578</td>\n      <td>0.003130</td>\n    </tr>\n    <tr>\n      <th>29</th>\n      <td>AT</td>\n      <td>1999</td>\n      <td>2.163266e+05</td>\n      <td>119202.922776</td>\n      <td>83.756</td>\n      <td>12.284545</td>\n      <td>11.688583</td>\n      <td>12.252653</td>\n      <td>11.654659</td>\n      <td>0.031892</td>\n      <td>0.033924</td>\n      <td>0.002596</td>\n    </tr>\n    <tr>\n      <th>...</th>\n      <td>...</td>\n      <td>...</td>\n      <td>...</td>\n      <td>...</td>\n      <td>...</td>\n      <td>...</td>\n      <td>...</td>\n      <td>...</td>\n      <td>...</td>\n      <td>...</td>\n      <td>...</td>\n      <td>...</td>\n    </tr>\n    <tr>\n      <th>1095</th>\n      <td>UK</td>\n      <td>2015</td>\n      <td>1.601774e+06</td>\n      <td>869804.277454</td>\n      <td>106.886</td>\n      <td>14.286622</td>\n      <td>13.676023</td>\n      <td>14.264811</td>\n      <td>13.655964</td>\n      <td>0.021811</td>\n      <td>0.020059</td>\n      <td>0.001527</td>\n    </tr>\n    <tr>\n      <th>1096</th>\n      <td>UK</td>\n      <td>2016</td>\n      <td>1.628161e+06</td>\n      <td>885659.191675</td>\n      <td>109.164</td>\n      <td>14.302962</td>\n      <td>13.694087</td>\n      <td>14.286622</td>\n      <td>13.676023</td>\n      <td>0.016340</td>\n      <td>0.018064</td>\n      <td>0.001142</td>\n    </tr>\n    <tr>\n      <th>1097</th>\n      <td>UK</td>\n      <td>2017</td>\n      <td>1.656569e+06</td>\n      <td>904613.035081</td>\n      <td>111.315</td>\n      <td>14.320259</td>\n      <td>13.715263</td>\n      <td>14.302962</td>\n      <td>13.694087</td>\n      <td>0.017297</td>\n      <td>0.021175</td>\n      <td>0.001208</td>\n    </tr>\n    <tr>\n      <th>1098</th>\n      <td>UK</td>\n      <td>2018</td>\n      <td>1.678851e+06</td>\n      <td>921265.918459</td>\n      <td>113.783</td>\n      <td>14.333620</td>\n      <td>13.733504</td>\n      <td>14.320259</td>\n      <td>13.715263</td>\n      <td>0.013361</td>\n      <td>0.018241</td>\n      <td>0.000932</td>\n    </tr>\n    <tr>\n      <th>1099</th>\n      <td>UK</td>\n      <td>2019</td>\n      <td>1.705599e+06</td>\n      <td>945865.943433</td>\n      <td>116.145</td>\n      <td>14.349427</td>\n      <td>13.759856</td>\n      <td>14.333620</td>\n      <td>13.733504</td>\n      <td>0.015807</td>\n      <td>0.026352</td>\n      <td>0.001102</td>\n    </tr>\n  </tbody>\n</table>\n<p>972 rows × 12 columns</p>\n</div>"
     },
     "execution_count": 590,
     "metadata": {},
     "output_type": "execute_result"
    }
   ],
   "source": [
    "data_1 = data_1.sort_values([\"geo\\\\time\", \"year\"])\n",
    "data_1[\"ln_gross_value_added\"] = numpy.log(data_1[\"gross_value_added\"])\n",
    "data_1[\"ln_employees_compensations\"] = numpy.log(data_1[\"employees_compensations\"])\n",
    "data_1[\"ln_gross_value_added_t_minus_1\"] = data_1.groupby(\"geo\\\\time\")[\"ln_gross_value_added\"].shift(1)\n",
    "data_1[\"ln_employees_compensations_t_minus_1\"] = data_1.groupby(\"geo\\\\time\")[\"ln_employees_compensations\"].shift(1)\n",
    "data_1[\"ln_gross_value_added_diff\"] = data_1[\"ln_gross_value_added\"] - data_1[\"ln_gross_value_added_t_minus_1\"]\n",
    "data_1[\"ln_employees_compensations_diff\"] = data_1[\"ln_employees_compensations\"] - data_1[\"ln_employees_compensations_t_minus_1\"]\n",
    "data_1[\"ln_gross_value_added_diff_perc\"] = (data_1[\"ln_gross_value_added\"] - data_1[\"ln_gross_value_added_t_minus_1\"]) / data_1[\"ln_gross_value_added\"]\n",
    "data_1"
   ]
  },
  {
   "cell_type": "markdown",
   "metadata": {},
   "source": [
    "Dále načteme informace o odpracovaných hodinách, které mají kód `nama_10_a10_e`."
   ]
  },
  {
   "cell_type": "code",
   "execution_count": 591,
   "metadata": {},
   "outputs": [],
   "source": [
    "data_2_es = eurostat.get_data_df('nama_10_a10_e')"
   ]
  },
  {
   "cell_type": "code",
   "execution_count": 592,
   "outputs": [
    {
     "data": {
      "text/plain": "    geo\\time  year  ln_thousands_hours_worked  ln_thousands_hours_worked_diff  \\\n0         AT  1995                  15.666346                             NaN   \n39        AT  1996                  15.688559                        0.022213   \n78        AT  1997                  15.700493                        0.011934   \n117       AT  1998                  15.698566                       -0.001927   \n156       AT  1999                  15.715818                        0.017252   \n..       ...   ...                        ...                             ...   \n817       UK  2015                  17.763948                        0.006727   \n856       UK  2016                  17.787589                        0.023640   \n895       UK  2017                  17.796454                        0.008865   \n934       UK  2018                  17.805025                        0.008571   \n973       UK  2019                  17.818270                        0.013245   \n\n     ln_thousands_hours_worked  ln_thousands_hours_worked_diff_perc  \n0                    15.666346                                  NaN  \n39                   15.688559                             0.001416  \n78                   15.700493                             0.000760  \n117                  15.698566                            -0.000123  \n156                  15.715818                             0.001098  \n..                         ...                                  ...  \n817                  17.763948                             0.000379  \n856                  17.787589                             0.001329  \n895                  17.796454                             0.000498  \n934                  17.805025                             0.000481  \n973                  17.818270                             0.000743  \n\n[907 rows x 6 columns]",
      "text/html": "<div>\n<style scoped>\n    .dataframe tbody tr th:only-of-type {\n        vertical-align: middle;\n    }\n\n    .dataframe tbody tr th {\n        vertical-align: top;\n    }\n\n    .dataframe thead th {\n        text-align: right;\n    }\n</style>\n<table border=\"1\" class=\"dataframe\">\n  <thead>\n    <tr style=\"text-align: right;\">\n      <th></th>\n      <th>geo\\time</th>\n      <th>year</th>\n      <th>ln_thousands_hours_worked</th>\n      <th>ln_thousands_hours_worked_diff</th>\n      <th>ln_thousands_hours_worked</th>\n      <th>ln_thousands_hours_worked_diff_perc</th>\n    </tr>\n  </thead>\n  <tbody>\n    <tr>\n      <th>0</th>\n      <td>AT</td>\n      <td>1995</td>\n      <td>15.666346</td>\n      <td>NaN</td>\n      <td>15.666346</td>\n      <td>NaN</td>\n    </tr>\n    <tr>\n      <th>39</th>\n      <td>AT</td>\n      <td>1996</td>\n      <td>15.688559</td>\n      <td>0.022213</td>\n      <td>15.688559</td>\n      <td>0.001416</td>\n    </tr>\n    <tr>\n      <th>78</th>\n      <td>AT</td>\n      <td>1997</td>\n      <td>15.700493</td>\n      <td>0.011934</td>\n      <td>15.700493</td>\n      <td>0.000760</td>\n    </tr>\n    <tr>\n      <th>117</th>\n      <td>AT</td>\n      <td>1998</td>\n      <td>15.698566</td>\n      <td>-0.001927</td>\n      <td>15.698566</td>\n      <td>-0.000123</td>\n    </tr>\n    <tr>\n      <th>156</th>\n      <td>AT</td>\n      <td>1999</td>\n      <td>15.715818</td>\n      <td>0.017252</td>\n      <td>15.715818</td>\n      <td>0.001098</td>\n    </tr>\n    <tr>\n      <th>...</th>\n      <td>...</td>\n      <td>...</td>\n      <td>...</td>\n      <td>...</td>\n      <td>...</td>\n      <td>...</td>\n    </tr>\n    <tr>\n      <th>817</th>\n      <td>UK</td>\n      <td>2015</td>\n      <td>17.763948</td>\n      <td>0.006727</td>\n      <td>17.763948</td>\n      <td>0.000379</td>\n    </tr>\n    <tr>\n      <th>856</th>\n      <td>UK</td>\n      <td>2016</td>\n      <td>17.787589</td>\n      <td>0.023640</td>\n      <td>17.787589</td>\n      <td>0.001329</td>\n    </tr>\n    <tr>\n      <th>895</th>\n      <td>UK</td>\n      <td>2017</td>\n      <td>17.796454</td>\n      <td>0.008865</td>\n      <td>17.796454</td>\n      <td>0.000498</td>\n    </tr>\n    <tr>\n      <th>934</th>\n      <td>UK</td>\n      <td>2018</td>\n      <td>17.805025</td>\n      <td>0.008571</td>\n      <td>17.805025</td>\n      <td>0.000481</td>\n    </tr>\n    <tr>\n      <th>973</th>\n      <td>UK</td>\n      <td>2019</td>\n      <td>17.818270</td>\n      <td>0.013245</td>\n      <td>17.818270</td>\n      <td>0.000743</td>\n    </tr>\n  </tbody>\n</table>\n<p>907 rows × 6 columns</p>\n</div>"
     },
     "execution_count": 592,
     "metadata": {},
     "output_type": "execute_result"
    }
   ],
   "source": [
    "data_2 = data_2_es\n",
    "# Total employment domestic concept\n",
    "data_2 = data_2[data_2[\"na_item\"] == \"EMP_DC\"]\n",
    "# Total, all NACE activities\n",
    "data_2 = data_2[data_2[\"nace_r2\"] == \"TOTAL\"]\n",
    "# Thousands hours worked\n",
    "data_2 = data_2[data_2[\"unit\"] == \"THS_HW\"]\n",
    "data_2 = pandas.melt(data_2, id_vars=[\"unit\", \"na_item\", \"geo\\\\time\"], value_vars=list(range(START_YEAR, END_YEAR + 1)),\n",
    "                    value_name=\"thousands_hours_worked\", var_name=\"year\")\n",
    "data_2 = data_2.sort_values([\"geo\\\\time\", \"year\"])\n",
    "data_2 = data_2.dropna()\n",
    "data_2[\"ln_thousands_hours_worked\"] = numpy.log(data_2[\"thousands_hours_worked\"])\n",
    "data_2[\"ln_thousands_hours_worked_t_minus_1\"] = data_2.groupby(\"geo\\\\time\")[\"ln_thousands_hours_worked\"].shift(1)\n",
    "data_2[\"ln_thousands_hours_worked_diff\"] = data_2[\"ln_thousands_hours_worked\"] - data_2[\"ln_thousands_hours_worked_t_minus_1\"]\n",
    "data_2[\"ln_thousands_hours_worked_diff_perc\"] = (data_2[\"ln_thousands_hours_worked\"] - data_2[\"ln_thousands_hours_worked_t_minus_1\"]) / data_2[\"ln_thousands_hours_worked\"]\n",
    "data_2 = data_2[[\"geo\\\\time\", \"year\", \"ln_thousands_hours_worked\", \"ln_thousands_hours_worked_diff\", \"ln_thousands_hours_worked\", \"ln_thousands_hours_worked_diff_perc\"]]\n",
    "data_2"
   ],
   "metadata": {
    "collapsed": false,
    "pycharm": {
     "name": "#%%\n"
    }
   }
  },
  {
   "cell_type": "markdown",
   "metadata": {},
   "source": [
    "Jako předposlední krok je načten čistý fixní nefinanční kapitál, který má kód `nama_10_nfa_bs`."
   ]
  },
  {
   "cell_type": "code",
   "execution_count": 593,
   "metadata": {
    "pycharm": {
     "name": "#%%\n"
    }
   },
   "outputs": [],
   "source": [
    "data_3_es = eurostat.get_data_df('nama_10_nfa_bs')"
   ]
  },
  {
   "cell_type": "code",
   "execution_count": 594,
   "outputs": [
    {
     "data": {
      "text/plain": "        unit asset10 geo\\time  year  total_fixed_assets\n0    CP_MNAC    N11N       AT  1995            630857.8\n29   CP_MNAC    N11N       AT  1996            659084.4\n58   CP_MNAC    N11N       AT  1997            686219.3\n87   CP_MNAC    N11N       AT  1998            710697.9\n116  CP_MNAC    N11N       AT  1999            737295.8\n..       ...     ...      ...   ...                 ...\n608  CP_MNAC    N11N       UK  2015           3858861.0\n637  CP_MNAC    N11N       UK  2016           4035923.0\n666  CP_MNAC    N11N       UK  2017           4241207.0\n695  CP_MNAC    N11N       UK  2018           4450882.0\n724  CP_MNAC    N11N       UK  2019           4621749.0\n\n[684 rows x 5 columns]",
      "text/html": "<div>\n<style scoped>\n    .dataframe tbody tr th:only-of-type {\n        vertical-align: middle;\n    }\n\n    .dataframe tbody tr th {\n        vertical-align: top;\n    }\n\n    .dataframe thead th {\n        text-align: right;\n    }\n</style>\n<table border=\"1\" class=\"dataframe\">\n  <thead>\n    <tr style=\"text-align: right;\">\n      <th></th>\n      <th>unit</th>\n      <th>asset10</th>\n      <th>geo\\time</th>\n      <th>year</th>\n      <th>total_fixed_assets</th>\n    </tr>\n  </thead>\n  <tbody>\n    <tr>\n      <th>0</th>\n      <td>CP_MNAC</td>\n      <td>N11N</td>\n      <td>AT</td>\n      <td>1995</td>\n      <td>630857.8</td>\n    </tr>\n    <tr>\n      <th>29</th>\n      <td>CP_MNAC</td>\n      <td>N11N</td>\n      <td>AT</td>\n      <td>1996</td>\n      <td>659084.4</td>\n    </tr>\n    <tr>\n      <th>58</th>\n      <td>CP_MNAC</td>\n      <td>N11N</td>\n      <td>AT</td>\n      <td>1997</td>\n      <td>686219.3</td>\n    </tr>\n    <tr>\n      <th>87</th>\n      <td>CP_MNAC</td>\n      <td>N11N</td>\n      <td>AT</td>\n      <td>1998</td>\n      <td>710697.9</td>\n    </tr>\n    <tr>\n      <th>116</th>\n      <td>CP_MNAC</td>\n      <td>N11N</td>\n      <td>AT</td>\n      <td>1999</td>\n      <td>737295.8</td>\n    </tr>\n    <tr>\n      <th>...</th>\n      <td>...</td>\n      <td>...</td>\n      <td>...</td>\n      <td>...</td>\n      <td>...</td>\n    </tr>\n    <tr>\n      <th>608</th>\n      <td>CP_MNAC</td>\n      <td>N11N</td>\n      <td>UK</td>\n      <td>2015</td>\n      <td>3858861.0</td>\n    </tr>\n    <tr>\n      <th>637</th>\n      <td>CP_MNAC</td>\n      <td>N11N</td>\n      <td>UK</td>\n      <td>2016</td>\n      <td>4035923.0</td>\n    </tr>\n    <tr>\n      <th>666</th>\n      <td>CP_MNAC</td>\n      <td>N11N</td>\n      <td>UK</td>\n      <td>2017</td>\n      <td>4241207.0</td>\n    </tr>\n    <tr>\n      <th>695</th>\n      <td>CP_MNAC</td>\n      <td>N11N</td>\n      <td>UK</td>\n      <td>2018</td>\n      <td>4450882.0</td>\n    </tr>\n    <tr>\n      <th>724</th>\n      <td>CP_MNAC</td>\n      <td>N11N</td>\n      <td>UK</td>\n      <td>2019</td>\n      <td>4621749.0</td>\n    </tr>\n  </tbody>\n</table>\n<p>684 rows × 5 columns</p>\n</div>"
     },
     "execution_count": 594,
     "metadata": {},
     "output_type": "execute_result"
    }
   ],
   "source": [
    "data_3 = data_3_es\n",
    "data_3 = eurostat.get_data_df('nama_10_nfa_bs')\n",
    "# Total fixed assets (net)\n",
    "data_3 = data_3[data_3[\"asset10\"] == \"N11N\"]\n",
    "# Total, all activities\n",
    "data_3 = data_3[data_3[\"sector\"] == \"S1\"]\n",
    "# Current fixed prices, millions of national currency\n",
    "data_3 = data_3[data_3[\"unit\"] == \"CP_MNAC\"]\n",
    "data_3 = pandas.melt(data_3, id_vars=[\"unit\", \"asset10\", \"geo\\\\time\"], value_vars=list(range(START_YEAR, END_YEAR + 1)),\n",
    "                    value_name=\"total_fixed_assets\", var_name=\"year\")\n",
    "data_3 = data_3.sort_values([\"geo\\\\time\", \"year\"])\n",
    "data_3 = data_3.dropna()\n",
    "data_3"
   ],
   "metadata": {
    "collapsed": false,
    "pycharm": {
     "name": "#%%\n"
    }
   }
  },
  {
   "cell_type": "markdown",
   "metadata": {},
   "source": [
    "V posledním kroku je načten deflátor kapitálových zásob, který má kód `nama_10_nfa_fl`."
   ]
  },
  {
   "cell_type": "code",
   "execution_count": 595,
   "metadata": {
    "pycharm": {
     "name": "#%%\n"
    }
   },
   "outputs": [],
   "source": [
    "data_4_es = eurostat.get_data_df('nama_10_nfa_fl')"
   ]
  },
  {
   "cell_type": "code",
   "execution_count": 596,
   "outputs": [
    {
     "data": {
      "text/plain": "         unit asset10 geo\\time  year  capital_stock_deflator\n0    PD10_NAC    N11G       AT  1995                  79.960\n32   PD10_NAC    N11G       AT  1996                  80.723\n64   PD10_NAC    N11G       AT  1997                  81.648\n96   PD10_NAC    N11G       AT  1998                  82.293\n128  PD10_NAC    N11G       AT  1999                  82.710\n..        ...     ...      ...   ...                     ...\n671  PD10_NAC    N11G       UK  2015                 109.387\n703  PD10_NAC    N11G       UK  2016                 111.824\n735  PD10_NAC    N11G       UK  2017                 114.704\n767  PD10_NAC    N11G       UK  2018                 117.000\n799  PD10_NAC    N11G       UK  2019                 120.743\n\n[776 rows x 5 columns]",
      "text/html": "<div>\n<style scoped>\n    .dataframe tbody tr th:only-of-type {\n        vertical-align: middle;\n    }\n\n    .dataframe tbody tr th {\n        vertical-align: top;\n    }\n\n    .dataframe thead th {\n        text-align: right;\n    }\n</style>\n<table border=\"1\" class=\"dataframe\">\n  <thead>\n    <tr style=\"text-align: right;\">\n      <th></th>\n      <th>unit</th>\n      <th>asset10</th>\n      <th>geo\\time</th>\n      <th>year</th>\n      <th>capital_stock_deflator</th>\n    </tr>\n  </thead>\n  <tbody>\n    <tr>\n      <th>0</th>\n      <td>PD10_NAC</td>\n      <td>N11G</td>\n      <td>AT</td>\n      <td>1995</td>\n      <td>79.960</td>\n    </tr>\n    <tr>\n      <th>32</th>\n      <td>PD10_NAC</td>\n      <td>N11G</td>\n      <td>AT</td>\n      <td>1996</td>\n      <td>80.723</td>\n    </tr>\n    <tr>\n      <th>64</th>\n      <td>PD10_NAC</td>\n      <td>N11G</td>\n      <td>AT</td>\n      <td>1997</td>\n      <td>81.648</td>\n    </tr>\n    <tr>\n      <th>96</th>\n      <td>PD10_NAC</td>\n      <td>N11G</td>\n      <td>AT</td>\n      <td>1998</td>\n      <td>82.293</td>\n    </tr>\n    <tr>\n      <th>128</th>\n      <td>PD10_NAC</td>\n      <td>N11G</td>\n      <td>AT</td>\n      <td>1999</td>\n      <td>82.710</td>\n    </tr>\n    <tr>\n      <th>...</th>\n      <td>...</td>\n      <td>...</td>\n      <td>...</td>\n      <td>...</td>\n      <td>...</td>\n    </tr>\n    <tr>\n      <th>671</th>\n      <td>PD10_NAC</td>\n      <td>N11G</td>\n      <td>UK</td>\n      <td>2015</td>\n      <td>109.387</td>\n    </tr>\n    <tr>\n      <th>703</th>\n      <td>PD10_NAC</td>\n      <td>N11G</td>\n      <td>UK</td>\n      <td>2016</td>\n      <td>111.824</td>\n    </tr>\n    <tr>\n      <th>735</th>\n      <td>PD10_NAC</td>\n      <td>N11G</td>\n      <td>UK</td>\n      <td>2017</td>\n      <td>114.704</td>\n    </tr>\n    <tr>\n      <th>767</th>\n      <td>PD10_NAC</td>\n      <td>N11G</td>\n      <td>UK</td>\n      <td>2018</td>\n      <td>117.000</td>\n    </tr>\n    <tr>\n      <th>799</th>\n      <td>PD10_NAC</td>\n      <td>N11G</td>\n      <td>UK</td>\n      <td>2019</td>\n      <td>120.743</td>\n    </tr>\n  </tbody>\n</table>\n<p>776 rows × 5 columns</p>\n</div>"
     },
     "execution_count": 596,
     "metadata": {},
     "output_type": "execute_result"
    }
   ],
   "source": [
    "data_4 = data_4_es\n",
    "data_4 = data_4[data_4[\"asset10\"] == \"N11G\"]\n",
    "data_4 = data_4[data_4[\"nace_r2\"] == \"TOTAL\"]\n",
    "data_4 = data_4[data_4[\"unit\"] == \"PD10_NAC\"]\n",
    "data_4 = pandas.melt(data_4, id_vars=[\"unit\", \"asset10\", \"geo\\\\time\"], value_vars=list(range(START_YEAR, END_YEAR + 1)),\n",
    "                    value_name=\"capital_stock_deflator\", var_name=\"year\")\n",
    "data_4 = data_4.sort_values([\"geo\\\\time\", \"year\"])\n",
    "data_4 = data_4.dropna()\n",
    "data_4"
   ],
   "metadata": {
    "collapsed": false,
    "pycharm": {
     "name": "#%%\n"
    }
   }
  },
  {
   "cell_type": "markdown",
   "metadata": {},
   "source": [
    "Hodnota kapitálu je nyní převedena na stálé ceny roku 2010."
   ]
  },
  {
   "cell_type": "code",
   "execution_count": 597,
   "metadata": {
    "pycharm": {
     "name": "#%%\n"
    }
   },
   "outputs": [
    {
     "data": {
      "text/plain": "    geo\\time  year  ln_total_fixed_assets  ln_total_fixed_assets_diff  \\\n0         AT  1995               8.973309                         NaN   \n1         AT  1996               9.007583                    0.034274   \n2         AT  1997               9.036535                    0.028952   \n3         AT  1998               9.063717                    0.027181   \n4         AT  1999               9.095404                    0.031687   \n..       ...   ...                    ...                         ...   \n673       UK  2015              10.470991                    0.011359   \n674       UK  2016              10.493819                    0.022829   \n675       UK  2017              10.518004                    0.024184   \n676       UK  2018              10.546439                    0.028435   \n677       UK  2019              10.552619                    0.006181   \n\n     ln_total_fixed_assets_diff_perc  \n0                                NaN  \n1                           0.003805  \n2                           0.003204  \n3                           0.002999  \n4                           0.003484  \n..                               ...  \n673                         0.001085  \n674                         0.002175  \n675                         0.002299  \n676                         0.002696  \n677                         0.000586  \n\n[678 rows x 5 columns]",
      "text/html": "<div>\n<style scoped>\n    .dataframe tbody tr th:only-of-type {\n        vertical-align: middle;\n    }\n\n    .dataframe tbody tr th {\n        vertical-align: top;\n    }\n\n    .dataframe thead th {\n        text-align: right;\n    }\n</style>\n<table border=\"1\" class=\"dataframe\">\n  <thead>\n    <tr style=\"text-align: right;\">\n      <th></th>\n      <th>geo\\time</th>\n      <th>year</th>\n      <th>ln_total_fixed_assets</th>\n      <th>ln_total_fixed_assets_diff</th>\n      <th>ln_total_fixed_assets_diff_perc</th>\n    </tr>\n  </thead>\n  <tbody>\n    <tr>\n      <th>0</th>\n      <td>AT</td>\n      <td>1995</td>\n      <td>8.973309</td>\n      <td>NaN</td>\n      <td>NaN</td>\n    </tr>\n    <tr>\n      <th>1</th>\n      <td>AT</td>\n      <td>1996</td>\n      <td>9.007583</td>\n      <td>0.034274</td>\n      <td>0.003805</td>\n    </tr>\n    <tr>\n      <th>2</th>\n      <td>AT</td>\n      <td>1997</td>\n      <td>9.036535</td>\n      <td>0.028952</td>\n      <td>0.003204</td>\n    </tr>\n    <tr>\n      <th>3</th>\n      <td>AT</td>\n      <td>1998</td>\n      <td>9.063717</td>\n      <td>0.027181</td>\n      <td>0.002999</td>\n    </tr>\n    <tr>\n      <th>4</th>\n      <td>AT</td>\n      <td>1999</td>\n      <td>9.095404</td>\n      <td>0.031687</td>\n      <td>0.003484</td>\n    </tr>\n    <tr>\n      <th>...</th>\n      <td>...</td>\n      <td>...</td>\n      <td>...</td>\n      <td>...</td>\n      <td>...</td>\n    </tr>\n    <tr>\n      <th>673</th>\n      <td>UK</td>\n      <td>2015</td>\n      <td>10.470991</td>\n      <td>0.011359</td>\n      <td>0.001085</td>\n    </tr>\n    <tr>\n      <th>674</th>\n      <td>UK</td>\n      <td>2016</td>\n      <td>10.493819</td>\n      <td>0.022829</td>\n      <td>0.002175</td>\n    </tr>\n    <tr>\n      <th>675</th>\n      <td>UK</td>\n      <td>2017</td>\n      <td>10.518004</td>\n      <td>0.024184</td>\n      <td>0.002299</td>\n    </tr>\n    <tr>\n      <th>676</th>\n      <td>UK</td>\n      <td>2018</td>\n      <td>10.546439</td>\n      <td>0.028435</td>\n      <td>0.002696</td>\n    </tr>\n    <tr>\n      <th>677</th>\n      <td>UK</td>\n      <td>2019</td>\n      <td>10.552619</td>\n      <td>0.006181</td>\n      <td>0.000586</td>\n    </tr>\n  </tbody>\n</table>\n<p>678 rows × 5 columns</p>\n</div>"
     },
     "execution_count": 597,
     "metadata": {},
     "output_type": "execute_result"
    }
   ],
   "source": [
    "data_3 = data_3.merge(data_4, on=[\"geo\\\\time\", \"year\"])\n",
    "data_3[\"total_fixed_assets\"] = data_3[\"total_fixed_assets\"] / data_3[\"capital_stock_deflator\"]\n",
    "data_3[\"ln_total_fixed_assets\"] = numpy.log(data_3[\"total_fixed_assets\"])\n",
    "data_3[\"ln_total_fixed_assets_t_minus_1\"] = data_3.groupby(\"geo\\\\time\")[\"ln_total_fixed_assets\"].shift(1)\n",
    "data_3[\"ln_total_fixed_assets_diff\"] = data_3[\"ln_total_fixed_assets\"] - data_3[\"ln_total_fixed_assets_t_minus_1\"]\n",
    "data_3[\"ln_total_fixed_assets_diff_perc\"] = (data_3[\"ln_total_fixed_assets\"] - data_3[\"ln_total_fixed_assets_t_minus_1\"]) / data_3[\"ln_total_fixed_assets\"]\n",
    "data_3 = data_3[[\"geo\\\\time\", \"year\", \"ln_total_fixed_assets\", \"ln_total_fixed_assets_diff\", \"ln_total_fixed_assets_diff_perc\"]]\n",
    "data_3"
   ]
  },
  {
   "cell_type": "code",
   "execution_count": 598,
   "metadata": {
    "pycharm": {
     "name": "#%%\n"
    }
   },
   "outputs": [
    {
     "data": {
      "text/plain": "    geo\\time  year  gross_value_added  employees_compensations  \\\n1         AT  1996       1.975044e+05            110344.986145   \n2         AT  1997       2.016516e+05            111310.653407   \n3         AT  1998       2.095363e+05            115226.919118   \n4         AT  1999       2.163266e+05            119202.922776   \n5         AT  2000       2.246742e+05            121811.185102   \n..       ...   ...                ...                      ...   \n668       UK  2015       1.601774e+06            869804.277454   \n669       UK  2016       1.628161e+06            885659.191675   \n670       UK  2017       1.656569e+06            904613.035081   \n671       UK  2018       1.678851e+06            921265.918459   \n672       UK  2019       1.705599e+06            945865.943433   \n\n     gross_value_added_deflator  ln_gross_value_added  \\\n1                        82.641             12.193516   \n2                        83.363             12.214297   \n3                        83.554             12.252653   \n4                        83.756             12.284545   \n5                        84.845             12.322407   \n..                          ...                   ...   \n668                     106.886             14.286622   \n669                     109.164             14.302962   \n670                     111.315             14.320259   \n671                     113.783             14.333620   \n672                     116.145             14.349427   \n\n     ln_employees_compensations  ln_gross_value_added_t_minus_1  \\\n1                     11.611367                       12.174652   \n2                     11.620080                       12.193516   \n3                     11.654659                       12.214297   \n4                     11.688583                       12.252653   \n5                     11.710227                       12.284545   \n..                          ...                             ...   \n668                   13.676023                       14.264811   \n669                   13.694087                       14.286622   \n670                   13.715263                       14.302962   \n671                   13.733504                       14.320259   \n672                   13.759856                       14.333620   \n\n     ln_employees_compensations_t_minus_1  ln_gross_value_added_diff  \\\n1                               11.607276                   0.018864   \n2                               11.611367                   0.020781   \n3                               11.620080                   0.038356   \n4                               11.654659                   0.031892   \n5                               11.688583                   0.037862   \n..                                    ...                        ...   \n668                             13.655964                   0.021811   \n669                             13.676023                   0.016340   \n670                             13.694087                   0.017297   \n671                             13.715263                   0.013361   \n672                             13.733504                   0.015807   \n\n     ln_employees_compensations_diff  ln_gross_value_added_diff_perc  \\\n1                           0.004091                        0.001547   \n2                           0.008713                        0.001701   \n3                           0.034578                        0.003130   \n4                           0.033924                        0.002596   \n5                           0.021645                        0.003073   \n..                               ...                             ...   \n668                         0.020059                        0.001527   \n669                         0.018064                        0.001142   \n670                         0.021175                        0.001208   \n671                         0.018241                        0.000932   \n672                         0.026352                        0.001102   \n\n     ln_thousands_hours_worked  ln_thousands_hours_worked_diff  \\\n1                    15.688559                        0.022213   \n2                    15.700493                        0.011934   \n3                    15.698566                       -0.001927   \n4                    15.715818                        0.017252   \n5                    15.725506                        0.009688   \n..                         ...                             ...   \n668                  17.763948                        0.006727   \n669                  17.787589                        0.023640   \n670                  17.796454                        0.008865   \n671                  17.805025                        0.008571   \n672                  17.818270                        0.013245   \n\n     ln_thousands_hours_worked  ln_thousands_hours_worked_diff_perc  \\\n1                    15.688559                             0.001416   \n2                    15.700493                             0.000760   \n3                    15.698566                            -0.000123   \n4                    15.715818                             0.001098   \n5                    15.725506                             0.000616   \n..                         ...                                  ...   \n668                  17.763948                             0.000379   \n669                  17.787589                             0.001329   \n670                  17.796454                             0.000498   \n671                  17.805025                             0.000481   \n672                  17.818270                             0.000743   \n\n     ln_total_fixed_assets  ln_total_fixed_assets_diff  \\\n1                 9.007583                    0.034274   \n2                 9.036535                    0.028952   \n3                 9.063717                    0.027181   \n4                 9.095404                    0.031687   \n5                 9.121397                    0.025994   \n..                     ...                         ...   \n668              10.470991                    0.011359   \n669              10.493819                    0.022829   \n670              10.518004                    0.024184   \n671              10.546439                    0.028435   \n672              10.552619                    0.006181   \n\n     ln_total_fixed_assets_diff_perc  \n1                           0.003805  \n2                           0.003204  \n3                           0.002999  \n4                           0.003484  \n5                           0.002850  \n..                               ...  \n668                         0.001085  \n669                         0.002175  \n670                         0.002299  \n671                         0.002696  \n672                         0.000586  \n\n[644 rows x 19 columns]",
      "text/html": "<div>\n<style scoped>\n    .dataframe tbody tr th:only-of-type {\n        vertical-align: middle;\n    }\n\n    .dataframe tbody tr th {\n        vertical-align: top;\n    }\n\n    .dataframe thead th {\n        text-align: right;\n    }\n</style>\n<table border=\"1\" class=\"dataframe\">\n  <thead>\n    <tr style=\"text-align: right;\">\n      <th></th>\n      <th>geo\\time</th>\n      <th>year</th>\n      <th>gross_value_added</th>\n      <th>employees_compensations</th>\n      <th>gross_value_added_deflator</th>\n      <th>ln_gross_value_added</th>\n      <th>ln_employees_compensations</th>\n      <th>ln_gross_value_added_t_minus_1</th>\n      <th>ln_employees_compensations_t_minus_1</th>\n      <th>ln_gross_value_added_diff</th>\n      <th>ln_employees_compensations_diff</th>\n      <th>ln_gross_value_added_diff_perc</th>\n      <th>ln_thousands_hours_worked</th>\n      <th>ln_thousands_hours_worked_diff</th>\n      <th>ln_thousands_hours_worked</th>\n      <th>ln_thousands_hours_worked_diff_perc</th>\n      <th>ln_total_fixed_assets</th>\n      <th>ln_total_fixed_assets_diff</th>\n      <th>ln_total_fixed_assets_diff_perc</th>\n    </tr>\n  </thead>\n  <tbody>\n    <tr>\n      <th>1</th>\n      <td>AT</td>\n      <td>1996</td>\n      <td>1.975044e+05</td>\n      <td>110344.986145</td>\n      <td>82.641</td>\n      <td>12.193516</td>\n      <td>11.611367</td>\n      <td>12.174652</td>\n      <td>11.607276</td>\n      <td>0.018864</td>\n      <td>0.004091</td>\n      <td>0.001547</td>\n      <td>15.688559</td>\n      <td>0.022213</td>\n      <td>15.688559</td>\n      <td>0.001416</td>\n      <td>9.007583</td>\n      <td>0.034274</td>\n      <td>0.003805</td>\n    </tr>\n    <tr>\n      <th>2</th>\n      <td>AT</td>\n      <td>1997</td>\n      <td>2.016516e+05</td>\n      <td>111310.653407</td>\n      <td>83.363</td>\n      <td>12.214297</td>\n      <td>11.620080</td>\n      <td>12.193516</td>\n      <td>11.611367</td>\n      <td>0.020781</td>\n      <td>0.008713</td>\n      <td>0.001701</td>\n      <td>15.700493</td>\n      <td>0.011934</td>\n      <td>15.700493</td>\n      <td>0.000760</td>\n      <td>9.036535</td>\n      <td>0.028952</td>\n      <td>0.003204</td>\n    </tr>\n    <tr>\n      <th>3</th>\n      <td>AT</td>\n      <td>1998</td>\n      <td>2.095363e+05</td>\n      <td>115226.919118</td>\n      <td>83.554</td>\n      <td>12.252653</td>\n      <td>11.654659</td>\n      <td>12.214297</td>\n      <td>11.620080</td>\n      <td>0.038356</td>\n      <td>0.034578</td>\n      <td>0.003130</td>\n      <td>15.698566</td>\n      <td>-0.001927</td>\n      <td>15.698566</td>\n      <td>-0.000123</td>\n      <td>9.063717</td>\n      <td>0.027181</td>\n      <td>0.002999</td>\n    </tr>\n    <tr>\n      <th>4</th>\n      <td>AT</td>\n      <td>1999</td>\n      <td>2.163266e+05</td>\n      <td>119202.922776</td>\n      <td>83.756</td>\n      <td>12.284545</td>\n      <td>11.688583</td>\n      <td>12.252653</td>\n      <td>11.654659</td>\n      <td>0.031892</td>\n      <td>0.033924</td>\n      <td>0.002596</td>\n      <td>15.715818</td>\n      <td>0.017252</td>\n      <td>15.715818</td>\n      <td>0.001098</td>\n      <td>9.095404</td>\n      <td>0.031687</td>\n      <td>0.003484</td>\n    </tr>\n    <tr>\n      <th>5</th>\n      <td>AT</td>\n      <td>2000</td>\n      <td>2.246742e+05</td>\n      <td>121811.185102</td>\n      <td>84.845</td>\n      <td>12.322407</td>\n      <td>11.710227</td>\n      <td>12.284545</td>\n      <td>11.688583</td>\n      <td>0.037862</td>\n      <td>0.021645</td>\n      <td>0.003073</td>\n      <td>15.725506</td>\n      <td>0.009688</td>\n      <td>15.725506</td>\n      <td>0.000616</td>\n      <td>9.121397</td>\n      <td>0.025994</td>\n      <td>0.002850</td>\n    </tr>\n    <tr>\n      <th>...</th>\n      <td>...</td>\n      <td>...</td>\n      <td>...</td>\n      <td>...</td>\n      <td>...</td>\n      <td>...</td>\n      <td>...</td>\n      <td>...</td>\n      <td>...</td>\n      <td>...</td>\n      <td>...</td>\n      <td>...</td>\n      <td>...</td>\n      <td>...</td>\n      <td>...</td>\n      <td>...</td>\n      <td>...</td>\n      <td>...</td>\n      <td>...</td>\n    </tr>\n    <tr>\n      <th>668</th>\n      <td>UK</td>\n      <td>2015</td>\n      <td>1.601774e+06</td>\n      <td>869804.277454</td>\n      <td>106.886</td>\n      <td>14.286622</td>\n      <td>13.676023</td>\n      <td>14.264811</td>\n      <td>13.655964</td>\n      <td>0.021811</td>\n      <td>0.020059</td>\n      <td>0.001527</td>\n      <td>17.763948</td>\n      <td>0.006727</td>\n      <td>17.763948</td>\n      <td>0.000379</td>\n      <td>10.470991</td>\n      <td>0.011359</td>\n      <td>0.001085</td>\n    </tr>\n    <tr>\n      <th>669</th>\n      <td>UK</td>\n      <td>2016</td>\n      <td>1.628161e+06</td>\n      <td>885659.191675</td>\n      <td>109.164</td>\n      <td>14.302962</td>\n      <td>13.694087</td>\n      <td>14.286622</td>\n      <td>13.676023</td>\n      <td>0.016340</td>\n      <td>0.018064</td>\n      <td>0.001142</td>\n      <td>17.787589</td>\n      <td>0.023640</td>\n      <td>17.787589</td>\n      <td>0.001329</td>\n      <td>10.493819</td>\n      <td>0.022829</td>\n      <td>0.002175</td>\n    </tr>\n    <tr>\n      <th>670</th>\n      <td>UK</td>\n      <td>2017</td>\n      <td>1.656569e+06</td>\n      <td>904613.035081</td>\n      <td>111.315</td>\n      <td>14.320259</td>\n      <td>13.715263</td>\n      <td>14.302962</td>\n      <td>13.694087</td>\n      <td>0.017297</td>\n      <td>0.021175</td>\n      <td>0.001208</td>\n      <td>17.796454</td>\n      <td>0.008865</td>\n      <td>17.796454</td>\n      <td>0.000498</td>\n      <td>10.518004</td>\n      <td>0.024184</td>\n      <td>0.002299</td>\n    </tr>\n    <tr>\n      <th>671</th>\n      <td>UK</td>\n      <td>2018</td>\n      <td>1.678851e+06</td>\n      <td>921265.918459</td>\n      <td>113.783</td>\n      <td>14.333620</td>\n      <td>13.733504</td>\n      <td>14.320259</td>\n      <td>13.715263</td>\n      <td>0.013361</td>\n      <td>0.018241</td>\n      <td>0.000932</td>\n      <td>17.805025</td>\n      <td>0.008571</td>\n      <td>17.805025</td>\n      <td>0.000481</td>\n      <td>10.546439</td>\n      <td>0.028435</td>\n      <td>0.002696</td>\n    </tr>\n    <tr>\n      <th>672</th>\n      <td>UK</td>\n      <td>2019</td>\n      <td>1.705599e+06</td>\n      <td>945865.943433</td>\n      <td>116.145</td>\n      <td>14.349427</td>\n      <td>13.759856</td>\n      <td>14.333620</td>\n      <td>13.733504</td>\n      <td>0.015807</td>\n      <td>0.026352</td>\n      <td>0.001102</td>\n      <td>17.818270</td>\n      <td>0.013245</td>\n      <td>17.818270</td>\n      <td>0.000743</td>\n      <td>10.552619</td>\n      <td>0.006181</td>\n      <td>0.000586</td>\n    </tr>\n  </tbody>\n</table>\n<p>644 rows × 19 columns</p>\n</div>"
     },
     "execution_count": 598,
     "metadata": {},
     "output_type": "execute_result"
    }
   ],
   "source": [
    "data = pandas.merge(data_1, data_2, on=[\"geo\\\\time\", \"year\"])\n",
    "data = pandas.merge(data, data_3, on=[\"geo\\\\time\", \"year\"])\n",
    "data = data.dropna()\n",
    "data"
   ]
  },
  {
   "cell_type": "code",
   "execution_count": 599,
   "metadata": {
    "pycharm": {
     "name": "#%%\n"
    }
   },
   "outputs": [
    {
     "name": "stderr",
     "output_type": "stream",
     "text": [
      "C:\\Users\\jirip\\repos\\deotn\\venv\\lib\\site-packages\\seaborn\\_decorators.py:36: FutureWarning: Pass the following variables as keyword args: x, y, data. From version 0.12, the only valid positional argument will be `data`, and passing other arguments without an explicit keyword will result in an error or misinterpretation.\n",
      "  warnings.warn(\n"
     ]
    },
    {
     "data": {
      "text/plain": "<seaborn.axisgrid.JointGrid at 0x1f58ba803d0>"
     },
     "execution_count": 599,
     "metadata": {},
     "output_type": "execute_result"
    },
    {
     "data": {
      "text/plain": "<Figure size 432x432 with 3 Axes>",
      "image/png": "[encoded data removed]"
     },
     "metadata": {
      "needs_background": "light"
     },
     "output_type": "display_data"
    }
   ],
   "source": [
    "current_data = data[data[\"geo\\\\time\"] == BASE_LOCATION]\n",
    "h = seaborn.jointplot(\"ln_total_fixed_assets_diff\", \"ln_gross_value_added_diff\", current_data, kind='scatter', color='seagreen')\n",
    "h.set_axis_labels('Diference logaritmizovaného nefinančního kapitálu', 'Diference logaritmizované přidané hodnoty')"
   ]
  },
  {
   "cell_type": "markdown",
   "metadata": {},
   "source": [
    "Níže je graf vztahu mezi diferencí logaritmovaných odpracovaných hodin a diferencí logaritmované\n",
    "hrubé přidané hodnoty.\n",
    "Zde je korelace očividně výrazně slabší."
   ]
  },
  {
   "cell_type": "code",
   "execution_count": 600,
   "metadata": {
    "pycharm": {
     "name": "#%%\n"
    }
   },
   "outputs": [
    {
     "name": "stderr",
     "output_type": "stream",
     "text": [
      "C:\\Users\\jirip\\repos\\deotn\\venv\\lib\\site-packages\\seaborn\\_decorators.py:36: FutureWarning: Pass the following variables as keyword args: x, y, data. From version 0.12, the only valid positional argument will be `data`, and passing other arguments without an explicit keyword will result in an error or misinterpretation.\n",
      "  warnings.warn(\n"
     ]
    },
    {
     "data": {
      "text/plain": "<seaborn.axisgrid.JointGrid at 0x1f589ea5310>"
     },
     "execution_count": 600,
     "metadata": {},
     "output_type": "execute_result"
    },
    {
     "data": {
      "text/plain": "<Figure size 432x432 with 3 Axes>",
      "image/png": "[encoded data removed]"
     },
     "metadata": {
      "needs_background": "light"
     },
     "output_type": "display_data"
    }
   ],
   "source": [
    "current_data = data[data[\"geo\\\\time\"] == BASE_LOCATION]\n",
    "data_plot = data\n",
    "h = seaborn.jointplot(\"ln_thousands_hours_worked_diff\", \"ln_gross_value_added_diff\", current_data, kind='scatter', color='seagreen')\n",
    "h.set_axis_labels('Diference logaritmizovaných odpracovaných hodin', 'Diference logaritmizované přidané hodnoty')\n"
   ]
  },
  {
   "cell_type": "code",
   "execution_count": 601,
   "metadata": {
    "pycharm": {
     "name": "#%%\n"
    }
   },
   "outputs": [
    {
     "data": {
      "text/plain": "                                  Diff. log. nefinančního kapitálu  \\\nDiff. log. nefinančního kapitálu                          1.000000   \nDiff. log. hrubé přidané hodnoty                          0.448262   \nDiff. log. odpracovaných hodin                            0.275038   \nDiff. log. mzdových nákladů                               0.295580   \n\n                                  Diff. log. hrubé přidané hodnoty  \\\nDiff. log. nefinančního kapitálu                          0.448262   \nDiff. log. hrubé přidané hodnoty                          1.000000   \nDiff. log. odpracovaných hodin                            0.619651   \nDiff. log. mzdových nákladů                               0.677046   \n\n                                  Diff. log. odpracovaných hodin  \\\nDiff. log. nefinančního kapitálu                        0.275038   \nDiff. log. hrubé přidané hodnoty                        0.619651   \nDiff. log. odpracovaných hodin                          1.000000   \nDiff. log. mzdových nákladů                             0.546723   \n\n                                  Diff. log. mzdových nákladů  \nDiff. log. nefinančního kapitálu                     0.295580  \nDiff. log. hrubé přidané hodnoty                     0.677046  \nDiff. log. odpracovaných hodin                       0.546723  \nDiff. log. mzdových nákladů                          1.000000  ",
      "text/html": "<div>\n<style scoped>\n    .dataframe tbody tr th:only-of-type {\n        vertical-align: middle;\n    }\n\n    .dataframe tbody tr th {\n        vertical-align: top;\n    }\n\n    .dataframe thead th {\n        text-align: right;\n    }\n</style>\n<table border=\"1\" class=\"dataframe\">\n  <thead>\n    <tr style=\"text-align: right;\">\n      <th></th>\n      <th>Diff. log. nefinančního kapitálu</th>\n      <th>Diff. log. hrubé přidané hodnoty</th>\n      <th>Diff. log. odpracovaných hodin</th>\n      <th>Diff. log. mzdových nákladů</th>\n    </tr>\n  </thead>\n  <tbody>\n    <tr>\n      <th>Diff. log. nefinančního kapitálu</th>\n      <td>1.000000</td>\n      <td>0.448262</td>\n      <td>0.275038</td>\n      <td>0.295580</td>\n    </tr>\n    <tr>\n      <th>Diff. log. hrubé přidané hodnoty</th>\n      <td>0.448262</td>\n      <td>1.000000</td>\n      <td>0.619651</td>\n      <td>0.677046</td>\n    </tr>\n    <tr>\n      <th>Diff. log. odpracovaných hodin</th>\n      <td>0.275038</td>\n      <td>0.619651</td>\n      <td>1.000000</td>\n      <td>0.546723</td>\n    </tr>\n    <tr>\n      <th>Diff. log. mzdových nákladů</th>\n      <td>0.295580</td>\n      <td>0.677046</td>\n      <td>0.546723</td>\n      <td>1.000000</td>\n    </tr>\n  </tbody>\n</table>\n</div>"
     },
     "execution_count": 601,
     "metadata": {},
     "output_type": "execute_result"
    }
   ],
   "source": [
    "current_data = data\n",
    "current_data = current_data.rename(columns={\"ln_total_fixed_assets_diff\": \"Diff. log. nefinančního kapitálu\", \"ln_gross_value_added_diff\": \"Diff. log. hrubé přidané hodnoty\", \"ln_thousands_hours_worked_diff\": \"Diff. log. odpracovaných hodin\", \"ln_employees_compensations_diff\": \"Diff. log. mzdových nákladů\" })\n",
    "current_data[[\"Diff. log. nefinančního kapitálu\",\"Diff. log. hrubé přidané hodnoty\", \"Diff. log. odpracovaných hodin\", \"Diff. log. mzdových nákladů\"]].corr()"
   ]
  },
  {
   "cell_type": "code",
   "execution_count": 602,
   "metadata": {},
   "outputs": [
    {
     "name": "stdout",
     "output_type": "stream",
     "text": [
      "p-hodnota testu stacionarity je 0.12213665034891474\n",
      "p-hodnota testu stacionarity je 0.01923537879198988\n",
      "p-hodnota testu stacionarity je 0.06903047979346275\n",
      "p-hodnota testu stacionarity je 0.641207439286887\n",
      "p-hodnota testu kointegrace je 0.028768460630821394\n",
      "p-hodnota testu kointegrace je 0.012715448419339784\n",
      "p-hodnota testu kointegrace je 0.0013026646217594842\n"
     ]
    }
   ],
   "source": [
    "current_data = data[data[\"geo\\\\time\"] == BASE_LOCATION]\n",
    "result = adfuller(current_data[\"ln_thousands_hours_worked_diff\"])\n",
    "print(f\"p-hodnota testu stacionarity je {result[1]}\")\n",
    "result = adfuller(current_data[\"ln_gross_value_added_diff\"])\n",
    "print(f\"p-hodnota testu stacionarity je {result[1]}\")\n",
    "result = adfuller(current_data[\"ln_total_fixed_assets_diff\"])\n",
    "print(f\"p-hodnota testu stacionarity je {result[1]}\")\n",
    "result = adfuller(current_data[\"ln_employees_compensations_diff\"])\n",
    "print(f\"p-hodnota testu stacionarity je {result[1]}\")\n",
    "result = ts.coint(current_data[\"ln_gross_value_added_diff\"], current_data[\"ln_thousands_hours_worked_diff\"])\n",
    "print(f\"p-hodnota testu kointegrace je {result[1]}\")\n",
    "result = ts.coint(current_data[\"ln_gross_value_added_diff\"], current_data[\"ln_total_fixed_assets_diff\"])\n",
    "print(f\"p-hodnota testu kointegrace je {result[1]}\")\n",
    "result = ts.coint(current_data[\"ln_gross_value_added_diff\"], current_data[\"ln_employees_compensations_diff\"])\n",
    "print(f\"p-hodnota testu kointegrace je {result[1]}\")"
   ]
  },
  {
   "cell_type": "code",
   "execution_count": 603,
   "outputs": [
    {
     "name": "stdout",
     "output_type": "stream",
     "text": [
      "Intercept                         -0.000997\n",
      "ln_employees_compensations_diff    0.872071\n",
      "ln_total_fixed_assets_diff         0.135422\n",
      "dtype: float64\n"
     ]
    },
    {
     "data": {
      "text/plain": "<class 'statsmodels.iolib.summary.Summary'>\n\"\"\"\n                                OLS Regression Results                               \n=====================================================================================\nDep. Variable:     ln_gross_value_added_diff   R-squared:                       0.539\nModel:                                   OLS   Adj. R-squared:                  0.495\nMethod:                        Least Squares   F-statistic:                     12.29\nDate:                       Sun, 23 Jan 2022   Prob (F-statistic):           0.000292\nTime:                               23:08:54   Log-Likelihood:                 79.454\nNo. Observations:                         24   AIC:                            -152.9\nDf Residuals:                             21   BIC:                            -149.4\nDf Model:                                  2                                         \nCovariance Type:                   nonrobust                                         \n===================================================================================================\n                                      coef    std err          t      P>|t|      [0.025      0.975]\n---------------------------------------------------------------------------------------------------\nIntercept                          -0.0010      0.005     -0.193      0.849      -0.012       0.010\nln_employees_compensations_diff     0.8721      0.200      4.359      0.000       0.456       1.288\nln_total_fixed_assets_diff          0.1354      0.223      0.607      0.550      -0.329       0.599\n==============================================================================\nOmnibus:                        8.970   Durbin-Watson:                   1.799\nProb(Omnibus):                  0.011   Jarque-Bera (JB):                9.948\nSkew:                          -0.649   Prob(JB):                      0.00691\nKurtosis:                       5.874   Cond. No.                         129.\n==============================================================================\n\nNotes:\n[1] Standard Errors assume that the covariance matrix of the errors is correctly specified.\n\"\"\"",
      "text/html": "<table class=\"simpletable\">\n<caption>OLS Regression Results</caption>\n<tr>\n  <th>Dep. Variable:</th>    <td>ln_gross_value_added_diff</td> <th>  R-squared:         </th> <td>   0.539</td>\n</tr>\n<tr>\n  <th>Model:</th>                       <td>OLS</td>            <th>  Adj. R-squared:    </th> <td>   0.495</td>\n</tr>\n<tr>\n  <th>Method:</th>                 <td>Least Squares</td>       <th>  F-statistic:       </th> <td>   12.29</td>\n</tr>\n<tr>\n  <th>Date:</th>                 <td>Sun, 23 Jan 2022</td>      <th>  Prob (F-statistic):</th> <td>0.000292</td>\n</tr>\n<tr>\n  <th>Time:</th>                     <td>23:08:54</td>          <th>  Log-Likelihood:    </th> <td>  79.454</td>\n</tr>\n<tr>\n  <th>No. Observations:</th>          <td>    24</td>           <th>  AIC:               </th> <td>  -152.9</td>\n</tr>\n<tr>\n  <th>Df Residuals:</th>              <td>    21</td>           <th>  BIC:               </th> <td>  -149.4</td>\n</tr>\n<tr>\n  <th>Df Model:</th>                  <td>     2</td>           <th>                     </th>     <td> </td>   \n</tr>\n<tr>\n  <th>Covariance Type:</th>          <td>nonrobust</td>         <th>                     </th>     <td> </td>   \n</tr>\n</table>\n<table class=\"simpletable\">\n<tr>\n                 <td></td>                    <th>coef</th>     <th>std err</th>      <th>t</th>      <th>P>|t|</th>  <th>[0.025</th>    <th>0.975]</th>  \n</tr>\n<tr>\n  <th>Intercept</th>                       <td>   -0.0010</td> <td>    0.005</td> <td>   -0.193</td> <td> 0.849</td> <td>   -0.012</td> <td>    0.010</td>\n</tr>\n<tr>\n  <th>ln_employees_compensations_diff</th> <td>    0.8721</td> <td>    0.200</td> <td>    4.359</td> <td> 0.000</td> <td>    0.456</td> <td>    1.288</td>\n</tr>\n<tr>\n  <th>ln_total_fixed_assets_diff</th>      <td>    0.1354</td> <td>    0.223</td> <td>    0.607</td> <td> 0.550</td> <td>   -0.329</td> <td>    0.599</td>\n</tr>\n</table>\n<table class=\"simpletable\">\n<tr>\n  <th>Omnibus:</th>       <td> 8.970</td> <th>  Durbin-Watson:     </th> <td>   1.799</td>\n</tr>\n<tr>\n  <th>Prob(Omnibus):</th> <td> 0.011</td> <th>  Jarque-Bera (JB):  </th> <td>   9.948</td>\n</tr>\n<tr>\n  <th>Skew:</th>          <td>-0.649</td> <th>  Prob(JB):          </th> <td> 0.00691</td>\n</tr>\n<tr>\n  <th>Kurtosis:</th>      <td> 5.874</td> <th>  Cond. No.          </th> <td>    129.</td>\n</tr>\n</table><br/><br/>Notes:<br/>[1] Standard Errors assume that the covariance matrix of the errors is correctly specified."
     },
     "execution_count": 603,
     "metadata": {},
     "output_type": "execute_result"
    }
   ],
   "source": [
    "current_data = data[data[\"geo\\\\time\"] == \"FR\"]\n",
    "mod = smf.ols(formula=\"ln_gross_value_added_diff ~ ln_employees_compensations_diff + ln_total_fixed_assets_diff\", data=current_data)\n",
    "res = mod.fit()\n",
    "print(res.params)\n",
    "res.summary()"
   ],
   "metadata": {
    "collapsed": false,
    "pycharm": {
     "name": "#%%\n"
    }
   }
  },
  {
   "cell_type": "code",
   "execution_count": 604,
   "outputs": [
    {
     "data": {
      "text/plain": "<class 'statsmodels.iolib.summary.Summary'>\n\"\"\"\n                                OLS Regression Results                               \n=====================================================================================\nDep. Variable:     ln_gross_value_added_diff   R-squared:                       0.507\nModel:                                   OLS   Adj. R-squared:                  0.460\nMethod:                        Least Squares   F-statistic:                     10.81\nDate:                       Sun, 23 Jan 2022   Prob (F-statistic):           0.000591\nTime:                               23:08:54   Log-Likelihood:                 78.649\nNo. Observations:                         24   AIC:                            -151.3\nDf Residuals:                             21   BIC:                            -147.8\nDf Model:                                  2                                         \nCovariance Type:                   nonrobust                                         \n==================================================================================================\n                                     coef    std err          t      P>|t|      [0.025      0.975]\n--------------------------------------------------------------------------------------------------\nIntercept                          0.0065      0.005      1.269      0.218      -0.004       0.017\nln_thousands_hours_worked_diff     0.8027      0.198      4.050      0.001       0.391       1.215\nln_total_fixed_assets_diff         0.2560      0.222      1.151      0.263      -0.207       0.719\n==============================================================================\nOmnibus:                        0.663   Durbin-Watson:                   1.790\nProb(Omnibus):                  0.718   Jarque-Bera (JB):                0.412\nSkew:                          -0.310   Prob(JB):                        0.814\nKurtosis:                       2.836   Cond. No.                         120.\n==============================================================================\n\nNotes:\n[1] Standard Errors assume that the covariance matrix of the errors is correctly specified.\n\"\"\"",
      "text/html": "<table class=\"simpletable\">\n<caption>OLS Regression Results</caption>\n<tr>\n  <th>Dep. Variable:</th>    <td>ln_gross_value_added_diff</td> <th>  R-squared:         </th> <td>   0.507</td>\n</tr>\n<tr>\n  <th>Model:</th>                       <td>OLS</td>            <th>  Adj. R-squared:    </th> <td>   0.460</td>\n</tr>\n<tr>\n  <th>Method:</th>                 <td>Least Squares</td>       <th>  F-statistic:       </th> <td>   10.81</td>\n</tr>\n<tr>\n  <th>Date:</th>                 <td>Sun, 23 Jan 2022</td>      <th>  Prob (F-statistic):</th> <td>0.000591</td>\n</tr>\n<tr>\n  <th>Time:</th>                     <td>23:08:54</td>          <th>  Log-Likelihood:    </th> <td>  78.649</td>\n</tr>\n<tr>\n  <th>No. Observations:</th>          <td>    24</td>           <th>  AIC:               </th> <td>  -151.3</td>\n</tr>\n<tr>\n  <th>Df Residuals:</th>              <td>    21</td>           <th>  BIC:               </th> <td>  -147.8</td>\n</tr>\n<tr>\n  <th>Df Model:</th>                  <td>     2</td>           <th>                     </th>     <td> </td>   \n</tr>\n<tr>\n  <th>Covariance Type:</th>          <td>nonrobust</td>         <th>                     </th>     <td> </td>   \n</tr>\n</table>\n<table class=\"simpletable\">\n<tr>\n                 <td></td>                   <th>coef</th>     <th>std err</th>      <th>t</th>      <th>P>|t|</th>  <th>[0.025</th>    <th>0.975]</th>  \n</tr>\n<tr>\n  <th>Intercept</th>                      <td>    0.0065</td> <td>    0.005</td> <td>    1.269</td> <td> 0.218</td> <td>   -0.004</td> <td>    0.017</td>\n</tr>\n<tr>\n  <th>ln_thousands_hours_worked_diff</th> <td>    0.8027</td> <td>    0.198</td> <td>    4.050</td> <td> 0.001</td> <td>    0.391</td> <td>    1.215</td>\n</tr>\n<tr>\n  <th>ln_total_fixed_assets_diff</th>     <td>    0.2560</td> <td>    0.222</td> <td>    1.151</td> <td> 0.263</td> <td>   -0.207</td> <td>    0.719</td>\n</tr>\n</table>\n<table class=\"simpletable\">\n<tr>\n  <th>Omnibus:</th>       <td> 0.663</td> <th>  Durbin-Watson:     </th> <td>   1.790</td>\n</tr>\n<tr>\n  <th>Prob(Omnibus):</th> <td> 0.718</td> <th>  Jarque-Bera (JB):  </th> <td>   0.412</td>\n</tr>\n<tr>\n  <th>Skew:</th>          <td>-0.310</td> <th>  Prob(JB):          </th> <td>   0.814</td>\n</tr>\n<tr>\n  <th>Kurtosis:</th>      <td> 2.836</td> <th>  Cond. No.          </th> <td>    120.</td>\n</tr>\n</table><br/><br/>Notes:<br/>[1] Standard Errors assume that the covariance matrix of the errors is correctly specified."
     },
     "execution_count": 604,
     "metadata": {},
     "output_type": "execute_result"
    }
   ],
   "source": [
    "current_data = data[data[\"geo\\\\time\"] == BASE_LOCATION]\n",
    "mod = smf.ols(formula=\"ln_gross_value_added_diff ~ ln_thousands_hours_worked_diff + ln_total_fixed_assets_diff\", data=current_data)\n",
    "res = mod.fit()\n",
    "res.summary()"
   ],
   "metadata": {
    "collapsed": false,
    "pycharm": {
     "name": "#%%\n"
    }
   }
  },
  {
   "cell_type": "code",
   "execution_count": 617,
   "metadata": {
    "pycharm": {
     "name": "#%%\n"
    }
   },
   "outputs": [
    {
     "name": "stdout",
     "output_type": "stream",
     "text": [
      "AT\n",
      "Intercept                         -0.022547\n",
      "ln_employees_compensations_diff    0.871665\n",
      "ln_total_fixed_assets_diff         1.161800\n",
      "dtype: float64\n",
      "Intercept                        -0.005610\n",
      "ln_thousands_hours_worked_diff    0.844738\n",
      "ln_total_fixed_assets_diff        0.836518\n",
      "dtype: float64\n",
      "BE\n",
      "Intercept                         -0.002492\n",
      "ln_employees_compensations_diff    0.075401\n",
      "ln_total_fixed_assets_diff         1.000070\n",
      "dtype: float64\n",
      "Intercept                        -0.000431\n",
      "ln_thousands_hours_worked_diff    0.732574\n",
      "ln_total_fixed_assets_diff        0.596314\n",
      "dtype: float64\n",
      "CZ\n",
      "Intercept                          0.001714\n",
      "ln_employees_compensations_diff    0.667403\n",
      "ln_total_fixed_assets_diff         0.118551\n",
      "dtype: float64\n",
      "Intercept                         0.014634\n",
      "ln_thousands_hours_worked_diff    0.656977\n",
      "ln_total_fixed_assets_diff        0.367055\n",
      "dtype: float64\n",
      "DE\n",
      "Intercept                         -0.005887\n",
      "ln_employees_compensations_diff    0.752563\n",
      "ln_total_fixed_assets_diff         0.570203\n",
      "dtype: float64\n",
      "Intercept                         0.005423\n",
      "ln_thousands_hours_worked_diff    1.390969\n",
      "ln_total_fixed_assets_diff        0.310544\n",
      "dtype: float64\n",
      "DK\n",
      "Intercept                         -0.001514\n",
      "ln_employees_compensations_diff    0.065488\n",
      "ln_total_fixed_assets_diff         0.811902\n",
      "dtype: float64\n",
      "Intercept                         0.002705\n",
      "ln_thousands_hours_worked_diff    0.558607\n",
      "ln_total_fixed_assets_diff        0.536292\n",
      "dtype: float64\n",
      "ES\n",
      "Intercept                          0.004112\n",
      "ln_employees_compensations_diff    0.652693\n",
      "ln_total_fixed_assets_diff         0.145683\n",
      "dtype: float64\n",
      "Intercept                         0.009893\n",
      "ln_thousands_hours_worked_diff    0.725823\n",
      "ln_total_fixed_assets_diff        0.020204\n",
      "dtype: float64\n",
      "FR\n",
      "Intercept                         -0.000997\n",
      "ln_employees_compensations_diff    0.872071\n",
      "ln_total_fixed_assets_diff         0.135422\n",
      "dtype: float64\n",
      "Intercept                         0.006461\n",
      "ln_thousands_hours_worked_diff    0.802733\n",
      "ln_total_fixed_assets_diff        0.255995\n",
      "dtype: float64\n",
      "HU\n",
      "Intercept                          0.007383\n",
      "ln_employees_compensations_diff    0.644650\n",
      "ln_total_fixed_assets_diff         0.166042\n",
      "dtype: float64\n",
      "Intercept                         0.020325\n",
      "ln_thousands_hours_worked_diff    0.520444\n",
      "ln_total_fixed_assets_diff        0.198994\n",
      "dtype: float64\n",
      "IT\n",
      "Intercept                         -0.002643\n",
      "ln_employees_compensations_diff    1.051596\n",
      "ln_total_fixed_assets_diff        -0.183131\n",
      "dtype: float64\n",
      "Intercept                         0.003061\n",
      "ln_thousands_hours_worked_diff    1.131474\n",
      "ln_total_fixed_assets_diff       -0.140058\n",
      "dtype: float64\n",
      "NL\n",
      "Intercept                          0.007017\n",
      "ln_employees_compensations_diff    0.618098\n",
      "ln_total_fixed_assets_diff         0.076199\n",
      "dtype: float64\n",
      "Intercept                         0.005258\n",
      "ln_thousands_hours_worked_diff    0.926552\n",
      "ln_total_fixed_assets_diff        0.272627\n",
      "dtype: float64\n",
      "PL\n",
      "Intercept                          0.031715\n",
      "ln_employees_compensations_diff    0.286956\n",
      "ln_total_fixed_assets_diff        -0.136102\n",
      "dtype: float64\n",
      "Intercept                         0.034269\n",
      "ln_thousands_hours_worked_diff    0.435984\n",
      "ln_total_fixed_assets_diff        0.025408\n",
      "dtype: float64\n",
      "PT\n",
      "Intercept                          0.005105\n",
      "ln_employees_compensations_diff    0.633299\n",
      "ln_total_fixed_assets_diff        -0.032799\n",
      "dtype: float64\n",
      "Intercept                         0.006325\n",
      "ln_thousands_hours_worked_diff    0.652944\n",
      "ln_total_fixed_assets_diff        0.169825\n",
      "dtype: float64\n",
      "SK\n",
      "Intercept                          0.006415\n",
      "ln_employees_compensations_diff    0.658298\n",
      "ln_total_fixed_assets_diff         0.221071\n",
      "dtype: float64\n",
      "Intercept                         0.028562\n",
      "ln_thousands_hours_worked_diff    0.990497\n",
      "ln_total_fixed_assets_diff        0.154332\n",
      "dtype: float64\n",
      "SI\n",
      "Intercept                          0.000427\n",
      "ln_employees_compensations_diff    0.934535\n",
      "ln_total_fixed_assets_diff         0.063028\n",
      "dtype: float64\n",
      "Intercept                         0.010660\n",
      "ln_thousands_hours_worked_diff    0.683874\n",
      "ln_total_fixed_assets_diff        0.720004\n",
      "dtype: float64\n"
     ]
    }
   ],
   "source": [
    "results_per_countries = []\n",
    "results_per_countries_alt = []\n",
    "for current_country in LOCATIONS:\n",
    "  current_data = data[data[\"geo\\\\time\"] == current_country]\n",
    "  mod = smf.ols(formula=\"ln_gross_value_added_diff ~ ln_employees_compensations_diff + ln_total_fixed_assets_diff\", data=current_data)\n",
    "  res = mod.fit()\n",
    "  print(current_country)\n",
    "  print(res.params)\n",
    "  results_per_countries.append({\"country\": current_country, \"const\": res.params[0], \"koef L\": res.params[1], \"koef K\": res.params[2], \"R_squared\": res.rsquared, \"R squared adj.\": res.rsquared_adj, \"t-stat koef L\": res.pvalues[1], \"t-stat koef K\": res.pvalues[2]})\n",
    "  mod = smf.ols(formula=\"ln_gross_value_added_diff ~ ln_thousands_hours_worked_diff + ln_total_fixed_assets_diff\", data=current_data)\n",
    "  res = mod.fit()\n",
    "  print(res.params)\n",
    "  results_per_countries_alt.append({\"country\": current_country, \"const\": res.params[0], \"koef L\": res.params[1], \"koef K\": res.params[2], \"R_squared\": res.rsquared, \"R squared adj.\": res.rsquared_adj, \"t-stat koef L\": res.pvalues[1], \"t-stat koef K\": res.pvalues[2]})"
   ]
  },
  {
   "cell_type": "code",
   "execution_count": 618,
   "outputs": [
    {
     "data": {
      "text/plain": "   country     const    koef L    koef K  R_squared  R squared adj.  \\\n0       AT -0.022547  0.871665  1.161800   0.654754        0.621873   \n1       BE -0.002492  0.075401  1.000070   0.347807        0.285693   \n2       CZ  0.001714  0.667403  0.118551   0.767625        0.745494   \n3       DE -0.005887  0.752563  0.570203   0.406492        0.349968   \n4       DK -0.001514  0.065488  0.811902   0.578195        0.538023   \n5       ES  0.004112  0.652693  0.145683   0.862024        0.844777   \n6       FR -0.000997  0.872071  0.135422   0.539331        0.495458   \n7       HU  0.007383  0.644650  0.166042   0.625861        0.590229   \n8       IT -0.002643  1.051596 -0.183131   0.758133        0.727899   \n9       NL  0.007017  0.618098  0.076199   0.439537        0.386160   \n10      PL  0.031715  0.286956 -0.136102   0.281015        0.191142   \n11      PT  0.005105  0.633299 -0.032799   0.818902        0.796264   \n12      SK  0.006415  0.658298  0.221071   0.360588        0.280662   \n13      SI  0.000427  0.934535  0.063028   0.786402        0.759702   \n\n    t-stat koef L  t-stat koef K  \n0    1.257411e-04       0.006209  \n1    7.132709e-01       0.023701  \n2    2.979818e-07       0.387199  \n3    5.014192e-03       0.351401  \n4    7.156108e-01       0.000423  \n5    7.567296e-07       0.225537  \n6    2.756172e-04       0.550425  \n7    1.315010e-05       0.267367  \n8    3.324797e-06       0.338716  \n9    7.096787e-03       0.797355  \n10   2.379949e-02       0.414745  \n11   6.857309e-06       0.814755  \n12   3.536675e-02       0.439074  \n13   6.843491e-06       0.798888  ",
      "text/html": "<div>\n<style scoped>\n    .dataframe tbody tr th:only-of-type {\n        vertical-align: middle;\n    }\n\n    .dataframe tbody tr th {\n        vertical-align: top;\n    }\n\n    .dataframe thead th {\n        text-align: right;\n    }\n</style>\n<table border=\"1\" class=\"dataframe\">\n  <thead>\n    <tr style=\"text-align: right;\">\n      <th></th>\n      <th>country</th>\n      <th>const</th>\n      <th>koef L</th>\n      <th>koef K</th>\n      <th>R_squared</th>\n      <th>R squared adj.</th>\n      <th>t-stat koef L</th>\n      <th>t-stat koef K</th>\n    </tr>\n  </thead>\n  <tbody>\n    <tr>\n      <th>0</th>\n      <td>AT</td>\n      <td>-0.022547</td>\n      <td>0.871665</td>\n      <td>1.161800</td>\n      <td>0.654754</td>\n      <td>0.621873</td>\n      <td>1.257411e-04</td>\n      <td>0.006209</td>\n    </tr>\n    <tr>\n      <th>1</th>\n      <td>BE</td>\n      <td>-0.002492</td>\n      <td>0.075401</td>\n      <td>1.000070</td>\n      <td>0.347807</td>\n      <td>0.285693</td>\n      <td>7.132709e-01</td>\n      <td>0.023701</td>\n    </tr>\n    <tr>\n      <th>2</th>\n      <td>CZ</td>\n      <td>0.001714</td>\n      <td>0.667403</td>\n      <td>0.118551</td>\n      <td>0.767625</td>\n      <td>0.745494</td>\n      <td>2.979818e-07</td>\n      <td>0.387199</td>\n    </tr>\n    <tr>\n      <th>3</th>\n      <td>DE</td>\n      <td>-0.005887</td>\n      <td>0.752563</td>\n      <td>0.570203</td>\n      <td>0.406492</td>\n      <td>0.349968</td>\n      <td>5.014192e-03</td>\n      <td>0.351401</td>\n    </tr>\n    <tr>\n      <th>4</th>\n      <td>DK</td>\n      <td>-0.001514</td>\n      <td>0.065488</td>\n      <td>0.811902</td>\n      <td>0.578195</td>\n      <td>0.538023</td>\n      <td>7.156108e-01</td>\n      <td>0.000423</td>\n    </tr>\n    <tr>\n      <th>5</th>\n      <td>ES</td>\n      <td>0.004112</td>\n      <td>0.652693</td>\n      <td>0.145683</td>\n      <td>0.862024</td>\n      <td>0.844777</td>\n      <td>7.567296e-07</td>\n      <td>0.225537</td>\n    </tr>\n    <tr>\n      <th>6</th>\n      <td>FR</td>\n      <td>-0.000997</td>\n      <td>0.872071</td>\n      <td>0.135422</td>\n      <td>0.539331</td>\n      <td>0.495458</td>\n      <td>2.756172e-04</td>\n      <td>0.550425</td>\n    </tr>\n    <tr>\n      <th>7</th>\n      <td>HU</td>\n      <td>0.007383</td>\n      <td>0.644650</td>\n      <td>0.166042</td>\n      <td>0.625861</td>\n      <td>0.590229</td>\n      <td>1.315010e-05</td>\n      <td>0.267367</td>\n    </tr>\n    <tr>\n      <th>8</th>\n      <td>IT</td>\n      <td>-0.002643</td>\n      <td>1.051596</td>\n      <td>-0.183131</td>\n      <td>0.758133</td>\n      <td>0.727899</td>\n      <td>3.324797e-06</td>\n      <td>0.338716</td>\n    </tr>\n    <tr>\n      <th>9</th>\n      <td>NL</td>\n      <td>0.007017</td>\n      <td>0.618098</td>\n      <td>0.076199</td>\n      <td>0.439537</td>\n      <td>0.386160</td>\n      <td>7.096787e-03</td>\n      <td>0.797355</td>\n    </tr>\n    <tr>\n      <th>10</th>\n      <td>PL</td>\n      <td>0.031715</td>\n      <td>0.286956</td>\n      <td>-0.136102</td>\n      <td>0.281015</td>\n      <td>0.191142</td>\n      <td>2.379949e-02</td>\n      <td>0.414745</td>\n    </tr>\n    <tr>\n      <th>11</th>\n      <td>PT</td>\n      <td>0.005105</td>\n      <td>0.633299</td>\n      <td>-0.032799</td>\n      <td>0.818902</td>\n      <td>0.796264</td>\n      <td>6.857309e-06</td>\n      <td>0.814755</td>\n    </tr>\n    <tr>\n      <th>12</th>\n      <td>SK</td>\n      <td>0.006415</td>\n      <td>0.658298</td>\n      <td>0.221071</td>\n      <td>0.360588</td>\n      <td>0.280662</td>\n      <td>3.536675e-02</td>\n      <td>0.439074</td>\n    </tr>\n    <tr>\n      <th>13</th>\n      <td>SI</td>\n      <td>0.000427</td>\n      <td>0.934535</td>\n      <td>0.063028</td>\n      <td>0.786402</td>\n      <td>0.759702</td>\n      <td>6.843491e-06</td>\n      <td>0.798888</td>\n    </tr>\n  </tbody>\n</table>\n</div>"
     },
     "execution_count": 618,
     "metadata": {},
     "output_type": "execute_result"
    }
   ],
   "source": [
    "results_per_countries = pandas.DataFrame(results_per_countries)\n",
    "results_per_countries"
   ],
   "metadata": {
    "collapsed": false,
    "pycharm": {
     "name": "#%%\n"
    }
   }
  },
  {
   "cell_type": "code",
   "execution_count": 620,
   "outputs": [
    {
     "data": {
      "text/plain": "   country     const    koef L    koef K  R_squared  R squared adj.  \\\n0       AT -0.005610  0.844738  0.836518   0.577641        0.537417   \n1       BE -0.000431  0.732574  0.596314   0.563213        0.521615   \n2       CZ  0.014634  0.656977  0.367055   0.302158        0.235697   \n3       DE  0.005423  1.390969  0.310544   0.674545        0.643549   \n4       DK  0.002705  0.558607  0.536292   0.737516        0.712517   \n5       ES  0.009893  0.725823  0.020204   0.955770        0.950241   \n6       FR  0.006461  0.802733  0.255995   0.507358        0.460439   \n7       HU  0.020325  0.520444  0.198994   0.215803        0.141118   \n8       IT  0.003061  1.131474 -0.140058   0.777291        0.749452   \n9       NL  0.005258  0.926552  0.272627   0.652493        0.619397   \n10      PL  0.034269  0.435984  0.025408   0.332007        0.248508   \n11      PT  0.006325  0.652944  0.169825   0.760016        0.730019   \n12      SK  0.028562  0.990497  0.154332   0.389815        0.313542   \n13      SI  0.010660  0.683874  0.720004   0.384407        0.307458   \n\n    t-stat koef L  t-stat koef K  \n0    1.155389e-03       0.080454  \n1    3.829966e-03       0.067115  \n2    5.613674e-02       0.115876  \n3    6.871380e-06       0.491327  \n4    1.680459e-03       0.002153  \n5    7.853463e-11       0.772064  \n6    5.766745e-04       0.262810  \n7    5.187981e-02       0.357812  \n8    1.698931e-06       0.438024  \n9    3.596801e-05       0.169574  \n10   1.240364e-02       0.862853  \n11   6.892060e-05       0.242512  \n12   2.319078e-02       0.590227  \n13   5.265707e-02       0.065570  ",
      "text/html": "<div>\n<style scoped>\n    .dataframe tbody tr th:only-of-type {\n        vertical-align: middle;\n    }\n\n    .dataframe tbody tr th {\n        vertical-align: top;\n    }\n\n    .dataframe thead th {\n        text-align: right;\n    }\n</style>\n<table border=\"1\" class=\"dataframe\">\n  <thead>\n    <tr style=\"text-align: right;\">\n      <th></th>\n      <th>country</th>\n      <th>const</th>\n      <th>koef L</th>\n      <th>koef K</th>\n      <th>R_squared</th>\n      <th>R squared adj.</th>\n      <th>t-stat koef L</th>\n      <th>t-stat koef K</th>\n    </tr>\n  </thead>\n  <tbody>\n    <tr>\n      <th>0</th>\n      <td>AT</td>\n      <td>-0.005610</td>\n      <td>0.844738</td>\n      <td>0.836518</td>\n      <td>0.577641</td>\n      <td>0.537417</td>\n      <td>1.155389e-03</td>\n      <td>0.080454</td>\n    </tr>\n    <tr>\n      <th>1</th>\n      <td>BE</td>\n      <td>-0.000431</td>\n      <td>0.732574</td>\n      <td>0.596314</td>\n      <td>0.563213</td>\n      <td>0.521615</td>\n      <td>3.829966e-03</td>\n      <td>0.067115</td>\n    </tr>\n    <tr>\n      <th>2</th>\n      <td>CZ</td>\n      <td>0.014634</td>\n      <td>0.656977</td>\n      <td>0.367055</td>\n      <td>0.302158</td>\n      <td>0.235697</td>\n      <td>5.613674e-02</td>\n      <td>0.115876</td>\n    </tr>\n    <tr>\n      <th>3</th>\n      <td>DE</td>\n      <td>0.005423</td>\n      <td>1.390969</td>\n      <td>0.310544</td>\n      <td>0.674545</td>\n      <td>0.643549</td>\n      <td>6.871380e-06</td>\n      <td>0.491327</td>\n    </tr>\n    <tr>\n      <th>4</th>\n      <td>DK</td>\n      <td>0.002705</td>\n      <td>0.558607</td>\n      <td>0.536292</td>\n      <td>0.737516</td>\n      <td>0.712517</td>\n      <td>1.680459e-03</td>\n      <td>0.002153</td>\n    </tr>\n    <tr>\n      <th>5</th>\n      <td>ES</td>\n      <td>0.009893</td>\n      <td>0.725823</td>\n      <td>0.020204</td>\n      <td>0.955770</td>\n      <td>0.950241</td>\n      <td>7.853463e-11</td>\n      <td>0.772064</td>\n    </tr>\n    <tr>\n      <th>6</th>\n      <td>FR</td>\n      <td>0.006461</td>\n      <td>0.802733</td>\n      <td>0.255995</td>\n      <td>0.507358</td>\n      <td>0.460439</td>\n      <td>5.766745e-04</td>\n      <td>0.262810</td>\n    </tr>\n    <tr>\n      <th>7</th>\n      <td>HU</td>\n      <td>0.020325</td>\n      <td>0.520444</td>\n      <td>0.198994</td>\n      <td>0.215803</td>\n      <td>0.141118</td>\n      <td>5.187981e-02</td>\n      <td>0.357812</td>\n    </tr>\n    <tr>\n      <th>8</th>\n      <td>IT</td>\n      <td>0.003061</td>\n      <td>1.131474</td>\n      <td>-0.140058</td>\n      <td>0.777291</td>\n      <td>0.749452</td>\n      <td>1.698931e-06</td>\n      <td>0.438024</td>\n    </tr>\n    <tr>\n      <th>9</th>\n      <td>NL</td>\n      <td>0.005258</td>\n      <td>0.926552</td>\n      <td>0.272627</td>\n      <td>0.652493</td>\n      <td>0.619397</td>\n      <td>3.596801e-05</td>\n      <td>0.169574</td>\n    </tr>\n    <tr>\n      <th>10</th>\n      <td>PL</td>\n      <td>0.034269</td>\n      <td>0.435984</td>\n      <td>0.025408</td>\n      <td>0.332007</td>\n      <td>0.248508</td>\n      <td>1.240364e-02</td>\n      <td>0.862853</td>\n    </tr>\n    <tr>\n      <th>11</th>\n      <td>PT</td>\n      <td>0.006325</td>\n      <td>0.652944</td>\n      <td>0.169825</td>\n      <td>0.760016</td>\n      <td>0.730019</td>\n      <td>6.892060e-05</td>\n      <td>0.242512</td>\n    </tr>\n    <tr>\n      <th>12</th>\n      <td>SK</td>\n      <td>0.028562</td>\n      <td>0.990497</td>\n      <td>0.154332</td>\n      <td>0.389815</td>\n      <td>0.313542</td>\n      <td>2.319078e-02</td>\n      <td>0.590227</td>\n    </tr>\n    <tr>\n      <th>13</th>\n      <td>SI</td>\n      <td>0.010660</td>\n      <td>0.683874</td>\n      <td>0.720004</td>\n      <td>0.384407</td>\n      <td>0.307458</td>\n      <td>5.265707e-02</td>\n      <td>0.065570</td>\n    </tr>\n  </tbody>\n</table>\n</div>"
     },
     "execution_count": 620,
     "metadata": {},
     "output_type": "execute_result"
    }
   ],
   "source": [
    "results_per_countries_alt = pandas.DataFrame(results_per_countries_alt)\n",
    "results_per_countries_alt\n",
    "\n"
   ],
   "metadata": {
    "collapsed": false,
    "pycharm": {
     "name": "#%%\n"
    }
   }
  }
 ],
 "metadata": {
  "kernelspec": {
   "display_name": "Python 3 (ipykernel)",
   "language": "python",
   "name": "python3"
  },
  "language_info": {
   "codemirror_mode": {
    "name": "ipython",
    "version": 3
   },
   "file_extension": ".py",
   "mimetype": "text/x-python",
   "name": "python",
   "nbconvert_exporter": "python",
   "pygments_lexer": "ipython3",
   "version": "3.8.7"
  }
 },
 "nbformat": 4,
 "nbformat_minor": 1
}
{
 "cells": [
  {
   "cell_type": "markdown",
   "metadata": {
    "pycharm": {
     "name": "#%% md\n"
    }
   },
   "source": [
    "# Odhad CDPF\n",
    "\n",
    "## Cíl analýzy\n",
    "\n",
    "## Data a metoda\n",
    "\n",
    "NAMA_10_A10"
   ]
  },
  {
   "cell_type": "code",
   "execution_count": 99,
   "metadata": {
    "pycharm": {
     "name": "#%%\n"
    }
   },
   "outputs": [],
   "source": [
    "import eurostat\n",
    "import pandas\n",
    "import numpy\n",
    "\n",
    "LOCATIONS = [\"CZ\", \"DE\", \"AT\", \"EU27_2020\", \"ES\"]\n",
    "BASE_LOCATION = \"CZ\"\n",
    "START_YEAR = 1980\n",
    "END_YEAR = 2020"
   ]
  },
  {
   "cell_type": "markdown",
   "metadata": {
    "pycharm": {
     "name": "#%% md\n"
    }
   },
   "source": [
    "### Hrubá přidaná hodnota (Gross Value Added)"
   ]
  },
  {
   "cell_type": "code",
   "execution_count": 100,
   "metadata": {
    "pycharm": {
     "name": "#%%\n"
    }
   },
   "outputs": [],
   "source": [
    "data_1_es = eurostat.get_data_df('nama_10_a10')"
   ]
  },
  {
   "cell_type": "code",
   "execution_count": 101,
   "metadata": {
    "pycharm": {
     "name": "#%%\n"
    }
   },
   "outputs": [],
   "source": [
    "data_1 = data_1_es\n",
    "# Value added, gross\n",
    "data_1 = data_1[data_1[\"na_item\"] == \"B1G\"]\n",
    "# Total, all NACE activities\n",
    "data_1 = data_1[data_1[\"nace_r2\"] == \"TOTAL\"]\n",
    "# Current prices, million euro\n",
    "data_1 = data_1[data_1[\"unit\"].isin([\"CP_MNAC\", \"PD10_NAC\"])]\n",
    "data_1 = pandas.melt(data_1, id_vars=[\"unit\", \"na_item\", \"geo\\\\time\"], value_vars=list(range(START_YEAR, END_YEAR + 1)),\n",
    "                     value_name=\"value\", var_name=\"year\")\n",
    "data_1 = data_1.pivot(index=[\"na_item\", \"geo\\\\time\", \"year\"], columns=\"unit\", values=\"value\")\n",
    "data_1 = data_1.reset_index()\n",
    "data_1 = data_1.rename({\"CP_MNAC\": \"gross_value_added\", \"PD10_NAC\": \"gross_value_added_deflator\"}, axis=1)\n",
    "data_1[\"gross_value_added\"] = data_1[\"gross_value_added\"] * data_1[\"gross_value_added_deflator\"]\n",
    "data_1 = data_1.drop(\"gross_value_added_deflator\", axis=1)\n",
    "data_1 = data_1.dropna()\n",
    "data_1.tail()"
   ]
  },
  {
   "cell_type": "code",
   "execution_count": 102,
   "metadata": {},
   "outputs": [
    {
     "data": {
      "text/plain": "unit na_item geo\\time  year  gross_value_added  ln_gross_value_added  \\\n1840     B1G       XK  2016        547200.4080             13.212570   \n1841     B1G       XK  2017        577304.7840             13.266126   \n1842     B1G       XK  2018        617278.2520             13.333075   \n1843     B1G       XK  2019        661185.7636             13.401790   \n1844     B1G       XK  2020        660210.0975             13.400313   \n\nunit  ln_gross_value_added_t_minus_1  ln_gross_value_added_diff  \n1840                       13.159562                   0.004012  \n1841                       13.212570                   0.004037  \n1842                       13.266126                   0.005021  \n1843                       13.333075                   0.005127  \n1844                       13.401790                  -0.000110  ",
      "text/html": "<div>\n<style scoped>\n    .dataframe tbody tr th:only-of-type {\n        vertical-align: middle;\n    }\n\n    .dataframe tbody tr th {\n        vertical-align: top;\n    }\n\n    .dataframe thead th {\n        text-align: right;\n    }\n</style>\n<table border=\"1\" class=\"dataframe\">\n  <thead>\n    <tr style=\"text-align: right;\">\n      <th>unit</th>\n      <th>na_item</th>\n      <th>geo\\time</th>\n      <th>year</th>\n      <th>gross_value_added</th>\n      <th>ln_gross_value_added</th>\n      <th>ln_gross_value_added_t_minus_1</th>\n      <th>ln_gross_value_added_diff</th>\n    </tr>\n  </thead>\n  <tbody>\n    <tr>\n      <th>1840</th>\n      <td>B1G</td>\n      <td>XK</td>\n      <td>2016</td>\n      <td>547200.4080</td>\n      <td>13.212570</td>\n      <td>13.159562</td>\n      <td>0.004012</td>\n    </tr>\n    <tr>\n      <th>1841</th>\n      <td>B1G</td>\n      <td>XK</td>\n      <td>2017</td>\n      <td>577304.7840</td>\n      <td>13.266126</td>\n      <td>13.212570</td>\n      <td>0.004037</td>\n    </tr>\n    <tr>\n      <th>1842</th>\n      <td>B1G</td>\n      <td>XK</td>\n      <td>2018</td>\n      <td>617278.2520</td>\n      <td>13.333075</td>\n      <td>13.266126</td>\n      <td>0.005021</td>\n    </tr>\n    <tr>\n      <th>1843</th>\n      <td>B1G</td>\n      <td>XK</td>\n      <td>2019</td>\n      <td>661185.7636</td>\n      <td>13.401790</td>\n      <td>13.333075</td>\n      <td>0.005127</td>\n    </tr>\n    <tr>\n      <th>1844</th>\n      <td>B1G</td>\n      <td>XK</td>\n      <td>2020</td>\n      <td>660210.0975</td>\n      <td>13.400313</td>\n      <td>13.401790</td>\n      <td>-0.000110</td>\n    </tr>\n  </tbody>\n</table>\n</div>"
     },
     "execution_count": 102,
     "metadata": {},
     "output_type": "execute_result"
    }
   ],
   "source": [
    "data_1 = data_1.sort_values([\"geo\\\\time\", \"year\"])\n",
    "data_1[\"ln_gross_value_added\"] = numpy.log(data_1[\"gross_value_added\"])\n",
    "data_1[\"ln_gross_value_added_t_minus_1\"] = data_1.groupby(\"geo\\\\time\")[\"ln_gross_value_added\"].shift(1)\n",
    "data_1[\"ln_gross_value_added_diff\"] = (data_1[\"ln_gross_value_added\"] - data_1[\"ln_gross_value_added_t_minus_1\"]) / data_1[\"ln_gross_value_added\"]\n",
    "data_1.tail()"
   ]
  },
  {
   "cell_type": "code",
   "execution_count": 105,
   "metadata": {
    "pycharm": {
     "name": "#%%\n"
    }
   },
   "outputs": [
    {
     "data": {
      "text/plain": "geo\\time\nAT           AxesSubplot(0.125,0.125;0.775x0.755)\nCZ           AxesSubplot(0.125,0.125;0.775x0.755)\nDE           AxesSubplot(0.125,0.125;0.775x0.755)\nES           AxesSubplot(0.125,0.125;0.775x0.755)\nEU27_2020    AxesSubplot(0.125,0.125;0.775x0.755)\nName: ln_gross_value_added_diff, dtype: object"
     },
     "execution_count": 105,
     "metadata": {},
     "output_type": "execute_result"
    },
    {
     "data": {
      "text/plain": "<Figure size 432x288 with 1 Axes>",
      "image/png": "[encoded data removed]"
     },
     "metadata": {
      "needs_background": "light"
     },
     "output_type": "display_data"
    }
   ],
   "source": [
    "data_1[data_1[\"geo\\\\time\"].isin(LOCATIONS)].dropna().groupby(\"geo\\\\time\")[\"ln_gross_value_added_diff\"].plot(legend=True)"
   ]
  },
  {
   "cell_type": "code",
   "execution_count": null,
   "metadata": {},
   "outputs": [],
   "source": [
    "data_2_es = eurostat.get_data_df('nama_10_a10_e')"
   ]
  },
  {
   "cell_type": "code",
   "execution_count": null,
   "metadata": {
    "pycharm": {
     "name": "#%%\n"
    }
   },
   "outputs": [],
   "source": [
    "data_2 = data_2_es\n",
    "# Total employment domestic concept\n",
    "data_2 = data_2[data_2[\"na_item\"] == \"EMP_DC\"]\n",
    "# Total, all NACE activities\n",
    "data_2 = data_2[data_2[\"nace_r2\"] == \"TOTAL\"]\n",
    "# Thousands hours worked\n",
    "data_2 = data_2[data_2[\"unit\"] == \"THS_HW\"]\n",
    "data_2 = pandas.melt(data_2, id_vars=[\"unit\", \"na_item\", \"geo\\\\time\"], value_vars=list(range(START_YEAR, END_YEAR + 1)),\n",
    "                    value_name=\"thousands_hours_worked\", var_name=\"year\")\n",
    "data_2 = data_2.sort_values([\"geo\\\\time\", \"year\"])\n",
    "data_2 = data_2.dropna()\n",
    "data_2[\"ln_thousands_hours_worked\"] = numpy.log(data_2[\"thousands_hours_worked\"])\n",
    "data_2[\"ln_thousands_hours_worked_t_minus_1\"] = data_2.groupby(\"geo\\\\time\")[\"ln_thousands_hours_worked\"].shift(1)\n",
    "data_2[\"ln_thousands_hours_worked_diff\"] = (data_2[\"ln_thousands_hours_worked\"] - data_2[\"ln_thousands_hours_worked_t_minus_1\"]) / data_2[\"ln_thousands_hours_worked\"]\n",
    "data_2.head()"
   ]
  },
  {
   "cell_type": "code",
   "execution_count": null,
   "metadata": {
    "pycharm": {
     "name": "#%%\n"
    }
   },
   "outputs": [],
   "source": [
    "data_3_es = eurostat.get_data_df('nama_10_nfa_bs')"
   ]
  },
  {
   "cell_type": "code",
   "execution_count": null,
   "outputs": [],
   "source": [
    "data_3 = data_3_es\n",
    "data_3 = eurostat.get_data_df('nama_10_nfa_bs')\n",
    "# Total fixed assets (net)\n",
    "data_3 = data_3[data_3[\"asset10\"] == \"N11N\"]\n",
    "# Total, all activities\n",
    "data_3 = data_3[data_3[\"sector\"] == \"S1\"]\n",
    "# Current fixed prices, millions of national currency\n",
    "data_3 = data_3[data_3[\"unit\"] == \"CP_MNAC\"]\n",
    "data_3 = pandas.melt(data_3, id_vars=[\"unit\", \"asset10\", \"geo\\\\time\"], value_vars=list(range(START_YEAR, END_YEAR + 1)),\n",
    "                    value_name=\"total_fixed_assets\", var_name=\"year\")\n",
    "data_3 = data_3.sort_values([\"geo\\\\time\", \"year\"])\n",
    "data_3 = data_3.dropna()\n",
    "data_3[\"ln_total_fixed_assets\"] = numpy.log(data_3[\"total_fixed_assets\"])\n",
    "data_3[\"ln_total_fixed_assets_t_minus_1\"] = data_3.groupby(\"geo\\\\time\")[\"ln_total_fixed_assets\"].shift(1)\n",
    "data_3[\"ln_total_fixed_assets_diff\"] = (data_3[\"ln_total_fixed_assets\"] - data_3[\"ln_total_fixed_assets_t_minus_1\"]) / data_3[\"ln_total_fixed_assets\"]\n",
    "data_3.tail()"
   ],
   "metadata": {
    "collapsed": false,
    "pycharm": {
     "name": "#%%\n"
    }
   }
  },
  {
   "cell_type": "code",
   "execution_count": null,
   "outputs": [],
   "source": [
    "data_4_es = eurostat.get_data_df('nama_10_nfa_fl')"
   ],
   "metadata": {
    "collapsed": false,
    "pycharm": {
     "name": "#%%\n"
    }
   }
  },
  {
   "cell_type": "code",
   "execution_count": null,
   "outputs": [],
   "source": [
    "data_4 = data_4_es\n",
    "#\n",
    "data_4 = data_4[data_4[\"asset10\"] == \"N11G\"]\n",
    "#\n",
    "data_4 = data_4[data_4[\"nace_r2\"] == \"TOTAL\"]\n",
    "#\n",
    "data_4 = data_4[data_4[\"unit\"] == \"PD10_NAC\"]\n",
    "data_4 = pandas.melt(data_4, id_vars=[\"unit\", \"asset10\", \"geo\\\\time\"], value_vars=list(range(START_YEAR, END_YEAR + 1)),\n",
    "                    value_name=\"capital_stock_deflator\", var_name=\"year\")\n",
    "data_4 = data_4.sort_values([\"geo\\\\time\", \"year\"])\n",
    "data_4 = data_4.dropna()\n",
    "data_4[\"ln_capital_stock_deflator\"] = numpy.log(data_4[\"capital_stock_deflator\"])\n",
    "data_4[\"ln_capital_stock_deflator_t_minus_1\"] = data_4.groupby(\"geo\\\\time\")[\"ln_capital_stock_deflator\"].shift(1)\n",
    "data_4[\"ln_capital_stock_deflators_diff\"] = (data_4[\"ln_capital_stock_deflator\"] - data_4[\"ln_capital_stock_deflator_t_minus_1\"]) / data_4[\"ln_capital_stock_deflator\"]\n",
    "data_4.tail()"
   ],
   "metadata": {
    "collapsed": false,
    "pycharm": {
     "name": "#%%\n"
    }
   }
  },
  {
   "cell_type": "code",
   "execution_count": null,
   "outputs": [],
   "source": [],
   "metadata": {
    "collapsed": false,
    "pycharm": {
     "name": "#%%\n"
    }
   }
  }
 ],
 "metadata": {
  "kernelspec": {
   "display_name": "Python 3 (ipykernel)",
   "language": "python",
   "name": "python3"
  },
  "language_info": {
   "codemirror_mode": {
    "name": "ipython",
    "version": 3
   },
   "file_extension": ".py",
   "mimetype": "text/x-python",
   "name": "python",
   "nbconvert_exporter": "python",
   "pygments_lexer": "ipython3",
   "version": "3.8.7"
  }
 },
 "nbformat": 4,
 "nbformat_minor": 1
}
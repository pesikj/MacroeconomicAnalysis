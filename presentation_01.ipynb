{
 "cells": [
  {
   "cell_type": "markdown",
   "metadata": {
    "collapsed": true,
    "pycharm": {
     "name": "#%% md\n"
    }
   },
   "source": [
    "# Růst a konvergence\n",
    "\n",
    "## Cíl analýzy\n",
    "\n",
    "- Zlepšuje se situace České republiky v rámci Evropské unie z pohledu:\n",
    "  - Růstu GDP\n",
    "  - Růstu mezd\n",
    "  - Růstu příjmů domácností\n",
    "\n",
    "Cílem analýzy je zjistit, zda a kdy doženeme vybrané státy EU na základě průměrných růstů hodnot v letech 2010-2019.\n",
    "\n",
    "## Data & Metoda\n",
    "\n",
    "Vybraná data pocházejí z databáze Eurostatu:\n",
    "- GDP na obyvatele\n",
    "- Mzdové náklady\n",
    "- Příjmy domácností"
   ]
  },
  {
   "cell_type": "code",
   "source": [
    "import eurostat\n",
    "from scipy.stats.mstats import gmean\n",
    "import pandas\n",
    "import numpy\n",
    "\n",
    "LOCATIONS = [\"CZ\", \"DE\", \"AT\", \"EU27_2020\", \"ES\"]\n",
    "BASE_LOCATION = \"CZ\"\n",
    "START_YEAR = 2010\n",
    "END_YEAR = 2019\n",
    "\n",
    "# G1GQ = \"Gross domestic product at market prices\"\n",
    "# D11 = \"Wages and salaries\"\n",
    "\n",
    "data_1 = eurostat.get_data_df('nama_10_pc')\n",
    "data_1 = data_1[data_1[\"na_item\"].isin([\"B1GQ\", \"D11\"])]\n",
    "data_1 = data_1[data_1[\"geo\\\\time\"].isin(LOCATIONS)]\n",
    "data_1 = data_1[data_1[\"unit\"].isin([\"CP_PPS_HAB\", \"CP_EUR_HAB\"])]\n",
    "data_1[\"na_item\"] = data_1[\"na_item\"] + data_1[\"unit\"]\n",
    "data_1.head()"
   ],
   "metadata": {
    "collapsed": false,
    "pycharm": {
     "name": "#%%\n"
    }
   },
   "execution_count": 58,
   "outputs": [
    {
     "data": {
      "text/plain": "            unit         na_item   geo\\time     2020     2019     2018  \\\n1481  CP_EUR_HAB  B1GQCP_EUR_HAB         AT  42540.0  44780.0  43610.0   \n1486  CP_EUR_HAB  B1GQCP_EUR_HAB         CZ  20120.0  21140.0  19850.0   \n1487  CP_EUR_HAB  B1GQCP_EUR_HAB         DE  40490.0  41800.0  40620.0   \n1494  CP_EUR_HAB  B1GQCP_EUR_HAB         ES  23690.0  26420.0  25750.0   \n1496  CP_EUR_HAB  B1GQCP_EUR_HAB  EU27_2020  29890.0  31310.0  30290.0   \n\n         2017     2016     2015     2014  ...  1984  1983  1982  1981  1980  \\\n1481  42000.0  40920.0  39890.0  38990.0  ...   NaN   NaN   NaN   NaN   NaN   \n1486  18330.0  16790.0  16080.0  15000.0  ...   NaN   NaN   NaN   NaN   NaN   \n1487  39530.0  38070.0  37050.0  36150.0  ...   NaN   NaN   NaN   NaN   NaN   \n1494  24970.0  23980.0  23220.0  22220.0  ...   NaN   NaN   NaN   NaN   NaN   \n1496  29320.0  28200.0  27500.0  26580.0  ...   NaN   NaN   NaN   NaN   NaN   \n\n      1979  1978  1977  1976  1975  \n1481   NaN   NaN   NaN   NaN   NaN  \n1486   NaN   NaN   NaN   NaN   NaN  \n1487   NaN   NaN   NaN   NaN   NaN  \n1494   NaN   NaN   NaN   NaN   NaN  \n1496   NaN   NaN   NaN   NaN   NaN  \n\n[5 rows x 49 columns]",
      "text/html": "<div>\n<style scoped>\n    .dataframe tbody tr th:only-of-type {\n        vertical-align: middle;\n    }\n\n    .dataframe tbody tr th {\n        vertical-align: top;\n    }\n\n    .dataframe thead th {\n        text-align: right;\n    }\n</style>\n<table border=\"1\" class=\"dataframe\">\n  <thead>\n    <tr style=\"text-align: right;\">\n      <th></th>\n      <th>unit</th>\n      <th>na_item</th>\n      <th>geo\\time</th>\n      <th>2020</th>\n      <th>2019</th>\n      <th>2018</th>\n      <th>2017</th>\n      <th>2016</th>\n      <th>2015</th>\n      <th>2014</th>\n      <th>...</th>\n      <th>1984</th>\n      <th>1983</th>\n      <th>1982</th>\n      <th>1981</th>\n      <th>1980</th>\n      <th>1979</th>\n      <th>1978</th>\n      <th>1977</th>\n      <th>1976</th>\n      <th>1975</th>\n    </tr>\n  </thead>\n  <tbody>\n    <tr>\n      <th>1481</th>\n      <td>CP_EUR_HAB</td>\n      <td>B1GQCP_EUR_HAB</td>\n      <td>AT</td>\n      <td>42540.0</td>\n      <td>44780.0</td>\n      <td>43610.0</td>\n      <td>42000.0</td>\n      <td>40920.0</td>\n      <td>39890.0</td>\n      <td>38990.0</td>\n      <td>...</td>\n      <td>NaN</td>\n      <td>NaN</td>\n      <td>NaN</td>\n      <td>NaN</td>\n      <td>NaN</td>\n      <td>NaN</td>\n      <td>NaN</td>\n      <td>NaN</td>\n      <td>NaN</td>\n      <td>NaN</td>\n    </tr>\n    <tr>\n      <th>1486</th>\n      <td>CP_EUR_HAB</td>\n      <td>B1GQCP_EUR_HAB</td>\n      <td>CZ</td>\n      <td>20120.0</td>\n      <td>21140.0</td>\n      <td>19850.0</td>\n      <td>18330.0</td>\n      <td>16790.0</td>\n      <td>16080.0</td>\n      <td>15000.0</td>\n      <td>...</td>\n      <td>NaN</td>\n      <td>NaN</td>\n      <td>NaN</td>\n      <td>NaN</td>\n      <td>NaN</td>\n      <td>NaN</td>\n      <td>NaN</td>\n      <td>NaN</td>\n      <td>NaN</td>\n      <td>NaN</td>\n    </tr>\n    <tr>\n      <th>1487</th>\n      <td>CP_EUR_HAB</td>\n      <td>B1GQCP_EUR_HAB</td>\n      <td>DE</td>\n      <td>40490.0</td>\n      <td>41800.0</td>\n      <td>40620.0</td>\n      <td>39530.0</td>\n      <td>38070.0</td>\n      <td>37050.0</td>\n      <td>36150.0</td>\n      <td>...</td>\n      <td>NaN</td>\n      <td>NaN</td>\n      <td>NaN</td>\n      <td>NaN</td>\n      <td>NaN</td>\n      <td>NaN</td>\n      <td>NaN</td>\n      <td>NaN</td>\n      <td>NaN</td>\n      <td>NaN</td>\n    </tr>\n    <tr>\n      <th>1494</th>\n      <td>CP_EUR_HAB</td>\n      <td>B1GQCP_EUR_HAB</td>\n      <td>ES</td>\n      <td>23690.0</td>\n      <td>26420.0</td>\n      <td>25750.0</td>\n      <td>24970.0</td>\n      <td>23980.0</td>\n      <td>23220.0</td>\n      <td>22220.0</td>\n      <td>...</td>\n      <td>NaN</td>\n      <td>NaN</td>\n      <td>NaN</td>\n      <td>NaN</td>\n      <td>NaN</td>\n      <td>NaN</td>\n      <td>NaN</td>\n      <td>NaN</td>\n      <td>NaN</td>\n      <td>NaN</td>\n    </tr>\n    <tr>\n      <th>1496</th>\n      <td>CP_EUR_HAB</td>\n      <td>B1GQCP_EUR_HAB</td>\n      <td>EU27_2020</td>\n      <td>29890.0</td>\n      <td>31310.0</td>\n      <td>30290.0</td>\n      <td>29320.0</td>\n      <td>28200.0</td>\n      <td>27500.0</td>\n      <td>26580.0</td>\n      <td>...</td>\n      <td>NaN</td>\n      <td>NaN</td>\n      <td>NaN</td>\n      <td>NaN</td>\n      <td>NaN</td>\n      <td>NaN</td>\n      <td>NaN</td>\n      <td>NaN</td>\n      <td>NaN</td>\n      <td>NaN</td>\n    </tr>\n  </tbody>\n</table>\n<p>5 rows × 49 columns</p>\n</div>"
     },
     "execution_count": 58,
     "metadata": {},
     "output_type": "execute_result"
    }
   ]
  },
  {
   "cell_type": "markdown",
   "source": [],
   "metadata": {
    "collapsed": false,
    "pycharm": {
     "name": "#%% md\n"
    }
   }
  },
  {
   "cell_type": "code",
   "source": [
    "data_2 = eurostat.get_data_df('earn_nt_net')\n",
    "data_2 = data_2[data_2[\"ecase\"] == \"CPL_CH2_AW100\"]\n",
    "data_2 = data_2[data_2[\"estruct\"] == \"NET\"]\n",
    "data_2 = data_2[data_2[\"currency\"] == \"EUR\"]\n",
    "data_2 = data_2[data_2[\"geo\\\\time\"].isin(LOCATIONS)]\n",
    "data_2[\"na_item\"] = \"EARN_NT_NET\"\n",
    "data_2[\"unit\"] = \"EUR\"\n",
    "data_2.head()"
   ],
   "metadata": {
    "collapsed": false,
    "pycharm": {
     "name": "#%%\n"
    }
   },
   "execution_count": 59,
   "outputs": [
    {
     "data": {
      "text/plain": "     currency estruct          ecase   geo\\time      2020      2019      2018  \\\n988       EUR     NET  CPL_CH2_AW100         AT  42367.09  41162.12  37847.53   \n993       EUR     NET  CPL_CH2_AW100         CZ  15044.67  15523.25  14901.52   \n994       EUR     NET  CPL_CH2_AW100         DE  41906.20  40947.00  39677.88   \n999       EUR     NET  CPL_CH2_AW100         ES  23135.71  23386.32  23117.99   \n1001      EUR     NET  CPL_CH2_AW100  EU27_2020  29122.58  28475.11  27561.29   \n\n          2017      2016      2015  ...      2007      2006      2005  \\\n988   37220.14  36707.82  34414.48  ...  29156.03  28577.26  27969.56   \n993   13460.59  12400.77  11526.74  ...   9589.03   8238.63   7250.98   \n994   38506.23  37908.73  37098.03  ...  31055.10  30305.54  30175.28   \n999   22857.77  22766.68  22785.53  ...  19214.65  18344.53  17944.65   \n1001  26934.95  26467.96  25852.39  ...       NaN       NaN       NaN   \n\n          2004      2003      2002      2001      2000      na_item  unit  \n988   27190.26  26837.62  25885.11  25475.92  25227.80  EARN_NT_NET   EUR  \n993    6290.27   6052.39   6159.65   5224.26   4761.09  EARN_NT_NET   EUR  \n994   29920.15  28872.00  28613.40  27674.96  26831.60  EARN_NT_NET   EUR  \n999   17531.09  17060.87  16236.28  15751.25  15324.04  EARN_NT_NET   EUR  \n1001       NaN       NaN       NaN       NaN       NaN  EARN_NT_NET   EUR  \n\n[5 rows x 27 columns]",
      "text/html": "<div>\n<style scoped>\n    .dataframe tbody tr th:only-of-type {\n        vertical-align: middle;\n    }\n\n    .dataframe tbody tr th {\n        vertical-align: top;\n    }\n\n    .dataframe thead th {\n        text-align: right;\n    }\n</style>\n<table border=\"1\" class=\"dataframe\">\n  <thead>\n    <tr style=\"text-align: right;\">\n      <th></th>\n      <th>currency</th>\n      <th>estruct</th>\n      <th>ecase</th>\n      <th>geo\\time</th>\n      <th>2020</th>\n      <th>2019</th>\n      <th>2018</th>\n      <th>2017</th>\n      <th>2016</th>\n      <th>2015</th>\n      <th>...</th>\n      <th>2007</th>\n      <th>2006</th>\n      <th>2005</th>\n      <th>2004</th>\n      <th>2003</th>\n      <th>2002</th>\n      <th>2001</th>\n      <th>2000</th>\n      <th>na_item</th>\n      <th>unit</th>\n    </tr>\n  </thead>\n  <tbody>\n    <tr>\n      <th>988</th>\n      <td>EUR</td>\n      <td>NET</td>\n      <td>CPL_CH2_AW100</td>\n      <td>AT</td>\n      <td>42367.09</td>\n      <td>41162.12</td>\n      <td>37847.53</td>\n      <td>37220.14</td>\n      <td>36707.82</td>\n      <td>34414.48</td>\n      <td>...</td>\n      <td>29156.03</td>\n      <td>28577.26</td>\n      <td>27969.56</td>\n      <td>27190.26</td>\n      <td>26837.62</td>\n      <td>25885.11</td>\n      <td>25475.92</td>\n      <td>25227.80</td>\n      <td>EARN_NT_NET</td>\n      <td>EUR</td>\n    </tr>\n    <tr>\n      <th>993</th>\n      <td>EUR</td>\n      <td>NET</td>\n      <td>CPL_CH2_AW100</td>\n      <td>CZ</td>\n      <td>15044.67</td>\n      <td>15523.25</td>\n      <td>14901.52</td>\n      <td>13460.59</td>\n      <td>12400.77</td>\n      <td>11526.74</td>\n      <td>...</td>\n      <td>9589.03</td>\n      <td>8238.63</td>\n      <td>7250.98</td>\n      <td>6290.27</td>\n      <td>6052.39</td>\n      <td>6159.65</td>\n      <td>5224.26</td>\n      <td>4761.09</td>\n      <td>EARN_NT_NET</td>\n      <td>EUR</td>\n    </tr>\n    <tr>\n      <th>994</th>\n      <td>EUR</td>\n      <td>NET</td>\n      <td>CPL_CH2_AW100</td>\n      <td>DE</td>\n      <td>41906.20</td>\n      <td>40947.00</td>\n      <td>39677.88</td>\n      <td>38506.23</td>\n      <td>37908.73</td>\n      <td>37098.03</td>\n      <td>...</td>\n      <td>31055.10</td>\n      <td>30305.54</td>\n      <td>30175.28</td>\n      <td>29920.15</td>\n      <td>28872.00</td>\n      <td>28613.40</td>\n      <td>27674.96</td>\n      <td>26831.60</td>\n      <td>EARN_NT_NET</td>\n      <td>EUR</td>\n    </tr>\n    <tr>\n      <th>999</th>\n      <td>EUR</td>\n      <td>NET</td>\n      <td>CPL_CH2_AW100</td>\n      <td>ES</td>\n      <td>23135.71</td>\n      <td>23386.32</td>\n      <td>23117.99</td>\n      <td>22857.77</td>\n      <td>22766.68</td>\n      <td>22785.53</td>\n      <td>...</td>\n      <td>19214.65</td>\n      <td>18344.53</td>\n      <td>17944.65</td>\n      <td>17531.09</td>\n      <td>17060.87</td>\n      <td>16236.28</td>\n      <td>15751.25</td>\n      <td>15324.04</td>\n      <td>EARN_NT_NET</td>\n      <td>EUR</td>\n    </tr>\n    <tr>\n      <th>1001</th>\n      <td>EUR</td>\n      <td>NET</td>\n      <td>CPL_CH2_AW100</td>\n      <td>EU27_2020</td>\n      <td>29122.58</td>\n      <td>28475.11</td>\n      <td>27561.29</td>\n      <td>26934.95</td>\n      <td>26467.96</td>\n      <td>25852.39</td>\n      <td>...</td>\n      <td>NaN</td>\n      <td>NaN</td>\n      <td>NaN</td>\n      <td>NaN</td>\n      <td>NaN</td>\n      <td>NaN</td>\n      <td>NaN</td>\n      <td>NaN</td>\n      <td>EARN_NT_NET</td>\n      <td>EUR</td>\n    </tr>\n  </tbody>\n</table>\n<p>5 rows × 27 columns</p>\n</div>"
     },
     "execution_count": 59,
     "metadata": {},
     "output_type": "execute_result"
    }
   ]
  },
  {
   "cell_type": "markdown",
   "source": [],
   "metadata": {
    "collapsed": false
   }
  },
  {
   "cell_type": "code",
   "source": [
    "data = pandas.concat([data_1, data_2])"
   ],
   "metadata": {
    "collapsed": false,
    "pycharm": {
     "name": "#%%\n"
    }
   },
   "execution_count": 60,
   "outputs": []
  },
  {
   "cell_type": "markdown",
   "source": [
    "### Průměrný růst ukazatelů v letech 2010 až 2019"
   ],
   "metadata": {
    "collapsed": false
   }
  },
  {
   "cell_type": "code",
   "source": [
    "data = pandas.melt(data, id_vars=[\"unit\", \"na_item\", \"geo\\\\time\"], value_vars=list(range(START_YEAR, END_YEAR + 1)))\n",
    "data_last_year = data[data[\"variable\"] == 2019]\n",
    "data = data.sort_values([\"na_item\", \"geo\\\\time\", \"variable\"])\n",
    "data[\"change\"] = data.groupby([\"na_item\", \"geo\\\\time\"])[\"value\"].pct_change() + 1\n",
    "data = data.dropna()\n",
    "data = data.pivot_table(index=\"na_item\", columns=\"geo\\\\time\", values=\"change\", aggfunc=gmean)\n",
    "data = data - 1\n",
    "data"
   ],
   "metadata": {
    "collapsed": false,
    "pycharm": {
     "name": "#%%\n"
    }
   },
   "execution_count": 61,
   "outputs": [
    {
     "data": {
      "text/plain": "geo\\time              AT        CZ        DE        ES  EU27_2020\nna_item                                                          \nB1GQCP_EUR_HAB  0.026493  0.038706  0.030344  0.015326   0.025779\nB1GQCP_PPS_HAB  0.025245  0.038016  0.027099  0.019879   0.026954\nEARN_NT_NET     0.029807  0.028891  0.022362  0.010648   0.019003",
      "text/html": "<div>\n<style scoped>\n    .dataframe tbody tr th:only-of-type {\n        vertical-align: middle;\n    }\n\n    .dataframe tbody tr th {\n        vertical-align: top;\n    }\n\n    .dataframe thead th {\n        text-align: right;\n    }\n</style>\n<table border=\"1\" class=\"dataframe\">\n  <thead>\n    <tr style=\"text-align: right;\">\n      <th>geo\\time</th>\n      <th>AT</th>\n      <th>CZ</th>\n      <th>DE</th>\n      <th>ES</th>\n      <th>EU27_2020</th>\n    </tr>\n    <tr>\n      <th>na_item</th>\n      <th></th>\n      <th></th>\n      <th></th>\n      <th></th>\n      <th></th>\n    </tr>\n  </thead>\n  <tbody>\n    <tr>\n      <th>B1GQCP_EUR_HAB</th>\n      <td>0.026493</td>\n      <td>0.038706</td>\n      <td>0.030344</td>\n      <td>0.015326</td>\n      <td>0.025779</td>\n    </tr>\n    <tr>\n      <th>B1GQCP_PPS_HAB</th>\n      <td>0.025245</td>\n      <td>0.038016</td>\n      <td>0.027099</td>\n      <td>0.019879</td>\n      <td>0.026954</td>\n    </tr>\n    <tr>\n      <th>EARN_NT_NET</th>\n      <td>0.029807</td>\n      <td>0.028891</td>\n      <td>0.022362</td>\n      <td>0.010648</td>\n      <td>0.019003</td>\n    </tr>\n  </tbody>\n</table>\n</div>"
     },
     "execution_count": 61,
     "metadata": {},
     "output_type": "execute_result"
    }
   ]
  },
  {
   "cell_type": "markdown",
   "source": [
    "### Hodnoty ukazatelů v roce 2019 v EUR"
   ],
   "metadata": {
    "collapsed": false
   }
  },
  {
   "cell_type": "code",
   "execution_count": 62,
   "outputs": [
    {
     "data": {
      "text/plain": "geo\\time              AT        CZ       DE        ES  EU27_2020\nna_item                                                         \nB1GQCP_EUR_HAB  44780.00  21140.00  41800.0  26420.00   31310.00\nB1GQCP_PPS_HAB  40250.00  29730.00  38620.0  28950.00   31990.00\nEARN_NT_NET     41162.12  15523.25  40947.0  23386.32   28475.11",
      "text/html": "<div>\n<style scoped>\n    .dataframe tbody tr th:only-of-type {\n        vertical-align: middle;\n    }\n\n    .dataframe tbody tr th {\n        vertical-align: top;\n    }\n\n    .dataframe thead th {\n        text-align: right;\n    }\n</style>\n<table border=\"1\" class=\"dataframe\">\n  <thead>\n    <tr style=\"text-align: right;\">\n      <th>geo\\time</th>\n      <th>AT</th>\n      <th>CZ</th>\n      <th>DE</th>\n      <th>ES</th>\n      <th>EU27_2020</th>\n    </tr>\n    <tr>\n      <th>na_item</th>\n      <th></th>\n      <th></th>\n      <th></th>\n      <th></th>\n      <th></th>\n    </tr>\n  </thead>\n  <tbody>\n    <tr>\n      <th>B1GQCP_EUR_HAB</th>\n      <td>44780.00</td>\n      <td>21140.00</td>\n      <td>41800.0</td>\n      <td>26420.00</td>\n      <td>31310.00</td>\n    </tr>\n    <tr>\n      <th>B1GQCP_PPS_HAB</th>\n      <td>40250.00</td>\n      <td>29730.00</td>\n      <td>38620.0</td>\n      <td>28950.00</td>\n      <td>31990.00</td>\n    </tr>\n    <tr>\n      <th>EARN_NT_NET</th>\n      <td>41162.12</td>\n      <td>15523.25</td>\n      <td>40947.0</td>\n      <td>23386.32</td>\n      <td>28475.11</td>\n    </tr>\n  </tbody>\n</table>\n</div>"
     },
     "execution_count": 62,
     "metadata": {},
     "output_type": "execute_result"
    }
   ],
   "source": [
    "data_last_year = data_last_year[[\"na_item\", \"geo\\\\time\", \"value\"]]\n",
    "data_last_year = data_last_year.pivot(index=\"na_item\", columns=\"geo\\\\time\", values=\"value\")\n",
    "data_last_year"
   ],
   "metadata": {
    "collapsed": false,
    "pycharm": {
     "name": "#%%\n"
    }
   }
  },
  {
   "cell_type": "markdown",
   "source": [
    "### Za kolik let ČR dožene jednotlivé země?"
   ],
   "metadata": {
    "collapsed": false
   }
  },
  {
   "cell_type": "code",
   "execution_count": 80,
   "outputs": [
    {
     "data": {
      "text/plain": "geo\\time         AT_geom   CZ_geom   DE_geom   ES_geom  EU27_2020_geom  \\\nna_item                                                                  \nB1GQCP_EUR_HAB  0.026493  0.038706  0.030344  0.015326        0.025779   \nB1GQCP_PPS_HAB  0.025245  0.038016  0.027099  0.019879        0.026954   \nEARN_NT_NET     0.029807  0.028891  0.022362  0.010648        0.019003   \n\ngeo\\time           AT_ly     CZ_ly    DE_ly     ES_ly  EU27_2020_ly  \\\nna_item                                                               \nB1GQCP_EUR_HAB  44780.00  21140.00  41800.0  26420.00      31310.00   \nB1GQCP_PPS_HAB  40250.00  29730.00  38620.0  28950.00      31990.00   \nEARN_NT_NET     41162.12  15523.25  40947.0  23386.32      28475.11   \n\ngeo\\time           AT_yrs      DE_yrs     ES_yrs  EU27_2020_yrs  \nna_item                                                          \nB1GQCP_EUR_HAB  61.456408   81.526695   9.536055      30.382615  \nB1GQCP_PPS_HAB  23.722642   23.963995        NaN       6.623288  \nEARN_NT_NET           NaN  148.556057  22.463958      61.357928  ",
      "text/html": "<div>\n<style scoped>\n    .dataframe tbody tr th:only-of-type {\n        vertical-align: middle;\n    }\n\n    .dataframe tbody tr th {\n        vertical-align: top;\n    }\n\n    .dataframe thead th {\n        text-align: right;\n    }\n</style>\n<table border=\"1\" class=\"dataframe\">\n  <thead>\n    <tr style=\"text-align: right;\">\n      <th>geo\\time</th>\n      <th>AT_geom</th>\n      <th>CZ_geom</th>\n      <th>DE_geom</th>\n      <th>ES_geom</th>\n      <th>EU27_2020_geom</th>\n      <th>AT_ly</th>\n      <th>CZ_ly</th>\n      <th>DE_ly</th>\n      <th>ES_ly</th>\n      <th>EU27_2020_ly</th>\n      <th>AT_yrs</th>\n      <th>DE_yrs</th>\n      <th>ES_yrs</th>\n      <th>EU27_2020_yrs</th>\n    </tr>\n    <tr>\n      <th>na_item</th>\n      <th></th>\n      <th></th>\n      <th></th>\n      <th></th>\n      <th></th>\n      <th></th>\n      <th></th>\n      <th></th>\n      <th></th>\n      <th></th>\n      <th></th>\n      <th></th>\n      <th></th>\n      <th></th>\n    </tr>\n  </thead>\n  <tbody>\n    <tr>\n      <th>B1GQCP_EUR_HAB</th>\n      <td>0.026493</td>\n      <td>0.038706</td>\n      <td>0.030344</td>\n      <td>0.015326</td>\n      <td>0.025779</td>\n      <td>44780.00</td>\n      <td>21140.00</td>\n      <td>41800.0</td>\n      <td>26420.00</td>\n      <td>31310.00</td>\n      <td>61.456408</td>\n      <td>81.526695</td>\n      <td>9.536055</td>\n      <td>30.382615</td>\n    </tr>\n    <tr>\n      <th>B1GQCP_PPS_HAB</th>\n      <td>0.025245</td>\n      <td>0.038016</td>\n      <td>0.027099</td>\n      <td>0.019879</td>\n      <td>0.026954</td>\n      <td>40250.00</td>\n      <td>29730.00</td>\n      <td>38620.0</td>\n      <td>28950.00</td>\n      <td>31990.00</td>\n      <td>23.722642</td>\n      <td>23.963995</td>\n      <td>NaN</td>\n      <td>6.623288</td>\n    </tr>\n    <tr>\n      <th>EARN_NT_NET</th>\n      <td>0.029807</td>\n      <td>0.028891</td>\n      <td>0.022362</td>\n      <td>0.010648</td>\n      <td>0.019003</td>\n      <td>41162.12</td>\n      <td>15523.25</td>\n      <td>40947.0</td>\n      <td>23386.32</td>\n      <td>28475.11</td>\n      <td>NaN</td>\n      <td>148.556057</td>\n      <td>22.463958</td>\n      <td>61.357928</td>\n    </tr>\n  </tbody>\n</table>\n</div>"
     },
     "execution_count": 80,
     "metadata": {},
     "output_type": "execute_result"
    }
   ],
   "source": [
    "data_final = data.merge(data_last_year, left_index=True, right_index=True, suffixes=(\"_geom\", \"_ly\"))\n",
    "\n",
    "def estimate_required_time(row, base_column, moving_column, country_count):\n",
    "  years = (numpy.log(row[moving_column + country_count]) - numpy.log(row[base_column + country_count])) \\\n",
    "         / (row[base_column] - row[moving_column])\n",
    "  if years < 0:\n",
    "    return numpy.NAN\n",
    "  return years\n",
    "\n",
    "column_list = data_final.columns.tolist()\n",
    "base_column = column_list.index(f\"{BASE_LOCATION}_geom\")\n",
    "for i in range(0, len(LOCATIONS)):\n",
    "  current_country = column_list[i].replace(\"_geom\", \"\")\n",
    "  if current_country == BASE_LOCATION:\n",
    "    continue\n",
    "  data_final[f\"{current_country}_yrs\"] = data_final.apply(estimate_required_time, axis=1, args=(base_column, i, len(LOCATIONS)))\n",
    "data_final"
   ],
   "metadata": {
    "collapsed": false,
    "pycharm": {
     "name": "#%%\n"
    }
   }
  },
  {
   "cell_type": "markdown",
   "source": [
    "## Závěr\n",
    "\n",
    "- Česká republika v GDP na obyvatele v paritě kupní síly předehnala Španělsko před rokem 2019, Rakousko a Německo by\n",
    "měla dohnat za 24 let, průměr EU za 7\n",
    "- V běžných cenách jsou doby podstatně delší\n",
    "- Příjmy domácností jsou na podstatně nižší úrovni a rostou relativně pomaleji než GDP. Domácnosti tedy bohatly\n",
    "pomaleji než ekonomika.\n",
    "- Příjmovou úroveň Španělska by Česká republika měla dohnat až za 22 let, Německa za více než 100 let a Rakousko\n",
    "v daném období dokonce rostlo rychleji\n"
   ],
   "metadata": {
    "collapsed": false
   }
  }
 ],
 "metadata": {
  "kernelspec": {
   "display_name": "Python 3",
   "language": "python",
   "name": "python3"
  },
  "language_info": {
   "codemirror_mode": {
    "name": "ipython",
    "version": 2
   },
   "file_extension": ".py",
   "mimetype": "text/x-python",
   "name": "python",
   "nbconvert_exporter": "python",
   "pygments_lexer": "ipython2",
   "version": "2.7.6"
  }
 },
 "nbformat": 4,
 "nbformat_minor": 0
}
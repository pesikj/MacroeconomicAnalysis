{
 "cells": [
  {
   "cell_type": "markdown",
   "source": [
    "# Odhad CDPF\n",
    "\n",
    "## Cíl analýzy\n",
    "\n",
    "Cílem analýzy je odhad neoklasické agregátní CDPF.\n",
    "\n",
    "## Data a metoda\n",
    "\n",
    "Pro odhad byly použity následující hodnoty:\n",
    "\n",
    "- hrubá přidaná hodnota (Gross Value Added) (převedená na stálé ceny roku 2010 pomocí deflátoru HDP),\n",
    "- čistý fixní nefinanční kapitál (převedený na stálé ceny roku 2010 pomocí deflátoru kapitálových zásob),\n",
    "- celkový počet odpracovaných hodin."
   ],
   "metadata": {
    "collapsed": false
   }
  },
  {
   "cell_type": "code",
   "execution_count": 85,
   "outputs": [],
   "source": [
    "import eurostat\n",
    "import pandas\n",
    "import statsmodels.formula.api as smf\n",
    "from statsmodels.tsa.stattools import adfuller\n",
    "from scipy import stats\n",
    "import statsmodels.tsa.stattools as ts\n",
    "import numpy\n",
    "import seaborn\n",
    "\n",
    "LOCATIONS = [\"CZ\", \"AT\", \"EU27_2020\"]\n",
    "BASE_LOCATION = \"CZ\"\n",
    "START_YEAR = 1980\n",
    "END_YEAR = 2020"
   ],
   "metadata": {
    "collapsed": false,
    "pycharm": {
     "name": "#%%\n"
    }
   }
  },
  {
   "cell_type": "markdown",
   "source": [
    "### Hrubá přidaná hodnota (Gross Value Added)\n",
    "\n",
    "Hrubá přidaná hodnota je načtena na základě kódu `nama_10_a10`."
   ],
   "metadata": {
    "collapsed": false
   }
  },
  {
   "cell_type": "code",
   "execution_count": 86,
   "outputs": [],
   "source": [
    "data_1_es = eurostat.get_data_df('nama_10_a10')"
   ],
   "metadata": {
    "collapsed": false,
    "pycharm": {
     "name": "#%%\n"
    }
   }
  },
  {
   "cell_type": "code",
   "execution_count": 87,
   "outputs": [
    {
     "data": {
      "text/plain": "  geo\\time  year  gross_value_added  compensation_of_employees\n0       AT  1995      130145.540670               73793.930850\n1       AT  1996      134886.309636               75360.493182\n2       AT  1997      140135.537164               77354.111597\n3       AT  1998      146283.001040               80443.033918\n4       AT  1999      151754.564940               83621.655376",
      "text/html": "<div>\n<style scoped>\n    .dataframe tbody tr th:only-of-type {\n        vertical-align: middle;\n    }\n\n    .dataframe tbody tr th {\n        vertical-align: top;\n    }\n\n    .dataframe thead th {\n        text-align: right;\n    }\n</style>\n<table border=\"1\" class=\"dataframe\">\n  <thead>\n    <tr style=\"text-align: right;\">\n      <th></th>\n      <th>geo\\time</th>\n      <th>year</th>\n      <th>gross_value_added</th>\n      <th>compensation_of_employees</th>\n    </tr>\n  </thead>\n  <tbody>\n    <tr>\n      <th>0</th>\n      <td>AT</td>\n      <td>1995</td>\n      <td>130145.540670</td>\n      <td>73793.930850</td>\n    </tr>\n    <tr>\n      <th>1</th>\n      <td>AT</td>\n      <td>1996</td>\n      <td>134886.309636</td>\n      <td>75360.493182</td>\n    </tr>\n    <tr>\n      <th>2</th>\n      <td>AT</td>\n      <td>1997</td>\n      <td>140135.537164</td>\n      <td>77354.111597</td>\n    </tr>\n    <tr>\n      <th>3</th>\n      <td>AT</td>\n      <td>1998</td>\n      <td>146283.001040</td>\n      <td>80443.033918</td>\n    </tr>\n    <tr>\n      <th>4</th>\n      <td>AT</td>\n      <td>1999</td>\n      <td>151754.564940</td>\n      <td>83621.655376</td>\n    </tr>\n  </tbody>\n</table>\n</div>"
     },
     "execution_count": 87,
     "metadata": {},
     "output_type": "execute_result"
    }
   ],
   "source": [
    "data_1 = data_1_es\n",
    "# Value added, gross\n",
    "data_1 = data_1[data_1[\"na_item\"].isin([\"B1G\", \"D1\"])]\n",
    "# Total, all NACE activities\n",
    "data_1 = data_1[data_1[\"nace_r2\"] == \"TOTAL\"]\n",
    "# Current prices, million euro\n",
    "data_1 = data_1[data_1[\"unit\"].isin([\"CP_MNAC\", \"PD10_NAC\"])]\n",
    "data_1 = pandas.melt(data_1, id_vars=[\"unit\", \"na_item\", \"geo\\\\time\"], value_vars=list(range(START_YEAR, END_YEAR + 1)),\n",
    "                     value_name=\"value\", var_name=\"year\")\n",
    "data_1 = data_1.pivot(index=[\"geo\\\\time\", \"year\"], columns=[\"unit\", \"na_item\"], values=\"value\")\n",
    "data_1 = data_1.dropna()\n",
    "data_1[(\"CP_MNAC\", \"B1G\")] = data_1[(\"CP_MNAC\", \"B1G\")] * data_1[(\"PD10_NAC\", \"B1G\")] / 100\n",
    "data_1[(\"CP_MNAC\", \"D1\")] = data_1[(\"CP_MNAC\", \"D1\")] * data_1[(\"PD10_NAC\", \"B1G\")] / 100\n",
    "data_1 = data_1.drop([(\"PD10_NAC\", \"B1G\")], axis=1)\n",
    "data_1.columns = ['_'.join(col) for col in data_1.columns.values]\n",
    "data_1 = data_1.rename({\"CP_MNAC_B1G\": \"gross_value_added\", \"CP_MNAC_D1\": \"compensation_of_employees\"}, axis=1)\n",
    "data_1 = data_1.reset_index()\n",
    "data_1.head()"
   ],
   "metadata": {
    "collapsed": false,
    "pycharm": {
     "name": "#%%\n"
    }
   }
  },
  {
   "cell_type": "markdown",
   "source": [],
   "metadata": {
    "collapsed": false
   }
  },
  {
   "cell_type": "code",
   "execution_count": 88,
   "outputs": [
    {
     "data": {
      "text/plain": "     geo\\time  year  ln_gross_value_added  ln_gross_value_added_diff  \\\n1073       UK  2015             14.419808                   0.002668   \n1074       UK  2016             14.478324                   0.004042   \n1075       UK  2017             14.534647                   0.003875   \n1076       UK  2018             14.591866                   0.003921   \n1077       UK  2019             14.648765                   0.003884   \n\n      ln_compensation_of_employees  ln_compensation_of_employees_diff  \n1073                     13.809209                           0.002659  \n1074                     13.869450                           0.004343  \n1075                     13.929650                           0.004322  \n1076                     13.991750                           0.004438  \n1077                     14.059195                           0.004797  ",
      "text/html": "<div>\n<style scoped>\n    .dataframe tbody tr th:only-of-type {\n        vertical-align: middle;\n    }\n\n    .dataframe tbody tr th {\n        vertical-align: top;\n    }\n\n    .dataframe thead th {\n        text-align: right;\n    }\n</style>\n<table border=\"1\" class=\"dataframe\">\n  <thead>\n    <tr style=\"text-align: right;\">\n      <th></th>\n      <th>geo\\time</th>\n      <th>year</th>\n      <th>ln_gross_value_added</th>\n      <th>ln_gross_value_added_diff</th>\n      <th>ln_compensation_of_employees</th>\n      <th>ln_compensation_of_employees_diff</th>\n    </tr>\n  </thead>\n  <tbody>\n    <tr>\n      <th>1073</th>\n      <td>UK</td>\n      <td>2015</td>\n      <td>14.419808</td>\n      <td>0.002668</td>\n      <td>13.809209</td>\n      <td>0.002659</td>\n    </tr>\n    <tr>\n      <th>1074</th>\n      <td>UK</td>\n      <td>2016</td>\n      <td>14.478324</td>\n      <td>0.004042</td>\n      <td>13.869450</td>\n      <td>0.004343</td>\n    </tr>\n    <tr>\n      <th>1075</th>\n      <td>UK</td>\n      <td>2017</td>\n      <td>14.534647</td>\n      <td>0.003875</td>\n      <td>13.929650</td>\n      <td>0.004322</td>\n    </tr>\n    <tr>\n      <th>1076</th>\n      <td>UK</td>\n      <td>2018</td>\n      <td>14.591866</td>\n      <td>0.003921</td>\n      <td>13.991750</td>\n      <td>0.004438</td>\n    </tr>\n    <tr>\n      <th>1077</th>\n      <td>UK</td>\n      <td>2019</td>\n      <td>14.648765</td>\n      <td>0.003884</td>\n      <td>14.059195</td>\n      <td>0.004797</td>\n    </tr>\n  </tbody>\n</table>\n</div>"
     },
     "execution_count": 88,
     "metadata": {},
     "output_type": "execute_result"
    }
   ],
   "source": [
    "data_1 = data_1.sort_values([\"geo\\\\time\", \"year\"])\n",
    "data_1[\"ln_gross_value_added\"] = numpy.log(data_1[\"gross_value_added\"])\n",
    "data_1[\"ln_gross_value_added_t_minus_1\"] = data_1.groupby(\"geo\\\\time\")[\"ln_gross_value_added\"].shift(1)\n",
    "data_1[\"ln_gross_value_added_diff\"] = (data_1[\"ln_gross_value_added\"] - data_1[\"ln_gross_value_added_t_minus_1\"]) / data_1[\"ln_gross_value_added\"]\n",
    "\n",
    "data_1[\"ln_compensation_of_employees\"] = numpy.log(data_1[\"compensation_of_employees\"])\n",
    "data_1[\"ln_compensation_of_employees_t_minus_1\"] = data_1.groupby(\"geo\\\\time\")[\"ln_compensation_of_employees\"].shift(1)\n",
    "data_1[\"ln_compensation_of_employees_diff\"] = (data_1[\"ln_compensation_of_employees\"] - data_1[\"ln_compensation_of_employees_t_minus_1\"]) / data_1[\"ln_compensation_of_employees\"]\n",
    "\n",
    "data_1 = data_1[[\"geo\\\\time\", \"year\", \"ln_gross_value_added\", \"ln_gross_value_added_diff\", \"ln_compensation_of_employees\", \"ln_compensation_of_employees_diff\"]]\n",
    "data_1.tail()\n"
   ],
   "metadata": {
    "collapsed": false,
    "pycharm": {
     "name": "#%%\n"
    }
   }
  },
  {
   "cell_type": "markdown",
   "source": [],
   "metadata": {
    "collapsed": false
   }
  },
  {
   "cell_type": "code",
   "execution_count": 89,
   "outputs": [],
   "source": [
    "data_3_es = eurostat.get_data_df('nama_10_nfa_bs')"
   ],
   "metadata": {
    "collapsed": false,
    "pycharm": {
     "name": "#%%\n"
    }
   }
  },
  {
   "cell_type": "code",
   "execution_count": 90,
   "outputs": [
    {
     "data": {
      "text/plain": "        unit asset10 geo\\time  year  total_fixed_assets\n420  CP_MNAC    N11N       AT  1995            630857.8\n448  CP_MNAC    N11N       AT  1996            659084.4\n476  CP_MNAC    N11N       AT  1997            686219.3\n504  CP_MNAC    N11N       AT  1998            710697.9\n532  CP_MNAC    N11N       AT  1999            737295.8",
      "text/html": "<div>\n<style scoped>\n    .dataframe tbody tr th:only-of-type {\n        vertical-align: middle;\n    }\n\n    .dataframe tbody tr th {\n        vertical-align: top;\n    }\n\n    .dataframe thead th {\n        text-align: right;\n    }\n</style>\n<table border=\"1\" class=\"dataframe\">\n  <thead>\n    <tr style=\"text-align: right;\">\n      <th></th>\n      <th>unit</th>\n      <th>asset10</th>\n      <th>geo\\time</th>\n      <th>year</th>\n      <th>total_fixed_assets</th>\n    </tr>\n  </thead>\n  <tbody>\n    <tr>\n      <th>420</th>\n      <td>CP_MNAC</td>\n      <td>N11N</td>\n      <td>AT</td>\n      <td>1995</td>\n      <td>630857.8</td>\n    </tr>\n    <tr>\n      <th>448</th>\n      <td>CP_MNAC</td>\n      <td>N11N</td>\n      <td>AT</td>\n      <td>1996</td>\n      <td>659084.4</td>\n    </tr>\n    <tr>\n      <th>476</th>\n      <td>CP_MNAC</td>\n      <td>N11N</td>\n      <td>AT</td>\n      <td>1997</td>\n      <td>686219.3</td>\n    </tr>\n    <tr>\n      <th>504</th>\n      <td>CP_MNAC</td>\n      <td>N11N</td>\n      <td>AT</td>\n      <td>1998</td>\n      <td>710697.9</td>\n    </tr>\n    <tr>\n      <th>532</th>\n      <td>CP_MNAC</td>\n      <td>N11N</td>\n      <td>AT</td>\n      <td>1999</td>\n      <td>737295.8</td>\n    </tr>\n  </tbody>\n</table>\n</div>"
     },
     "execution_count": 90,
     "metadata": {},
     "output_type": "execute_result"
    }
   ],
   "source": [
    "data_3 = data_3_es\n",
    "# Total fixed assets (net)\n",
    "data_3 = data_3[data_3[\"asset10\"] == \"N11N\"]\n",
    "# Total, all activities\n",
    "data_3 = data_3[data_3[\"sector\"] == \"S1\"]\n",
    "# Current fixed prices, millions of national currency\n",
    "data_3 = data_3[data_3[\"unit\"] == \"CP_MNAC\"]\n",
    "data_3 = pandas.melt(data_3, id_vars=[\"unit\", \"asset10\", \"geo\\\\time\"], value_vars=list(range(START_YEAR, END_YEAR + 1)),\n",
    "                    value_name=\"total_fixed_assets\", var_name=\"year\")\n",
    "data_3 = data_3.sort_values([\"geo\\\\time\", \"year\"])\n",
    "data_3 = data_3.dropna()\n",
    "data_3.head()"
   ],
   "metadata": {
    "collapsed": false,
    "pycharm": {
     "name": "#%%\n"
    }
   }
  },
  {
   "cell_type": "markdown",
   "source": [],
   "metadata": {
    "collapsed": false
   }
  },
  {
   "cell_type": "code",
   "execution_count": 91,
   "outputs": [],
   "source": [
    "data_4_es = eurostat.get_data_df('nama_10_nfa_fl')"
   ],
   "metadata": {
    "collapsed": false,
    "pycharm": {
     "name": "#%%\n"
    }
   }
  },
  {
   "cell_type": "code",
   "execution_count": 92,
   "outputs": [],
   "source": [
    "data_4 = data_4_es\n",
    "data_4 = data_4[data_4[\"asset10\"] == \"N11G\"]\n",
    "data_4 = data_4[data_4[\"nace_r2\"] == \"TOTAL\"]\n",
    "data_4 = data_4[data_4[\"unit\"] == \"PD10_NAC\"]\n",
    "data_4 = pandas.melt(data_4, id_vars=[\"unit\", \"asset10\", \"geo\\\\time\"], value_vars=list(range(START_YEAR, END_YEAR + 1)),\n",
    "                    value_name=\"capital_stock_deflator\", var_name=\"year\")\n",
    "data_4 = data_4.sort_values([\"geo\\\\time\", \"year\"])\n",
    "data_4 = data_4.dropna()"
   ],
   "metadata": {
    "collapsed": false,
    "pycharm": {
     "name": "#%%\n"
    }
   }
  },
  {
   "cell_type": "markdown",
   "source": [],
   "metadata": {
    "collapsed": false
   }
  },
  {
   "cell_type": "code",
   "execution_count": 93,
   "outputs": [
    {
     "data": {
      "text/plain": "  geo\\time  year  ln_total_fixed_assets  ln_total_fixed_assets_diff\n0       AT  1995              17.736362                         NaN\n1       AT  1996              17.789630                    0.002994\n2       AT  1997              17.841370                    0.002900\n3       AT  1998              17.884289                    0.002400\n4       AT  1999              17.926085                    0.002332",
      "text/html": "<div>\n<style scoped>\n    .dataframe tbody tr th:only-of-type {\n        vertical-align: middle;\n    }\n\n    .dataframe tbody tr th {\n        vertical-align: top;\n    }\n\n    .dataframe thead th {\n        text-align: right;\n    }\n</style>\n<table border=\"1\" class=\"dataframe\">\n  <thead>\n    <tr style=\"text-align: right;\">\n      <th></th>\n      <th>geo\\time</th>\n      <th>year</th>\n      <th>ln_total_fixed_assets</th>\n      <th>ln_total_fixed_assets_diff</th>\n    </tr>\n  </thead>\n  <tbody>\n    <tr>\n      <th>0</th>\n      <td>AT</td>\n      <td>1995</td>\n      <td>17.736362</td>\n      <td>NaN</td>\n    </tr>\n    <tr>\n      <th>1</th>\n      <td>AT</td>\n      <td>1996</td>\n      <td>17.789630</td>\n      <td>0.002994</td>\n    </tr>\n    <tr>\n      <th>2</th>\n      <td>AT</td>\n      <td>1997</td>\n      <td>17.841370</td>\n      <td>0.002900</td>\n    </tr>\n    <tr>\n      <th>3</th>\n      <td>AT</td>\n      <td>1998</td>\n      <td>17.884289</td>\n      <td>0.002400</td>\n    </tr>\n    <tr>\n      <th>4</th>\n      <td>AT</td>\n      <td>1999</td>\n      <td>17.926085</td>\n      <td>0.002332</td>\n    </tr>\n  </tbody>\n</table>\n</div>"
     },
     "execution_count": 93,
     "metadata": {},
     "output_type": "execute_result"
    }
   ],
   "source": [
    "data_3 = data_3.merge(data_4, on=[\"geo\\\\time\", \"year\"])\n",
    "data_3[\"total_fixed_assets\"] = data_3[\"total_fixed_assets\"] * data_3[\"capital_stock_deflator\"]\n",
    "data_3[\"ln_total_fixed_assets\"] = numpy.log(data_3[\"total_fixed_assets\"])\n",
    "data_3[\"ln_total_fixed_assets_t_minus_1\"] = data_3.groupby(\"geo\\\\time\")[\"ln_total_fixed_assets\"].shift(1)\n",
    "data_3[\"ln_total_fixed_assets_diff\"] = (data_3[\"ln_total_fixed_assets\"] - data_3[\"ln_total_fixed_assets_t_minus_1\"]) / data_3[\"ln_total_fixed_assets\"]\n",
    "data_3 = data_3[[\"geo\\\\time\", \"year\", \"ln_total_fixed_assets\", \"ln_total_fixed_assets_diff\"]]\n",
    "data_3.head()"
   ],
   "metadata": {
    "collapsed": false,
    "pycharm": {
     "name": "#%%\n"
    }
   }
  },
  {
   "cell_type": "code",
   "execution_count": 94,
   "outputs": [
    {
     "data": {
      "text/plain": "   ln_gross_value_added_diff  ln_compensation_of_employees_diff  \\\n1                   0.003029                           0.001871   \n2                   0.003222                           0.002320   \n3                   0.003610                           0.003467   \n4                   0.003078                           0.003419   \n5                   0.005311                           0.004172   \n\n   ln_total_fixed_assets_diff geo\\time  year  \n1                    0.002994       AT  1996  \n2                    0.002900       AT  1997  \n3                    0.002400       AT  1998  \n4                    0.002332       AT  1999  \n5                    0.003214       AT  2000  ",
      "text/html": "<div>\n<style scoped>\n    .dataframe tbody tr th:only-of-type {\n        vertical-align: middle;\n    }\n\n    .dataframe tbody tr th {\n        vertical-align: top;\n    }\n\n    .dataframe thead th {\n        text-align: right;\n    }\n</style>\n<table border=\"1\" class=\"dataframe\">\n  <thead>\n    <tr style=\"text-align: right;\">\n      <th></th>\n      <th>ln_gross_value_added_diff</th>\n      <th>ln_compensation_of_employees_diff</th>\n      <th>ln_total_fixed_assets_diff</th>\n      <th>geo\\time</th>\n      <th>year</th>\n    </tr>\n  </thead>\n  <tbody>\n    <tr>\n      <th>1</th>\n      <td>0.003029</td>\n      <td>0.001871</td>\n      <td>0.002994</td>\n      <td>AT</td>\n      <td>1996</td>\n    </tr>\n    <tr>\n      <th>2</th>\n      <td>0.003222</td>\n      <td>0.002320</td>\n      <td>0.002900</td>\n      <td>AT</td>\n      <td>1997</td>\n    </tr>\n    <tr>\n      <th>3</th>\n      <td>0.003610</td>\n      <td>0.003467</td>\n      <td>0.002400</td>\n      <td>AT</td>\n      <td>1998</td>\n    </tr>\n    <tr>\n      <th>4</th>\n      <td>0.003078</td>\n      <td>0.003419</td>\n      <td>0.002332</td>\n      <td>AT</td>\n      <td>1999</td>\n    </tr>\n    <tr>\n      <th>5</th>\n      <td>0.005311</td>\n      <td>0.004172</td>\n      <td>0.003214</td>\n      <td>AT</td>\n      <td>2000</td>\n    </tr>\n  </tbody>\n</table>\n</div>"
     },
     "execution_count": 94,
     "metadata": {},
     "output_type": "execute_result"
    }
   ],
   "source": [
    "data = pandas.merge(data_1, data_3, on=[\"geo\\\\time\", \"year\"])\n",
    "data = data.dropna()\n",
    "data = data[[\"ln_gross_value_added_diff\", \"ln_compensation_of_employees_diff\", \"ln_total_fixed_assets_diff\", \"geo\\\\time\", \"year\"]]\n",
    "data = data[data[\"geo\\\\time\"] == \"AT\"]\n",
    "data.head()"
   ],
   "metadata": {
    "collapsed": false,
    "pycharm": {
     "name": "#%%\n"
    }
   }
  },
  {
   "cell_type": "code",
   "execution_count": 95,
   "outputs": [
    {
     "data": {
      "text/plain": "<class 'statsmodels.iolib.summary.Summary'>\n\"\"\"\n                                OLS Regression Results                               \n=====================================================================================\nDep. Variable:     ln_gross_value_added_diff   R-squared:                       0.506\nModel:                                   OLS   Adj. R-squared:                  0.459\nMethod:                        Least Squares   F-statistic:                     10.76\nDate:                       Tue, 14 Dec 2021   Prob (F-statistic):           0.000608\nTime:                               21:57:36   Log-Likelihood:                 133.44\nNo. Observations:                         24   AIC:                            -260.9\nDf Residuals:                             21   BIC:                            -257.3\nDf Model:                                  2                                         \nCovariance Type:                   nonrobust                                         \n=====================================================================================================\n                                        coef    std err          t      P>|t|      [0.025      0.975]\n-----------------------------------------------------------------------------------------------------\nconst                                 0.0006      0.001      0.664      0.514      -0.001       0.003\nln_compensation_of_employees_diff     0.7704      0.227      3.395      0.003       0.299       1.242\nln_total_fixed_assets_diff            0.0877      0.385      0.228      0.822      -0.713       0.888\n==============================================================================\nOmnibus:                       11.353   Durbin-Watson:                   1.293\nProb(Omnibus):                  0.003   Jarque-Bera (JB):                9.665\nSkew:                          -1.268   Prob(JB):                      0.00797\nKurtosis:                       4.798   Cond. No.                     2.05e+03\n==============================================================================\n\nNotes:\n[1] Standard Errors assume that the covariance matrix of the errors is correctly specified.\n[2] The condition number is large, 2.05e+03. This might indicate that there are\nstrong multicollinearity or other numerical problems.\n\"\"\"",
      "text/html": "<table class=\"simpletable\">\n<caption>OLS Regression Results</caption>\n<tr>\n  <th>Dep. Variable:</th>    <td>ln_gross_value_added_diff</td> <th>  R-squared:         </th> <td>   0.506</td>\n</tr>\n<tr>\n  <th>Model:</th>                       <td>OLS</td>            <th>  Adj. R-squared:    </th> <td>   0.459</td>\n</tr>\n<tr>\n  <th>Method:</th>                 <td>Least Squares</td>       <th>  F-statistic:       </th> <td>   10.76</td>\n</tr>\n<tr>\n  <th>Date:</th>                 <td>Tue, 14 Dec 2021</td>      <th>  Prob (F-statistic):</th> <td>0.000608</td>\n</tr>\n<tr>\n  <th>Time:</th>                     <td>21:57:36</td>          <th>  Log-Likelihood:    </th> <td>  133.44</td>\n</tr>\n<tr>\n  <th>No. Observations:</th>          <td>    24</td>           <th>  AIC:               </th> <td>  -260.9</td>\n</tr>\n<tr>\n  <th>Df Residuals:</th>              <td>    21</td>           <th>  BIC:               </th> <td>  -257.3</td>\n</tr>\n<tr>\n  <th>Df Model:</th>                  <td>     2</td>           <th>                     </th>     <td> </td>   \n</tr>\n<tr>\n  <th>Covariance Type:</th>          <td>nonrobust</td>         <th>                     </th>     <td> </td>   \n</tr>\n</table>\n<table class=\"simpletable\">\n<tr>\n                  <td></td>                     <th>coef</th>     <th>std err</th>      <th>t</th>      <th>P>|t|</th>  <th>[0.025</th>    <th>0.975]</th>  \n</tr>\n<tr>\n  <th>const</th>                             <td>    0.0006</td> <td>    0.001</td> <td>    0.664</td> <td> 0.514</td> <td>   -0.001</td> <td>    0.003</td>\n</tr>\n<tr>\n  <th>ln_compensation_of_employees_diff</th> <td>    0.7704</td> <td>    0.227</td> <td>    3.395</td> <td> 0.003</td> <td>    0.299</td> <td>    1.242</td>\n</tr>\n<tr>\n  <th>ln_total_fixed_assets_diff</th>        <td>    0.0877</td> <td>    0.385</td> <td>    0.228</td> <td> 0.822</td> <td>   -0.713</td> <td>    0.888</td>\n</tr>\n</table>\n<table class=\"simpletable\">\n<tr>\n  <th>Omnibus:</th>       <td>11.353</td> <th>  Durbin-Watson:     </th> <td>   1.293</td>\n</tr>\n<tr>\n  <th>Prob(Omnibus):</th> <td> 0.003</td> <th>  Jarque-Bera (JB):  </th> <td>   9.665</td>\n</tr>\n<tr>\n  <th>Skew:</th>          <td>-1.268</td> <th>  Prob(JB):          </th> <td> 0.00797</td>\n</tr>\n<tr>\n  <th>Kurtosis:</th>      <td> 4.798</td> <th>  Cond. No.          </th> <td>2.05e+03</td>\n</tr>\n</table><br/><br/>Notes:<br/>[1] Standard Errors assume that the covariance matrix of the errors is correctly specified.<br/>[2] The condition number is large, 2.05e+03. This might indicate that there are<br/>strong multicollinearity or other numerical problems."
     },
     "execution_count": 95,
     "metadata": {},
     "output_type": "execute_result"
    }
   ],
   "source": [
    "data[\"const\"] = 1\n",
    "\n",
    "import statsmodels.api as sm\n",
    "mod = sm.OLS(data[\"ln_gross_value_added_diff\"], data[[\"const\", \"ln_compensation_of_employees_diff\", \"ln_total_fixed_assets_diff\"]])\n",
    "res = mod.fit()\n",
    "res.summary()"
   ],
   "metadata": {
    "collapsed": false,
    "pycharm": {
     "name": "#%%\n"
    }
   }
  },
  {
   "cell_type": "code",
   "execution_count": 96,
   "outputs": [
    {
     "data": {
      "text/plain": "0.994143380197645"
     },
     "execution_count": 96,
     "metadata": {},
     "output_type": "execute_result"
    }
   ],
   "source": [
    "data[\"resid\"] = res.resid\n",
    "data[\"TFP3\"] = data[\"resid\"] + res.params[0]\n",
    "data[\"%\"] =  data[\"TFP3\"] / data[\"ln_gross_value_added_diff\"]\n",
    "# data = data[data[\"year\"] != 2009]\n",
    "data[\"%\"].mean()\n"
   ],
   "metadata": {
    "collapsed": false,
    "pycharm": {
     "name": "#%%\n"
    }
   }
  }
 ],
 "metadata": {
  "kernelspec": {
   "display_name": "Python 3",
   "language": "python",
   "name": "python3"
  },
  "language_info": {
   "codemirror_mode": {
    "name": "ipython",
    "version": 2
   },
   "file_extension": ".py",
   "mimetype": "text/x-python",
   "name": "python",
   "nbconvert_exporter": "python",
   "pygments_lexer": "ipython2",
   "version": "2.7.6"
  }
 },
 "nbformat": 4,
 "nbformat_minor": 0
}
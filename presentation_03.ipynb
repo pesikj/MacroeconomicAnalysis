{
 "cells": [
  {
   "cell_type": "markdown",
   "source": [
    "# Odhad CDPF\n",
    "\n",
    "## Cíl analýzy\n",
    "\n",
    "Cílem analýzy je odhad neoklasické agregátní CDPF.\n",
    "\n",
    "## Data a metoda\n",
    "\n",
    "Pro odhad byly použity následující hodnoty:\n",
    "\n",
    "- hrubá přidaná hodnota (Gross Value Added) (převedená na stálé ceny roku 2010 pomocí deflátoru HDP),\n",
    "- čistý fixní nefinanční kapitál (převedený na stálé ceny roku 2010 pomocí deflátoru kapitálových zásob),\n",
    "- celkový počet odpracovaných hodin."
   ],
   "metadata": {
    "collapsed": false
   }
  },
  {
   "cell_type": "code",
   "execution_count": 37,
   "outputs": [],
   "source": [
    "import eurostat\n",
    "import pandas as pd\n",
    "import statsmodels.formula.api as smf\n",
    "from statsmodels.tsa.stattools import adfuller\n",
    "from scipy import stats\n",
    "import statsmodels.tsa.stattools as ts\n",
    "import numpy\n",
    "import seaborn\n",
    "from scipy.stats.mstats import gmean\n",
    "\n",
    "LOCATIONS = [\"CZ\", \"AT\", \"EU27_2020\"]\n",
    "BASE_LOCATION = \"CZ\"\n",
    "START_YEAR = 1996\n",
    "END_YEAR = 2020"
   ],
   "metadata": {
    "collapsed": false,
    "pycharm": {
     "name": "#%%\n"
    }
   }
  },
  {
   "cell_type": "markdown",
   "source": [
    "### Hrubá přidaná hodnota (Gross Value Added)\n",
    "\n",
    "Hrubá přidaná hodnota je načtena na základě kódu `nama_10_a10`."
   ],
   "metadata": {
    "collapsed": false
   }
  },
  {
   "cell_type": "code",
   "execution_count": 3,
   "outputs": [],
   "source": [
    "data_1_es = eurostat.get_data_df('nama_10_a10')"
   ],
   "metadata": {
    "collapsed": false,
    "pycharm": {
     "name": "#%%\n"
    }
   }
  },
  {
   "cell_type": "code",
   "execution_count": 41,
   "outputs": [
    {
     "data": {
      "text/plain": "unit            CP_MNAC           PD10_NAC\nna_item             B1G        D1      B1G\ngeo\\time year                             \nAT       2018  344416.8  185126.8  115.526",
      "text/html": "<div>\n<style scoped>\n    .dataframe tbody tr th:only-of-type {\n        vertical-align: middle;\n    }\n\n    .dataframe tbody tr th {\n        vertical-align: top;\n    }\n\n    .dataframe thead tr th {\n        text-align: left;\n    }\n\n    .dataframe thead tr:last-of-type th {\n        text-align: right;\n    }\n</style>\n<table border=\"1\" class=\"dataframe\">\n  <thead>\n    <tr>\n      <th></th>\n      <th>unit</th>\n      <th colspan=\"2\" halign=\"left\">CP_MNAC</th>\n      <th>PD10_NAC</th>\n    </tr>\n    <tr>\n      <th></th>\n      <th>na_item</th>\n      <th>B1G</th>\n      <th>D1</th>\n      <th>B1G</th>\n    </tr>\n    <tr>\n      <th>geo\\time</th>\n      <th>year</th>\n      <th></th>\n      <th></th>\n      <th></th>\n    </tr>\n  </thead>\n  <tbody>\n    <tr>\n      <th>AT</th>\n      <th>2018</th>\n      <td>344416.8</td>\n      <td>185126.8</td>\n      <td>115.526</td>\n    </tr>\n  </tbody>\n</table>\n</div>"
     },
     "execution_count": 41,
     "metadata": {},
     "output_type": "execute_result"
    }
   ],
   "source": [
    "data_1 = data_1_es\n",
    "# Value added, gross\n",
    "data_1 = data_1[data_1[\"na_item\"].isin([\"B1G\", \"D1\"])]\n",
    "# Total, all NACE activities\n",
    "data_1 = data_1[data_1[\"nace_r2\"] == \"TOTAL\"]\n",
    "# Current prices, million euro\n",
    "data_1 = data_1[data_1[\"unit\"].isin([\"CP_MNAC\", \"PD10_NAC\"])]\n",
    "data_1 = pd.melt(data_1, id_vars=[\"unit\", \"na_item\", \"geo\\\\time\"], value_vars=list(range(START_YEAR, END_YEAR + 1)),\n",
    "                     value_name=\"value\", var_name=\"year\")\n",
    "data_1 = data_1.pivot(index=[\"geo\\\\time\", \"year\"], columns=[\"unit\", \"na_item\"], values=\"value\")\n",
    "data_1 = pd.DataFrame(data_1)\n",
    "data_1[data_1.index == (\"AT\", 2018)]"
   ],
   "metadata": {
    "collapsed": false,
    "pycharm": {
     "name": "#%%\n"
    }
   }
  },
  {
   "cell_type": "code",
   "execution_count": 42,
   "outputs": [
    {
     "data": {
      "text/plain": "  geo\\time  year  gross_value_added  compensation_of_employees\n0       AT  1996          19.750439                  11.034499\n1       AT  1997          20.165157                  11.131065\n2       AT  1998          20.953635                  11.522692\n3       AT  1999          21.632659                  11.920292\n4       AT  2000          22.467417                  12.181119",
      "text/html": "<div>\n<style scoped>\n    .dataframe tbody tr th:only-of-type {\n        vertical-align: middle;\n    }\n\n    .dataframe tbody tr th {\n        vertical-align: top;\n    }\n\n    .dataframe thead th {\n        text-align: right;\n    }\n</style>\n<table border=\"1\" class=\"dataframe\">\n  <thead>\n    <tr style=\"text-align: right;\">\n      <th></th>\n      <th>geo\\time</th>\n      <th>year</th>\n      <th>gross_value_added</th>\n      <th>compensation_of_employees</th>\n    </tr>\n  </thead>\n  <tbody>\n    <tr>\n      <th>0</th>\n      <td>AT</td>\n      <td>1996</td>\n      <td>19.750439</td>\n      <td>11.034499</td>\n    </tr>\n    <tr>\n      <th>1</th>\n      <td>AT</td>\n      <td>1997</td>\n      <td>20.165157</td>\n      <td>11.131065</td>\n    </tr>\n    <tr>\n      <th>2</th>\n      <td>AT</td>\n      <td>1998</td>\n      <td>20.953635</td>\n      <td>11.522692</td>\n    </tr>\n    <tr>\n      <th>3</th>\n      <td>AT</td>\n      <td>1999</td>\n      <td>21.632659</td>\n      <td>11.920292</td>\n    </tr>\n    <tr>\n      <th>4</th>\n      <td>AT</td>\n      <td>2000</td>\n      <td>22.467417</td>\n      <td>12.181119</td>\n    </tr>\n  </tbody>\n</table>\n</div>"
     },
     "execution_count": 42,
     "metadata": {},
     "output_type": "execute_result"
    }
   ],
   "source": [
    "data_1 = data_1.dropna()\n",
    "data_1[(\"CP_MNAC\", \"B1G\")] = data_1[(\"CP_MNAC\", \"B1G\")] / data_1[(\"PD10_NAC\", \"B1G\")] / 100\n",
    "data_1[(\"CP_MNAC\", \"D1\")] = data_1[(\"CP_MNAC\", \"D1\")] / data_1[(\"PD10_NAC\", \"B1G\")] / 100\n",
    "data_1 = data_1.drop([(\"PD10_NAC\", \"B1G\")], axis=1)\n",
    "data_1.columns = ['_'.join(col) for col in data_1.columns.values]\n",
    "data_1 = data_1.rename({\"CP_MNAC_B1G\": \"gross_value_added\", \"CP_MNAC_D1\": \"compensation_of_employees\"}, axis=1)\n",
    "data_1 = data_1.reset_index()\n",
    "data_1.head()"
   ],
   "metadata": {
    "collapsed": false,
    "pycharm": {
     "name": "#%%\n"
    }
   }
  },
  {
   "cell_type": "code",
   "source": [
    "data_1_gmean = data_1\n",
    "data_1_gmean[\"gross_value_added_t-1\"] = data_1_gmean.groupby([\"geo\\\\time\"])[\"gross_value_added\"].shift()\n",
    "data_1_gmean = data_1_gmean.dropna()\n",
    "data_1_gmean[\"gross_value_added_index\"] = data_1_gmean[\"gross_value_added\"] / data_1[\"gross_value_added_t-1\"]\n",
    "data_1_gmean = data_1_gmean.groupby([\"geo\\\\time\"]).agg({\"gross_value_added_index\": [gmean]}) - 1\n",
    "data_1_gmean"
   ],
   "metadata": {
    "collapsed": false,
    "pycharm": {
     "name": "#%%\n"
    }
   },
   "execution_count": 43,
   "outputs": [
    {
     "name": "stderr",
     "output_type": "stream",
     "text": [
      "C:\\Users\\JIRIPE~1.HUL\\AppData\\Local\\Temp/ipykernel_24880/1737644059.py:4: SettingWithCopyWarning: \n",
      "A value is trying to be set on a copy of a slice from a DataFrame.\n",
      "Try using .loc[row_indexer,col_indexer] = value instead\n",
      "\n",
      "See the caveats in the documentation: https://pandas.pydata.org/pandas-docs/stable/user_guide/indexing.html#returning-a-view-versus-a-copy\n",
      "  data_1_gmean[\"gross_value_added_index\"] = data_1_gmean[\"gross_value_added\"] / data_1[\"gross_value_added_t-1\"]\n"
     ]
    },
    {
     "data": {
      "text/plain": "          gross_value_added_index\n                            gmean\ngeo\\time                         \nAT                       0.014940\nBA                       0.010248\nBE                       0.015873\nBG                       0.016473\nCH                       0.018418\nCY                       0.025671\nCZ                       0.022327\nDE                       0.012260\nDK                       0.014025\nEA                       0.014163\nEA12                     0.012218\nEA19                     0.012558\nEE                       0.038615\nEL                       0.003031\nES                       0.015293\nEU15                     0.016801\nEU27_2020                0.014121\nEU28                     0.017924\nFI                       0.017885\nFR                       0.012482\nHR                       0.017186\nHU                       0.024254\nIE                       0.051060\nIS                       0.030296\nIT                       0.001950\nLT                       0.039843\nLU                       0.031675\nLV                       0.036251\nMK                       0.027337\nMT                       0.036682\nNL                       0.017622\nNO                       0.016200\nPL                       0.036578\nPT                       0.009551\nRO                       0.026254\nRS                       0.043556\nSE                       0.023033\nSI                       0.025414\nSK                       0.033313\nTR                       0.042486\nUK                       0.020396",
      "text/html": "<div>\n<style scoped>\n    .dataframe tbody tr th:only-of-type {\n        vertical-align: middle;\n    }\n\n    .dataframe tbody tr th {\n        vertical-align: top;\n    }\n\n    .dataframe thead tr th {\n        text-align: left;\n    }\n\n    .dataframe thead tr:last-of-type th {\n        text-align: right;\n    }\n</style>\n<table border=\"1\" class=\"dataframe\">\n  <thead>\n    <tr>\n      <th></th>\n      <th>gross_value_added_index</th>\n    </tr>\n    <tr>\n      <th></th>\n      <th>gmean</th>\n    </tr>\n    <tr>\n      <th>geo\\time</th>\n      <th></th>\n    </tr>\n  </thead>\n  <tbody>\n    <tr>\n      <th>AT</th>\n      <td>0.014940</td>\n    </tr>\n    <tr>\n      <th>BA</th>\n      <td>0.010248</td>\n    </tr>\n    <tr>\n      <th>BE</th>\n      <td>0.015873</td>\n    </tr>\n    <tr>\n      <th>BG</th>\n      <td>0.016473</td>\n    </tr>\n    <tr>\n      <th>CH</th>\n      <td>0.018418</td>\n    </tr>\n    <tr>\n      <th>CY</th>\n      <td>0.025671</td>\n    </tr>\n    <tr>\n      <th>CZ</th>\n      <td>0.022327</td>\n    </tr>\n    <tr>\n      <th>DE</th>\n      <td>0.012260</td>\n    </tr>\n    <tr>\n      <th>DK</th>\n      <td>0.014025</td>\n    </tr>\n    <tr>\n      <th>EA</th>\n      <td>0.014163</td>\n    </tr>\n    <tr>\n      <th>EA12</th>\n      <td>0.012218</td>\n    </tr>\n    <tr>\n      <th>EA19</th>\n      <td>0.012558</td>\n    </tr>\n    <tr>\n      <th>EE</th>\n      <td>0.038615</td>\n    </tr>\n    <tr>\n      <th>EL</th>\n      <td>0.003031</td>\n    </tr>\n    <tr>\n      <th>ES</th>\n      <td>0.015293</td>\n    </tr>\n    <tr>\n      <th>EU15</th>\n      <td>0.016801</td>\n    </tr>\n    <tr>\n      <th>EU27_2020</th>\n      <td>0.014121</td>\n    </tr>\n    <tr>\n      <th>EU28</th>\n      <td>0.017924</td>\n    </tr>\n    <tr>\n      <th>FI</th>\n      <td>0.017885</td>\n    </tr>\n    <tr>\n      <th>FR</th>\n      <td>0.012482</td>\n    </tr>\n    <tr>\n      <th>HR</th>\n      <td>0.017186</td>\n    </tr>\n    <tr>\n      <th>HU</th>\n      <td>0.024254</td>\n    </tr>\n    <tr>\n      <th>IE</th>\n      <td>0.051060</td>\n    </tr>\n    <tr>\n      <th>IS</th>\n      <td>0.030296</td>\n    </tr>\n    <tr>\n      <th>IT</th>\n      <td>0.001950</td>\n    </tr>\n    <tr>\n      <th>LT</th>\n      <td>0.039843</td>\n    </tr>\n    <tr>\n      <th>LU</th>\n      <td>0.031675</td>\n    </tr>\n    <tr>\n      <th>LV</th>\n      <td>0.036251</td>\n    </tr>\n    <tr>\n      <th>MK</th>\n      <td>0.027337</td>\n    </tr>\n    <tr>\n      <th>MT</th>\n      <td>0.036682</td>\n    </tr>\n    <tr>\n      <th>NL</th>\n      <td>0.017622</td>\n    </tr>\n    <tr>\n      <th>NO</th>\n      <td>0.016200</td>\n    </tr>\n    <tr>\n      <th>PL</th>\n      <td>0.036578</td>\n    </tr>\n    <tr>\n      <th>PT</th>\n      <td>0.009551</td>\n    </tr>\n    <tr>\n      <th>RO</th>\n      <td>0.026254</td>\n    </tr>\n    <tr>\n      <th>RS</th>\n      <td>0.043556</td>\n    </tr>\n    <tr>\n      <th>SE</th>\n      <td>0.023033</td>\n    </tr>\n    <tr>\n      <th>SI</th>\n      <td>0.025414</td>\n    </tr>\n    <tr>\n      <th>SK</th>\n      <td>0.033313</td>\n    </tr>\n    <tr>\n      <th>TR</th>\n      <td>0.042486</td>\n    </tr>\n    <tr>\n      <th>UK</th>\n      <td>0.020396</td>\n    </tr>\n  </tbody>\n</table>\n</div>"
     },
     "execution_count": 43,
     "metadata": {},
     "output_type": "execute_result"
    }
   ]
  },
  {
   "cell_type": "code",
   "execution_count": 5,
   "outputs": [
    {
     "data": {
      "text/plain": "    geo\\time  year  ln_gross_value_added  ln_gross_value_added_diff  \\\n966       UK  2015             14.419808                   0.002668   \n967       UK  2016             14.478324                   0.004042   \n968       UK  2017             14.534647                   0.003875   \n969       UK  2018             14.591866                   0.003921   \n970       UK  2019             14.648765                   0.003884   \n\n     ln_compensation_of_employees  ln_compensation_of_employees_diff  \n966                     13.809209                           0.002659  \n967                     13.869450                           0.004343  \n968                     13.929650                           0.004322  \n969                     13.991750                           0.004438  \n970                     14.059195                           0.004797  ",
      "text/html": "<div>\n<style scoped>\n    .dataframe tbody tr th:only-of-type {\n        vertical-align: middle;\n    }\n\n    .dataframe tbody tr th {\n        vertical-align: top;\n    }\n\n    .dataframe thead th {\n        text-align: right;\n    }\n</style>\n<table border=\"1\" class=\"dataframe\">\n  <thead>\n    <tr style=\"text-align: right;\">\n      <th></th>\n      <th>geo\\time</th>\n      <th>year</th>\n      <th>ln_gross_value_added</th>\n      <th>ln_gross_value_added_diff</th>\n      <th>ln_compensation_of_employees</th>\n      <th>ln_compensation_of_employees_diff</th>\n    </tr>\n  </thead>\n  <tbody>\n    <tr>\n      <th>966</th>\n      <td>UK</td>\n      <td>2015</td>\n      <td>14.419808</td>\n      <td>0.002668</td>\n      <td>13.809209</td>\n      <td>0.002659</td>\n    </tr>\n    <tr>\n      <th>967</th>\n      <td>UK</td>\n      <td>2016</td>\n      <td>14.478324</td>\n      <td>0.004042</td>\n      <td>13.869450</td>\n      <td>0.004343</td>\n    </tr>\n    <tr>\n      <th>968</th>\n      <td>UK</td>\n      <td>2017</td>\n      <td>14.534647</td>\n      <td>0.003875</td>\n      <td>13.929650</td>\n      <td>0.004322</td>\n    </tr>\n    <tr>\n      <th>969</th>\n      <td>UK</td>\n      <td>2018</td>\n      <td>14.591866</td>\n      <td>0.003921</td>\n      <td>13.991750</td>\n      <td>0.004438</td>\n    </tr>\n    <tr>\n      <th>970</th>\n      <td>UK</td>\n      <td>2019</td>\n      <td>14.648765</td>\n      <td>0.003884</td>\n      <td>14.059195</td>\n      <td>0.004797</td>\n    </tr>\n  </tbody>\n</table>\n</div>"
     },
     "execution_count": 5,
     "metadata": {},
     "output_type": "execute_result"
    }
   ],
   "source": [
    "data_1 = data_1.sort_values([\"geo\\\\time\", \"year\"])\n",
    "data_1[\"ln_gross_value_added\"] = numpy.log(data_1[\"gross_value_added\"])\n",
    "data_1[\"ln_gross_value_added_t_minus_1\"] = data_1.groupby(\"geo\\\\time\")[\"ln_gross_value_added\"].shift(1)\n",
    "data_1[\"ln_gross_value_added_diff\"] = (data_1[\"ln_gross_value_added\"] - data_1[\"ln_gross_value_added_t_minus_1\"]) / data_1[\"ln_gross_value_added\"]\n",
    "\n",
    "data_1[\"ln_compensation_of_employees\"] = numpy.log(data_1[\"compensation_of_employees\"])\n",
    "data_1[\"ln_compensation_of_employees_t_minus_1\"] = data_1.groupby(\"geo\\\\time\")[\"ln_compensation_of_employees\"].shift(1)\n",
    "data_1[\"ln_compensation_of_employees_diff\"] = (data_1[\"ln_compensation_of_employees\"] - data_1[\"ln_compensation_of_employees_t_minus_1\"]) / data_1[\"ln_compensation_of_employees\"]\n",
    "\n",
    "data_1 = data_1[[\"geo\\\\time\", \"year\", \"ln_gross_value_added\", \"ln_gross_value_added_diff\", \"ln_compensation_of_employees\", \"ln_compensation_of_employees_diff\"]]\n",
    "data_1.tail()"
   ],
   "metadata": {
    "collapsed": false,
    "pycharm": {
     "name": "#%%\n"
    }
   }
  },
  {
   "cell_type": "code",
   "execution_count": 6,
   "outputs": [],
   "source": [
    "data_3_es = eurostat.get_data_df('nama_10_nfa_bs')"
   ],
   "metadata": {
    "collapsed": false,
    "pycharm": {
     "name": "#%%\n"
    }
   }
  },
  {
   "cell_type": "code",
   "execution_count": 7,
   "outputs": [
    {
     "data": {
      "text/plain": "        unit asset10 geo\\time  year  total_fixed_assets\n0    CP_MNAC    N11N       AT  1996            659084.4\n29   CP_MNAC    N11N       AT  1997            686219.3\n58   CP_MNAC    N11N       AT  1998            710697.9\n87   CP_MNAC    N11N       AT  1999            737295.8\n116  CP_MNAC    N11N       AT  2000            768843.5",
      "text/html": "<div>\n<style scoped>\n    .dataframe tbody tr th:only-of-type {\n        vertical-align: middle;\n    }\n\n    .dataframe tbody tr th {\n        vertical-align: top;\n    }\n\n    .dataframe thead th {\n        text-align: right;\n    }\n</style>\n<table border=\"1\" class=\"dataframe\">\n  <thead>\n    <tr style=\"text-align: right;\">\n      <th></th>\n      <th>unit</th>\n      <th>asset10</th>\n      <th>geo\\time</th>\n      <th>year</th>\n      <th>total_fixed_assets</th>\n    </tr>\n  </thead>\n  <tbody>\n    <tr>\n      <th>0</th>\n      <td>CP_MNAC</td>\n      <td>N11N</td>\n      <td>AT</td>\n      <td>1996</td>\n      <td>659084.4</td>\n    </tr>\n    <tr>\n      <th>29</th>\n      <td>CP_MNAC</td>\n      <td>N11N</td>\n      <td>AT</td>\n      <td>1997</td>\n      <td>686219.3</td>\n    </tr>\n    <tr>\n      <th>58</th>\n      <td>CP_MNAC</td>\n      <td>N11N</td>\n      <td>AT</td>\n      <td>1998</td>\n      <td>710697.9</td>\n    </tr>\n    <tr>\n      <th>87</th>\n      <td>CP_MNAC</td>\n      <td>N11N</td>\n      <td>AT</td>\n      <td>1999</td>\n      <td>737295.8</td>\n    </tr>\n    <tr>\n      <th>116</th>\n      <td>CP_MNAC</td>\n      <td>N11N</td>\n      <td>AT</td>\n      <td>2000</td>\n      <td>768843.5</td>\n    </tr>\n  </tbody>\n</table>\n</div>"
     },
     "execution_count": 7,
     "metadata": {},
     "output_type": "execute_result"
    }
   ],
   "source": [
    "data_3 = data_3_es\n",
    "# Total fixed assets (net)\n",
    "data_3 = data_3[data_3[\"asset10\"] == \"N11N\"]\n",
    "# Total, all activities\n",
    "data_3 = data_3[data_3[\"sector\"] == \"S1\"]\n",
    "# Current fixed prices, millions of national currency\n",
    "data_3 = data_3[data_3[\"unit\"] == \"CP_MNAC\"]\n",
    "data_3 = pandas.melt(data_3, id_vars=[\"unit\", \"asset10\", \"geo\\\\time\"], value_vars=list(range(START_YEAR, END_YEAR + 1)),\n",
    "                    value_name=\"total_fixed_assets\", var_name=\"year\")\n",
    "data_3 = data_3.sort_values([\"geo\\\\time\", \"year\"])\n",
    "data_3 = data_3.dropna()\n",
    "data_3.head()"
   ],
   "metadata": {
    "collapsed": false,
    "pycharm": {
     "name": "#%%\n"
    }
   }
  },
  {
   "cell_type": "markdown",
   "source": [],
   "metadata": {
    "collapsed": false
   }
  },
  {
   "cell_type": "code",
   "execution_count": 8,
   "outputs": [],
   "source": [
    "data_4_es = eurostat.get_data_df('nama_10_nfa_fl')"
   ],
   "metadata": {
    "collapsed": false,
    "pycharm": {
     "name": "#%%\n"
    }
   }
  },
  {
   "cell_type": "code",
   "execution_count": 9,
   "outputs": [],
   "source": [
    "data_4 = data_4_es\n",
    "data_4 = data_4[data_4[\"asset10\"] == \"N11G\"]\n",
    "data_4 = data_4[data_4[\"nace_r2\"] == \"TOTAL\"]\n",
    "data_4 = data_4[data_4[\"unit\"] == \"PD10_NAC\"]\n",
    "data_4 = pd.melt(data_4, id_vars=[\"unit\", \"asset10\", \"geo\\\\time\"], value_vars=list(range(START_YEAR, END_YEAR + 1)),\n",
    "                    value_name=\"capital_stock_deflator\", var_name=\"year\")\n",
    "data_4 = data_4.sort_values([\"geo\\\\time\", \"year\"])\n",
    "data_4 = data_4.dropna()"
   ],
   "metadata": {
    "collapsed": false,
    "pycharm": {
     "name": "#%%\n"
    }
   }
  },
  {
   "cell_type": "markdown",
   "source": [],
   "metadata": {
    "collapsed": false
   }
  },
  {
   "cell_type": "code",
   "execution_count": 10,
   "outputs": [
    {
     "data": {
      "text/plain": "  geo\\time  year  ln_total_fixed_assets  ln_total_fixed_assets_diff\n0       AT  1996              17.789630                         NaN\n1       AT  1997              17.841370                    0.002900\n2       AT  1998              17.884289                    0.002400\n3       AT  1999              17.926085                    0.002332\n4       AT  2000              17.983888                    0.003214",
      "text/html": "<div>\n<style scoped>\n    .dataframe tbody tr th:only-of-type {\n        vertical-align: middle;\n    }\n\n    .dataframe tbody tr th {\n        vertical-align: top;\n    }\n\n    .dataframe thead th {\n        text-align: right;\n    }\n</style>\n<table border=\"1\" class=\"dataframe\">\n  <thead>\n    <tr style=\"text-align: right;\">\n      <th></th>\n      <th>geo\\time</th>\n      <th>year</th>\n      <th>ln_total_fixed_assets</th>\n      <th>ln_total_fixed_assets_diff</th>\n    </tr>\n  </thead>\n  <tbody>\n    <tr>\n      <th>0</th>\n      <td>AT</td>\n      <td>1996</td>\n      <td>17.789630</td>\n      <td>NaN</td>\n    </tr>\n    <tr>\n      <th>1</th>\n      <td>AT</td>\n      <td>1997</td>\n      <td>17.841370</td>\n      <td>0.002900</td>\n    </tr>\n    <tr>\n      <th>2</th>\n      <td>AT</td>\n      <td>1998</td>\n      <td>17.884289</td>\n      <td>0.002400</td>\n    </tr>\n    <tr>\n      <th>3</th>\n      <td>AT</td>\n      <td>1999</td>\n      <td>17.926085</td>\n      <td>0.002332</td>\n    </tr>\n    <tr>\n      <th>4</th>\n      <td>AT</td>\n      <td>2000</td>\n      <td>17.983888</td>\n      <td>0.003214</td>\n    </tr>\n  </tbody>\n</table>\n</div>"
     },
     "execution_count": 10,
     "metadata": {},
     "output_type": "execute_result"
    }
   ],
   "source": [
    "data_3 = data_3.merge(data_4, on=[\"geo\\\\time\", \"year\"])\n",
    "data_3[\"total_fixed_assets\"] = data_3[\"total_fixed_assets\"] / data_3[\"capital_stock_deflator\"]\n",
    "data_3[\"ln_total_fixed_assets\"] = numpy.log(data_3[\"total_fixed_assets\"])\n",
    "data_3[\"ln_total_fixed_assets_t_minus_1\"] = data_3.groupby(\"geo\\\\time\")[\"ln_total_fixed_assets\"].shift(1)\n",
    "data_3[\"ln_total_fixed_assets_diff\"] = (data_3[\"ln_total_fixed_assets\"] - data_3[\"ln_total_fixed_assets_t_minus_1\"]) / data_3[\"ln_total_fixed_assets\"]\n",
    "data_3 = data_3[[\"geo\\\\time\", \"year\", \"ln_total_fixed_assets\", \"ln_total_fixed_assets_diff\"]]\n",
    "data_3.head()"
   ],
   "metadata": {
    "collapsed": false,
    "pycharm": {
     "name": "#%%\n"
    }
   }
  },
  {
   "cell_type": "code",
   "execution_count": 11,
   "outputs": [
    {
     "data": {
      "text/plain": "   ln_gross_value_added_diff  ln_compensation_of_employees_diff  \\\n1                   0.003222                           0.002320   \n2                   0.003610                           0.003467   \n3                   0.003078                           0.003419   \n4                   0.005311                           0.004172   \n5                   0.004375                           0.003575   \n\n   ln_total_fixed_assets_diff geo\\time  year  \n1                    0.002900       AT  1997  \n2                    0.002400       AT  1998  \n3                    0.002332       AT  1999  \n4                    0.003214       AT  2000  \n5                    0.002373       AT  2001  ",
      "text/html": "<div>\n<style scoped>\n    .dataframe tbody tr th:only-of-type {\n        vertical-align: middle;\n    }\n\n    .dataframe tbody tr th {\n        vertical-align: top;\n    }\n\n    .dataframe thead th {\n        text-align: right;\n    }\n</style>\n<table border=\"1\" class=\"dataframe\">\n  <thead>\n    <tr style=\"text-align: right;\">\n      <th></th>\n      <th>ln_gross_value_added_diff</th>\n      <th>ln_compensation_of_employees_diff</th>\n      <th>ln_total_fixed_assets_diff</th>\n      <th>geo\\time</th>\n      <th>year</th>\n    </tr>\n  </thead>\n  <tbody>\n    <tr>\n      <th>1</th>\n      <td>0.003222</td>\n      <td>0.002320</td>\n      <td>0.002900</td>\n      <td>AT</td>\n      <td>1997</td>\n    </tr>\n    <tr>\n      <th>2</th>\n      <td>0.003610</td>\n      <td>0.003467</td>\n      <td>0.002400</td>\n      <td>AT</td>\n      <td>1998</td>\n    </tr>\n    <tr>\n      <th>3</th>\n      <td>0.003078</td>\n      <td>0.003419</td>\n      <td>0.002332</td>\n      <td>AT</td>\n      <td>1999</td>\n    </tr>\n    <tr>\n      <th>4</th>\n      <td>0.005311</td>\n      <td>0.004172</td>\n      <td>0.003214</td>\n      <td>AT</td>\n      <td>2000</td>\n    </tr>\n    <tr>\n      <th>5</th>\n      <td>0.004375</td>\n      <td>0.003575</td>\n      <td>0.002373</td>\n      <td>AT</td>\n      <td>2001</td>\n    </tr>\n  </tbody>\n</table>\n</div>"
     },
     "execution_count": 11,
     "metadata": {},
     "output_type": "execute_result"
    }
   ],
   "source": [
    "data = pandas.merge(data_1, data_3, on=[\"geo\\\\time\", \"year\"])\n",
    "data = data.dropna()\n",
    "data = data[[\"ln_gross_value_added_diff\", \"ln_compensation_of_employees_diff\", \"ln_total_fixed_assets_diff\", \"geo\\\\time\", \"year\"]]\n",
    "data = data[data[\"geo\\\\time\"] == \"AT\"]\n",
    "data.head()"
   ],
   "metadata": {
    "collapsed": false,
    "pycharm": {
     "name": "#%%\n"
    }
   }
  },
  {
   "cell_type": "code",
   "execution_count": 12,
   "outputs": [
    {
     "data": {
      "text/plain": "<class 'statsmodels.iolib.summary.Summary'>\n\"\"\"\n                                OLS Regression Results                               \n=====================================================================================\nDep. Variable:     ln_gross_value_added_diff   R-squared:                       0.576\nModel:                                   OLS   Adj. R-squared:                  0.536\nMethod:                        Least Squares   F-statistic:                     14.27\nDate:                       Fri, 21 Jan 2022   Prob (F-statistic):           0.000122\nTime:                               19:22:11   Log-Likelihood:                 129.64\nNo. Observations:                         24   AIC:                            -253.3\nDf Residuals:                             21   BIC:                            -249.7\nDf Model:                                  2                                         \nCovariance Type:                   nonrobust                                         \n=====================================================================================================\n                                        coef    std err          t      P>|t|      [0.025      0.975]\n-----------------------------------------------------------------------------------------------------\nconst                             -3.359e-05      0.001     -0.032      0.975      -0.002       0.002\nln_compensation_of_employees_diff     1.2147      0.273      4.452      0.000       0.647       1.782\nln_total_fixed_assets_diff           -0.3517      0.462     -0.762      0.455      -1.312       0.608\n==============================================================================\nOmnibus:                        1.888   Durbin-Watson:                   1.086\nProb(Omnibus):                  0.389   Jarque-Bera (JB):                1.506\nSkew:                          -0.592   Prob(JB):                        0.471\nKurtosis:                       2.674   Cond. No.                     2.11e+03\n==============================================================================\n\nNotes:\n[1] Standard Errors assume that the covariance matrix of the errors is correctly specified.\n[2] The condition number is large, 2.11e+03. This might indicate that there are\nstrong multicollinearity or other numerical problems.\n\"\"\"",
      "text/html": "<table class=\"simpletable\">\n<caption>OLS Regression Results</caption>\n<tr>\n  <th>Dep. Variable:</th>    <td>ln_gross_value_added_diff</td> <th>  R-squared:         </th> <td>   0.576</td>\n</tr>\n<tr>\n  <th>Model:</th>                       <td>OLS</td>            <th>  Adj. R-squared:    </th> <td>   0.536</td>\n</tr>\n<tr>\n  <th>Method:</th>                 <td>Least Squares</td>       <th>  F-statistic:       </th> <td>   14.27</td>\n</tr>\n<tr>\n  <th>Date:</th>                 <td>Fri, 21 Jan 2022</td>      <th>  Prob (F-statistic):</th> <td>0.000122</td>\n</tr>\n<tr>\n  <th>Time:</th>                     <td>19:22:11</td>          <th>  Log-Likelihood:    </th> <td>  129.64</td>\n</tr>\n<tr>\n  <th>No. Observations:</th>          <td>    24</td>           <th>  AIC:               </th> <td>  -253.3</td>\n</tr>\n<tr>\n  <th>Df Residuals:</th>              <td>    21</td>           <th>  BIC:               </th> <td>  -249.7</td>\n</tr>\n<tr>\n  <th>Df Model:</th>                  <td>     2</td>           <th>                     </th>     <td> </td>   \n</tr>\n<tr>\n  <th>Covariance Type:</th>          <td>nonrobust</td>         <th>                     </th>     <td> </td>   \n</tr>\n</table>\n<table class=\"simpletable\">\n<tr>\n                  <td></td>                     <th>coef</th>     <th>std err</th>      <th>t</th>      <th>P>|t|</th>  <th>[0.025</th>    <th>0.975]</th>  \n</tr>\n<tr>\n  <th>const</th>                             <td>-3.359e-05</td> <td>    0.001</td> <td>   -0.032</td> <td> 0.975</td> <td>   -0.002</td> <td>    0.002</td>\n</tr>\n<tr>\n  <th>ln_compensation_of_employees_diff</th> <td>    1.2147</td> <td>    0.273</td> <td>    4.452</td> <td> 0.000</td> <td>    0.647</td> <td>    1.782</td>\n</tr>\n<tr>\n  <th>ln_total_fixed_assets_diff</th>        <td>   -0.3517</td> <td>    0.462</td> <td>   -0.762</td> <td> 0.455</td> <td>   -1.312</td> <td>    0.608</td>\n</tr>\n</table>\n<table class=\"simpletable\">\n<tr>\n  <th>Omnibus:</th>       <td> 1.888</td> <th>  Durbin-Watson:     </th> <td>   1.086</td>\n</tr>\n<tr>\n  <th>Prob(Omnibus):</th> <td> 0.389</td> <th>  Jarque-Bera (JB):  </th> <td>   1.506</td>\n</tr>\n<tr>\n  <th>Skew:</th>          <td>-0.592</td> <th>  Prob(JB):          </th> <td>   0.471</td>\n</tr>\n<tr>\n  <th>Kurtosis:</th>      <td> 2.674</td> <th>  Cond. No.          </th> <td>2.11e+03</td>\n</tr>\n</table><br/><br/>Notes:<br/>[1] Standard Errors assume that the covariance matrix of the errors is correctly specified.<br/>[2] The condition number is large, 2.11e+03. This might indicate that there are<br/>strong multicollinearity or other numerical problems."
     },
     "execution_count": 12,
     "metadata": {},
     "output_type": "execute_result"
    }
   ],
   "source": [
    "data[\"const\"] = 1\n",
    "\n",
    "import statsmodels.api as sm\n",
    "mod = sm.OLS(data[\"ln_gross_value_added_diff\"], data[[\"const\", \"ln_compensation_of_employees_diff\", \"ln_total_fixed_assets_diff\"]])\n",
    "res = mod.fit()\n",
    "res.summary()"
   ],
   "metadata": {
    "collapsed": false,
    "pycharm": {
     "name": "#%%\n"
    }
   }
  },
  {
   "cell_type": "code",
   "execution_count": 13,
   "outputs": [
    {
     "data": {
      "text/plain": "0.9103242402462827"
     },
     "execution_count": 13,
     "metadata": {},
     "output_type": "execute_result"
    }
   ],
   "source": [
    "data[\"resid\"] = res.resid\n",
    "data[\"TFP3\"] = data[\"resid\"] + res.params[0]\n",
    "data[\"%\"] =  data[\"TFP3\"] / data[\"ln_gross_value_added_diff\"]\n",
    "# data = data[data[\"year\"] != 2009]\n",
    "data[\"%\"].mean()\n"
   ],
   "metadata": {
    "collapsed": false,
    "pycharm": {
     "name": "#%%\n"
    }
   }
  }
 ],
 "metadata": {
  "kernelspec": {
   "display_name": "Python 3",
   "language": "python",
   "name": "python3"
  },
  "language_info": {
   "codemirror_mode": {
    "name": "ipython",
    "version": 2
   },
   "file_extension": ".py",
   "mimetype": "text/x-python",
   "name": "python",
   "nbconvert_exporter": "python",
   "pygments_lexer": "ipython2",
   "version": "2.7.6"
  }
 },
 "nbformat": 4,
 "nbformat_minor": 0
}
{
 "cells": [
  {
   "cell_type": "markdown",
   "source": [
    "# Odhad CDPF\n",
    "\n",
    "## Cíl analýzy\n",
    "\n",
    "Cílem analýzy je odhad neoklasické agrengátní CDPF.\n",
    "\n",
    "## Data a metoda\n",
    "\n",
    "Pro odhad byly použity následující hodnoty:\n",
    "\n",
    "- hrubá přidaná hodnota (Gross Value Added) (převedená na stálé ceny roku 2010 pomocí deflátoru HDP),\n",
    "- čistý fixní nefinanční kapitál (převedený na stálé ceny roku 2010 pomocí deflátoru kapitálových zásob),\n",
    "- celkový počet odpracovaných hodin."
   ],
   "metadata": {
    "collapsed": false
   }
  },
  {
   "cell_type": "code",
   "execution_count": 1,
   "outputs": [],
   "source": [
    "import eurostat\n",
    "import pandas as pd\n",
    "import statsmodels.formula.api as smf\n",
    "from statsmodels.tsa.stattools import adfuller\n",
    "from scipy import stats\n",
    "import statsmodels.tsa.stattools as ts\n",
    "import numpy\n",
    "import seaborn\n",
    "from scipy.stats.mstats import gmean\n",
    "\n",
    "LOCATIONS = [\"CZ\", \"AT\", \"EU27_2020\"]\n",
    "BASE_LOCATION = \"AT\"\n",
    "START_YEAR = 1996\n",
    "END_YEAR = 2020"
   ],
   "metadata": {
    "collapsed": false,
    "pycharm": {
     "name": "#%%\n"
    }
   }
  },
  {
   "cell_type": "markdown",
   "source": [
    "### Hrubá přidaná hodnota (Gross Value Added)\n",
    "\n",
    "Hrubá přidaná hodnota je načtena na základě kódu `nama_10_a10`."
   ],
   "metadata": {
    "collapsed": false
   }
  },
  {
   "cell_type": "code",
   "execution_count": 2,
   "outputs": [],
   "source": [
    "data_1_es = eurostat.get_data_df('nama_10_a10')"
   ],
   "metadata": {
    "collapsed": false,
    "pycharm": {
     "name": "#%%\n"
    }
   }
  },
  {
   "cell_type": "code",
   "execution_count": 3,
   "outputs": [
    {
     "data": {
      "text/plain": "unit            CP_MNAC     PD10_NAC\nna_item             B1G  D1      B1G\ngeo\\time year                       \nAL       1996  312817.3 NaN      NaN\n         1997  304714.2 NaN      NaN\n         1998  339154.3 NaN      NaN\n         1999  396081.9 NaN      NaN\n         2000  442126.7 NaN      NaN",
      "text/html": "<div>\n<style scoped>\n    .dataframe tbody tr th:only-of-type {\n        vertical-align: middle;\n    }\n\n    .dataframe tbody tr th {\n        vertical-align: top;\n    }\n\n    .dataframe thead tr th {\n        text-align: left;\n    }\n\n    .dataframe thead tr:last-of-type th {\n        text-align: right;\n    }\n</style>\n<table border=\"1\" class=\"dataframe\">\n  <thead>\n    <tr>\n      <th></th>\n      <th>unit</th>\n      <th colspan=\"2\" halign=\"left\">CP_MNAC</th>\n      <th>PD10_NAC</th>\n    </tr>\n    <tr>\n      <th></th>\n      <th>na_item</th>\n      <th>B1G</th>\n      <th>D1</th>\n      <th>B1G</th>\n    </tr>\n    <tr>\n      <th>geo\\time</th>\n      <th>year</th>\n      <th></th>\n      <th></th>\n      <th></th>\n    </tr>\n  </thead>\n  <tbody>\n    <tr>\n      <th rowspan=\"5\" valign=\"top\">AL</th>\n      <th>1996</th>\n      <td>312817.3</td>\n      <td>NaN</td>\n      <td>NaN</td>\n    </tr>\n    <tr>\n      <th>1997</th>\n      <td>304714.2</td>\n      <td>NaN</td>\n      <td>NaN</td>\n    </tr>\n    <tr>\n      <th>1998</th>\n      <td>339154.3</td>\n      <td>NaN</td>\n      <td>NaN</td>\n    </tr>\n    <tr>\n      <th>1999</th>\n      <td>396081.9</td>\n      <td>NaN</td>\n      <td>NaN</td>\n    </tr>\n    <tr>\n      <th>2000</th>\n      <td>442126.7</td>\n      <td>NaN</td>\n      <td>NaN</td>\n    </tr>\n  </tbody>\n</table>\n</div>"
     },
     "execution_count": 3,
     "metadata": {},
     "output_type": "execute_result"
    }
   ],
   "source": [
    "data_1 = data_1_es\n",
    "# Value added, gross\n",
    "data_1 = data_1[data_1[\"na_item\"].isin([\"B1G\", \"D1\"])]\n",
    "# Total, all NACE activities\n",
    "data_1 = data_1[data_1[\"nace_r2\"] == \"TOTAL\"]\n",
    "# Current prices, million euro\n",
    "data_1 = data_1[data_1[\"unit\"].isin([\"CP_MNAC\", \"PD10_NAC\"])]\n",
    "data_1 = pd.melt(data_1, id_vars=[\"unit\", \"na_item\", \"geo\\\\time\"], value_vars=list(range(START_YEAR, END_YEAR + 1)),\n",
    "                     value_name=\"value\", var_name=\"year\")\n",
    "data_1 = data_1.pivot(index=[\"geo\\\\time\", \"year\"], columns=[\"unit\", \"na_item\"], values=\"value\")\n",
    "data_1 = pd.DataFrame(data_1)\n",
    "data_1.head()"
   ],
   "metadata": {
    "collapsed": false,
    "pycharm": {
     "name": "#%%\n"
    }
   }
  },
  {
   "cell_type": "code",
   "execution_count": 4,
   "outputs": [
    {
     "data": {
      "text/plain": "    geo\\time  year  gross_value_added  compensation_of_employees  \\\n134       CZ  1996         250.814964                 111.937994   \n135       CZ  1997         247.725862                 111.904427   \n136       CZ  1998         246.894717                 107.043167   \n137       CZ  1999         250.422251                 107.582155   \n138       CZ  2000         261.132320                 112.483392   \n\n     implicit_deflator_2010  \n134                  66.187  \n135                  72.489  \n136                  79.690  \n137                  81.705  \n138                  83.245  ",
      "text/html": "<div>\n<style scoped>\n    .dataframe tbody tr th:only-of-type {\n        vertical-align: middle;\n    }\n\n    .dataframe tbody tr th {\n        vertical-align: top;\n    }\n\n    .dataframe thead th {\n        text-align: right;\n    }\n</style>\n<table border=\"1\" class=\"dataframe\">\n  <thead>\n    <tr style=\"text-align: right;\">\n      <th></th>\n      <th>geo\\time</th>\n      <th>year</th>\n      <th>gross_value_added</th>\n      <th>compensation_of_employees</th>\n      <th>implicit_deflator_2010</th>\n    </tr>\n  </thead>\n  <tbody>\n    <tr>\n      <th>134</th>\n      <td>CZ</td>\n      <td>1996</td>\n      <td>250.814964</td>\n      <td>111.937994</td>\n      <td>66.187</td>\n    </tr>\n    <tr>\n      <th>135</th>\n      <td>CZ</td>\n      <td>1997</td>\n      <td>247.725862</td>\n      <td>111.904427</td>\n      <td>72.489</td>\n    </tr>\n    <tr>\n      <th>136</th>\n      <td>CZ</td>\n      <td>1998</td>\n      <td>246.894717</td>\n      <td>107.043167</td>\n      <td>79.690</td>\n    </tr>\n    <tr>\n      <th>137</th>\n      <td>CZ</td>\n      <td>1999</td>\n      <td>250.422251</td>\n      <td>107.582155</td>\n      <td>81.705</td>\n    </tr>\n    <tr>\n      <th>138</th>\n      <td>CZ</td>\n      <td>2000</td>\n      <td>261.132320</td>\n      <td>112.483392</td>\n      <td>83.245</td>\n    </tr>\n  </tbody>\n</table>\n</div>"
     },
     "execution_count": 4,
     "metadata": {},
     "output_type": "execute_result"
    }
   ],
   "source": [
    "data_1 = data_1.dropna()\n",
    "data_1[(\"CP_MNAC\", \"B1G\")] = (data_1[(\"CP_MNAC\", \"B1G\")] / data_1[(\"PD10_NAC\", \"B1G\")]) / 100\n",
    "data_1[(\"CP_MNAC\", \"D1\")] = (data_1[(\"CP_MNAC\", \"D1\")] / data_1[(\"PD10_NAC\", \"B1G\")]) / 100\n",
    "# data_1 = data_1.drop([(\"PD10_NAC\", \"B1G\")], axis=1)\n",
    "data_1.columns = ['_'.join(col) for col in data_1.columns.values]\n",
    "data_1 = data_1.rename({\"CP_MNAC_B1G\": \"gross_value_added\", \"CP_MNAC_D1\": \"compensation_of_employees\",\n",
    "                        \"PD10_NAC_B1G\": \"implicit_deflator_2010\"}, axis=1)\n",
    "data_1 = data_1.reset_index()\n",
    "data_1 = data_1[data_1[\"geo\\\\time\"] == \"CZ\"]\n",
    "data_1.head()"
   ],
   "metadata": {
    "collapsed": false,
    "pycharm": {
     "name": "#%%\n"
    }
   }
  },
  {
   "cell_type": "code",
   "source": [
    "data_1_gmean = data_1\n",
    "data_1_gmean[\"gross_value_added_t-1\"] = data_1_gmean.groupby([\"geo\\\\time\"])[\"gross_value_added\"].shift()\n",
    "data_1_gmean = data_1_gmean.dropna()\n",
    "data_1_gmean[\"gross_value_added_index\"] = data_1_gmean[\"gross_value_added\"] / data_1[\"gross_value_added_t-1\"]\n",
    "data_1_gmean = data_1_gmean.groupby([\"geo\\\\time\"]).agg({\"gross_value_added_index\": [gmean]}) - 1\n",
    "data_1_gmean"
   ],
   "metadata": {
    "collapsed": false,
    "pycharm": {
     "name": "#%%\n"
    }
   },
   "execution_count": 5,
   "outputs": [
    {
     "name": "stderr",
     "output_type": "stream",
     "text": [
      "C:\\Users\\jirip\\AppData\\Local\\Temp/ipykernel_26196/561914055.py:4: SettingWithCopyWarning: \n",
      "A value is trying to be set on a copy of a slice from a DataFrame.\n",
      "Try using .loc[row_indexer,col_indexer] = value instead\n",
      "\n",
      "See the caveats in the documentation: https://pandas.pydata.org/pandas-docs/stable/user_guide/indexing.html#returning-a-view-versus-a-copy\n",
      "  data_1_gmean[\"gross_value_added_index\"] = data_1_gmean[\"gross_value_added\"] / data_1[\"gross_value_added_t-1\"]\n"
     ]
    },
    {
     "data": {
      "text/plain": "         gross_value_added_index\n                           gmean\ngeo\\time                        \nCZ                      0.022327",
      "text/html": "<div>\n<style scoped>\n    .dataframe tbody tr th:only-of-type {\n        vertical-align: middle;\n    }\n\n    .dataframe tbody tr th {\n        vertical-align: top;\n    }\n\n    .dataframe thead tr th {\n        text-align: left;\n    }\n\n    .dataframe thead tr:last-of-type th {\n        text-align: right;\n    }\n</style>\n<table border=\"1\" class=\"dataframe\">\n  <thead>\n    <tr>\n      <th></th>\n      <th>gross_value_added_index</th>\n    </tr>\n    <tr>\n      <th></th>\n      <th>gmean</th>\n    </tr>\n    <tr>\n      <th>geo\\time</th>\n      <th></th>\n    </tr>\n  </thead>\n  <tbody>\n    <tr>\n      <th>CZ</th>\n      <td>0.022327</td>\n    </tr>\n  </tbody>\n</table>\n</div>"
     },
     "execution_count": 5,
     "metadata": {},
     "output_type": "execute_result"
    }
   ]
  },
  {
   "cell_type": "code",
   "execution_count": 6,
   "outputs": [
    {
     "data": {
      "text/plain": "    geo\\time  year  ln_gross_value_added  ln_gross_value_added_diff  \\\n154       CZ  2016              5.998628                   0.024676   \n155       CZ  2017              6.049332                   0.050704   \n156       CZ  2018              6.082622                   0.033290   \n157       CZ  2019              6.112236                   0.029614   \n158       CZ  2020              6.054661                  -0.057575   \n\n     ln_compensation_of_employees  ln_compensation_of_employees_diff  \n154                      5.231037                           0.046560  \n155                      5.306536                           0.075499  \n156                      5.373618                           0.067082  \n157                      5.407454                           0.033837  \n158                      5.373632                          -0.033822  ",
      "text/html": "<div>\n<style scoped>\n    .dataframe tbody tr th:only-of-type {\n        vertical-align: middle;\n    }\n\n    .dataframe tbody tr th {\n        vertical-align: top;\n    }\n\n    .dataframe thead th {\n        text-align: right;\n    }\n</style>\n<table border=\"1\" class=\"dataframe\">\n  <thead>\n    <tr style=\"text-align: right;\">\n      <th></th>\n      <th>geo\\time</th>\n      <th>year</th>\n      <th>ln_gross_value_added</th>\n      <th>ln_gross_value_added_diff</th>\n      <th>ln_compensation_of_employees</th>\n      <th>ln_compensation_of_employees_diff</th>\n    </tr>\n  </thead>\n  <tbody>\n    <tr>\n      <th>154</th>\n      <td>CZ</td>\n      <td>2016</td>\n      <td>5.998628</td>\n      <td>0.024676</td>\n      <td>5.231037</td>\n      <td>0.046560</td>\n    </tr>\n    <tr>\n      <th>155</th>\n      <td>CZ</td>\n      <td>2017</td>\n      <td>6.049332</td>\n      <td>0.050704</td>\n      <td>5.306536</td>\n      <td>0.075499</td>\n    </tr>\n    <tr>\n      <th>156</th>\n      <td>CZ</td>\n      <td>2018</td>\n      <td>6.082622</td>\n      <td>0.033290</td>\n      <td>5.373618</td>\n      <td>0.067082</td>\n    </tr>\n    <tr>\n      <th>157</th>\n      <td>CZ</td>\n      <td>2019</td>\n      <td>6.112236</td>\n      <td>0.029614</td>\n      <td>5.407454</td>\n      <td>0.033837</td>\n    </tr>\n    <tr>\n      <th>158</th>\n      <td>CZ</td>\n      <td>2020</td>\n      <td>6.054661</td>\n      <td>-0.057575</td>\n      <td>5.373632</td>\n      <td>-0.033822</td>\n    </tr>\n  </tbody>\n</table>\n</div>"
     },
     "execution_count": 6,
     "metadata": {},
     "output_type": "execute_result"
    }
   ],
   "source": [
    "data_1_ln = data_1.sort_values([\"geo\\\\time\", \"year\"])\n",
    "data_1_ln[\"ln_gross_value_added\"] = numpy.log(data_1_ln[\"gross_value_added\"])\n",
    "data_1_ln[\"ln_gross_value_added_t-1\"] = data_1_ln.groupby(\"geo\\\\time\")[\"ln_gross_value_added\"].shift(1)\n",
    "data_1_ln[\"ln_gross_value_added_diff\"] = data_1_ln[\"ln_gross_value_added\"] - data_1_ln[\"ln_gross_value_added_t-1\"]\n",
    "\n",
    "data_1_ln[\"ln_compensation_of_employees\"] = numpy.log(data_1_ln[\"compensation_of_employees\"])\n",
    "data_1_ln[\"ln_compensation_of_employees_t-1\"] = data_1_ln.groupby(\"geo\\\\time\")[\"ln_compensation_of_employees\"].shift(1)\n",
    "data_1_ln[\"ln_compensation_of_employees_diff\"] = data_1_ln[\"ln_compensation_of_employees\"] - data_1_ln[\"ln_compensation_of_employees_t-1\"]\n",
    "\n",
    "data_1_ln = data_1_ln[[\"geo\\\\time\", \"year\", \"ln_gross_value_added\", \"ln_gross_value_added_diff\", \"ln_compensation_of_employees\", \"ln_compensation_of_employees_diff\"]]\n",
    "data_1_ln.tail()"
   ],
   "metadata": {
    "collapsed": false,
    "pycharm": {
     "name": "#%%\n"
    }
   }
  },
  {
   "cell_type": "code",
   "execution_count": 7,
   "outputs": [],
   "source": [
    "data_3_es = eurostat.get_data_df('nama_10_nfa_bs')"
   ],
   "metadata": {
    "collapsed": false,
    "pycharm": {
     "name": "#%%\n"
    }
   }
  },
  {
   "cell_type": "code",
   "execution_count": 8,
   "outputs": [
    {
     "data": {
      "text/plain": "        unit asset10 geo\\time  year  total_fixed_assets\n0    CP_MNAC    N11N       AT  1996            659084.4\n29   CP_MNAC    N11N       AT  1997            686219.3\n58   CP_MNAC    N11N       AT  1998            710697.9\n87   CP_MNAC    N11N       AT  1999            737295.8\n116  CP_MNAC    N11N       AT  2000            768843.5",
      "text/html": "<div>\n<style scoped>\n    .dataframe tbody tr th:only-of-type {\n        vertical-align: middle;\n    }\n\n    .dataframe tbody tr th {\n        vertical-align: top;\n    }\n\n    .dataframe thead th {\n        text-align: right;\n    }\n</style>\n<table border=\"1\" class=\"dataframe\">\n  <thead>\n    <tr style=\"text-align: right;\">\n      <th></th>\n      <th>unit</th>\n      <th>asset10</th>\n      <th>geo\\time</th>\n      <th>year</th>\n      <th>total_fixed_assets</th>\n    </tr>\n  </thead>\n  <tbody>\n    <tr>\n      <th>0</th>\n      <td>CP_MNAC</td>\n      <td>N11N</td>\n      <td>AT</td>\n      <td>1996</td>\n      <td>659084.4</td>\n    </tr>\n    <tr>\n      <th>29</th>\n      <td>CP_MNAC</td>\n      <td>N11N</td>\n      <td>AT</td>\n      <td>1997</td>\n      <td>686219.3</td>\n    </tr>\n    <tr>\n      <th>58</th>\n      <td>CP_MNAC</td>\n      <td>N11N</td>\n      <td>AT</td>\n      <td>1998</td>\n      <td>710697.9</td>\n    </tr>\n    <tr>\n      <th>87</th>\n      <td>CP_MNAC</td>\n      <td>N11N</td>\n      <td>AT</td>\n      <td>1999</td>\n      <td>737295.8</td>\n    </tr>\n    <tr>\n      <th>116</th>\n      <td>CP_MNAC</td>\n      <td>N11N</td>\n      <td>AT</td>\n      <td>2000</td>\n      <td>768843.5</td>\n    </tr>\n  </tbody>\n</table>\n</div>"
     },
     "execution_count": 8,
     "metadata": {},
     "output_type": "execute_result"
    }
   ],
   "source": [
    "data_3 = data_3_es\n",
    "# Total fixed assets (net)\n",
    "data_3 = data_3[data_3[\"asset10\"] == \"N11N\"]\n",
    "# Total, all activities\n",
    "data_3 = data_3[data_3[\"sector\"] == \"S1\"]\n",
    "# Current fixed prices, millions of national currency\n",
    "data_3 = data_3[data_3[\"unit\"] == \"CP_MNAC\"]\n",
    "data_3 = pd.melt(data_3, id_vars=[\"unit\", \"asset10\", \"geo\\\\time\"], value_vars=list(range(START_YEAR, END_YEAR + 1)),\n",
    "                    value_name=\"total_fixed_assets\", var_name=\"year\")\n",
    "data_3 = data_3.sort_values([\"geo\\\\time\", \"year\"])\n",
    "data_3 = data_3.dropna()\n",
    "data_3.head()"
   ],
   "metadata": {
    "collapsed": false,
    "pycharm": {
     "name": "#%%\n"
    }
   }
  },
  {
   "cell_type": "code",
   "execution_count": 9,
   "outputs": [],
   "source": [
    "data_4_es = eurostat.get_data_df('nama_10_nfa_fl')"
   ],
   "metadata": {
    "collapsed": false,
    "pycharm": {
     "name": "#%%\n"
    }
   }
  },
  {
   "cell_type": "code",
   "execution_count": 10,
   "outputs": [
    {
     "data": {
      "text/plain": "         unit asset10 geo\\time  year  capital_stock_deflator\n0    PD10_NAC    N11G       AT  1996                  80.723\n32   PD10_NAC    N11G       AT  1997                  81.648\n64   PD10_NAC    N11G       AT  1998                  82.293\n96   PD10_NAC    N11G       AT  1999                  82.710\n128  PD10_NAC    N11G       AT  2000                  84.036",
      "text/html": "<div>\n<style scoped>\n    .dataframe tbody tr th:only-of-type {\n        vertical-align: middle;\n    }\n\n    .dataframe tbody tr th {\n        vertical-align: top;\n    }\n\n    .dataframe thead th {\n        text-align: right;\n    }\n</style>\n<table border=\"1\" class=\"dataframe\">\n  <thead>\n    <tr style=\"text-align: right;\">\n      <th></th>\n      <th>unit</th>\n      <th>asset10</th>\n      <th>geo\\time</th>\n      <th>year</th>\n      <th>capital_stock_deflator</th>\n    </tr>\n  </thead>\n  <tbody>\n    <tr>\n      <th>0</th>\n      <td>PD10_NAC</td>\n      <td>N11G</td>\n      <td>AT</td>\n      <td>1996</td>\n      <td>80.723</td>\n    </tr>\n    <tr>\n      <th>32</th>\n      <td>PD10_NAC</td>\n      <td>N11G</td>\n      <td>AT</td>\n      <td>1997</td>\n      <td>81.648</td>\n    </tr>\n    <tr>\n      <th>64</th>\n      <td>PD10_NAC</td>\n      <td>N11G</td>\n      <td>AT</td>\n      <td>1998</td>\n      <td>82.293</td>\n    </tr>\n    <tr>\n      <th>96</th>\n      <td>PD10_NAC</td>\n      <td>N11G</td>\n      <td>AT</td>\n      <td>1999</td>\n      <td>82.710</td>\n    </tr>\n    <tr>\n      <th>128</th>\n      <td>PD10_NAC</td>\n      <td>N11G</td>\n      <td>AT</td>\n      <td>2000</td>\n      <td>84.036</td>\n    </tr>\n  </tbody>\n</table>\n</div>"
     },
     "execution_count": 10,
     "metadata": {},
     "output_type": "execute_result"
    }
   ],
   "source": [
    "data_4 = data_4_es\n",
    "data_4 = data_4[data_4[\"asset10\"] == \"N11G\"]\n",
    "data_4 = data_4[data_4[\"nace_r2\"] == \"TOTAL\"]\n",
    "data_4 = data_4[data_4[\"unit\"] == \"PD10_NAC\"]\n",
    "data_4 = pd.melt(data_4, id_vars=[\"unit\", \"asset10\", \"geo\\\\time\"], value_vars=list(range(START_YEAR, END_YEAR + 1)),\n",
    "                    value_name=\"capital_stock_deflator\", var_name=\"year\")\n",
    "data_4 = data_4.sort_values([\"geo\\\\time\", \"year\"])\n",
    "data_4 = data_4.dropna()\n",
    "data_4.head()\n"
   ],
   "metadata": {
    "collapsed": false,
    "pycharm": {
     "name": "#%%\n"
    }
   }
  },
  {
   "cell_type": "code",
   "execution_count": 11,
   "outputs": [
    {
     "data": {
      "text/plain": "    unit_x asset10_x geo\\time  year  total_fixed_assets    unit_y asset10_y  \\\n0  CP_MNAC      N11N       AT  1996         8164.765928  PD10_NAC      N11G   \n1  CP_MNAC      N11N       AT  1997         8404.606359  PD10_NAC      N11G   \n2  CP_MNAC      N11N       AT  1998         8636.188983  PD10_NAC      N11G   \n3  CP_MNAC      N11N       AT  1999         8914.228026  PD10_NAC      N11G   \n4  CP_MNAC      N11N       AT  2000         9148.977819  PD10_NAC      N11G   \n\n   capital_stock_deflator  total_fixed_assets_t-1  total_fixed_assets_index  \\\n0                  80.723                     NaN                       NaN   \n1                  81.648             8164.765928                  1.029375   \n2                  82.293             8404.606359                  1.027554   \n3                  82.710             8636.188983                  1.032195   \n4                  84.036             8914.228026                  1.026334   \n\n   ln_total_fixed_assets  ln_total_fixed_assets_t-1  \\\n0               9.007583                        NaN   \n1               9.036535                   9.007583   \n2               9.063717                   9.036535   \n3               9.095404                   9.063717   \n4               9.121397                   9.095404   \n\n   ln_total_fixed_assets_diff  \n0                         NaN  \n1                    0.028952  \n2                    0.027181  \n3                    0.031687  \n4                    0.025994  ",
      "text/html": "<div>\n<style scoped>\n    .dataframe tbody tr th:only-of-type {\n        vertical-align: middle;\n    }\n\n    .dataframe tbody tr th {\n        vertical-align: top;\n    }\n\n    .dataframe thead th {\n        text-align: right;\n    }\n</style>\n<table border=\"1\" class=\"dataframe\">\n  <thead>\n    <tr style=\"text-align: right;\">\n      <th></th>\n      <th>unit_x</th>\n      <th>asset10_x</th>\n      <th>geo\\time</th>\n      <th>year</th>\n      <th>total_fixed_assets</th>\n      <th>unit_y</th>\n      <th>asset10_y</th>\n      <th>capital_stock_deflator</th>\n      <th>total_fixed_assets_t-1</th>\n      <th>total_fixed_assets_index</th>\n      <th>ln_total_fixed_assets</th>\n      <th>ln_total_fixed_assets_t-1</th>\n      <th>ln_total_fixed_assets_diff</th>\n    </tr>\n  </thead>\n  <tbody>\n    <tr>\n      <th>0</th>\n      <td>CP_MNAC</td>\n      <td>N11N</td>\n      <td>AT</td>\n      <td>1996</td>\n      <td>8164.765928</td>\n      <td>PD10_NAC</td>\n      <td>N11G</td>\n      <td>80.723</td>\n      <td>NaN</td>\n      <td>NaN</td>\n      <td>9.007583</td>\n      <td>NaN</td>\n      <td>NaN</td>\n    </tr>\n    <tr>\n      <th>1</th>\n      <td>CP_MNAC</td>\n      <td>N11N</td>\n      <td>AT</td>\n      <td>1997</td>\n      <td>8404.606359</td>\n      <td>PD10_NAC</td>\n      <td>N11G</td>\n      <td>81.648</td>\n      <td>8164.765928</td>\n      <td>1.029375</td>\n      <td>9.036535</td>\n      <td>9.007583</td>\n      <td>0.028952</td>\n    </tr>\n    <tr>\n      <th>2</th>\n      <td>CP_MNAC</td>\n      <td>N11N</td>\n      <td>AT</td>\n      <td>1998</td>\n      <td>8636.188983</td>\n      <td>PD10_NAC</td>\n      <td>N11G</td>\n      <td>82.293</td>\n      <td>8404.606359</td>\n      <td>1.027554</td>\n      <td>9.063717</td>\n      <td>9.036535</td>\n      <td>0.027181</td>\n    </tr>\n    <tr>\n      <th>3</th>\n      <td>CP_MNAC</td>\n      <td>N11N</td>\n      <td>AT</td>\n      <td>1999</td>\n      <td>8914.228026</td>\n      <td>PD10_NAC</td>\n      <td>N11G</td>\n      <td>82.710</td>\n      <td>8636.188983</td>\n      <td>1.032195</td>\n      <td>9.095404</td>\n      <td>9.063717</td>\n      <td>0.031687</td>\n    </tr>\n    <tr>\n      <th>4</th>\n      <td>CP_MNAC</td>\n      <td>N11N</td>\n      <td>AT</td>\n      <td>2000</td>\n      <td>9148.977819</td>\n      <td>PD10_NAC</td>\n      <td>N11G</td>\n      <td>84.036</td>\n      <td>8914.228026</td>\n      <td>1.026334</td>\n      <td>9.121397</td>\n      <td>9.095404</td>\n      <td>0.025994</td>\n    </tr>\n  </tbody>\n</table>\n</div>"
     },
     "execution_count": 11,
     "metadata": {},
     "output_type": "execute_result"
    }
   ],
   "source": [
    "data_3_merged = data_3.merge(data_4, on=[\"geo\\\\time\", \"year\"])\n",
    "data_3_merged[\"total_fixed_assets\"] = data_3_merged[\"total_fixed_assets\"] / data_3_merged[\"capital_stock_deflator\"]\n",
    "data_3_merged[\"total_fixed_assets_t-1\"] = data_3_merged.groupby(\"geo\\\\time\")[\"total_fixed_assets\"].shift(1)\n",
    "data_3_merged[\"total_fixed_assets_index\"] = data_3_merged[\"total_fixed_assets\"] / data_3_merged[\"total_fixed_assets_t-1\"]\n",
    "data_3_merged[\"ln_total_fixed_assets\"] = numpy.log(data_3_merged[\"total_fixed_assets\"])\n",
    "data_3_merged[\"ln_total_fixed_assets_t-1\"] = data_3_merged.groupby(\"geo\\\\time\")[\"ln_total_fixed_assets\"].shift(1)\n",
    "data_3_merged[\"ln_total_fixed_assets_diff\"] = data_3_merged[\"ln_total_fixed_assets\"] - data_3_merged[\"ln_total_fixed_assets_t-1\"]\n",
    "data_3_merged.head()"
   ],
   "metadata": {
    "collapsed": false,
    "pycharm": {
     "name": "#%%\n"
    }
   }
  },
  {
   "cell_type": "code",
   "execution_count": 12,
   "outputs": [
    {
     "data": {
      "text/plain": "         total_fixed_assets_index\n                            gmean\ngeo\\time                         \nAT                       0.022338\nBE                       0.019694\nBG                       0.020495\nCY                       0.029168\nCZ                       0.027041\nDE                       0.016114\nDK                       0.019639\nEE                       0.051596\nEL                       0.013462\nES                       0.023011\nFI                       0.019717\nFR                       0.021168\nHR                       0.055098\nHU                       0.025591\nIE                       0.069420\nIT                       0.012169\nLT                       0.038803\nLU                       0.039444\nLV                       0.022860\nMT                       0.030793\nNL                       0.020185\nNO                       0.031797\nPL                       0.035409\nPT                       0.016761\nRO                       0.037874\nSE                       0.035706\nSI                       0.015738\nSK                       0.022261\nUK                       0.028672",
      "text/html": "<div>\n<style scoped>\n    .dataframe tbody tr th:only-of-type {\n        vertical-align: middle;\n    }\n\n    .dataframe tbody tr th {\n        vertical-align: top;\n    }\n\n    .dataframe thead tr th {\n        text-align: left;\n    }\n\n    .dataframe thead tr:last-of-type th {\n        text-align: right;\n    }\n</style>\n<table border=\"1\" class=\"dataframe\">\n  <thead>\n    <tr>\n      <th></th>\n      <th>total_fixed_assets_index</th>\n    </tr>\n    <tr>\n      <th></th>\n      <th>gmean</th>\n    </tr>\n    <tr>\n      <th>geo\\time</th>\n      <th></th>\n    </tr>\n  </thead>\n  <tbody>\n    <tr>\n      <th>AT</th>\n      <td>0.022338</td>\n    </tr>\n    <tr>\n      <th>BE</th>\n      <td>0.019694</td>\n    </tr>\n    <tr>\n      <th>BG</th>\n      <td>0.020495</td>\n    </tr>\n    <tr>\n      <th>CY</th>\n      <td>0.029168</td>\n    </tr>\n    <tr>\n      <th>CZ</th>\n      <td>0.027041</td>\n    </tr>\n    <tr>\n      <th>DE</th>\n      <td>0.016114</td>\n    </tr>\n    <tr>\n      <th>DK</th>\n      <td>0.019639</td>\n    </tr>\n    <tr>\n      <th>EE</th>\n      <td>0.051596</td>\n    </tr>\n    <tr>\n      <th>EL</th>\n      <td>0.013462</td>\n    </tr>\n    <tr>\n      <th>ES</th>\n      <td>0.023011</td>\n    </tr>\n    <tr>\n      <th>FI</th>\n      <td>0.019717</td>\n    </tr>\n    <tr>\n      <th>FR</th>\n      <td>0.021168</td>\n    </tr>\n    <tr>\n      <th>HR</th>\n      <td>0.055098</td>\n    </tr>\n    <tr>\n      <th>HU</th>\n      <td>0.025591</td>\n    </tr>\n    <tr>\n      <th>IE</th>\n      <td>0.069420</td>\n    </tr>\n    <tr>\n      <th>IT</th>\n      <td>0.012169</td>\n    </tr>\n    <tr>\n      <th>LT</th>\n      <td>0.038803</td>\n    </tr>\n    <tr>\n      <th>LU</th>\n      <td>0.039444</td>\n    </tr>\n    <tr>\n      <th>LV</th>\n      <td>0.022860</td>\n    </tr>\n    <tr>\n      <th>MT</th>\n      <td>0.030793</td>\n    </tr>\n    <tr>\n      <th>NL</th>\n      <td>0.020185</td>\n    </tr>\n    <tr>\n      <th>NO</th>\n      <td>0.031797</td>\n    </tr>\n    <tr>\n      <th>PL</th>\n      <td>0.035409</td>\n    </tr>\n    <tr>\n      <th>PT</th>\n      <td>0.016761</td>\n    </tr>\n    <tr>\n      <th>RO</th>\n      <td>0.037874</td>\n    </tr>\n    <tr>\n      <th>SE</th>\n      <td>0.035706</td>\n    </tr>\n    <tr>\n      <th>SI</th>\n      <td>0.015738</td>\n    </tr>\n    <tr>\n      <th>SK</th>\n      <td>0.022261</td>\n    </tr>\n    <tr>\n      <th>UK</th>\n      <td>0.028672</td>\n    </tr>\n  </tbody>\n</table>\n</div>"
     },
     "execution_count": 12,
     "metadata": {},
     "output_type": "execute_result"
    }
   ],
   "source": [
    "data_3_gmean = data_3_merged\n",
    "data_3_gmean = data_3_gmean.dropna(subset=[\"total_fixed_assets_index\"])\n",
    "data_3_gmean = data_3_gmean.groupby([\"geo\\\\time\"]).agg({\"total_fixed_assets_index\": [gmean]}) - 1\n",
    "data_3_gmean"
   ],
   "metadata": {
    "collapsed": false,
    "pycharm": {
     "name": "#%%\n"
    }
   }
  },
  {
   "cell_type": "code",
   "execution_count": 13,
   "outputs": [],
   "source": [
    "# Employment by A*10 industry breakdowns\n",
    "data_5_es = eurostat.get_data_df('nama_10_a10_e')"
   ],
   "metadata": {
    "collapsed": false,
    "pycharm": {
     "name": "#%%\n"
    }
   }
  },
  {
   "cell_type": "code",
   "execution_count": 14,
   "outputs": [
    {
     "data": {
      "text/plain": "  geo\\time  year  thousands_hours_worked\n0       AT  1996               6508108.0\n1       AT  1997               6586241.0\n2       AT  1998               6573561.0\n3       AT  1999               6687950.0\n4       AT  2000               6753059.0",
      "text/html": "<div>\n<style scoped>\n    .dataframe tbody tr th:only-of-type {\n        vertical-align: middle;\n    }\n\n    .dataframe tbody tr th {\n        vertical-align: top;\n    }\n\n    .dataframe thead th {\n        text-align: right;\n    }\n</style>\n<table border=\"1\" class=\"dataframe\">\n  <thead>\n    <tr style=\"text-align: right;\">\n      <th></th>\n      <th>geo\\time</th>\n      <th>year</th>\n      <th>thousands_hours_worked</th>\n    </tr>\n  </thead>\n  <tbody>\n    <tr>\n      <th>0</th>\n      <td>AT</td>\n      <td>1996</td>\n      <td>6508108.0</td>\n    </tr>\n    <tr>\n      <th>1</th>\n      <td>AT</td>\n      <td>1997</td>\n      <td>6586241.0</td>\n    </tr>\n    <tr>\n      <th>2</th>\n      <td>AT</td>\n      <td>1998</td>\n      <td>6573561.0</td>\n    </tr>\n    <tr>\n      <th>3</th>\n      <td>AT</td>\n      <td>1999</td>\n      <td>6687950.0</td>\n    </tr>\n    <tr>\n      <th>4</th>\n      <td>AT</td>\n      <td>2000</td>\n      <td>6753059.0</td>\n    </tr>\n  </tbody>\n</table>\n</div>"
     },
     "execution_count": 14,
     "metadata": {},
     "output_type": "execute_result"
    }
   ],
   "source": [
    "data_5 = data_5_es\n",
    "\n",
    "# Value added, gross\n",
    "data_5 = data_5[data_5[\"na_item\"] == \"EMP_DC\"]\n",
    "# Total, all NACE activities\n",
    "data_5 = data_5[data_5[\"nace_r2\"] == \"TOTAL\"]\n",
    "# Thousands hours worked\n",
    "data_5 = data_5[data_5[\"unit\"] == \"THS_HW\"]\n",
    "data_5 = pd.melt(data_5, id_vars=[\"unit\", \"na_item\", \"geo\\\\time\"], value_vars=list(range(START_YEAR, END_YEAR + 1)),\n",
    "                     value_name=\"value\", var_name=\"year\")\n",
    "data_5 = data_5.pivot(index=[\"geo\\\\time\", \"year\"], columns=[\"unit\", \"na_item\"], values=\"value\")\n",
    "data_5 = pd.DataFrame(data_5)\n",
    "data_5.columns = ['_'.join(col) for col in data_5.columns.values]\n",
    "data_5 = data_5.rename({\"THS_HW_EMP_DC\": \"thousands_hours_worked\"}, axis=1)\n",
    "data_5 = data_5.reset_index()\n",
    "data_5.head()"
   ],
   "metadata": {
    "collapsed": false,
    "pycharm": {
     "name": "#%%\n"
    }
   }
  },
  {
   "cell_type": "code",
   "execution_count": 15,
   "outputs": [
    {
     "data": {
      "text/plain": "  geo\\time  year  thousands_hours_worked  ln_thousands_hours_worked  \\\n0       AT  1996               6508108.0                  15.688559   \n1       AT  1997               6586241.0                  15.700493   \n2       AT  1998               6573561.0                  15.698566   \n3       AT  1999               6687950.0                  15.715818   \n4       AT  2000               6753059.0                  15.725506   \n\n   ln_thousands_hours_worked_t-1  ln_thousands_hours_worked_diff  \n0                            NaN                             NaN  \n1                      15.688559                        0.011934  \n2                      15.700493                       -0.001927  \n3                      15.698566                        0.017252  \n4                      15.715818                        0.009688  ",
      "text/html": "<div>\n<style scoped>\n    .dataframe tbody tr th:only-of-type {\n        vertical-align: middle;\n    }\n\n    .dataframe tbody tr th {\n        vertical-align: top;\n    }\n\n    .dataframe thead th {\n        text-align: right;\n    }\n</style>\n<table border=\"1\" class=\"dataframe\">\n  <thead>\n    <tr style=\"text-align: right;\">\n      <th></th>\n      <th>geo\\time</th>\n      <th>year</th>\n      <th>thousands_hours_worked</th>\n      <th>ln_thousands_hours_worked</th>\n      <th>ln_thousands_hours_worked_t-1</th>\n      <th>ln_thousands_hours_worked_diff</th>\n    </tr>\n  </thead>\n  <tbody>\n    <tr>\n      <th>0</th>\n      <td>AT</td>\n      <td>1996</td>\n      <td>6508108.0</td>\n      <td>15.688559</td>\n      <td>NaN</td>\n      <td>NaN</td>\n    </tr>\n    <tr>\n      <th>1</th>\n      <td>AT</td>\n      <td>1997</td>\n      <td>6586241.0</td>\n      <td>15.700493</td>\n      <td>15.688559</td>\n      <td>0.011934</td>\n    </tr>\n    <tr>\n      <th>2</th>\n      <td>AT</td>\n      <td>1998</td>\n      <td>6573561.0</td>\n      <td>15.698566</td>\n      <td>15.700493</td>\n      <td>-0.001927</td>\n    </tr>\n    <tr>\n      <th>3</th>\n      <td>AT</td>\n      <td>1999</td>\n      <td>6687950.0</td>\n      <td>15.715818</td>\n      <td>15.698566</td>\n      <td>0.017252</td>\n    </tr>\n    <tr>\n      <th>4</th>\n      <td>AT</td>\n      <td>2000</td>\n      <td>6753059.0</td>\n      <td>15.725506</td>\n      <td>15.715818</td>\n      <td>0.009688</td>\n    </tr>\n  </tbody>\n</table>\n</div>"
     },
     "execution_count": 15,
     "metadata": {},
     "output_type": "execute_result"
    }
   ],
   "source": [
    "data_5_ln = data_5.sort_values([\"geo\\\\time\", \"year\"])\n",
    "data_5_ln[\"ln_thousands_hours_worked\"] = numpy.log(data_5_ln[\"thousands_hours_worked\"])\n",
    "data_5_ln[\"ln_thousands_hours_worked_t-1\"] = data_5_ln.groupby(\"geo\\\\time\")[\"ln_thousands_hours_worked\"].shift(1)\n",
    "data_5_ln[\"ln_thousands_hours_worked_diff\"] = data_5_ln[\"ln_thousands_hours_worked\"] - data_5_ln[\"ln_thousands_hours_worked_t-1\"]\n",
    "\n",
    "data_5_ln.head()"
   ],
   "metadata": {
    "collapsed": false,
    "pycharm": {
     "name": "#%%\n"
    }
   }
  },
  {
   "cell_type": "code",
   "execution_count": 16,
   "outputs": [
    {
     "data": {
      "text/plain": "   geo\\time  year  ln_gross_value_added  ln_gross_value_added_diff  \\\n0        CZ  1996              5.524715                        NaN   \n1        CZ  1997              5.512323                  -0.012393   \n2        CZ  1998              5.508962                  -0.003361   \n3        CZ  1999              5.523148                   0.014186   \n4        CZ  2000              5.565027                   0.041879   \n5        CZ  2001              5.595260                   0.030233   \n6        CZ  2002              5.615320                   0.020060   \n7        CZ  2003              5.644631                   0.029311   \n8        CZ  2004              5.692031                   0.047399   \n9        CZ  2005              5.757599                   0.065569   \n10       CZ  2006              5.827881                   0.070281   \n11       CZ  2007              5.879406                   0.051526   \n12       CZ  2008              5.914514                   0.035108   \n13       CZ  2009              5.860276                  -0.054238   \n14       CZ  2010              5.889855                   0.029578   \n15       CZ  2011              5.907265                   0.017411   \n16       CZ  2012              5.898843                  -0.008422   \n17       CZ  2013              5.898683                  -0.000160   \n18       CZ  2014              5.926863                   0.028179   \n19       CZ  2015              5.973952                   0.047089   \n20       CZ  2016              5.998628                   0.024676   \n21       CZ  2017              6.049332                   0.050704   \n22       CZ  2018              6.082622                   0.033290   \n23       CZ  2019              6.112236                   0.029614   \n24       CZ  2020              6.054661                  -0.057575   \n\n    ln_compensation_of_employees  ln_compensation_of_employees_diff   unit_x  \\\n0                       4.717945                                NaN  CP_MNAC   \n1                       4.717645                          -0.000300  CP_MNAC   \n2                       4.673232                          -0.044413  CP_MNAC   \n3                       4.678255                           0.005023  CP_MNAC   \n4                       4.722806                           0.044551  CP_MNAC   \n5                       4.751364                           0.028558  CP_MNAC   \n6                       4.797132                           0.045768  CP_MNAC   \n7                       4.832204                           0.035072  CP_MNAC   \n8                       4.883533                           0.051329  CP_MNAC   \n9                       4.954332                           0.070799  CP_MNAC   \n10                      5.018158                           0.063827  CP_MNAC   \n11                      5.066380                           0.048221  CP_MNAC   \n12                      5.122425                           0.056045  CP_MNAC   \n13                      5.061758                          -0.060666  CP_MNAC   \n14                      5.099671                           0.037913  CP_MNAC   \n15                      5.124590                           0.024918  CP_MNAC   \n16                      5.138808                           0.014218  CP_MNAC   \n17                      5.138048                          -0.000760  CP_MNAC   \n18                      5.145707                           0.007658  CP_MNAC   \n19                      5.184477                           0.038770  CP_MNAC   \n20                      5.231037                           0.046560  CP_MNAC   \n21                      5.306536                           0.075499  CP_MNAC   \n22                      5.373618                           0.067082  CP_MNAC   \n23                      5.407454                           0.033837  CP_MNAC   \n24                      5.373632                          -0.033822  CP_MNAC   \n\n   asset10_x  total_fixed_assets    unit_y  ... capital_stock_deflator  \\\n0       N11N        98722.846780  PD10_NAC  ...                 77.477   \n1       N11N       104312.104978  PD10_NAC  ...                 83.065   \n2       N11N       109099.885923  PD10_NAC  ...                 87.660   \n3       N11N       111592.646784  PD10_NAC  ...                 90.899   \n4       N11N       115473.725575  PD10_NAC  ...                 92.885   \n5       N11N       119721.362916  PD10_NAC  ...                 94.650   \n6       N11N       126103.076558  PD10_NAC  ...                 92.766   \n7       N11N       129446.456726  PD10_NAC  ...                 93.868   \n8       N11N       132888.830074  PD10_NAC  ...                 96.348   \n9       N11N       137703.005814  PD10_NAC  ...                 97.012   \n10      N11N       143944.590083  PD10_NAC  ...                 97.654   \n11      N11N       154674.730993  PD10_NAC  ...                 99.161   \n12      N11N       165266.483241  PD10_NAC  ...                 99.586   \n13      N11N       163796.737431  PD10_NAC  ...                101.086   \n14      N11N       166033.240000  PD10_NAC  ...                100.000   \n15      N11N       169847.239301  PD10_NAC  ...                 99.214   \n16      N11N       167014.071118  PD10_NAC  ...                100.987   \n17      N11N       166871.274728  PD10_NAC  ...                101.402   \n18      N11N       167585.929551  PD10_NAC  ...                103.195   \n19      N11N       169848.870016  PD10_NAC  ...                104.559   \n20      N11N       172597.822984  PD10_NAC  ...                105.098   \n21      N11N       174837.815032  PD10_NAC  ...                106.656   \n22      N11N       179943.540272  PD10_NAC  ...                108.325   \n23      N11N       183820.732270  PD10_NAC  ...                112.636   \n24      N11N       187296.204150  PD10_NAC  ...                115.758   \n\n    total_fixed_assets_t-1  total_fixed_assets_index  ln_total_fixed_assets  \\\n0                      NaN                       NaN              11.500072   \n1             98722.846780                  1.056616              11.555143   \n2            104312.104978                  1.045899              11.600019   \n3            109099.885923                  1.022848              11.622610   \n4            111592.646784                  1.034779              11.656798   \n5            115473.725575                  1.036784              11.692922   \n6            119721.362916                  1.053305              11.744855   \n7            126103.076558                  1.026513              11.771023   \n8            129446.456726                  1.026593              11.797268   \n9            132888.830074                  1.036227              11.832855   \n10           137703.005814                  1.045326              11.877184   \n11           143944.590083                  1.074544              11.949080   \n12           154674.730993                  1.068478              12.015315   \n13           165266.483241                  0.991107              12.006382   \n14           163796.737431                  1.013654              12.019943   \n15           166033.240000                  1.022971              12.042655   \n16           169847.239301                  0.983319              12.025833   \n17           167014.071118                  0.999145              12.024978   \n18           166871.274728                  1.004283              12.029252   \n19           167585.929551                  1.013503              12.042664   \n20           169848.870016                  1.016185              12.058719   \n21           172597.822984                  1.012978              12.071614   \n22           174837.815032                  1.029203              12.100398   \n23           179943.540272                  1.021547              12.121716   \n24           183820.732270                  1.018907              12.140447   \n\n    ln_total_fixed_assets_t-1  ln_total_fixed_assets_diff  \\\n0                         NaN                         NaN   \n1                   11.500072                    0.055071   \n2                   11.555143                    0.044876   \n3                   11.600019                    0.022591   \n4                   11.622610                    0.034188   \n5                   11.656798                    0.036124   \n6                   11.692922                    0.051933   \n7                   11.744855                    0.026168   \n8                   11.771023                    0.026246   \n9                   11.797268                    0.035586   \n10                  11.832855                    0.044329   \n11                  11.877184                    0.071896   \n12                  11.949080                    0.066235   \n13                  12.015315                   -0.008933   \n14                  12.006382                    0.013562   \n15                  12.019943                    0.022711   \n16                  12.042655                   -0.016821   \n17                  12.025833                   -0.000855   \n18                  12.024978                    0.004274   \n19                  12.029252                    0.013413   \n20                  12.042664                    0.016055   \n21                  12.058719                    0.012895   \n22                  12.071614                    0.028784   \n23                  12.100398                    0.021318   \n24                  12.121716                    0.018730   \n\n    thousands_hours_worked  ln_thousands_hours_worked  \\\n0                9388353.0                  16.054980   \n1                9366006.0                  16.052597   \n2                9318501.0                  16.047512   \n3                9263382.0                  16.041580   \n4                9234010.0                  16.038404   \n5                8836536.0                  15.994406   \n6                8837763.0                  15.994544   \n7                8703898.0                  15.979282   \n8                8757937.0                  15.985471   \n9                8875156.0                  15.998766   \n10               8926422.0                  16.004526   \n11               9040417.0                  16.017216   \n12               9313295.0                  16.046954   \n13               9089851.0                  16.022669   \n14               9098481.0                  16.023618   \n15               9105793.0                  16.024421   \n16               8997041.0                  16.012406   \n17               8964295.0                  16.008760   \n18               9062346.0                  16.019639   \n19               9075987.0                  16.021143   \n20               9339114.0                  16.049722   \n21               9496559.0                  16.066440   \n22               9667734.0                  16.084305   \n23               9698776.0                  16.087510   \n24               9097490.0                  16.023509   \n\n    ln_thousands_hours_worked_t-1  ln_thousands_hours_worked_diff  \n0                             NaN                             NaN  \n1                       16.054980                       -0.002383  \n2                       16.052597                       -0.005085  \n3                       16.047512                       -0.005933  \n4                       16.041580                       -0.003176  \n5                       16.038404                       -0.043998  \n6                       15.994406                        0.000139  \n7                       15.994544                       -0.015263  \n8                       15.979282                        0.006189  \n9                       15.985471                        0.013296  \n10                      15.998766                        0.005760  \n11                      16.004526                        0.012690  \n12                      16.017216                        0.029738  \n13                      16.046954                       -0.024284  \n14                      16.022669                        0.000949  \n15                      16.023618                        0.000803  \n16                      16.024421                       -0.012015  \n17                      16.012406                       -0.003646  \n18                      16.008760                        0.010879  \n19                      16.019639                        0.001504  \n20                      16.021143                        0.028579  \n21                      16.049722                        0.016718  \n22                      16.066440                        0.017864  \n23                      16.084305                        0.003206  \n24                      16.087510                       -0.064001  \n\n[25 rows x 21 columns]",
      "text/html": "<div>\n<style scoped>\n    .dataframe tbody tr th:only-of-type {\n        vertical-align: middle;\n    }\n\n    .dataframe tbody tr th {\n        vertical-align: top;\n    }\n\n    .dataframe thead th {\n        text-align: right;\n    }\n</style>\n<table border=\"1\" class=\"dataframe\">\n  <thead>\n    <tr style=\"text-align: right;\">\n      <th></th>\n      <th>geo\\time</th>\n      <th>year</th>\n      <th>ln_gross_value_added</th>\n      <th>ln_gross_value_added_diff</th>\n      <th>ln_compensation_of_employees</th>\n      <th>ln_compensation_of_employees_diff</th>\n      <th>unit_x</th>\n      <th>asset10_x</th>\n      <th>total_fixed_assets</th>\n      <th>unit_y</th>\n      <th>...</th>\n      <th>capital_stock_deflator</th>\n      <th>total_fixed_assets_t-1</th>\n      <th>total_fixed_assets_index</th>\n      <th>ln_total_fixed_assets</th>\n      <th>ln_total_fixed_assets_t-1</th>\n      <th>ln_total_fixed_assets_diff</th>\n      <th>thousands_hours_worked</th>\n      <th>ln_thousands_hours_worked</th>\n      <th>ln_thousands_hours_worked_t-1</th>\n      <th>ln_thousands_hours_worked_diff</th>\n    </tr>\n  </thead>\n  <tbody>\n    <tr>\n      <th>0</th>\n      <td>CZ</td>\n      <td>1996</td>\n      <td>5.524715</td>\n      <td>NaN</td>\n      <td>4.717945</td>\n      <td>NaN</td>\n      <td>CP_MNAC</td>\n      <td>N11N</td>\n      <td>98722.846780</td>\n      <td>PD10_NAC</td>\n      <td>...</td>\n      <td>77.477</td>\n      <td>NaN</td>\n      <td>NaN</td>\n      <td>11.500072</td>\n      <td>NaN</td>\n      <td>NaN</td>\n      <td>9388353.0</td>\n      <td>16.054980</td>\n      <td>NaN</td>\n      <td>NaN</td>\n    </tr>\n    <tr>\n      <th>1</th>\n      <td>CZ</td>\n      <td>1997</td>\n      <td>5.512323</td>\n      <td>-0.012393</td>\n      <td>4.717645</td>\n      <td>-0.000300</td>\n      <td>CP_MNAC</td>\n      <td>N11N</td>\n      <td>104312.104978</td>\n      <td>PD10_NAC</td>\n      <td>...</td>\n      <td>83.065</td>\n      <td>98722.846780</td>\n      <td>1.056616</td>\n      <td>11.555143</td>\n      <td>11.500072</td>\n      <td>0.055071</td>\n      <td>9366006.0</td>\n      <td>16.052597</td>\n      <td>16.054980</td>\n      <td>-0.002383</td>\n    </tr>\n    <tr>\n      <th>2</th>\n      <td>CZ</td>\n      <td>1998</td>\n      <td>5.508962</td>\n      <td>-0.003361</td>\n      <td>4.673232</td>\n      <td>-0.044413</td>\n      <td>CP_MNAC</td>\n      <td>N11N</td>\n      <td>109099.885923</td>\n      <td>PD10_NAC</td>\n      <td>...</td>\n      <td>87.660</td>\n      <td>104312.104978</td>\n      <td>1.045899</td>\n      <td>11.600019</td>\n      <td>11.555143</td>\n      <td>0.044876</td>\n      <td>9318501.0</td>\n      <td>16.047512</td>\n      <td>16.052597</td>\n      <td>-0.005085</td>\n    </tr>\n    <tr>\n      <th>3</th>\n      <td>CZ</td>\n      <td>1999</td>\n      <td>5.523148</td>\n      <td>0.014186</td>\n      <td>4.678255</td>\n      <td>0.005023</td>\n      <td>CP_MNAC</td>\n      <td>N11N</td>\n      <td>111592.646784</td>\n      <td>PD10_NAC</td>\n      <td>...</td>\n      <td>90.899</td>\n      <td>109099.885923</td>\n      <td>1.022848</td>\n      <td>11.622610</td>\n      <td>11.600019</td>\n      <td>0.022591</td>\n      <td>9263382.0</td>\n      <td>16.041580</td>\n      <td>16.047512</td>\n      <td>-0.005933</td>\n    </tr>\n    <tr>\n      <th>4</th>\n      <td>CZ</td>\n      <td>2000</td>\n      <td>5.565027</td>\n      <td>0.041879</td>\n      <td>4.722806</td>\n      <td>0.044551</td>\n      <td>CP_MNAC</td>\n      <td>N11N</td>\n      <td>115473.725575</td>\n      <td>PD10_NAC</td>\n      <td>...</td>\n      <td>92.885</td>\n      <td>111592.646784</td>\n      <td>1.034779</td>\n      <td>11.656798</td>\n      <td>11.622610</td>\n      <td>0.034188</td>\n      <td>9234010.0</td>\n      <td>16.038404</td>\n      <td>16.041580</td>\n      <td>-0.003176</td>\n    </tr>\n    <tr>\n      <th>5</th>\n      <td>CZ</td>\n      <td>2001</td>\n      <td>5.595260</td>\n      <td>0.030233</td>\n      <td>4.751364</td>\n      <td>0.028558</td>\n      <td>CP_MNAC</td>\n      <td>N11N</td>\n      <td>119721.362916</td>\n      <td>PD10_NAC</td>\n      <td>...</td>\n      <td>94.650</td>\n      <td>115473.725575</td>\n      <td>1.036784</td>\n      <td>11.692922</td>\n      <td>11.656798</td>\n      <td>0.036124</td>\n      <td>8836536.0</td>\n      <td>15.994406</td>\n      <td>16.038404</td>\n      <td>-0.043998</td>\n    </tr>\n    <tr>\n      <th>6</th>\n      <td>CZ</td>\n      <td>2002</td>\n      <td>5.615320</td>\n      <td>0.020060</td>\n      <td>4.797132</td>\n      <td>0.045768</td>\n      <td>CP_MNAC</td>\n      <td>N11N</td>\n      <td>126103.076558</td>\n      <td>PD10_NAC</td>\n      <td>...</td>\n      <td>92.766</td>\n      <td>119721.362916</td>\n      <td>1.053305</td>\n      <td>11.744855</td>\n      <td>11.692922</td>\n      <td>0.051933</td>\n      <td>8837763.0</td>\n      <td>15.994544</td>\n      <td>15.994406</td>\n      <td>0.000139</td>\n    </tr>\n    <tr>\n      <th>7</th>\n      <td>CZ</td>\n      <td>2003</td>\n      <td>5.644631</td>\n      <td>0.029311</td>\n      <td>4.832204</td>\n      <td>0.035072</td>\n      <td>CP_MNAC</td>\n      <td>N11N</td>\n      <td>129446.456726</td>\n      <td>PD10_NAC</td>\n      <td>...</td>\n      <td>93.868</td>\n      <td>126103.076558</td>\n      <td>1.026513</td>\n      <td>11.771023</td>\n      <td>11.744855</td>\n      <td>0.026168</td>\n      <td>8703898.0</td>\n      <td>15.979282</td>\n      <td>15.994544</td>\n      <td>-0.015263</td>\n    </tr>\n    <tr>\n      <th>8</th>\n      <td>CZ</td>\n      <td>2004</td>\n      <td>5.692031</td>\n      <td>0.047399</td>\n      <td>4.883533</td>\n      <td>0.051329</td>\n      <td>CP_MNAC</td>\n      <td>N11N</td>\n      <td>132888.830074</td>\n      <td>PD10_NAC</td>\n      <td>...</td>\n      <td>96.348</td>\n      <td>129446.456726</td>\n      <td>1.026593</td>\n      <td>11.797268</td>\n      <td>11.771023</td>\n      <td>0.026246</td>\n      <td>8757937.0</td>\n      <td>15.985471</td>\n      <td>15.979282</td>\n      <td>0.006189</td>\n    </tr>\n    <tr>\n      <th>9</th>\n      <td>CZ</td>\n      <td>2005</td>\n      <td>5.757599</td>\n      <td>0.065569</td>\n      <td>4.954332</td>\n      <td>0.070799</td>\n      <td>CP_MNAC</td>\n      <td>N11N</td>\n      <td>137703.005814</td>\n      <td>PD10_NAC</td>\n      <td>...</td>\n      <td>97.012</td>\n      <td>132888.830074</td>\n      <td>1.036227</td>\n      <td>11.832855</td>\n      <td>11.797268</td>\n      <td>0.035586</td>\n      <td>8875156.0</td>\n      <td>15.998766</td>\n      <td>15.985471</td>\n      <td>0.013296</td>\n    </tr>\n    <tr>\n      <th>10</th>\n      <td>CZ</td>\n      <td>2006</td>\n      <td>5.827881</td>\n      <td>0.070281</td>\n      <td>5.018158</td>\n      <td>0.063827</td>\n      <td>CP_MNAC</td>\n      <td>N11N</td>\n      <td>143944.590083</td>\n      <td>PD10_NAC</td>\n      <td>...</td>\n      <td>97.654</td>\n      <td>137703.005814</td>\n      <td>1.045326</td>\n      <td>11.877184</td>\n      <td>11.832855</td>\n      <td>0.044329</td>\n      <td>8926422.0</td>\n      <td>16.004526</td>\n      <td>15.998766</td>\n      <td>0.005760</td>\n    </tr>\n    <tr>\n      <th>11</th>\n      <td>CZ</td>\n      <td>2007</td>\n      <td>5.879406</td>\n      <td>0.051526</td>\n      <td>5.066380</td>\n      <td>0.048221</td>\n      <td>CP_MNAC</td>\n      <td>N11N</td>\n      <td>154674.730993</td>\n      <td>PD10_NAC</td>\n      <td>...</td>\n      <td>99.161</td>\n      <td>143944.590083</td>\n      <td>1.074544</td>\n      <td>11.949080</td>\n      <td>11.877184</td>\n      <td>0.071896</td>\n      <td>9040417.0</td>\n      <td>16.017216</td>\n      <td>16.004526</td>\n      <td>0.012690</td>\n    </tr>\n    <tr>\n      <th>12</th>\n      <td>CZ</td>\n      <td>2008</td>\n      <td>5.914514</td>\n      <td>0.035108</td>\n      <td>5.122425</td>\n      <td>0.056045</td>\n      <td>CP_MNAC</td>\n      <td>N11N</td>\n      <td>165266.483241</td>\n      <td>PD10_NAC</td>\n      <td>...</td>\n      <td>99.586</td>\n      <td>154674.730993</td>\n      <td>1.068478</td>\n      <td>12.015315</td>\n      <td>11.949080</td>\n      <td>0.066235</td>\n      <td>9313295.0</td>\n      <td>16.046954</td>\n      <td>16.017216</td>\n      <td>0.029738</td>\n    </tr>\n    <tr>\n      <th>13</th>\n      <td>CZ</td>\n      <td>2009</td>\n      <td>5.860276</td>\n      <td>-0.054238</td>\n      <td>5.061758</td>\n      <td>-0.060666</td>\n      <td>CP_MNAC</td>\n      <td>N11N</td>\n      <td>163796.737431</td>\n      <td>PD10_NAC</td>\n      <td>...</td>\n      <td>101.086</td>\n      <td>165266.483241</td>\n      <td>0.991107</td>\n      <td>12.006382</td>\n      <td>12.015315</td>\n      <td>-0.008933</td>\n      <td>9089851.0</td>\n      <td>16.022669</td>\n      <td>16.046954</td>\n      <td>-0.024284</td>\n    </tr>\n    <tr>\n      <th>14</th>\n      <td>CZ</td>\n      <td>2010</td>\n      <td>5.889855</td>\n      <td>0.029578</td>\n      <td>5.099671</td>\n      <td>0.037913</td>\n      <td>CP_MNAC</td>\n      <td>N11N</td>\n      <td>166033.240000</td>\n      <td>PD10_NAC</td>\n      <td>...</td>\n      <td>100.000</td>\n      <td>163796.737431</td>\n      <td>1.013654</td>\n      <td>12.019943</td>\n      <td>12.006382</td>\n      <td>0.013562</td>\n      <td>9098481.0</td>\n      <td>16.023618</td>\n      <td>16.022669</td>\n      <td>0.000949</td>\n    </tr>\n    <tr>\n      <th>15</th>\n      <td>CZ</td>\n      <td>2011</td>\n      <td>5.907265</td>\n      <td>0.017411</td>\n      <td>5.124590</td>\n      <td>0.024918</td>\n      <td>CP_MNAC</td>\n      <td>N11N</td>\n      <td>169847.239301</td>\n      <td>PD10_NAC</td>\n      <td>...</td>\n      <td>99.214</td>\n      <td>166033.240000</td>\n      <td>1.022971</td>\n      <td>12.042655</td>\n      <td>12.019943</td>\n      <td>0.022711</td>\n      <td>9105793.0</td>\n      <td>16.024421</td>\n      <td>16.023618</td>\n      <td>0.000803</td>\n    </tr>\n    <tr>\n      <th>16</th>\n      <td>CZ</td>\n      <td>2012</td>\n      <td>5.898843</td>\n      <td>-0.008422</td>\n      <td>5.138808</td>\n      <td>0.014218</td>\n      <td>CP_MNAC</td>\n      <td>N11N</td>\n      <td>167014.071118</td>\n      <td>PD10_NAC</td>\n      <td>...</td>\n      <td>100.987</td>\n      <td>169847.239301</td>\n      <td>0.983319</td>\n      <td>12.025833</td>\n      <td>12.042655</td>\n      <td>-0.016821</td>\n      <td>8997041.0</td>\n      <td>16.012406</td>\n      <td>16.024421</td>\n      <td>-0.012015</td>\n    </tr>\n    <tr>\n      <th>17</th>\n      <td>CZ</td>\n      <td>2013</td>\n      <td>5.898683</td>\n      <td>-0.000160</td>\n      <td>5.138048</td>\n      <td>-0.000760</td>\n      <td>CP_MNAC</td>\n      <td>N11N</td>\n      <td>166871.274728</td>\n      <td>PD10_NAC</td>\n      <td>...</td>\n      <td>101.402</td>\n      <td>167014.071118</td>\n      <td>0.999145</td>\n      <td>12.024978</td>\n      <td>12.025833</td>\n      <td>-0.000855</td>\n      <td>8964295.0</td>\n      <td>16.008760</td>\n      <td>16.012406</td>\n      <td>-0.003646</td>\n    </tr>\n    <tr>\n      <th>18</th>\n      <td>CZ</td>\n      <td>2014</td>\n      <td>5.926863</td>\n      <td>0.028179</td>\n      <td>5.145707</td>\n      <td>0.007658</td>\n      <td>CP_MNAC</td>\n      <td>N11N</td>\n      <td>167585.929551</td>\n      <td>PD10_NAC</td>\n      <td>...</td>\n      <td>103.195</td>\n      <td>166871.274728</td>\n      <td>1.004283</td>\n      <td>12.029252</td>\n      <td>12.024978</td>\n      <td>0.004274</td>\n      <td>9062346.0</td>\n      <td>16.019639</td>\n      <td>16.008760</td>\n      <td>0.010879</td>\n    </tr>\n    <tr>\n      <th>19</th>\n      <td>CZ</td>\n      <td>2015</td>\n      <td>5.973952</td>\n      <td>0.047089</td>\n      <td>5.184477</td>\n      <td>0.038770</td>\n      <td>CP_MNAC</td>\n      <td>N11N</td>\n      <td>169848.870016</td>\n      <td>PD10_NAC</td>\n      <td>...</td>\n      <td>104.559</td>\n      <td>167585.929551</td>\n      <td>1.013503</td>\n      <td>12.042664</td>\n      <td>12.029252</td>\n      <td>0.013413</td>\n      <td>9075987.0</td>\n      <td>16.021143</td>\n      <td>16.019639</td>\n      <td>0.001504</td>\n    </tr>\n    <tr>\n      <th>20</th>\n      <td>CZ</td>\n      <td>2016</td>\n      <td>5.998628</td>\n      <td>0.024676</td>\n      <td>5.231037</td>\n      <td>0.046560</td>\n      <td>CP_MNAC</td>\n      <td>N11N</td>\n      <td>172597.822984</td>\n      <td>PD10_NAC</td>\n      <td>...</td>\n      <td>105.098</td>\n      <td>169848.870016</td>\n      <td>1.016185</td>\n      <td>12.058719</td>\n      <td>12.042664</td>\n      <td>0.016055</td>\n      <td>9339114.0</td>\n      <td>16.049722</td>\n      <td>16.021143</td>\n      <td>0.028579</td>\n    </tr>\n    <tr>\n      <th>21</th>\n      <td>CZ</td>\n      <td>2017</td>\n      <td>6.049332</td>\n      <td>0.050704</td>\n      <td>5.306536</td>\n      <td>0.075499</td>\n      <td>CP_MNAC</td>\n      <td>N11N</td>\n      <td>174837.815032</td>\n      <td>PD10_NAC</td>\n      <td>...</td>\n      <td>106.656</td>\n      <td>172597.822984</td>\n      <td>1.012978</td>\n      <td>12.071614</td>\n      <td>12.058719</td>\n      <td>0.012895</td>\n      <td>9496559.0</td>\n      <td>16.066440</td>\n      <td>16.049722</td>\n      <td>0.016718</td>\n    </tr>\n    <tr>\n      <th>22</th>\n      <td>CZ</td>\n      <td>2018</td>\n      <td>6.082622</td>\n      <td>0.033290</td>\n      <td>5.373618</td>\n      <td>0.067082</td>\n      <td>CP_MNAC</td>\n      <td>N11N</td>\n      <td>179943.540272</td>\n      <td>PD10_NAC</td>\n      <td>...</td>\n      <td>108.325</td>\n      <td>174837.815032</td>\n      <td>1.029203</td>\n      <td>12.100398</td>\n      <td>12.071614</td>\n      <td>0.028784</td>\n      <td>9667734.0</td>\n      <td>16.084305</td>\n      <td>16.066440</td>\n      <td>0.017864</td>\n    </tr>\n    <tr>\n      <th>23</th>\n      <td>CZ</td>\n      <td>2019</td>\n      <td>6.112236</td>\n      <td>0.029614</td>\n      <td>5.407454</td>\n      <td>0.033837</td>\n      <td>CP_MNAC</td>\n      <td>N11N</td>\n      <td>183820.732270</td>\n      <td>PD10_NAC</td>\n      <td>...</td>\n      <td>112.636</td>\n      <td>179943.540272</td>\n      <td>1.021547</td>\n      <td>12.121716</td>\n      <td>12.100398</td>\n      <td>0.021318</td>\n      <td>9698776.0</td>\n      <td>16.087510</td>\n      <td>16.084305</td>\n      <td>0.003206</td>\n    </tr>\n    <tr>\n      <th>24</th>\n      <td>CZ</td>\n      <td>2020</td>\n      <td>6.054661</td>\n      <td>-0.057575</td>\n      <td>5.373632</td>\n      <td>-0.033822</td>\n      <td>CP_MNAC</td>\n      <td>N11N</td>\n      <td>187296.204150</td>\n      <td>PD10_NAC</td>\n      <td>...</td>\n      <td>115.758</td>\n      <td>183820.732270</td>\n      <td>1.018907</td>\n      <td>12.140447</td>\n      <td>12.121716</td>\n      <td>0.018730</td>\n      <td>9097490.0</td>\n      <td>16.023509</td>\n      <td>16.087510</td>\n      <td>-0.064001</td>\n    </tr>\n  </tbody>\n</table>\n<p>25 rows × 21 columns</p>\n</div>"
     },
     "execution_count": 16,
     "metadata": {},
     "output_type": "execute_result"
    }
   ],
   "source": [
    "data = pd.merge(data_1_ln, data_3_merged, on=[\"geo\\\\time\", \"year\"])\n",
    "data = pd.merge(data, data_5_ln, on=[\"geo\\\\time\", \"year\"])\n",
    "data = data[data[\"geo\\\\time\"] == \"CZ\"]\n",
    "data"
   ],
   "metadata": {
    "collapsed": false,
    "pycharm": {
     "name": "#%%\n"
    }
   }
  },
  {
   "cell_type": "code",
   "execution_count": 17,
   "outputs": [
    {
     "data": {
      "text/plain": "    ln_gross_value_added_diff  ln_thousands_hours_worked_diff  \\\n1                   -0.012393                       -0.002383   \n2                   -0.003361                       -0.005085   \n3                    0.014186                       -0.005933   \n4                    0.041879                       -0.003176   \n5                    0.030233                       -0.043998   \n6                    0.020060                        0.000139   \n7                    0.029311                       -0.015263   \n8                    0.047399                        0.006189   \n9                    0.065569                        0.013296   \n10                   0.070281                        0.005760   \n11                   0.051526                        0.012690   \n12                   0.035108                        0.029738   \n13                  -0.054238                       -0.024284   \n14                   0.029578                        0.000949   \n15                   0.017411                        0.000803   \n16                  -0.008422                       -0.012015   \n17                  -0.000160                       -0.003646   \n18                   0.028179                        0.010879   \n19                   0.047089                        0.001504   \n20                   0.024676                        0.028579   \n21                   0.050704                        0.016718   \n22                   0.033290                        0.017864   \n23                   0.029614                        0.003206   \n24                  -0.057575                       -0.064001   \n\n    ln_total_fixed_assets_diff geo\\time  year  \n1                     0.055071       CZ  1997  \n2                     0.044876       CZ  1998  \n3                     0.022591       CZ  1999  \n4                     0.034188       CZ  2000  \n5                     0.036124       CZ  2001  \n6                     0.051933       CZ  2002  \n7                     0.026168       CZ  2003  \n8                     0.026246       CZ  2004  \n9                     0.035586       CZ  2005  \n10                    0.044329       CZ  2006  \n11                    0.071896       CZ  2007  \n12                    0.066235       CZ  2008  \n13                   -0.008933       CZ  2009  \n14                    0.013562       CZ  2010  \n15                    0.022711       CZ  2011  \n16                   -0.016821       CZ  2012  \n17                   -0.000855       CZ  2013  \n18                    0.004274       CZ  2014  \n19                    0.013413       CZ  2015  \n20                    0.016055       CZ  2016  \n21                    0.012895       CZ  2017  \n22                    0.028784       CZ  2018  \n23                    0.021318       CZ  2019  \n24                    0.018730       CZ  2020  ",
      "text/html": "<div>\n<style scoped>\n    .dataframe tbody tr th:only-of-type {\n        vertical-align: middle;\n    }\n\n    .dataframe tbody tr th {\n        vertical-align: top;\n    }\n\n    .dataframe thead th {\n        text-align: right;\n    }\n</style>\n<table border=\"1\" class=\"dataframe\">\n  <thead>\n    <tr style=\"text-align: right;\">\n      <th></th>\n      <th>ln_gross_value_added_diff</th>\n      <th>ln_thousands_hours_worked_diff</th>\n      <th>ln_total_fixed_assets_diff</th>\n      <th>geo\\time</th>\n      <th>year</th>\n    </tr>\n  </thead>\n  <tbody>\n    <tr>\n      <th>1</th>\n      <td>-0.012393</td>\n      <td>-0.002383</td>\n      <td>0.055071</td>\n      <td>CZ</td>\n      <td>1997</td>\n    </tr>\n    <tr>\n      <th>2</th>\n      <td>-0.003361</td>\n      <td>-0.005085</td>\n      <td>0.044876</td>\n      <td>CZ</td>\n      <td>1998</td>\n    </tr>\n    <tr>\n      <th>3</th>\n      <td>0.014186</td>\n      <td>-0.005933</td>\n      <td>0.022591</td>\n      <td>CZ</td>\n      <td>1999</td>\n    </tr>\n    <tr>\n      <th>4</th>\n      <td>0.041879</td>\n      <td>-0.003176</td>\n      <td>0.034188</td>\n      <td>CZ</td>\n      <td>2000</td>\n    </tr>\n    <tr>\n      <th>5</th>\n      <td>0.030233</td>\n      <td>-0.043998</td>\n      <td>0.036124</td>\n      <td>CZ</td>\n      <td>2001</td>\n    </tr>\n    <tr>\n      <th>6</th>\n      <td>0.020060</td>\n      <td>0.000139</td>\n      <td>0.051933</td>\n      <td>CZ</td>\n      <td>2002</td>\n    </tr>\n    <tr>\n      <th>7</th>\n      <td>0.029311</td>\n      <td>-0.015263</td>\n      <td>0.026168</td>\n      <td>CZ</td>\n      <td>2003</td>\n    </tr>\n    <tr>\n      <th>8</th>\n      <td>0.047399</td>\n      <td>0.006189</td>\n      <td>0.026246</td>\n      <td>CZ</td>\n      <td>2004</td>\n    </tr>\n    <tr>\n      <th>9</th>\n      <td>0.065569</td>\n      <td>0.013296</td>\n      <td>0.035586</td>\n      <td>CZ</td>\n      <td>2005</td>\n    </tr>\n    <tr>\n      <th>10</th>\n      <td>0.070281</td>\n      <td>0.005760</td>\n      <td>0.044329</td>\n      <td>CZ</td>\n      <td>2006</td>\n    </tr>\n    <tr>\n      <th>11</th>\n      <td>0.051526</td>\n      <td>0.012690</td>\n      <td>0.071896</td>\n      <td>CZ</td>\n      <td>2007</td>\n    </tr>\n    <tr>\n      <th>12</th>\n      <td>0.035108</td>\n      <td>0.029738</td>\n      <td>0.066235</td>\n      <td>CZ</td>\n      <td>2008</td>\n    </tr>\n    <tr>\n      <th>13</th>\n      <td>-0.054238</td>\n      <td>-0.024284</td>\n      <td>-0.008933</td>\n      <td>CZ</td>\n      <td>2009</td>\n    </tr>\n    <tr>\n      <th>14</th>\n      <td>0.029578</td>\n      <td>0.000949</td>\n      <td>0.013562</td>\n      <td>CZ</td>\n      <td>2010</td>\n    </tr>\n    <tr>\n      <th>15</th>\n      <td>0.017411</td>\n      <td>0.000803</td>\n      <td>0.022711</td>\n      <td>CZ</td>\n      <td>2011</td>\n    </tr>\n    <tr>\n      <th>16</th>\n      <td>-0.008422</td>\n      <td>-0.012015</td>\n      <td>-0.016821</td>\n      <td>CZ</td>\n      <td>2012</td>\n    </tr>\n    <tr>\n      <th>17</th>\n      <td>-0.000160</td>\n      <td>-0.003646</td>\n      <td>-0.000855</td>\n      <td>CZ</td>\n      <td>2013</td>\n    </tr>\n    <tr>\n      <th>18</th>\n      <td>0.028179</td>\n      <td>0.010879</td>\n      <td>0.004274</td>\n      <td>CZ</td>\n      <td>2014</td>\n    </tr>\n    <tr>\n      <th>19</th>\n      <td>0.047089</td>\n      <td>0.001504</td>\n      <td>0.013413</td>\n      <td>CZ</td>\n      <td>2015</td>\n    </tr>\n    <tr>\n      <th>20</th>\n      <td>0.024676</td>\n      <td>0.028579</td>\n      <td>0.016055</td>\n      <td>CZ</td>\n      <td>2016</td>\n    </tr>\n    <tr>\n      <th>21</th>\n      <td>0.050704</td>\n      <td>0.016718</td>\n      <td>0.012895</td>\n      <td>CZ</td>\n      <td>2017</td>\n    </tr>\n    <tr>\n      <th>22</th>\n      <td>0.033290</td>\n      <td>0.017864</td>\n      <td>0.028784</td>\n      <td>CZ</td>\n      <td>2018</td>\n    </tr>\n    <tr>\n      <th>23</th>\n      <td>0.029614</td>\n      <td>0.003206</td>\n      <td>0.021318</td>\n      <td>CZ</td>\n      <td>2019</td>\n    </tr>\n    <tr>\n      <th>24</th>\n      <td>-0.057575</td>\n      <td>-0.064001</td>\n      <td>0.018730</td>\n      <td>CZ</td>\n      <td>2020</td>\n    </tr>\n  </tbody>\n</table>\n</div>"
     },
     "execution_count": 17,
     "metadata": {},
     "output_type": "execute_result"
    }
   ],
   "source": [
    "data = data.dropna()\n",
    "data = data[[\"ln_gross_value_added_diff\", \"ln_thousands_hours_worked_diff\", \"ln_total_fixed_assets_diff\", \"geo\\\\time\", \"year\"]]\n",
    "data"
   ],
   "metadata": {
    "collapsed": false,
    "pycharm": {
     "name": "#%%\n"
    }
   }
  },
  {
   "cell_type": "code",
   "execution_count": 18,
   "outputs": [],
   "source": [
    "# Employment by A*10 industry breakdowns\n",
    "data_6_es = eurostat.get_data_df('nama_10_lp_ulc')"
   ],
   "metadata": {
    "collapsed": false,
    "pycharm": {
     "name": "#%%\n"
    }
   }
  },
  {
   "cell_type": "code",
   "execution_count": 19,
   "outputs": [
    {
     "data": {
      "text/plain": "  geo\\time  year  compensation_per_hour\n0       AT  1996                   17.7\n1       AT  1997                   17.8\n2       AT  1998                   18.5\n3       AT  1999                   18.8\n4       AT  2000                   19.3",
      "text/html": "<div>\n<style scoped>\n    .dataframe tbody tr th:only-of-type {\n        vertical-align: middle;\n    }\n\n    .dataframe tbody tr th {\n        vertical-align: top;\n    }\n\n    .dataframe thead th {\n        text-align: right;\n    }\n</style>\n<table border=\"1\" class=\"dataframe\">\n  <thead>\n    <tr style=\"text-align: right;\">\n      <th></th>\n      <th>geo\\time</th>\n      <th>year</th>\n      <th>compensation_per_hour</th>\n    </tr>\n  </thead>\n  <tbody>\n    <tr>\n      <th>0</th>\n      <td>AT</td>\n      <td>1996</td>\n      <td>17.7</td>\n    </tr>\n    <tr>\n      <th>1</th>\n      <td>AT</td>\n      <td>1997</td>\n      <td>17.8</td>\n    </tr>\n    <tr>\n      <th>2</th>\n      <td>AT</td>\n      <td>1998</td>\n      <td>18.5</td>\n    </tr>\n    <tr>\n      <th>3</th>\n      <td>AT</td>\n      <td>1999</td>\n      <td>18.8</td>\n    </tr>\n    <tr>\n      <th>4</th>\n      <td>AT</td>\n      <td>2000</td>\n      <td>19.3</td>\n    </tr>\n  </tbody>\n</table>\n</div>"
     },
     "execution_count": 19,
     "metadata": {},
     "output_type": "execute_result"
    }
   ],
   "source": [
    "data_6 = data_6_es\n",
    "# Compensation of employees per hour worked\n",
    "data_6 = data_6[data_6[\"na_item\"] == \"D1_SAL_HW\"]\n",
    "# # Current prices, million euro\n",
    "data_6 = data_6[data_6[\"unit\"].isin([\"NAC\"])]\n",
    "data_6 = pd.melt(data_6, id_vars=[\"unit\", \"na_item\", \"geo\\\\time\"], value_vars=list(range(START_YEAR, END_YEAR + 1)),\n",
    "                     value_name=\"value\", var_name=\"year\")\n",
    "data_6 = data_6.pivot(index=[\"geo\\\\time\", \"year\"], columns=[\"unit\", \"na_item\"], values=\"value\")\n",
    "data_6.columns = ['_'.join(col) for col in data_6.columns.values]\n",
    "data_6 = data_6.rename({\"NAC_D1_SAL_HW\": \"compensation_per_hour\"}, axis=1)\n",
    "data_6 = data_6.reset_index()\n",
    "data_6.head()"
   ],
   "metadata": {
    "collapsed": false,
    "pycharm": {
     "name": "#%%\n"
    }
   }
  },
  {
   "cell_type": "code",
   "execution_count": 20,
   "outputs": [
    {
     "data": {
      "text/plain": "<class 'statsmodels.iolib.summary.Summary'>\n\"\"\"\n                                OLS Regression Results                               \n=====================================================================================\nDep. Variable:     ln_gross_value_added_diff   R-squared:                       0.461\nModel:                                   OLS   Adj. R-squared:                  0.409\nMethod:                        Least Squares   F-statistic:                     8.965\nDate:                       Sun, 23 Jan 2022   Prob (F-statistic):            0.00153\nTime:                               17:37:46   Log-Likelihood:                 56.423\nNo. Observations:                         24   AIC:                            -106.8\nDf Residuals:                             21   BIC:                            -103.3\nDf Model:                                  2                                         \nCovariance Type:                   nonrobust                                         \n==================================================================================================\n                                     coef    std err          t      P>|t|      [0.025      0.975]\n--------------------------------------------------------------------------------------------------\nconst                              0.0142      0.008      1.718      0.101      -0.003       0.031\nln_thousands_hours_worked_diff     0.8993      0.256      3.515      0.002       0.367       1.431\nln_total_fixed_assets_diff         0.3411      0.241      1.414      0.172      -0.161       0.843\n==============================================================================\nOmnibus:                        0.442   Durbin-Watson:                   1.366\nProb(Omnibus):                  0.802   Jarque-Bera (JB):                0.563\nSkew:                          -0.118   Prob(JB):                        0.755\nKurtosis:                       2.288   Cond. No.                         55.4\n==============================================================================\n\nNotes:\n[1] Standard Errors assume that the covariance matrix of the errors is correctly specified.\n\"\"\"",
      "text/html": "<table class=\"simpletable\">\n<caption>OLS Regression Results</caption>\n<tr>\n  <th>Dep. Variable:</th>    <td>ln_gross_value_added_diff</td> <th>  R-squared:         </th> <td>   0.461</td>\n</tr>\n<tr>\n  <th>Model:</th>                       <td>OLS</td>            <th>  Adj. R-squared:    </th> <td>   0.409</td>\n</tr>\n<tr>\n  <th>Method:</th>                 <td>Least Squares</td>       <th>  F-statistic:       </th> <td>   8.965</td>\n</tr>\n<tr>\n  <th>Date:</th>                 <td>Sun, 23 Jan 2022</td>      <th>  Prob (F-statistic):</th>  <td>0.00153</td>\n</tr>\n<tr>\n  <th>Time:</th>                     <td>17:37:46</td>          <th>  Log-Likelihood:    </th> <td>  56.423</td>\n</tr>\n<tr>\n  <th>No. Observations:</th>          <td>    24</td>           <th>  AIC:               </th> <td>  -106.8</td>\n</tr>\n<tr>\n  <th>Df Residuals:</th>              <td>    21</td>           <th>  BIC:               </th> <td>  -103.3</td>\n</tr>\n<tr>\n  <th>Df Model:</th>                  <td>     2</td>           <th>                     </th>     <td> </td>   \n</tr>\n<tr>\n  <th>Covariance Type:</th>          <td>nonrobust</td>         <th>                     </th>     <td> </td>   \n</tr>\n</table>\n<table class=\"simpletable\">\n<tr>\n                 <td></td>                   <th>coef</th>     <th>std err</th>      <th>t</th>      <th>P>|t|</th>  <th>[0.025</th>    <th>0.975]</th>  \n</tr>\n<tr>\n  <th>const</th>                          <td>    0.0142</td> <td>    0.008</td> <td>    1.718</td> <td> 0.101</td> <td>   -0.003</td> <td>    0.031</td>\n</tr>\n<tr>\n  <th>ln_thousands_hours_worked_diff</th> <td>    0.8993</td> <td>    0.256</td> <td>    3.515</td> <td> 0.002</td> <td>    0.367</td> <td>    1.431</td>\n</tr>\n<tr>\n  <th>ln_total_fixed_assets_diff</th>     <td>    0.3411</td> <td>    0.241</td> <td>    1.414</td> <td> 0.172</td> <td>   -0.161</td> <td>    0.843</td>\n</tr>\n</table>\n<table class=\"simpletable\">\n<tr>\n  <th>Omnibus:</th>       <td> 0.442</td> <th>  Durbin-Watson:     </th> <td>   1.366</td>\n</tr>\n<tr>\n  <th>Prob(Omnibus):</th> <td> 0.802</td> <th>  Jarque-Bera (JB):  </th> <td>   0.563</td>\n</tr>\n<tr>\n  <th>Skew:</th>          <td>-0.118</td> <th>  Prob(JB):          </th> <td>   0.755</td>\n</tr>\n<tr>\n  <th>Kurtosis:</th>      <td> 2.288</td> <th>  Cond. No.          </th> <td>    55.4</td>\n</tr>\n</table><br/><br/>Notes:<br/>[1] Standard Errors assume that the covariance matrix of the errors is correctly specified."
     },
     "execution_count": 20,
     "metadata": {},
     "output_type": "execute_result"
    }
   ],
   "source": [
    "data[\"const\"] = 1\n",
    "\n",
    "import statsmodels.api as sm\n",
    "mod = sm.OLS(data[\"ln_gross_value_added_diff\"], data[[\"const\", \"ln_thousands_hours_worked_diff\", \"ln_total_fixed_assets_diff\"]])\n",
    "res = mod.fit()\n",
    "res.summary()"
   ],
   "metadata": {
    "collapsed": false,
    "pycharm": {
     "name": "#%%\n"
    }
   }
  },
  {
   "cell_type": "code",
   "execution_count": 21,
   "outputs": [
    {
     "data": {
      "text/plain": "0.021588139671504525"
     },
     "execution_count": 21,
     "metadata": {},
     "output_type": "execute_result"
    }
   ],
   "source": [
    "data[\"resid\"] = res.resid\n",
    "data[\"ln_gross_value_added_diff+1\"] = data[\"ln_gross_value_added_diff\"] + 1\n",
    "gmean(data[\"ln_gross_value_added_diff+1\"]) - 1"
   ],
   "metadata": {
    "collapsed": false,
    "pycharm": {
     "name": "#%%\n"
    }
   }
  },
  {
   "cell_type": "code",
   "execution_count": 22,
   "outputs": [
    {
     "data": {
      "text/plain": "1    -0.043194\n2    -0.028254\n3    -0.002343\n4     0.018914\n5     0.043321\n6    -0.011939\n7     0.019953\n8     0.018722\n9     0.027314\n10    0.035821\n11    0.001430\n12   -0.028388\n13   -0.043509\n14    0.009940\n15   -0.005218\n16   -0.006037\n17   -0.010748\n18    0.002779\n19    0.027003\n20   -0.020661\n21    0.017111\n22   -0.006754\n23    0.005301\n24   -0.020565\ndtype: float64"
     },
     "execution_count": 22,
     "metadata": {},
     "output_type": "execute_result"
    }
   ],
   "source": [
    "res.resid"
   ],
   "metadata": {
    "collapsed": false,
    "pycharm": {
     "name": "#%%\n"
    }
   }
  },
  {
   "cell_type": "code",
   "execution_count": 23,
   "outputs": [
    {
     "data": {
      "text/plain": "    ln_gross_value_added_diff  ln_thousands_hours_worked_diff  \\\n1                   -0.012393                       -0.002383   \n2                   -0.003361                       -0.005085   \n3                    0.014186                       -0.005933   \n4                    0.041879                       -0.003176   \n5                    0.030233                       -0.043998   \n6                    0.020060                        0.000139   \n7                    0.029311                       -0.015263   \n8                    0.047399                        0.006189   \n9                    0.065569                        0.013296   \n10                   0.070281                        0.005760   \n11                   0.051526                        0.012690   \n12                   0.035108                        0.029738   \n13                  -0.054238                       -0.024284   \n14                   0.029578                        0.000949   \n15                   0.017411                        0.000803   \n16                  -0.008422                       -0.012015   \n17                  -0.000160                       -0.003646   \n18                   0.028179                        0.010879   \n19                   0.047089                        0.001504   \n20                   0.024676                        0.028579   \n21                   0.050704                        0.016718   \n22                   0.033290                        0.017864   \n23                   0.029614                        0.003206   \n24                  -0.057575                       -0.064001   \n\n    ln_total_fixed_assets_diff geo\\time  year  const     resid  \\\n1                     0.055071       CZ  1997      1 -0.043194   \n2                     0.044876       CZ  1998      1 -0.028254   \n3                     0.022591       CZ  1999      1 -0.002343   \n4                     0.034188       CZ  2000      1  0.018914   \n5                     0.036124       CZ  2001      1  0.043321   \n6                     0.051933       CZ  2002      1 -0.011939   \n7                     0.026168       CZ  2003      1  0.019953   \n8                     0.026246       CZ  2004      1  0.018722   \n9                     0.035586       CZ  2005      1  0.027314   \n10                    0.044329       CZ  2006      1  0.035821   \n11                    0.071896       CZ  2007      1  0.001430   \n12                    0.066235       CZ  2008      1 -0.028388   \n13                   -0.008933       CZ  2009      1 -0.043509   \n14                    0.013562       CZ  2010      1  0.009940   \n15                    0.022711       CZ  2011      1 -0.005218   \n16                   -0.016821       CZ  2012      1 -0.006037   \n17                   -0.000855       CZ  2013      1 -0.010748   \n18                    0.004274       CZ  2014      1  0.002779   \n19                    0.013413       CZ  2015      1  0.027003   \n20                    0.016055       CZ  2016      1 -0.020661   \n21                    0.012895       CZ  2017      1  0.017111   \n22                    0.028784       CZ  2018      1 -0.006754   \n23                    0.021318       CZ  2019      1  0.005301   \n24                    0.018730       CZ  2020      1 -0.020565   \n\n    ln_gross_value_added_diff+1      TFP3  \n1                      0.987607 -0.029035  \n2                      0.996639 -0.014096  \n3                      1.014186  0.011816  \n4                      1.041879  0.033073  \n5                      1.030233  0.057480  \n6                      1.020060  0.002220  \n7                      1.029311  0.034111  \n8                      1.047399  0.032880  \n9                      1.065569  0.041473  \n10                     1.070281  0.049980  \n11                     1.051526  0.015589  \n12                     1.035108 -0.014230  \n13                     0.945762 -0.029351  \n14                     1.029578  0.024099  \n15                     1.017411  0.008941  \n16                     0.991578  0.008122  \n17                     0.999840  0.003411  \n18                     1.028179  0.016938  \n19                     1.047089  0.041161  \n20                     1.024676 -0.006502  \n21                     1.050704  0.031270  \n22                     1.033290  0.007405  \n23                     1.029614  0.019459  \n24                     0.942425 -0.006406  ",
      "text/html": "<div>\n<style scoped>\n    .dataframe tbody tr th:only-of-type {\n        vertical-align: middle;\n    }\n\n    .dataframe tbody tr th {\n        vertical-align: top;\n    }\n\n    .dataframe thead th {\n        text-align: right;\n    }\n</style>\n<table border=\"1\" class=\"dataframe\">\n  <thead>\n    <tr style=\"text-align: right;\">\n      <th></th>\n      <th>ln_gross_value_added_diff</th>\n      <th>ln_thousands_hours_worked_diff</th>\n      <th>ln_total_fixed_assets_diff</th>\n      <th>geo\\time</th>\n      <th>year</th>\n      <th>const</th>\n      <th>resid</th>\n      <th>ln_gross_value_added_diff+1</th>\n      <th>TFP3</th>\n    </tr>\n  </thead>\n  <tbody>\n    <tr>\n      <th>1</th>\n      <td>-0.012393</td>\n      <td>-0.002383</td>\n      <td>0.055071</td>\n      <td>CZ</td>\n      <td>1997</td>\n      <td>1</td>\n      <td>-0.043194</td>\n      <td>0.987607</td>\n      <td>-0.029035</td>\n    </tr>\n    <tr>\n      <th>2</th>\n      <td>-0.003361</td>\n      <td>-0.005085</td>\n      <td>0.044876</td>\n      <td>CZ</td>\n      <td>1998</td>\n      <td>1</td>\n      <td>-0.028254</td>\n      <td>0.996639</td>\n      <td>-0.014096</td>\n    </tr>\n    <tr>\n      <th>3</th>\n      <td>0.014186</td>\n      <td>-0.005933</td>\n      <td>0.022591</td>\n      <td>CZ</td>\n      <td>1999</td>\n      <td>1</td>\n      <td>-0.002343</td>\n      <td>1.014186</td>\n      <td>0.011816</td>\n    </tr>\n    <tr>\n      <th>4</th>\n      <td>0.041879</td>\n      <td>-0.003176</td>\n      <td>0.034188</td>\n      <td>CZ</td>\n      <td>2000</td>\n      <td>1</td>\n      <td>0.018914</td>\n      <td>1.041879</td>\n      <td>0.033073</td>\n    </tr>\n    <tr>\n      <th>5</th>\n      <td>0.030233</td>\n      <td>-0.043998</td>\n      <td>0.036124</td>\n      <td>CZ</td>\n      <td>2001</td>\n      <td>1</td>\n      <td>0.043321</td>\n      <td>1.030233</td>\n      <td>0.057480</td>\n    </tr>\n    <tr>\n      <th>6</th>\n      <td>0.020060</td>\n      <td>0.000139</td>\n      <td>0.051933</td>\n      <td>CZ</td>\n      <td>2002</td>\n      <td>1</td>\n      <td>-0.011939</td>\n      <td>1.020060</td>\n      <td>0.002220</td>\n    </tr>\n    <tr>\n      <th>7</th>\n      <td>0.029311</td>\n      <td>-0.015263</td>\n      <td>0.026168</td>\n      <td>CZ</td>\n      <td>2003</td>\n      <td>1</td>\n      <td>0.019953</td>\n      <td>1.029311</td>\n      <td>0.034111</td>\n    </tr>\n    <tr>\n      <th>8</th>\n      <td>0.047399</td>\n      <td>0.006189</td>\n      <td>0.026246</td>\n      <td>CZ</td>\n      <td>2004</td>\n      <td>1</td>\n      <td>0.018722</td>\n      <td>1.047399</td>\n      <td>0.032880</td>\n    </tr>\n    <tr>\n      <th>9</th>\n      <td>0.065569</td>\n      <td>0.013296</td>\n      <td>0.035586</td>\n      <td>CZ</td>\n      <td>2005</td>\n      <td>1</td>\n      <td>0.027314</td>\n      <td>1.065569</td>\n      <td>0.041473</td>\n    </tr>\n    <tr>\n      <th>10</th>\n      <td>0.070281</td>\n      <td>0.005760</td>\n      <td>0.044329</td>\n      <td>CZ</td>\n      <td>2006</td>\n      <td>1</td>\n      <td>0.035821</td>\n      <td>1.070281</td>\n      <td>0.049980</td>\n    </tr>\n    <tr>\n      <th>11</th>\n      <td>0.051526</td>\n      <td>0.012690</td>\n      <td>0.071896</td>\n      <td>CZ</td>\n      <td>2007</td>\n      <td>1</td>\n      <td>0.001430</td>\n      <td>1.051526</td>\n      <td>0.015589</td>\n    </tr>\n    <tr>\n      <th>12</th>\n      <td>0.035108</td>\n      <td>0.029738</td>\n      <td>0.066235</td>\n      <td>CZ</td>\n      <td>2008</td>\n      <td>1</td>\n      <td>-0.028388</td>\n      <td>1.035108</td>\n      <td>-0.014230</td>\n    </tr>\n    <tr>\n      <th>13</th>\n      <td>-0.054238</td>\n      <td>-0.024284</td>\n      <td>-0.008933</td>\n      <td>CZ</td>\n      <td>2009</td>\n      <td>1</td>\n      <td>-0.043509</td>\n      <td>0.945762</td>\n      <td>-0.029351</td>\n    </tr>\n    <tr>\n      <th>14</th>\n      <td>0.029578</td>\n      <td>0.000949</td>\n      <td>0.013562</td>\n      <td>CZ</td>\n      <td>2010</td>\n      <td>1</td>\n      <td>0.009940</td>\n      <td>1.029578</td>\n      <td>0.024099</td>\n    </tr>\n    <tr>\n      <th>15</th>\n      <td>0.017411</td>\n      <td>0.000803</td>\n      <td>0.022711</td>\n      <td>CZ</td>\n      <td>2011</td>\n      <td>1</td>\n      <td>-0.005218</td>\n      <td>1.017411</td>\n      <td>0.008941</td>\n    </tr>\n    <tr>\n      <th>16</th>\n      <td>-0.008422</td>\n      <td>-0.012015</td>\n      <td>-0.016821</td>\n      <td>CZ</td>\n      <td>2012</td>\n      <td>1</td>\n      <td>-0.006037</td>\n      <td>0.991578</td>\n      <td>0.008122</td>\n    </tr>\n    <tr>\n      <th>17</th>\n      <td>-0.000160</td>\n      <td>-0.003646</td>\n      <td>-0.000855</td>\n      <td>CZ</td>\n      <td>2013</td>\n      <td>1</td>\n      <td>-0.010748</td>\n      <td>0.999840</td>\n      <td>0.003411</td>\n    </tr>\n    <tr>\n      <th>18</th>\n      <td>0.028179</td>\n      <td>0.010879</td>\n      <td>0.004274</td>\n      <td>CZ</td>\n      <td>2014</td>\n      <td>1</td>\n      <td>0.002779</td>\n      <td>1.028179</td>\n      <td>0.016938</td>\n    </tr>\n    <tr>\n      <th>19</th>\n      <td>0.047089</td>\n      <td>0.001504</td>\n      <td>0.013413</td>\n      <td>CZ</td>\n      <td>2015</td>\n      <td>1</td>\n      <td>0.027003</td>\n      <td>1.047089</td>\n      <td>0.041161</td>\n    </tr>\n    <tr>\n      <th>20</th>\n      <td>0.024676</td>\n      <td>0.028579</td>\n      <td>0.016055</td>\n      <td>CZ</td>\n      <td>2016</td>\n      <td>1</td>\n      <td>-0.020661</td>\n      <td>1.024676</td>\n      <td>-0.006502</td>\n    </tr>\n    <tr>\n      <th>21</th>\n      <td>0.050704</td>\n      <td>0.016718</td>\n      <td>0.012895</td>\n      <td>CZ</td>\n      <td>2017</td>\n      <td>1</td>\n      <td>0.017111</td>\n      <td>1.050704</td>\n      <td>0.031270</td>\n    </tr>\n    <tr>\n      <th>22</th>\n      <td>0.033290</td>\n      <td>0.017864</td>\n      <td>0.028784</td>\n      <td>CZ</td>\n      <td>2018</td>\n      <td>1</td>\n      <td>-0.006754</td>\n      <td>1.033290</td>\n      <td>0.007405</td>\n    </tr>\n    <tr>\n      <th>23</th>\n      <td>0.029614</td>\n      <td>0.003206</td>\n      <td>0.021318</td>\n      <td>CZ</td>\n      <td>2019</td>\n      <td>1</td>\n      <td>0.005301</td>\n      <td>1.029614</td>\n      <td>0.019459</td>\n    </tr>\n    <tr>\n      <th>24</th>\n      <td>-0.057575</td>\n      <td>-0.064001</td>\n      <td>0.018730</td>\n      <td>CZ</td>\n      <td>2020</td>\n      <td>1</td>\n      <td>-0.020565</td>\n      <td>0.942425</td>\n      <td>-0.006406</td>\n    </tr>\n  </tbody>\n</table>\n</div>"
     },
     "execution_count": 23,
     "metadata": {},
     "output_type": "execute_result"
    }
   ],
   "source": [
    "data[\"TFP3\"] = data[\"resid\"] + res.params[0]\n",
    "data"
   ],
   "metadata": {
    "collapsed": false,
    "pycharm": {
     "name": "#%%\n"
    }
   }
  },
  {
   "cell_type": "code",
   "execution_count": 24,
   "outputs": [
    {
     "data": {
      "text/plain": "0.013895987342491312"
     },
     "execution_count": 24,
     "metadata": {},
     "output_type": "execute_result"
    }
   ],
   "source": [
    "data[\"TFP3+1\"] = data[\"TFP3\"] + 1\n",
    "gmean(data[\"TFP3+1\"]) - 1"
   ],
   "metadata": {
    "collapsed": false,
    "pycharm": {
     "name": "#%%\n"
    }
   }
  },
  {
   "cell_type": "code",
   "execution_count": 25,
   "outputs": [
    {
     "data": {
      "text/plain": "-0.18048708821006762"
     },
     "execution_count": 25,
     "metadata": {},
     "output_type": "execute_result"
    }
   ],
   "source": [
    "data[\"%\"] = data[\"TFP3\"] / data[\"ln_gross_value_added_diff\"]\n",
    "data[\"%\"].mean()\n"
   ],
   "metadata": {
    "collapsed": false,
    "pycharm": {
     "name": "#%%\n"
    }
   }
  },
  {
   "cell_type": "code",
   "execution_count": 26,
   "outputs": [
    {
     "data": {
      "text/plain": "   geo\\time  year  gross_value_added  implicit_deflator_2010  \\\n0        CZ  1996         250.814964                  66.187   \n1        CZ  1997         247.725862                  72.489   \n2        CZ  1998         246.894717                  79.690   \n3        CZ  1999         250.422251                  81.705   \n4        CZ  2000         261.132320                  83.245   \n5        CZ  2001         269.147676                  87.455   \n6        CZ  2002         274.601272                  89.610   \n7        CZ  2003         282.769251                  91.281   \n8        CZ  2004         296.495055                  94.030   \n9        CZ  2005         316.587437                  93.862   \n10       CZ  2006         339.638053                  94.489   \n11       CZ  2007         357.596808                  97.745   \n12       CZ  2008         370.374215                  99.034   \n13       CZ  2009         350.821053                 101.991   \n14       CZ  2010         361.352800                 100.000   \n15       CZ  2011         367.699238                  99.780   \n16       CZ  2012         364.615507                 100.860   \n17       CZ  2013         364.557192                 101.850   \n18       CZ  2014         374.976245                 104.822   \n19       CZ  2015         393.055894                 105.969   \n20       CZ  2016         402.875777                 107.098   \n21       CZ  2017         423.829827                 108.360   \n22       CZ  2018         438.176384                 111.257   \n23       CZ  2019         451.346602                 115.914   \n24       CZ  2020         426.094340                 121.603   \n\n    compensation_per_hour  thousands_hours_worked  ln_thousands_hours_worked  \\\n0                    93.9               9388353.0                  16.054980   \n1                   103.3               9366006.0                  16.052597   \n2                   111.4               9318501.0                  16.047512   \n3                   116.7               9263382.0                  16.041580   \n4                   125.6               9234010.0                  16.038404   \n5                   142.7               8836536.0                  15.994406   \n6                   154.7               8837763.0                  15.994544   \n7                   168.8               8703898.0                  15.979282   \n8                   179.7               8757937.0                  15.985471   \n9                   185.9               8875156.0                  15.998766   \n10                  198.4               8926422.0                  16.004526   \n11                  211.7               9040417.0                  16.017216   \n12                  218.5               9313295.0                  16.046954   \n13                  217.4               9089851.0                  16.022669   \n14                  222.8               9098481.0                  16.023618   \n15                  227.9               9105793.0                  16.024421   \n16                  233.8               8997041.0                  16.012406   \n17                  234.1               8964295.0                  16.008760   \n18                  239.6               9062346.0                  16.019639   \n19                  250.4               9075987.0                  16.021143   \n20                  256.7               9339114.0                  16.049722   \n21                  275.5               9496559.0                  16.066440   \n22                  296.6               9667734.0                  16.084305   \n23                  316.3               9698776.0                  16.087510   \n24                  340.4               9097490.0                  16.023509   \n\n    ln_thousands_hours_worked_t-1  ln_thousands_hours_worked_diff  \\\n0                             NaN                             NaN   \n1                       16.054980                       -0.002383   \n2                       16.052597                       -0.005085   \n3                       16.047512                       -0.005933   \n4                       16.041580                       -0.003176   \n5                       16.038404                       -0.043998   \n6                       15.994406                        0.000139   \n7                       15.994544                       -0.015263   \n8                       15.979282                        0.006189   \n9                       15.985471                        0.013296   \n10                      15.998766                        0.005760   \n11                      16.004526                        0.012690   \n12                      16.017216                        0.029738   \n13                      16.046954                       -0.024284   \n14                      16.022669                        0.000949   \n15                      16.023618                        0.000803   \n16                      16.024421                       -0.012015   \n17                      16.012406                       -0.003646   \n18                      16.008760                        0.010879   \n19                      16.019639                        0.001504   \n20                      16.021143                        0.028579   \n21                      16.049722                        0.016718   \n22                      16.066440                        0.017864   \n23                      16.084305                        0.003206   \n24                      16.087510                       -0.064001   \n\n    total_compensations  1 - alpha  \n0            133.193278   0.531042  \n1            133.469688   0.538780  \n2            130.264903   0.527613  \n3            132.309734   0.528347  \n4            139.322681   0.533533  \n5            144.185431   0.535711  \n6            152.572474   0.555615  \n7            160.955509   0.569211  \n8            167.372251   0.564503  \n9            175.778430   0.555229  \n10           187.429449   0.551851  \n11           195.800939   0.547547  \n12           205.480437   0.554791  \n13           193.755685   0.552292  \n14           202.714157   0.560987  \n15           207.978575   0.565621  \n16           208.557226   0.571992  \n17           206.042362   0.565185  \n18           207.145265   0.552422  \n19           214.461507   0.545626  \n20           223.846436   0.555621  \n21           241.445368   0.569675  \n22           257.732089   0.588193  \n23           264.655076   0.586368  \n24           254.663585   0.597669  ",
      "text/html": "<div>\n<style scoped>\n    .dataframe tbody tr th:only-of-type {\n        vertical-align: middle;\n    }\n\n    .dataframe tbody tr th {\n        vertical-align: top;\n    }\n\n    .dataframe thead th {\n        text-align: right;\n    }\n</style>\n<table border=\"1\" class=\"dataframe\">\n  <thead>\n    <tr style=\"text-align: right;\">\n      <th></th>\n      <th>geo\\time</th>\n      <th>year</th>\n      <th>gross_value_added</th>\n      <th>implicit_deflator_2010</th>\n      <th>compensation_per_hour</th>\n      <th>thousands_hours_worked</th>\n      <th>ln_thousands_hours_worked</th>\n      <th>ln_thousands_hours_worked_t-1</th>\n      <th>ln_thousands_hours_worked_diff</th>\n      <th>total_compensations</th>\n      <th>1 - alpha</th>\n    </tr>\n  </thead>\n  <tbody>\n    <tr>\n      <th>0</th>\n      <td>CZ</td>\n      <td>1996</td>\n      <td>250.814964</td>\n      <td>66.187</td>\n      <td>93.9</td>\n      <td>9388353.0</td>\n      <td>16.054980</td>\n      <td>NaN</td>\n      <td>NaN</td>\n      <td>133.193278</td>\n      <td>0.531042</td>\n    </tr>\n    <tr>\n      <th>1</th>\n      <td>CZ</td>\n      <td>1997</td>\n      <td>247.725862</td>\n      <td>72.489</td>\n      <td>103.3</td>\n      <td>9366006.0</td>\n      <td>16.052597</td>\n      <td>16.054980</td>\n      <td>-0.002383</td>\n      <td>133.469688</td>\n      <td>0.538780</td>\n    </tr>\n    <tr>\n      <th>2</th>\n      <td>CZ</td>\n      <td>1998</td>\n      <td>246.894717</td>\n      <td>79.690</td>\n      <td>111.4</td>\n      <td>9318501.0</td>\n      <td>16.047512</td>\n      <td>16.052597</td>\n      <td>-0.005085</td>\n      <td>130.264903</td>\n      <td>0.527613</td>\n    </tr>\n    <tr>\n      <th>3</th>\n      <td>CZ</td>\n      <td>1999</td>\n      <td>250.422251</td>\n      <td>81.705</td>\n      <td>116.7</td>\n      <td>9263382.0</td>\n      <td>16.041580</td>\n      <td>16.047512</td>\n      <td>-0.005933</td>\n      <td>132.309734</td>\n      <td>0.528347</td>\n    </tr>\n    <tr>\n      <th>4</th>\n      <td>CZ</td>\n      <td>2000</td>\n      <td>261.132320</td>\n      <td>83.245</td>\n      <td>125.6</td>\n      <td>9234010.0</td>\n      <td>16.038404</td>\n      <td>16.041580</td>\n      <td>-0.003176</td>\n      <td>139.322681</td>\n      <td>0.533533</td>\n    </tr>\n    <tr>\n      <th>5</th>\n      <td>CZ</td>\n      <td>2001</td>\n      <td>269.147676</td>\n      <td>87.455</td>\n      <td>142.7</td>\n      <td>8836536.0</td>\n      <td>15.994406</td>\n      <td>16.038404</td>\n      <td>-0.043998</td>\n      <td>144.185431</td>\n      <td>0.535711</td>\n    </tr>\n    <tr>\n      <th>6</th>\n      <td>CZ</td>\n      <td>2002</td>\n      <td>274.601272</td>\n      <td>89.610</td>\n      <td>154.7</td>\n      <td>8837763.0</td>\n      <td>15.994544</td>\n      <td>15.994406</td>\n      <td>0.000139</td>\n      <td>152.572474</td>\n      <td>0.555615</td>\n    </tr>\n    <tr>\n      <th>7</th>\n      <td>CZ</td>\n      <td>2003</td>\n      <td>282.769251</td>\n      <td>91.281</td>\n      <td>168.8</td>\n      <td>8703898.0</td>\n      <td>15.979282</td>\n      <td>15.994544</td>\n      <td>-0.015263</td>\n      <td>160.955509</td>\n      <td>0.569211</td>\n    </tr>\n    <tr>\n      <th>8</th>\n      <td>CZ</td>\n      <td>2004</td>\n      <td>296.495055</td>\n      <td>94.030</td>\n      <td>179.7</td>\n      <td>8757937.0</td>\n      <td>15.985471</td>\n      <td>15.979282</td>\n      <td>0.006189</td>\n      <td>167.372251</td>\n      <td>0.564503</td>\n    </tr>\n    <tr>\n      <th>9</th>\n      <td>CZ</td>\n      <td>2005</td>\n      <td>316.587437</td>\n      <td>93.862</td>\n      <td>185.9</td>\n      <td>8875156.0</td>\n      <td>15.998766</td>\n      <td>15.985471</td>\n      <td>0.013296</td>\n      <td>175.778430</td>\n      <td>0.555229</td>\n    </tr>\n    <tr>\n      <th>10</th>\n      <td>CZ</td>\n      <td>2006</td>\n      <td>339.638053</td>\n      <td>94.489</td>\n      <td>198.4</td>\n      <td>8926422.0</td>\n      <td>16.004526</td>\n      <td>15.998766</td>\n      <td>0.005760</td>\n      <td>187.429449</td>\n      <td>0.551851</td>\n    </tr>\n    <tr>\n      <th>11</th>\n      <td>CZ</td>\n      <td>2007</td>\n      <td>357.596808</td>\n      <td>97.745</td>\n      <td>211.7</td>\n      <td>9040417.0</td>\n      <td>16.017216</td>\n      <td>16.004526</td>\n      <td>0.012690</td>\n      <td>195.800939</td>\n      <td>0.547547</td>\n    </tr>\n    <tr>\n      <th>12</th>\n      <td>CZ</td>\n      <td>2008</td>\n      <td>370.374215</td>\n      <td>99.034</td>\n      <td>218.5</td>\n      <td>9313295.0</td>\n      <td>16.046954</td>\n      <td>16.017216</td>\n      <td>0.029738</td>\n      <td>205.480437</td>\n      <td>0.554791</td>\n    </tr>\n    <tr>\n      <th>13</th>\n      <td>CZ</td>\n      <td>2009</td>\n      <td>350.821053</td>\n      <td>101.991</td>\n      <td>217.4</td>\n      <td>9089851.0</td>\n      <td>16.022669</td>\n      <td>16.046954</td>\n      <td>-0.024284</td>\n      <td>193.755685</td>\n      <td>0.552292</td>\n    </tr>\n    <tr>\n      <th>14</th>\n      <td>CZ</td>\n      <td>2010</td>\n      <td>361.352800</td>\n      <td>100.000</td>\n      <td>222.8</td>\n      <td>9098481.0</td>\n      <td>16.023618</td>\n      <td>16.022669</td>\n      <td>0.000949</td>\n      <td>202.714157</td>\n      <td>0.560987</td>\n    </tr>\n    <tr>\n      <th>15</th>\n      <td>CZ</td>\n      <td>2011</td>\n      <td>367.699238</td>\n      <td>99.780</td>\n      <td>227.9</td>\n      <td>9105793.0</td>\n      <td>16.024421</td>\n      <td>16.023618</td>\n      <td>0.000803</td>\n      <td>207.978575</td>\n      <td>0.565621</td>\n    </tr>\n    <tr>\n      <th>16</th>\n      <td>CZ</td>\n      <td>2012</td>\n      <td>364.615507</td>\n      <td>100.860</td>\n      <td>233.8</td>\n      <td>8997041.0</td>\n      <td>16.012406</td>\n      <td>16.024421</td>\n      <td>-0.012015</td>\n      <td>208.557226</td>\n      <td>0.571992</td>\n    </tr>\n    <tr>\n      <th>17</th>\n      <td>CZ</td>\n      <td>2013</td>\n      <td>364.557192</td>\n      <td>101.850</td>\n      <td>234.1</td>\n      <td>8964295.0</td>\n      <td>16.008760</td>\n      <td>16.012406</td>\n      <td>-0.003646</td>\n      <td>206.042362</td>\n      <td>0.565185</td>\n    </tr>\n    <tr>\n      <th>18</th>\n      <td>CZ</td>\n      <td>2014</td>\n      <td>374.976245</td>\n      <td>104.822</td>\n      <td>239.6</td>\n      <td>9062346.0</td>\n      <td>16.019639</td>\n      <td>16.008760</td>\n      <td>0.010879</td>\n      <td>207.145265</td>\n      <td>0.552422</td>\n    </tr>\n    <tr>\n      <th>19</th>\n      <td>CZ</td>\n      <td>2015</td>\n      <td>393.055894</td>\n      <td>105.969</td>\n      <td>250.4</td>\n      <td>9075987.0</td>\n      <td>16.021143</td>\n      <td>16.019639</td>\n      <td>0.001504</td>\n      <td>214.461507</td>\n      <td>0.545626</td>\n    </tr>\n    <tr>\n      <th>20</th>\n      <td>CZ</td>\n      <td>2016</td>\n      <td>402.875777</td>\n      <td>107.098</td>\n      <td>256.7</td>\n      <td>9339114.0</td>\n      <td>16.049722</td>\n      <td>16.021143</td>\n      <td>0.028579</td>\n      <td>223.846436</td>\n      <td>0.555621</td>\n    </tr>\n    <tr>\n      <th>21</th>\n      <td>CZ</td>\n      <td>2017</td>\n      <td>423.829827</td>\n      <td>108.360</td>\n      <td>275.5</td>\n      <td>9496559.0</td>\n      <td>16.066440</td>\n      <td>16.049722</td>\n      <td>0.016718</td>\n      <td>241.445368</td>\n      <td>0.569675</td>\n    </tr>\n    <tr>\n      <th>22</th>\n      <td>CZ</td>\n      <td>2018</td>\n      <td>438.176384</td>\n      <td>111.257</td>\n      <td>296.6</td>\n      <td>9667734.0</td>\n      <td>16.084305</td>\n      <td>16.066440</td>\n      <td>0.017864</td>\n      <td>257.732089</td>\n      <td>0.588193</td>\n    </tr>\n    <tr>\n      <th>23</th>\n      <td>CZ</td>\n      <td>2019</td>\n      <td>451.346602</td>\n      <td>115.914</td>\n      <td>316.3</td>\n      <td>9698776.0</td>\n      <td>16.087510</td>\n      <td>16.084305</td>\n      <td>0.003206</td>\n      <td>264.655076</td>\n      <td>0.586368</td>\n    </tr>\n    <tr>\n      <th>24</th>\n      <td>CZ</td>\n      <td>2020</td>\n      <td>426.094340</td>\n      <td>121.603</td>\n      <td>340.4</td>\n      <td>9097490.0</td>\n      <td>16.023509</td>\n      <td>16.087510</td>\n      <td>-0.064001</td>\n      <td>254.663585</td>\n      <td>0.597669</td>\n    </tr>\n  </tbody>\n</table>\n</div>"
     },
     "execution_count": 26,
     "metadata": {},
     "output_type": "execute_result"
    }
   ],
   "source": [
    "data_final_2 = data_1[[\"geo\\\\time\", \"year\", \"gross_value_added\", \"implicit_deflator_2010\"]]\n",
    "data_final_2 = data_final_2.merge(data_6, on=[\"geo\\\\time\", \"year\"])\n",
    "data_final_2 = data_final_2.merge(data_5_ln, on=[\"geo\\\\time\", \"year\"])\n",
    "data_final_2[\"total_compensations\"] = (data_final_2[\"thousands_hours_worked\"] * data_final_2[\"compensation_per_hour\"])\n",
    "data_final_2[\"total_compensations\"] = (data_final_2[\"total_compensations\"] / data_final_2[\"implicit_deflator_2010\"]) / 100\n",
    "data_final_2[\"total_compensations\"] = data_final_2[\"total_compensations\"] / 10 ** 3\n",
    "data_final_2[\"1 - alpha\"] = data_final_2[\"total_compensations\"] / data_final_2[\"gross_value_added\"]\n",
    "# data_final_2 = data_final_2[data_final_2[\"geo\\\\time\"] == \"CZ\"]\n",
    "# data_final_2[\"alpha\"] = 1 - data_final_2[\"1-alpha\"]\n",
    "data_final_2\n"
   ],
   "metadata": {
    "collapsed": false,
    "pycharm": {
     "name": "#%%\n"
    }
   }
  }
 ],
 "metadata": {
  "kernelspec": {
   "display_name": "Python 3",
   "language": "python",
   "name": "python3"
  },
  "language_info": {
   "codemirror_mode": {
    "name": "ipython",
    "version": 2
   },
   "file_extension": ".py",
   "mimetype": "text/x-python",
   "name": "python",
   "nbconvert_exporter": "python",
   "pygments_lexer": "ipython2",
   "version": "2.7.6"
  }
 },
 "nbformat": 4,
 "nbformat_minor": 0
}